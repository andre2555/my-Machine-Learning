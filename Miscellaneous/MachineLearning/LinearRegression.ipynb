{
 "cells": [
  {
   "cell_type": "code",
   "execution_count": null,
   "metadata": {
    "collapsed": true
   },
   "outputs": [],
   "source": [
    "import numpy\n",
    "import matplotlib\n",
    "matplotlib.use('agg')\n",
    "\n",
    "import matplotlib.pyplot as plt\n",
    "from class_vis import prettyPicture, output_image\n",
    "\n",
    "# Import Data\n",
    "from ages_net_worths import ageNetWorthData\n",
    "\n",
    "# Create training and testing dataset (age: X, net_worths: Y)\n",
    "ages_train, ages_test, net_worths_train, net_worths_test = ageNetWorthData()\n",
    "\n",
    "# Train\n",
    "def studentReg(ages_train, net_worths_train):\n",
    "    from sklearn.linear_model import LinearRegression\n",
    "    \n",
    "    # create regression\n",
    "    reg = LinearRegression()\n",
    "    \n",
    "    # Train regression\n",
    "    reg.fit(ages_train, net_worths_train)\n",
    "    \n",
    "    return reg\n",
    "reg = studentReg(ages_train, net_worths_train)\n"
   ]
  },
  {
   "cell_type": "code",
   "execution_count": null,
   "metadata": {
    "collapsed": true
   },
   "outputs": [],
   "source": [
    "# Visualization\n",
    "plt.clf()\n",
    "plt.scatter(ages_train, net_worths_train, color=\"b\", label=\"train data\")\n",
    "plt.scatter(ages_test, net_worths_test, color=\"r\", label=\"test data\")\n",
    "plt.plot(ages_test, reg.predict(ages_test), color=\"black\")\n",
    "plt.legend(loc=2)\n",
    "plt.xlabel(\"ages\")\n",
    "plt.ylabel(\"net worths\")\n",
    "plt.show()\n",
    "\n",
    "plt.savefig(\"test.png\")\n",
    "output_image(\"test.png\", \"png\", open(\"test.png\", \"rb\").read())\n"
   ]
  },
  {
   "cell_type": "code",
   "execution_count": null,
   "metadata": {
    "collapsed": true
   },
   "outputs": [],
   "source": [
    "# Predictions: Predict X = 27 -> Y\n",
    "print \"net worth prediction\", reg.predict([27])\n",
    "\n",
    "# coefficients: slope(a) and intecept(b) (y = ax + b)\n",
    "print reg.coef_, reg.intercept_\n"
   ]
  },
  {
   "cell_type": "markdown",
   "metadata": {},
   "source": [
    "## r-squared score\n",
    "- max = 1.0\n",
    "- higher = better"
   ]
  },
  {
   "cell_type": "code",
   "execution_count": null,
   "metadata": {
    "collapsed": true
   },
   "outputs": [],
   "source": [
    "# stats on test dataset\n",
    "print \"r-squared score: \", reg.score(ages_test, net_worths_test)\n",
    "\n",
    "# stats on training dataset\n",
    "print \"r-squared score: \", reg.score(ages_train, net_worths_train)"
   ]
  }
 ],
 "metadata": {
  "kernelspec": {
   "display_name": "Python 2",
   "language": "python",
   "name": "python2"
  },
  "language_info": {
   "codemirror_mode": {
    "name": "ipython",
    "version": 2
   },
   "file_extension": ".py",
   "mimetype": "text/x-python",
   "name": "python",
   "nbconvert_exporter": "python",
   "pygments_lexer": "ipython2",
   "version": "2.7.14"
  }
 },
 "nbformat": 4,
 "nbformat_minor": 2
}
