{
 "cells": [
  {
   "cell_type": "markdown",
   "metadata": {},
   "source": [
    "# Statistics"
   ]
  },
  {
   "cell_type": "markdown",
   "metadata": {},
   "source": [
    "## Mean (Avg)"
   ]
  },
  {
   "cell_type": "code",
   "execution_count": 1,
   "metadata": {},
   "outputs": [
    {
     "data": {
      "text/plain": [
       "26810.128189249499"
      ]
     },
     "execution_count": 1,
     "metadata": {},
     "output_type": "execute_result"
    }
   ],
   "source": [
    "import numpy as np\n",
    "\n",
    "# Normal distribution: centre = 27000, std = 15000, 10000 data points\n",
    "incomes = np.random.normal(27000, 15000, 10000)\n",
    "np.mean(incomes)"
   ]
  },
  {
   "cell_type": "code",
   "execution_count": 2,
   "metadata": {},
   "outputs": [
    {
     "data": {
      "image/png": "[encoded data removed]",
      "text/plain": [
       "<matplotlib.figure.Figure at 0x4bc7be0>"
      ]
     },
     "metadata": {},
     "output_type": "display_data"
    }
   ],
   "source": [
    "import matplotlib.pyplot as plt\n",
    "plt.hist(incomes, 50)\n",
    "plt.show()"
   ]
  },
  {
   "cell_type": "markdown",
   "metadata": {},
   "source": [
    "## Median"
   ]
  },
  {
   "cell_type": "code",
   "execution_count": 3,
   "metadata": {},
   "outputs": [
    {
     "data": {
      "text/plain": [
       "26728.205176855652"
      ]
     },
     "execution_count": 3,
     "metadata": {},
     "output_type": "execute_result"
    }
   ],
   "source": [
    "np.median(incomes)"
   ]
  },
  {
   "cell_type": "markdown",
   "metadata": {},
   "source": [
    "## Mode"
   ]
  },
  {
   "cell_type": "code",
   "execution_count": 4,
   "metadata": {},
   "outputs": [
    {
     "data": {
      "text/plain": [
       "array([70, 85, 71, 67, 45, 24, 56, 57, 53, 80, 46, 81, 19, 49, 36, 39, 83,\n",
       "       25, 43, 83, 18, 18, 77, 47, 75, 44, 33, 61, 18, 23, 57, 56, 35, 24,\n",
       "       67, 53, 29, 22, 68, 55, 36, 63, 70, 30, 66, 57, 83, 19, 62, 77, 75,\n",
       "       71, 24, 35, 81, 77, 70, 73, 30, 59, 88, 30, 82, 70, 62, 69, 31, 39,\n",
       "       54, 59, 60, 80, 32, 71, 31, 87, 86, 39, 75, 20, 67, 71, 34, 34, 32,\n",
       "       28, 52, 68, 58, 74, 72, 38, 51, 56, 56, 29, 20, 24, 58, 21, 39, 57,\n",
       "       37, 88, 69, 44, 23, 72, 87, 47, 68, 52, 18, 61, 35, 57, 34, 25, 30,\n",
       "       47, 57, 48, 50, 69, 81, 36, 26, 71, 33, 32, 51, 43, 81, 56, 43, 34,\n",
       "       62, 84, 87, 42, 56, 46, 63, 74, 35, 19, 73, 47, 50, 33, 41, 51, 28,\n",
       "       27, 60, 72, 83, 23, 73, 52, 86, 69, 60, 55, 61, 83, 58, 66, 29, 27,\n",
       "       63, 65, 89, 29, 59, 33, 35, 81, 29, 73, 78, 33, 76, 66, 82, 49, 71,\n",
       "       21, 64, 34, 31, 59, 52, 52, 54, 24, 26, 65, 82, 40, 21, 22, 79, 43,\n",
       "       26, 53, 36, 52, 82, 19, 85, 87, 85, 87, 37, 21, 57, 77, 64, 73, 48,\n",
       "       77, 57, 28, 70, 85, 45, 77, 45, 88, 53, 74, 88, 40, 89, 40, 60, 55,\n",
       "       31, 51, 51, 75, 59, 65, 60, 53, 62, 18, 59, 23, 55, 43, 86, 19, 58,\n",
       "       18, 41, 62, 71, 87, 73, 37, 84, 46, 62, 39, 18, 84, 88, 32, 42, 26,\n",
       "       23, 78, 61, 87, 21, 86, 75, 27, 70, 73, 34, 20, 81, 62, 42, 42, 81,\n",
       "       74, 69, 32, 71, 74, 53, 23, 58, 57, 28, 60, 30, 64, 26, 73, 40, 75,\n",
       "       45, 56, 31, 54, 25, 69, 51, 48, 38, 28, 45, 39, 37, 48, 87, 85, 43,\n",
       "       32, 49, 20, 23, 41, 63, 67, 50, 81, 88, 23, 67, 49, 75, 33, 57, 80,\n",
       "       72, 44, 33, 26, 29, 20, 27, 50, 69, 66, 39, 73, 85, 45, 44, 58, 35,\n",
       "       56, 57, 34, 25, 28, 71, 87, 66, 38, 38, 89, 89, 50, 82, 38, 69, 26,\n",
       "       71, 64, 45, 24, 19, 63, 35, 46, 21, 60, 70, 82, 38, 46, 82, 18, 52,\n",
       "       35, 50, 65, 41, 67, 48, 55, 79, 86, 38, 34, 40, 82, 66, 46, 23, 60,\n",
       "       59, 54, 79, 40, 24, 78, 62, 65, 50, 33, 88, 79, 27, 88, 85, 44, 45,\n",
       "       37, 49, 41, 79, 40, 48, 85, 60, 50, 71, 79, 88, 31, 35, 58, 71, 41,\n",
       "       54, 75, 85, 61, 19, 25, 39, 56, 35, 52, 76, 35, 56, 73, 40, 34, 38,\n",
       "       72, 25, 65, 58, 87, 75, 58, 58, 78, 83, 19, 23, 76, 66, 72, 74, 51,\n",
       "       45, 71, 49, 48, 60, 35, 24, 87, 20, 72, 22, 52, 49, 70, 22, 20, 87,\n",
       "       59, 39, 50, 43, 70, 83, 76])"
      ]
     },
     "execution_count": 4,
     "metadata": {},
     "output_type": "execute_result"
    }
   ],
   "source": [
    "ages = np.random.randint(18, high=90, size=500)\n",
    "ages"
   ]
  },
  {
   "cell_type": "code",
   "execution_count": 5,
   "metadata": {},
   "outputs": [
    {
     "data": {
      "text/plain": [
       "ModeResult(mode=array([71]), count=array([13]))"
      ]
     },
     "execution_count": 5,
     "metadata": {},
     "output_type": "execute_result"
    }
   ],
   "source": [
    "from scipy import stats\n",
    "stats.mode(ages)"
   ]
  },
  {
   "cell_type": "markdown",
   "metadata": {},
   "source": [
    "## Standard Deviation and Variance"
   ]
  },
  {
   "cell_type": "code",
   "execution_count": 6,
   "metadata": {},
   "outputs": [
    {
     "data": {
      "image/png": "[encoded data removed]",
      "text/plain": [
       "<matplotlib.figure.Figure at 0x90d3ef0>"
      ]
     },
     "metadata": {},
     "output_type": "display_data"
    }
   ],
   "source": [
    "import numpy as np\n",
    "import matplotlib.pyplot as plt\n",
    "\n",
    "incomes = np.random.normal(100.0, 20.0, 10000)\n",
    "plt.hist(incomes, 50)\n",
    "plt.show()"
   ]
  },
  {
   "cell_type": "code",
   "execution_count": 7,
   "metadata": {},
   "outputs": [
    {
     "data": {
      "text/plain": [
       "19.896468575247205"
      ]
     },
     "execution_count": 7,
     "metadata": {},
     "output_type": "execute_result"
    }
   ],
   "source": [
    "# std\n",
    "incomes.std()"
   ]
  },
  {
   "cell_type": "code",
   "execution_count": null,
   "metadata": {},
   "outputs": [
    {
     "data": {
      "text/plain": [
       "395.8694617657996"
      ]
     },
     "execution_count": 8,
     "metadata": {},
     "output_type": "execute_result"
    }
   ],
   "source": [
    "incomes.var()"
   ]
  },
  {
   "cell_type": "markdown",
   "metadata": {},
   "source": [
    "# Data Distributions"
   ]
  },
  {
   "cell_type": "markdown",
   "metadata": {},
   "source": [
    "## Uniform Distribution"
   ]
  },
  {
   "cell_type": "code",
   "execution_count": null,
   "metadata": {},
   "outputs": [],
   "source": [
    "import numpy as np\n",
    "import matplotlib.pyplot as plt\n",
    "\n",
    "# Range [-10,10], datapoints = 100000\n",
    "values = np.random.uniform(-10.0, 10.0, 100000)\n",
    "plt.hist(values, 50)\n",
    "plt.show()"
   ]
  },
  {
   "cell_type": "markdown",
   "metadata": {},
   "source": [
    "## Normal / Gaussian Distribution"
   ]
  },
  {
   "cell_type": "code",
   "execution_count": null,
   "metadata": {},
   "outputs": [],
   "source": [
    "from scipy.stats import norm\n",
    "import matplotlib.pyplot as plt\n",
    "%matplotlib inline\n",
    "\n",
    "x = np.arange(-3, 3, 0.001)\n",
    "plt.plot(x, norm.pdf(x))"
   ]
  },
  {
   "cell_type": "code",
   "execution_count": null,
   "metadata": {},
   "outputs": [],
   "source": [
    "import numpy as np\n",
    "import matplotlib.pyplot as plt\n",
    "\n",
    "mu = 5.0\n",
    "sigma = 2.0\n",
    "values = np.random.normal(mu, sigma, 10000)\n",
    "plt.hist(values, 50)\n",
    "plt.show()"
   ]
  },
  {
   "cell_type": "markdown",
   "metadata": {},
   "source": [
    "## Exponential PDF / \"Power Law\""
   ]
  },
  {
   "cell_type": "code",
   "execution_count": null,
   "metadata": {},
   "outputs": [],
   "source": [
    "from scipy.stats import expon\n",
    "import matplotlib.pyplot as plt\n",
    "%matplotlib inline\n",
    "\n",
    "x = np.arange(0, 10, 0.001)\n",
    "plt.plot(x, expon.pdf(x))"
   ]
  },
  {
   "cell_type": "markdown",
   "metadata": {},
   "source": [
    "## Bionomial Probability Mass Function"
   ]
  },
  {
   "cell_type": "code",
   "execution_count": null,
   "metadata": {},
   "outputs": [],
   "source": [
    "from scipy.stats import binom\n",
    "import matplotlib.pyplot as plt\n",
    "%matplotlib inline\n",
    "\n",
    "n,p = 10, 0.5\n",
    "x = np.arange(0, 10, 0.001)\n",
    "plt.plot(x, binom.pmf(x, n, p))"
   ]
  },
  {
   "cell_type": "markdown",
   "metadata": {},
   "source": [
    "## Poisson Probability Mass Function"
   ]
  },
  {
   "cell_type": "code",
   "execution_count": null,
   "metadata": {},
   "outputs": [],
   "source": [
    "from scipy.stats import poisson\n",
    "import matplotlib.pyplot as plt\n",
    "\n",
    "mu = 500\n",
    "x = np.arange(400, 600, 0.5)\n",
    "plt.plot(x, poisson.pmf(x, mu))"
   ]
  },
  {
   "cell_type": "markdown",
   "metadata": {},
   "source": [
    "# Percentiles and moment"
   ]
  },
  {
   "cell_type": "markdown",
   "metadata": {},
   "source": [
    "## Percentiles"
   ]
  },
  {
   "cell_type": "code",
   "execution_count": null,
   "metadata": {},
   "outputs": [],
   "source": [
    "import numpy as np\n",
    "import matplotlib.pyplot as plt\n",
    "\n",
    "vals = np.random.normal(0, 0.5, 10000)\n",
    "plt.hist(vals, 50)\n",
    "plt.show()"
   ]
  },
  {
   "cell_type": "code",
   "execution_count": null,
   "metadata": {},
   "outputs": [],
   "source": [
    "np.percentile(vals, 50)"
   ]
  },
  {
   "cell_type": "code",
   "execution_count": null,
   "metadata": {},
   "outputs": [],
   "source": [
    "np.percentile(vals, 90)"
   ]
  },
  {
   "cell_type": "code",
   "execution_count": null,
   "metadata": {},
   "outputs": [],
   "source": [
    "np.percentile(vals, 20)"
   ]
  },
  {
   "cell_type": "markdown",
   "metadata": {},
   "source": [
    "## Moments: Mean, Variance, Skew, Kurtosis"
   ]
  },
  {
   "cell_type": "code",
   "execution_count": null,
   "metadata": {},
   "outputs": [],
   "source": [
    "import numpy as np\n",
    "import matplotlib.pyplot as plt\n",
    "\n",
    "vals = np.random.normal(0, 0.5, 10000)\n",
    "plt.hist(vals, 50)\n",
    "plt.show()"
   ]
  },
  {
   "cell_type": "code",
   "execution_count": null,
   "metadata": {},
   "outputs": [],
   "source": [
    "# 1st moment = mean\n",
    "np.mean(vals)"
   ]
  },
  {
   "cell_type": "code",
   "execution_count": null,
   "metadata": {},
   "outputs": [],
   "source": [
    "# 2nd moment = variance\n",
    "np.var(vals)"
   ]
  },
  {
   "cell_type": "code",
   "execution_count": null,
   "metadata": {},
   "outputs": [],
   "source": [
    "# 3rd moment = skew\n",
    "import scipy.stats as sp\n",
    "sp.skew(vals)"
   ]
  },
  {
   "cell_type": "code",
   "execution_count": null,
   "metadata": {},
   "outputs": [],
   "source": [
    "# 4th moment = kurtosis\n",
    "sp.kurtosis(vals)"
   ]
  }
 ],
 "metadata": {
  "kernelspec": {
   "display_name": "Python 3",
   "language": "python",
   "name": "python3"
  },
  "language_info": {
   "codemirror_mode": {
    "name": "ipython",
    "version": 3
   },
   "file_extension": ".py",
   "mimetype": "text/x-python",
   "name": "python",
   "nbconvert_exporter": "python",
   "pygments_lexer": "ipython3",
   "version": "3.6.3"
  }
 },
 "nbformat": 4,
 "nbformat_minor": 2
}
