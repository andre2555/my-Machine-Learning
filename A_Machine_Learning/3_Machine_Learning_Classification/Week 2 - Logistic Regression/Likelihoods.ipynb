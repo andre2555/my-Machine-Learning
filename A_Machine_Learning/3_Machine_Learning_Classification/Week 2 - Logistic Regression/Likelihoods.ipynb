{
 "cells": [
  {
   "cell_type": "code",
   "execution_count": 1,
   "metadata": {},
   "outputs": [],
   "source": [
    "import numpy as np"
   ]
  },
  {
   "cell_type": "code",
   "execution_count": 2,
   "metadata": {},
   "outputs": [],
   "source": [
    "# data\n",
    "x = np.array([2.5, 0.3, 2.8, 0.5])\n",
    "y = np.array([1, -1, 1, 1])"
   ]
  },
  {
   "cell_type": "code",
   "execution_count": 3,
   "metadata": {},
   "outputs": [
    {
     "data": {
      "text/plain": [
       "array([2.5, 0.3, 2.8, 0.5])"
      ]
     },
     "execution_count": 3,
     "metadata": {},
     "output_type": "execute_result"
    }
   ],
   "source": [
    "# model\n",
    "w0 = 0\n",
    "w1 = 1\n",
    "y_hat = w0 + w1*x\n",
    "\n",
    "y_hat"
   ]
  },
  {
   "cell_type": "code",
   "execution_count": 4,
   "metadata": {},
   "outputs": [],
   "source": [
    "# model\n",
    "def f(x, w=np.array([w0, w1])):\n",
    "    return w[0] + w[1]*x\n",
    "\n",
    "\n",
    "# P[y = +1 | x,w] = sigmoid(f(x,w))\n",
    "def sigmoid(x):\n",
    "    f_x = f(x)\n",
    "    return 1.0 / (1.0 + np.exp(-f(x)))\n",
    "    \n",
    "\n",
    "# P(y | x,w)\n",
    "#     P[y = +1 | x,w] = sigmoid(f(x,w))\n",
    "#     P[y = -1 | x,w] = 1 - sigmoid(f(x,w))\n",
    "def P(y, x):\n",
    "    f_x = f(x)\n",
    "    if y == 1:\n",
    "        return 1.0 / (1.0 + np.exp(-f_x))\n",
    "    else:\n",
    "        return np.exp(-f_x) / (1.0 + np.exp(-f_x))\n",
    "\n",
    "\n",
    "# Unit function: \n",
    "#     1[y = c] = 1 if y == c\n",
    "#     1[y = c] = 0 if y != c\n",
    "def unit(y, c=1):\n",
    "    if y == c:\n",
    "        return 1\n",
    "    else:\n",
    "        return 0"
   ]
  },
  {
   "cell_type": "markdown",
   "metadata": {},
   "source": [
    "### Calculate the likelihood of this data"
   ]
  },
  {
   "cell_type": "code",
   "execution_count": 5,
   "metadata": {},
   "outputs": [
    {
     "data": {
      "text/plain": [
       "array([0.92414182, 0.42555748, 0.94267582, 0.62245933])"
      ]
     },
     "execution_count": 5,
     "metadata": {},
     "output_type": "execute_result"
    }
   ],
   "source": [
    "likelihoods = np.array([P(y[i], x[i]) for i in range(4)])\n",
    "likelihoods"
   ]
  },
  {
   "cell_type": "code",
   "execution_count": 6,
   "metadata": {},
   "outputs": [
    {
     "data": {
      "text/plain": [
       "0.2307651414741412"
      ]
     },
     "execution_count": 6,
     "metadata": {},
     "output_type": "execute_result"
    }
   ],
   "source": [
    "data_likelihood = likelihoods.prod()\n",
    "data_likelihood"
   ]
  },
  {
   "cell_type": "markdown",
   "metadata": {},
   "source": [
    "### Calculate the derivative of the log likelihood "
   ]
  },
  {
   "cell_type": "code",
   "execution_count": 7,
   "metadata": {},
   "outputs": [
    {
     "data": {
      "text/plain": [
       "array([ 0.18964545, -0.17233276,  0.16050769,  0.18877033])"
      ]
     },
     "execution_count": 7,
     "metadata": {},
     "output_type": "execute_result"
    }
   ],
   "source": [
    "derivative_log_likelihoods = np.array([ x[i] * (unit(y[i], 1) - sigmoid(x[i])) for i in range(4)])\n",
    "derivative_log_likelihoods"
   ]
  },
  {
   "cell_type": "code",
   "execution_count": 8,
   "metadata": {},
   "outputs": [
    {
     "data": {
      "text/plain": [
       "0.36659072192551606"
      ]
     },
     "execution_count": 8,
     "metadata": {},
     "output_type": "execute_result"
    }
   ],
   "source": [
    "data_derivative_log_likelihood = derivative_log_likelihoods.sum()\n",
    "data_derivative_log_likelihood"
   ]
  }
 ],
 "metadata": {
  "kernelspec": {
   "display_name": "Python 2",
   "language": "python",
   "name": "python2"
  },
  "language_info": {
   "codemirror_mode": {
    "name": "ipython",
    "version": 2
   },
   "file_extension": ".py",
   "mimetype": "text/x-python",
   "name": "python",
   "nbconvert_exporter": "python",
   "pygments_lexer": "ipython2",
   "version": "2.7.14"
  }
 },
 "nbformat": 4,
 "nbformat_minor": 2
}
