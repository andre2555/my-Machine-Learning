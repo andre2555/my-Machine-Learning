{
 "cells": [
  {
   "cell_type": "code",
   "execution_count": 1,
   "metadata": {},
   "outputs": [],
   "source": [
    "import re"
   ]
  },
  {
   "cell_type": "markdown",
   "metadata": {},
   "source": [
    "# Match = check the if the word is correct ?"
   ]
  },
  {
   "cell_type": "code",
   "execution_count": 2,
   "metadata": {},
   "outputs": [
    {
     "name": "stdout",
     "output_type": "stream",
     "text": [
      "True\n",
      "False\n",
      "True\n"
     ]
    }
   ],
   "source": [
    "print bool(re.match('good', 'good text'))\n",
    "print bool(re.match('good', 'It is a good text'))\n",
    "print bool(re.match('good', 'Good text', re.IGNORECASE))"
   ]
  },
  {
   "cell_type": "markdown",
   "metadata": {},
   "source": [
    "## Quantification"
   ]
  },
  {
   "cell_type": "code",
   "execution_count": 3,
   "metadata": {},
   "outputs": [
    {
     "name": "stdout",
     "output_type": "stream",
     "text": [
      "True\n",
      "True\n",
      "True\n",
      "False\n"
     ]
    }
   ],
   "source": [
    "# . : match any single character not '\\n'\n",
    "print bool(re.match('.bc', 'abc'))\n",
    "print bool(re.match('.bc', 'bbc'))\n",
    "print bool(re.match('.bc', '$bc'))\n",
    "print bool(re.match('.bc', '\\nbc'))"
   ]
  },
  {
   "cell_type": "code",
   "execution_count": 4,
   "metadata": {},
   "outputs": [
    {
     "name": "stdout",
     "output_type": "stream",
     "text": [
      "True\n",
      "True\n",
      "False\n"
     ]
    }
   ],
   "source": [
    "# ? :0 or 1 occurrences of the preceding element\n",
    "print bool(re.match('ab?c', 'ac'))\n",
    "print bool(re.match('ab?c', 'abc'))\n",
    "print bool(re.match('ab?c', 'abbc'))"
   ]
  },
  {
   "cell_type": "code",
   "execution_count": 5,
   "metadata": {},
   "outputs": [
    {
     "name": "stdout",
     "output_type": "stream",
     "text": [
      "True\n",
      "True\n",
      "True\n"
     ]
    }
   ],
   "source": [
    "# * :0 or more occurrences of the preceding element\n",
    "print bool(re.match('ab*c', 'ac'))\n",
    "print bool(re.match('ab*c', 'abc'))\n",
    "print bool(re.match('ab*c', 'abbbbbc'))"
   ]
  },
  {
   "cell_type": "code",
   "execution_count": 6,
   "metadata": {},
   "outputs": [
    {
     "name": "stdout",
     "output_type": "stream",
     "text": [
      "True\n",
      "True\n",
      "False\n"
     ]
    }
   ],
   "source": [
    "# + :indicates one or more occurrences of the preceding element\n",
    "print bool(re.match('ab+c', 'abc'))\n",
    "print bool(re.match('ab+c', 'abbbbc'))\n",
    "print bool(re.match('ab+c', 'ac'))"
   ]
  },
  {
   "cell_type": "code",
   "execution_count": 7,
   "metadata": {},
   "outputs": [
    {
     "name": "stdout",
     "output_type": "stream",
     "text": [
      "False\n",
      "False\n",
      "True\n"
     ]
    }
   ],
   "source": [
    "# {n}: The preceding item is matched exactly n times.\n",
    "print bool(re.match('ab{2}c', 'ac'))\n",
    "print bool(re.match('ab{2}c', 'abc'))\n",
    "print bool(re.match('ab{2}c', 'abbc'))"
   ]
  },
  {
   "cell_type": "code",
   "execution_count": 8,
   "metadata": {},
   "outputs": [
    {
     "name": "stdout",
     "output_type": "stream",
     "text": [
      "False\n",
      "True\n",
      "True\n"
     ]
    }
   ],
   "source": [
    "# {min,}: The preceding item is matched min or more times\n",
    "print bool(re.match('ab{2,}c', 'abc'))\n",
    "print bool(re.match('ab{2,}c', 'abbc'))\n",
    "print bool(re.match('ab{2,}c', 'abbbbbbc'))"
   ]
  },
  {
   "cell_type": "code",
   "execution_count": 9,
   "metadata": {},
   "outputs": [
    {
     "name": "stdout",
     "output_type": "stream",
     "text": [
      "False\n",
      "True\n",
      "True\n",
      "False\n"
     ]
    }
   ],
   "source": [
    "# {min,max}: The preceding item is matched at least min times, but not more than max times\n",
    "print bool(re.match('ab{2,3}c', 'abc'))\n",
    "print bool(re.match('ab{2,3}c', 'abbc'))\n",
    "print bool(re.match('ab{2,3}c', 'abbbc'))\n",
    "print bool(re.match('ab{2,3}c', 'abbbbc'))"
   ]
  },
  {
   "cell_type": "markdown",
   "metadata": {},
   "source": [
    "## Special matches"
   ]
  },
  {
   "cell_type": "code",
   "execution_count": 10,
   "metadata": {},
   "outputs": [
    {
     "name": "stdout",
     "output_type": "stream",
     "text": [
      "True\n",
      "False\n",
      "True\n"
     ]
    }
   ],
   "source": [
    "# group matching\n",
    "print bool(re.match('a[b-d]e', 'ace'))\n",
    "print bool(re.match('a[b-d]e', 'aae'))\n",
    "print bool(re.match('a[b59]e', 'a5e'))"
   ]
  },
  {
   "cell_type": "code",
   "execution_count": 11,
   "metadata": {},
   "outputs": [
    {
     "name": "stdout",
     "output_type": "stream",
     "text": [
      "True\n",
      "False\n"
     ]
    }
   ],
   "source": [
    "# \\d : match any numbers\n",
    "print bool(re.match('a\\d+c', 'a585c'))\n",
    "print bool(re.match('a\\d+c', 'abbc'))"
   ]
  },
  {
   "cell_type": "code",
   "execution_count": 12,
   "metadata": {},
   "outputs": [
    {
     "name": "stdout",
     "output_type": "stream",
     "text": [
      "True\n",
      "True\n",
      "False\n"
     ]
    }
   ],
   "source": [
    "# \\w : match any alphanumeric chars\n",
    "print bool(re.match('a\\w+c', 'a0c'))\n",
    "print bool(re.match('a\\w+c', 'abc'))\n",
    "print bool(re.match('a\\w+c', 'a#c'))"
   ]
  },
  {
   "cell_type": "code",
   "execution_count": 13,
   "metadata": {},
   "outputs": [
    {
     "name": "stdout",
     "output_type": "stream",
     "text": [
      "False\n",
      "True\n"
     ]
    }
   ],
   "source": [
    "# \\s : match any white space chars\n",
    "print bool(re.match('a\\s+b', 'ab'))\n",
    "print bool(re.match('a\\s+b', 'a b'))"
   ]
  },
  {
   "cell_type": "code",
   "execution_count": 14,
   "metadata": {},
   "outputs": [
    {
     "name": "stdout",
     "output_type": "stream",
     "text": [
      "False\n",
      "False\n",
      "False\n",
      "False\n"
     ]
    }
   ],
   "source": [
    "# [^ ]: Exception\n",
    "print bool(re.match('a[^b]c', 'abc'))\n",
    "print bool(re.match('a[^0-9]c', 'a9c'))\n",
    "print bool(re.match('[^hc]at', 'cat'))\n",
    "print bool(re.match('[^hc]at', 'hat'))"
   ]
  },
  {
   "cell_type": "markdown",
   "metadata": {},
   "source": [
    "# Search = search for words in a string"
   ]
  },
  {
   "cell_type": "code",
   "execution_count": 15,
   "metadata": {},
   "outputs": [
    {
     "name": "stdout",
     "output_type": "stream",
     "text": [
      "True\n",
      "True\n",
      "True\n"
     ]
    }
   ],
   "source": [
    "print bool(re.search('good', 'good text')) \n",
    "print bool(re.search('good', 'It is a good text'))\n",
    "print bool(re.search('good', 'Good text', re.IGNORECASE))"
   ]
  },
  {
   "cell_type": "code",
   "execution_count": 16,
   "metadata": {},
   "outputs": [
    {
     "name": "stdout",
     "output_type": "stream",
     "text": [
      "good\n",
      "nice\n"
     ]
    }
   ],
   "source": [
    "# multi words\n",
    "print re.search('(good|nice)', 'text with good word').group()\n",
    "print re.search('(good|nice)', 'text with nice word').group()"
   ]
  },
  {
   "cell_type": "code",
   "execution_count": 17,
   "metadata": {},
   "outputs": [
    {
     "name": "stdout",
     "output_type": "stream",
     "text": [
      "really good\n",
      "really nice\n"
     ]
    }
   ],
   "source": [
    "# Group\n",
    "print re.search('really (good|nice)', 'text with really good word').group()\n",
    "print re.search('really (good|nice)', 'text with really nice word').group()"
   ]
  },
  {
   "cell_type": "markdown",
   "metadata": {},
   "source": [
    "## Extract"
   ]
  },
  {
   "cell_type": "code",
   "execution_count": 18,
   "metadata": {},
   "outputs": [
    {
     "data": {
      "text/plain": [
       "'good w'"
      ]
     },
     "execution_count": 18,
     "metadata": {},
     "output_type": "execute_result"
    }
   ],
   "source": [
    "# Extract 1 char after\n",
    "re.search('(good|nice) [a-z]', 'text with good word').group()"
   ]
  },
  {
   "cell_type": "code",
   "execution_count": 19,
   "metadata": {},
   "outputs": [
    {
     "data": {
      "text/plain": [
       "'good word'"
      ]
     },
     "execution_count": 19,
     "metadata": {},
     "output_type": "execute_result"
    }
   ],
   "source": [
    "# Extract 1 word after\n",
    "re.search('(good|nice) [a-z]*', 'text with good word').group()"
   ]
  },
  {
   "cell_type": "markdown",
   "metadata": {},
   "source": [
    "## Extract keywords grouped"
   ]
  },
  {
   "cell_type": "code",
   "execution_count": 20,
   "metadata": {},
   "outputs": [],
   "source": [
    "text = 'dog=\"25\" is a cat=\"65\" meow'"
   ]
  },
  {
   "cell_type": "code",
   "execution_count": 21,
   "metadata": {},
   "outputs": [
    {
     "data": {
      "text/plain": [
       "(None, '65', '25')"
      ]
     },
     "execution_count": 21,
     "metadata": {},
     "output_type": "execute_result"
    }
   ],
   "source": [
    "re.search('(?=.*mouse=\\\"(\\d+)\\\")?(?=.*cat=\\\"(\\d+)\\\")(?=.*dog=\\\"(\\d+)\\\")', text).groups()"
   ]
  },
  {
   "cell_type": "markdown",
   "metadata": {},
   "source": [
    "## Advanced search"
   ]
  },
  {
   "cell_type": "code",
   "execution_count": 22,
   "metadata": {},
   "outputs": [
    {
     "data": {
      "text/plain": [
       "'godd'"
      ]
     },
     "execution_count": 22,
     "metadata": {},
     "output_type": "execute_result"
    }
   ],
   "source": [
    "# search for a word start with 'go'\n",
    "re.search('go[a-z]*', 'text with godd word').group()"
   ]
  },
  {
   "cell_type": "code",
   "execution_count": 23,
   "metadata": {},
   "outputs": [
    {
     "name": "stdout",
     "output_type": "stream",
     "text": [
      "really good\n",
      "really really good\n"
     ]
    }
   ],
   "source": [
    "# Optional search\n",
    "print re.search('(really )?really (good|nice)', \n",
    "          'text with really good word').group()\n",
    "print re.search('(really )?really (good|nice)', \n",
    "          'text with really really good word').group()"
   ]
  },
  {
   "cell_type": "code",
   "execution_count": 24,
   "metadata": {},
   "outputs": [
    {
     "name": "stdout",
     "output_type": "stream",
     "text": [
      "True\n",
      "True\n",
      "False\n"
     ]
    }
   ],
   "source": [
    "# ^ : match only at the beginning of the string or line\n",
    "print bool(re.search('^[hc]at', \n",
    "                    'hat is a girl group'))\n",
    "print bool(re.search('^[hc]at', \n",
    "                    'cat is an animal'))\n",
    "print bool(re.search('^[hc]at', \n",
    "                    'Hi, hat is a girl group'))"
   ]
  },
  {
   "cell_type": "code",
   "execution_count": 25,
   "metadata": {},
   "outputs": [
    {
     "name": "stdout",
     "output_type": "stream",
     "text": [
      "True\n",
      "False\n"
     ]
    }
   ],
   "source": [
    "# $ : match only at the end of the string or line\n",
    "print bool(re.search('[hc]at$', \n",
    "                    'Tom is a lazy cat'))\n",
    "print bool(re.search('[hc]at$', \n",
    "                    'hat is a girl group'))"
   ]
  }
 ],
 "metadata": {
  "kernelspec": {
   "display_name": "Python 3.6",
   "language": "python",
   "name": "py36"
  },
  "language_info": {
   "codemirror_mode": {
    "name": "ipython",
    "version": 3
   },
   "file_extension": ".py",
   "mimetype": "text/x-python",
   "name": "python",
   "nbconvert_exporter": "python",
   "pygments_lexer": "ipython3",
   "version": "3.6.9"
  }
 },
 "nbformat": 4,
 "nbformat_minor": 2
}
