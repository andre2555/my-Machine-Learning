{
 "cells": [
  {
   "cell_type": "code",
   "execution_count": 1,
   "metadata": {},
   "outputs": [],
   "source": [
    "%matplotlib inline\n",
    "import matplotlib.pyplot as plt\n",
    "import pandas as pd"
   ]
  },
  {
   "cell_type": "markdown",
   "metadata": {},
   "source": [
    "\n",
    "## Boxplot\n",
    "- Boxplot presents information in a 5-number summary\n",
    "    + Minimum\n",
    "    + Q1 - Lower quartile - 25th Percentile\n",
    "    + Q2 - Median - 50th Percentile\n",
    "    + Q3 - Upper quartile - 75th Percentile\n",
    "    + Maximum  \n",
    "        => **Measure of spread in the dataset**\n",
    "\n",
    "\n",
    "| <img src=\"./img/1.gif\" width=\"200\"/> | <img src=\"./img/6.jpg\" width=\"550\"/> |\n",
    "|--------------------------------------|--------------------------------------|\n",
    "\n",
    "#### Interpreting A Box Plot\n",
    "- Box\n",
    "    - A short box plot = \n",
    "        + Many of our data points are similar\n",
    "        + Many values in a small range\n",
    "    - A tall box plot =\n",
    "        + Many of the data points are quite different\n",
    "        + Values spread over a wide range\n",
    "- Median\n",
    "    + Closer to the bottom = most of data points have lower values\n",
    "    + Closer to the top = most of our data has higher values\n",
    "    + Median in the middle of the box = data are not skewed\n",
    "- Whiskers\n",
    "    + Long whiskers = high standard deviation and variance\n",
    "        + Values are spread out and vary a lot\n",
    "    + Long whisker on one side = data varies, but only in one direction"
   ]
  },
  {
   "cell_type": "code",
   "execution_count": 2,
   "metadata": {},
   "outputs": [
    {
     "data": {
      "image/png": "[encoded data removed]",
      "text/plain": [
       "<Figure size 432x288 with 1 Axes>"
      ]
     },
     "metadata": {
      "needs_background": "light"
     },
     "output_type": "display_data"
    }
   ],
   "source": [
    "x = pd.DataFrame(\n",
    "    [0,5,8,14,14,15,17,19,19,24,27],\n",
    "    columns=['data'])\n",
    "\n",
    "x.plot(kind='box', title='Boxplot')\n",
    "plt.show()"
   ]
  },
  {
   "cell_type": "code",
   "execution_count": 3,
   "metadata": {},
   "outputs": [
    {
     "data": {
      "image/png": "[encoded data removed]",
      "text/plain": [
       "<Figure size 432x288 with 1 Axes>"
      ]
     },
     "metadata": {
      "needs_background": "light"
     },
     "output_type": "display_data"
    }
   ],
   "source": [
    "x = pd.DataFrame(\n",
    "    [-30,0,5,8,14,14,15,17,22,25,30,33,55],\n",
    "    columns=['data'])\n",
    "\n",
    "x.plot(kind='box', title='Boxplot')\n",
    "plt.show()"
   ]
  }
 ],
 "metadata": {
  "kernelspec": {
   "display_name": "Python 3.6",
   "language": "python",
   "name": "py36"
  },
  "language_info": {
   "codemirror_mode": {
    "name": "ipython",
    "version": 3
   },
   "file_extension": ".py",
   "mimetype": "text/x-python",
   "name": "python",
   "nbconvert_exporter": "python",
   "pygments_lexer": "ipython3",
   "version": "3.6.9"
  }
 },
 "nbformat": 4,
 "nbformat_minor": 2
}
