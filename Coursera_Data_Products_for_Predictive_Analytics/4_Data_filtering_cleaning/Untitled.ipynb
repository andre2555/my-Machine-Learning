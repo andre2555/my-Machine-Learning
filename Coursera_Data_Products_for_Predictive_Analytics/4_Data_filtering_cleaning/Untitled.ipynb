{
 "cells": [
  {
   "cell_type": "markdown",
   "metadata": {},
   "source": [
    "## Why preprocessing - filtering/cleaning\n",
    "- Missing fields\n",
    "- poor format\n",
    "- unsuable part of dataset\n",
    "- outliers\n",
    "- remove unactive users\n",
    "- limit dataset -> a certain demographic/region\n"
   ]
  },
  {
   "cell_type": "code",
   "execution_count": null,
   "metadata": {},
   "outputs": [],
   "source": []
  }
 ],
 "metadata": {
  "kernelspec": {
   "display_name": "Python 3.6",
   "language": "python",
   "name": "py36"
  },
  "language_info": {
   "codemirror_mode": {
    "name": "ipython",
    "version": 3
   },
   "file_extension": ".py",
   "mimetype": "text/x-python",
   "name": "python",
   "nbconvert_exporter": "python",
   "pygments_lexer": "ipython3",
   "version": "3.6.9"
  }
 },
 "nbformat": 4,
 "nbformat_minor": 2
}
