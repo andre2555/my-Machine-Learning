{
 "cells": [
  {
   "cell_type": "markdown",
   "metadata": {},
   "source": [
    "# Convolutional Neural Network "
   ]
  },
  {
   "cell_type": "code",
   "execution_count": 1,
   "metadata": {},
   "outputs": [
    {
     "name": "stderr",
     "output_type": "stream",
     "text": [
      "Using TensorFlow backend.\n"
     ]
    }
   ],
   "source": [
    "from keras.models import Sequential\n",
    "from keras.layers import Convolution2D\n",
    "from keras.layers import MaxPooling2D\n",
    "from keras.layers import Flatten\n",
    "from keras.layers import Dense"
   ]
  },
  {
   "cell_type": "markdown",
   "metadata": {},
   "source": [
    "## CNN"
   ]
  },
  {
   "cell_type": "code",
   "execution_count": 2,
   "metadata": {},
   "outputs": [
    {
     "name": "stderr",
     "output_type": "stream",
     "text": [
      "C:\\ProgramData\\Anaconda3\\envs\\py36\\lib\\site-packages\\ipykernel_launcher.py:5: UserWarning: Update your `Conv2D` call to the Keras 2 API: `Conv2D(32, (3, 3), input_shape=(64, 64, 3..., activation=\"relu\")`\n",
      "  \"\"\"\n",
      "C:\\ProgramData\\Anaconda3\\envs\\py36\\lib\\site-packages\\ipykernel_launcher.py:14: UserWarning: Update your `Dense` call to the Keras 2 API: `Dense(activation=\"relu\", units=128)`\n",
      "  \n",
      "C:\\ProgramData\\Anaconda3\\envs\\py36\\lib\\site-packages\\ipykernel_launcher.py:15: UserWarning: Update your `Dense` call to the Keras 2 API: `Dense(activation=\"sigmoid\", units=1)`\n",
      "  from ipykernel import kernelapp as app\n"
     ]
    }
   ],
   "source": [
    "# Initialize CNN\n",
    "classifier = Sequential()\n",
    "\n",
    "# Convolution\n",
    "classifier.add(Convolution2D(32, 3, 3, input_shape=(64, 64, 3), activation='relu'))\n",
    "\n",
    "# Pooling\n",
    "classifier.add(MaxPooling2D(pool_size=(2, 2)))\n",
    "\n",
    "# Flattening\n",
    "classifier.add(Flatten())\n",
    "\n",
    "# Full connection\n",
    "classifier.add(Dense(output_dim=128, activation='relu'))\n",
    "classifier.add(Dense(output_dim=1, activation='sigmoid'))\n",
    "\n",
    "# Compile CNN\n",
    "classifier.compile(optimizer='adam', loss='binary_crossentropy', metrics=['accuracy'])"
   ]
  },
  {
   "cell_type": "markdown",
   "metadata": {},
   "source": [
    "## Fit model"
   ]
  },
  {
   "cell_type": "code",
   "execution_count": 3,
   "metadata": {},
   "outputs": [
    {
     "name": "stdout",
     "output_type": "stream",
     "text": [
      "Found 8000 images belonging to 2 classes.\n",
      "Found 2000 images belonging to 2 classes.\n"
     ]
    },
    {
     "name": "stderr",
     "output_type": "stream",
     "text": [
      "C:\\ProgramData\\Anaconda3\\envs\\py36\\lib\\site-packages\\ipykernel_launcher.py:34: UserWarning: The semantics of the Keras 2 argument `steps_per_epoch` is not the same as the Keras 1 argument `samples_per_epoch`. `steps_per_epoch` is the number of batches to draw from the generator at each epoch. Basically steps_per_epoch = samples_per_epoch/batch_size. Similarly `nb_val_samples`->`validation_steps` and `val_samples`->`steps` arguments have changed. Update your method calls accordingly.\n",
      "C:\\ProgramData\\Anaconda3\\envs\\py36\\lib\\site-packages\\ipykernel_launcher.py:34: UserWarning: Update your `fit_generator` call to the Keras 2 API: `fit_generator(<keras.pre..., validation_data=<keras.pre..., steps_per_epoch=250, epochs=25, validation_steps=2000)`\n"
     ]
    },
    {
     "name": "stdout",
     "output_type": "stream",
     "text": [
      "Epoch 1/25\n",
      "250/250 [==============================] - 203s - loss: 0.6994 - acc: 0.6103 - val_loss: 0.6138 - val_acc: 0.6746\n",
      "Epoch 2/25\n",
      "250/250 [==============================] - 198s - loss: 0.5867 - acc: 0.6924 - val_loss: 0.5970 - val_acc: 0.6805\n",
      "Epoch 3/25\n",
      "250/250 [==============================] - 199s - loss: 0.5578 - acc: 0.7186 - val_loss: 0.5480 - val_acc: 0.7236\n",
      "Epoch 4/25\n",
      "250/250 [==============================] - 198s - loss: 0.5427 - acc: 0.7316 - val_loss: 0.5243 - val_acc: 0.7401\n",
      "Epoch 5/25\n",
      "250/250 [==============================] - 200s - loss: 0.5336 - acc: 0.7264 - val_loss: 0.5171 - val_acc: 0.7491\n",
      "Epoch 6/25\n",
      "250/250 [==============================] - 193s - loss: 0.5105 - acc: 0.7450 - val_loss: 0.5064 - val_acc: 0.7490\n",
      "Epoch 7/25\n",
      "250/250 [==============================] - 198s - loss: 0.5021 - acc: 0.7512 - val_loss: 0.4938 - val_acc: 0.7594\n",
      "Epoch 8/25\n",
      "250/250 [==============================] - 197s - loss: 0.4943 - acc: 0.7577 - val_loss: 0.5046 - val_acc: 0.7559\n",
      "Epoch 9/25\n",
      "250/250 [==============================] - 197s - loss: 0.4748 - acc: 0.7696 - val_loss: 0.4949 - val_acc: 0.7619\n",
      "Epoch 10/25\n",
      "250/250 [==============================] - 197s - loss: 0.4710 - acc: 0.7720 - val_loss: 0.5117 - val_acc: 0.7533\n",
      "Epoch 11/25\n",
      "250/250 [==============================] - 195s - loss: 0.4610 - acc: 0.7751 - val_loss: 0.4867 - val_acc: 0.7699\n",
      "Epoch 12/25\n",
      "250/250 [==============================] - 192s - loss: 0.4638 - acc: 0.7752 - val_loss: 0.4961 - val_acc: 0.7641\n",
      "Epoch 13/25\n",
      "250/250 [==============================] - 195s - loss: 0.4582 - acc: 0.7798 - val_loss: 0.4886 - val_acc: 0.7790\n",
      "Epoch 14/25\n",
      "250/250 [==============================] - 193s - loss: 0.4419 - acc: 0.7900 - val_loss: 0.4674 - val_acc: 0.7901\n",
      "Epoch 15/25\n",
      "250/250 [==============================] - 194s - loss: 0.4409 - acc: 0.7902 - val_loss: 0.4895 - val_acc: 0.7778\n",
      "Epoch 16/25\n",
      "250/250 [==============================] - 194s - loss: 0.4223 - acc: 0.8041 - val_loss: 0.4890 - val_acc: 0.7715\n",
      "Epoch 17/25\n",
      "250/250 [==============================] - 188s - loss: 0.4204 - acc: 0.8000 - val_loss: 0.4957 - val_acc: 0.7644\n",
      "Epoch 18/25\n",
      "250/250 [==============================] - 188s - loss: 0.4188 - acc: 0.8031 - val_loss: 0.4703 - val_acc: 0.7936\n",
      "Epoch 19/25\n",
      "250/250 [==============================] - 196s - loss: 0.4085 - acc: 0.8144 - val_loss: 0.5237 - val_acc: 0.7666\n",
      "Epoch 20/25\n",
      "250/250 [==============================] - 191s - loss: 0.4075 - acc: 0.8087 - val_loss: 0.4801 - val_acc: 0.7951\n",
      "Epoch 21/25\n",
      "250/250 [==============================] - 191s - loss: 0.3998 - acc: 0.8146 - val_loss: 0.4774 - val_acc: 0.7877\n",
      "Epoch 22/25\n",
      "250/250 [==============================] - 196s - loss: 0.3884 - acc: 0.8214 - val_loss: 0.4882 - val_acc: 0.7894\n",
      "Epoch 23/25\n",
      "250/250 [==============================] - 191s - loss: 0.3894 - acc: 0.8255 - val_loss: 0.4896 - val_acc: 0.7885\n",
      "Epoch 24/25\n",
      "250/250 [==============================] - 196s - loss: 0.3919 - acc: 0.8237 - val_loss: 0.5035 - val_acc: 0.7723\n",
      "Epoch 25/25\n",
      "250/250 [==============================] - 194s - loss: 0.3796 - acc: 0.8288 - val_loss: 0.4917 - val_acc: 0.7819\n"
     ]
    },
    {
     "data": {
      "text/plain": [
       "<keras.callbacks.History at 0xbb10ac8>"
      ]
     },
     "execution_count": 3,
     "metadata": {},
     "output_type": "execute_result"
    }
   ],
   "source": [
    "from keras.preprocessing.image import ImageDataGenerator\n",
    "from IPython.display import display\n",
    "from PIL import Image\n",
    "\n",
    "# Training data\n",
    "train_datagen = ImageDataGenerator(\n",
    "    rescale=1./255,\n",
    "    shear_range=0.2,\n",
    "    zoom_range=0.2,\n",
    "    horizontal_flip=True\n",
    ")\n",
    "training_set = train_datagen.flow_from_directory(\n",
    "    './dataset/training_set',\n",
    "    target_size=(64, 64),\n",
    "    batch_size=32,\n",
    "    class_mode='binary'\n",
    ")\n",
    "\n",
    "# Test data\n",
    "test_datagen = ImageDataGenerator(rescale=1./255)\n",
    "test_set = test_datagen.flow_from_directory(\n",
    "    './dataset/test_set',\n",
    "    target_size=(64, 64),\n",
    "    batch_size=32,\n",
    "    class_mode='binary'\n",
    ")\n",
    "\n",
    "# Fit training set\n",
    "classifier.fit_generator(\n",
    "    training_set,\n",
    "    samples_per_epoch=8000,\n",
    "    nb_epoch=25,\n",
    "    validation_data=test_set,\n",
    "    nb_val_samples=2000\n",
    ")\n"
   ]
  }
 ],
 "metadata": {
  "kernelspec": {
   "display_name": "Python 3",
   "language": "python",
   "name": "python3"
  },
  "language_info": {
   "codemirror_mode": {
    "name": "ipython",
    "version": 3
   },
   "file_extension": ".py",
   "mimetype": "text/x-python",
   "name": "python",
   "nbconvert_exporter": "python",
   "pygments_lexer": "ipython3",
   "version": "3.6.3"
  }
 },
 "nbformat": 4,
 "nbformat_minor": 2
}
