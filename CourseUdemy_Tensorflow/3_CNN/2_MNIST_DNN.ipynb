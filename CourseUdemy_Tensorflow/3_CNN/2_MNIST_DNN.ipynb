{
 "cells": [
  {
   "cell_type": "code",
   "execution_count": 0,
   "metadata": {
    "colab": {},
    "colab_type": "code",
    "id": "AEQd7i4PAjno"
   },
   "outputs": [],
   "source": [
    "import matplotlib.pyplot as plt\n",
    "import pandas as pd\n",
    "import numpy as np\n",
    "from IPython.display import display\n",
    "import tensorflow as tf"
   ]
  },
  {
   "cell_type": "code",
   "execution_count": 0,
   "metadata": {
    "colab": {},
    "colab_type": "code",
    "id": "BO72n2oJAywr"
   },
   "outputs": [],
   "source": [
    "np.random.seed(101)\n",
    "tf.set_random_seed(101)"
   ]
  },
  {
   "cell_type": "markdown",
   "metadata": {
    "colab_type": "text",
    "id": "jlu3RcwaQSq6"
   },
   "source": [
    "## Dataset\n",
    "** Alternative sources of the data just in case: **\n",
    "\n",
    "* http://yann.lecun.com/exdb/mnist/\n",
    "* https://github.com/mrgloom/MNIST-dataset-in-different-formats"
   ]
  },
  {
   "cell_type": "code",
   "execution_count": 3,
   "metadata": {
    "colab": {
     "base_uri": "https://localhost:8080/",
     "height": 175
    },
    "colab_type": "code",
    "id": "jYIta2UpQSK4",
    "outputId": "58517041-ff67-4a3f-c62a-b2db11b699f6"
   },
   "outputs": [
    {
     "name": "stderr",
     "output_type": "stream",
     "text": [
      "Using TensorFlow backend.\n"
     ]
    },
    {
     "name": "stdout",
     "output_type": "stream",
     "text": [
      "(48000, 28, 28)\n",
      "(48000,)\n",
      "\n",
      "(12000, 28, 28)\n",
      "(12000,)\n",
      "\n",
      "(10000, 28, 28)\n",
      "(10000,)\n"
     ]
    }
   ],
   "source": [
    "from keras.datasets import mnist\n",
    "\n",
    "(X, y), (X_test, y_test) = mnist.load_data('/tmp/mnist.npz')\n",
    "\n",
    "from sklearn.model_selection import train_test_split\n",
    "\n",
    "X_train, X_val, y_train, y_val = train_test_split(\n",
    "    X, y,\n",
    "    test_size=0.2, random_state=42)\n",
    "\n",
    "print(X_train.shape)\n",
    "print(y_train.shape)\n",
    "print('')\n",
    "print(X_val.shape)\n",
    "print(y_val.shape)\n",
    "print('')\n",
    "print(X_test.shape)\n",
    "print(y_test.shape)"
   ]
  },
  {
   "cell_type": "code",
   "execution_count": 4,
   "metadata": {
    "colab": {
     "base_uri": "https://localhost:8080/",
     "height": 52
    },
    "colab_type": "code",
    "id": "o6ghD-f-QU9W",
    "outputId": "24e5a51c-ae1b-4874-80cb-6778c84e9869"
   },
   "outputs": [
    {
     "name": "stdout",
     "output_type": "stream",
     "text": [
      "255\n",
      "0\n"
     ]
    }
   ],
   "source": [
    "# not normalized\n",
    "print(X_train[0].max())\n",
    "print(X_train[0].min())"
   ]
  },
  {
   "cell_type": "code",
   "execution_count": 5,
   "metadata": {
    "colab": {
     "base_uri": "https://localhost:8080/",
     "height": 365
    },
    "colab_type": "code",
    "id": "GIlpnePoQWQU",
    "outputId": "47ac6d42-5356-4af1-a701-46cda9264843"
   },
   "outputs": [
    {
     "name": "stdout",
     "output_type": "stream",
     "text": [
      "5\n"
     ]
    },
    {
     "data": {
      "image/png": "[encoded data removed]",
      "text/plain": [
       "<matplotlib.figure.Figure at 0x7f4fd5382208>"
      ]
     },
     "metadata": {
      "tags": []
     },
     "output_type": "display_data"
    }
   ],
   "source": [
    "plt.imshow(X_train[0], cmap='gray');\n",
    "print(y_train[0])"
   ]
  },
  {
   "cell_type": "markdown",
   "metadata": {
    "colab_type": "text",
    "id": "3MvxPG-VQXnw"
   },
   "source": [
    "## Feature Engineering"
   ]
  },
  {
   "cell_type": "code",
   "execution_count": 6,
   "metadata": {
    "colab": {
     "base_uri": "https://localhost:8080/",
     "height": 70
    },
    "colab_type": "code",
    "id": "OravfX8tQZYQ",
    "outputId": "c46ab20f-fc2d-4582-986a-1dcd4f86102c"
   },
   "outputs": [
    {
     "name": "stdout",
     "output_type": "stream",
     "text": [
      "(48000, 784)\n",
      "(12000, 784)\n",
      "(10000, 784)\n"
     ]
    }
   ],
   "source": [
    "# Unroll X\n",
    "X_train_rs = X_train.reshape(-1, 28*28)\n",
    "X_val_rs = X_val.reshape(-1, 28*28)\n",
    "X_test_rs = X_test.reshape(-1, 28*28)\n",
    "\n",
    "# Normalize X [0 - 1]\n",
    "X_train_norm = X_train_rs.astype('float32') / 255.0\n",
    "X_val_norm = X_val_rs.astype('float32') / 255.0\n",
    "X_test_norm = X_test_rs.astype('float32') / 255.0\n",
    "\n",
    "print(X_train_norm.shape)\n",
    "print(X_val_norm.shape)\n",
    "print(X_test_norm.shape)"
   ]
  },
  {
   "cell_type": "code",
   "execution_count": 7,
   "metadata": {
    "colab": {
     "base_uri": "https://localhost:8080/",
     "height": 70
    },
    "colab_type": "code",
    "id": "G_iJhTNxQalx",
    "outputId": "2ccbe601-5e1f-4e37-e118-0562b12628cb"
   },
   "outputs": [
    {
     "name": "stdout",
     "output_type": "stream",
     "text": [
      "(48000, 10)\n",
      "(12000, 10)\n",
      "(10000, 10)\n"
     ]
    }
   ],
   "source": [
    "# One hot encoding y\n",
    "from keras.utils.np_utils import to_categorical\n",
    "\n",
    "y_train_cat = to_categorical(y_train)\n",
    "y_val_cat = to_categorical(y_val)\n",
    "y_test_cat = to_categorical(y_test)\n",
    "\n",
    "print(y_train_cat.shape)\n",
    "print(y_val_cat.shape)\n",
    "print(y_test_cat.shape)"
   ]
  },
  {
   "cell_type": "markdown",
   "metadata": {
    "colab_type": "text",
    "id": "XeKHL7N7QdKp"
   },
   "source": [
    "## Model\n",
    "```python\n",
    "model.add(Dense(512, activation='relu'))\n",
    "model.add(Dense(256, activation='relu'))\n",
    "model.add(Dense(10, activation='softmax'))\n",
    "```"
   ]
  },
  {
   "cell_type": "code",
   "execution_count": 0,
   "metadata": {
    "colab": {},
    "colab_type": "code",
    "id": "IBU-HvGoXjb2"
   },
   "outputs": [],
   "source": [
    "tf.reset_default_graph()"
   ]
  },
  {
   "cell_type": "code",
   "execution_count": 9,
   "metadata": {
    "colab": {
     "base_uri": "https://localhost:8080/",
     "height": 178
    },
    "colab_type": "code",
    "id": "cIIdMiaAQce6",
    "outputId": "a3e8fd20-dbe5-4133-c39e-f12d947e730d"
   },
   "outputs": [
    {
     "name": "stdout",
     "output_type": "stream",
     "text": [
      "WARNING:tensorflow:From <ipython-input-9-399338417deb>:39: softmax_cross_entropy_with_logits (from tensorflow.python.ops.nn_ops) is deprecated and will be removed in a future version.\n",
      "Instructions for updating:\n",
      "\n",
      "Future major versions of TensorFlow will allow gradients to flow\n",
      "into the labels input on backprop by default.\n",
      "\n",
      "See `tf.nn.softmax_cross_entropy_with_logits_v2`.\n",
      "\n"
     ]
    }
   ],
   "source": [
    "input_nerons = 28*28\n",
    "layer_1_nerons = 512\n",
    "layer_2_nerons = 256\n",
    "output_neurons = 10\n",
    "\n",
    "# Placeholders\n",
    "X_ph = tf.placeholder(tf.float32, shape=[None,input_nerons])\n",
    "y_ph = tf.placeholder(tf.float32, shape=[None,output_neurons])\n",
    "\n",
    "# Init var\n",
    "W1_init = np.random.randn(input_nerons, layer_1_nerons) / 28\n",
    "b1_init = np.zeros(layer_1_nerons)\n",
    "\n",
    "W2_init = np.random.randn(layer_1_nerons, layer_2_nerons) / 28\n",
    "b2_init = np.zeros(layer_2_nerons)\n",
    "\n",
    "W3_init = np.random.randn(layer_2_nerons, output_neurons) / 28\n",
    "b3_init = np.zeros(output_neurons)\n",
    "\n",
    "# Variables\n",
    "W1 = tf.Variable(W1_init.astype(np.float32))\n",
    "b1 = tf.Variable(b1_init.astype(np.float32))\n",
    "\n",
    "W2 = tf.Variable(W2_init.astype(np.float32))\n",
    "b2 = tf.Variable(b2_init.astype(np.float32))\n",
    "\n",
    "W3 = tf.Variable(W3_init.astype(np.float32))\n",
    "b3 = tf.Variable(b3_init.astype(np.float32))\n",
    "\n",
    "# Graph\n",
    "Z1 = tf.nn.relu(tf.matmul(X_ph, W1) + b1)\n",
    "Z2 = tf.nn.relu(tf.matmul(Z1, W2) + b2)\n",
    "y_pred = tf.matmul(Z2, W3) + b3\n",
    "\n",
    "# Loss function\n",
    "loss = tf.reduce_mean(\n",
    "    tf.nn.softmax_cross_entropy_with_logits(\n",
    "        labels=y_ph,\n",
    "        logits=y_pred))\n",
    "\n",
    "# Optimizer\n",
    "optimizer = tf.train.RMSPropOptimizer(\n",
    "    learning_rate=0.00004,\n",
    "    decay=0.99,\n",
    "    momentum=0.9)\n",
    "\n",
    "# Trainning function\n",
    "train = optimizer.minimize(loss)"
   ]
  },
  {
   "cell_type": "code",
   "execution_count": 0,
   "metadata": {
    "colab": {},
    "colab_type": "code",
    "id": "hsX30_utU_Sa"
   },
   "outputs": [],
   "source": [
    "def next_batch(X, y, batch_size=10):\n",
    "    # Select a random batch index\n",
    "    rand_idx = np.random.randint(\n",
    "        len(X),\n",
    "        size=batch_size)\n",
    "\n",
    "    return X[rand_idx], y[rand_idx]"
   ]
  },
  {
   "cell_type": "code",
   "execution_count": 11,
   "metadata": {
    "colab": {
     "base_uri": "https://localhost:8080/",
     "height": 650
    },
    "colab_type": "code",
    "id": "9XFjQJSGU_2O",
    "outputId": "b2ae3077-ab10-4ac6-ffc5-20f94ac45043"
   },
   "outputs": [
    {
     "name": "stdout",
     "output_type": "stream",
     "text": [
      "Epoch 0\n",
      "train_acc = 0.1599999964237213 - val_acc = 0.0741666629910469\n",
      "train_loss = 2.298356056213379 - val_loss = 2.3063206672668457\n",
      "\n",
      "Epoch 500\n",
      "train_acc = 0.4699999988079071 - val_acc = 0.40408334136009216\n",
      "train_loss = 2.2115747928619385 - val_loss = 2.2239227294921875\n",
      "\n",
      "Epoch 1000\n",
      "train_acc = 0.800000011920929 - val_acc = 0.8557500243186951\n",
      "train_loss = 0.6741442084312439 - val_loss = 0.538291335105896\n",
      "\n",
      "Epoch 1500\n",
      "train_acc = 0.9300000071525574 - val_acc = 0.9350833296775818\n",
      "train_loss = 0.17992396652698517 - val_loss = 0.22874779999256134\n",
      "\n",
      "Epoch 2000\n",
      "train_acc = 0.9900000095367432 - val_acc = 0.9645000100135803\n",
      "train_loss = 0.07368948310613632 - val_loss = 0.12440718710422516\n",
      "\n",
      "Epoch 2500\n",
      "train_acc = 1.0 - val_acc = 0.9696666598320007\n",
      "train_loss = 0.018253518268465996 - val_loss = 0.10300403833389282\n",
      "\n",
      "Epoch 3000\n",
      "train_acc = 0.9800000190734863 - val_acc = 0.9725000262260437\n",
      "train_loss = 0.0777340978384018 - val_loss = 0.08806739002466202\n",
      "\n",
      "Epoch 3500\n",
      "train_acc = 1.0 - val_acc = 0.9777500033378601\n",
      "train_loss = 0.011204617097973824 - val_loss = 0.07613366842269897\n",
      "\n",
      "Epoch 4000\n",
      "train_acc = 0.9800000190734863 - val_acc = 0.9760833382606506\n",
      "train_loss = 0.05087606608867645 - val_loss = 0.0804574266076088\n",
      "\n"
     ]
    }
   ],
   "source": [
    "# Init Variables\n",
    "init = tf.global_variables_initializer()\n",
    "\n",
    "# GPU option\n",
    "gpu_options = tf.GPUOptions(per_process_gpu_memory_fraction=0.9)\n",
    "\n",
    "# Saver\n",
    "saver = tf.train.Saver()\n",
    "\n",
    "# Epochs\n",
    "epochs = 4001\n",
    "\n",
    "# Accuracies\n",
    "train_accs = []\n",
    "val_accs = []\n",
    "\n",
    "# Losses\n",
    "train_losses = []\n",
    "val_losses = []\n",
    "\n",
    "with tf.Session(config=tf.ConfigProto(gpu_options=gpu_options)) as sess:\n",
    "    # Init Variables\n",
    "    sess.run(init)\n",
    "    \n",
    "    # Run epochs\n",
    "    for i in range(epochs):\n",
    "        # Select a random batch\n",
    "        X_batch , y_batch = next_batch(\n",
    "            X_train_norm , y_train_cat,\n",
    "            batch_size=100)\n",
    "\n",
    "        # Train\n",
    "        sess.run(\n",
    "            train,\n",
    "            feed_dict={\n",
    "                X_ph: X_batch,\n",
    "                y_ph: y_batch})\n",
    "        \n",
    "        if i%100 == 0:\n",
    "            # Train acc\n",
    "            train_matches = tf.equal(\n",
    "                tf.argmax(y_batch, 1),\n",
    "                tf.argmax(y_pred, 1))\n",
    "\n",
    "            train_accuracy = tf.reduce_mean(tf.cast(train_matches,tf.float32))\n",
    "\n",
    "            train_acc = sess.run(\n",
    "                train_accuracy,\n",
    "                feed_dict={\n",
    "                    X_ph: X_batch,\n",
    "                    y_ph: y_batch})\n",
    "\n",
    "            train_accs.append(train_acc)\n",
    "            \n",
    "            # Train loss\n",
    "            train_loss = loss.eval(\n",
    "                feed_dict={\n",
    "                    X_ph: X_batch,\n",
    "                    y_ph: y_batch})\n",
    "            train_losses.append(train_loss)\n",
    "            \n",
    "            # Val acc\n",
    "            val_matches = tf.equal(\n",
    "                tf.argmax(y_val_cat, 1),\n",
    "                tf.argmax(y_pred, 1))\n",
    "\n",
    "            val_accuracy = tf.reduce_mean(tf.cast(val_matches,tf.float32))\n",
    "\n",
    "            val_acc = sess.run(\n",
    "                val_accuracy,\n",
    "                feed_dict={\n",
    "                    X_ph: X_val_norm,\n",
    "                    y_ph: y_val_cat})\n",
    "\n",
    "            val_accs.append(val_acc)\n",
    "            \n",
    "            # Val loss\n",
    "            val_loss = loss.eval(\n",
    "                feed_dict={\n",
    "                    X_ph: X_val_norm,\n",
    "                    y_ph: y_val_cat})\n",
    "            val_losses.append(val_loss)\n",
    "\n",
    "            # PRINT OUT A MESSAGE EVERY 500 STEPS\n",
    "            if i%500 == 0:\n",
    "                print('Epoch {}'.format(i))\n",
    "                print('train_acc = {} - val_acc = {}'.format(train_acc, val_acc))\n",
    "                print('train_loss = {} - val_loss = {}\\n'.format(train_loss, val_loss))\n",
    "\n",
    "    # SAVE MODEL\n",
    "    saver.save(sess, 'my_model/MNIST_DNN.ckpt')"
   ]
  },
  {
   "cell_type": "code",
   "execution_count": 12,
   "metadata": {
    "colab": {
     "base_uri": "https://localhost:8080/",
     "height": 394
    },
    "colab_type": "code",
    "id": "fFSUGcdwVUSF",
    "outputId": "7890868b-bb49-4750-e652-2f8aa1e7f445"
   },
   "outputs": [
    {
     "data": {
      "text/plain": [
       "Text(0.5,0,'Epochs')"
      ]
     },
     "execution_count": 12,
     "metadata": {
      "tags": []
     },
     "output_type": "execute_result"
    },
    {
     "data": {
      "image/png": "[encoded data removed]",
      "text/plain": [
       "<matplotlib.figure.Figure at 0x7f4fd0e65278>"
      ]
     },
     "metadata": {
      "tags": []
     },
     "output_type": "display_data"
    }
   ],
   "source": [
    "plt.plot(train_accs)\n",
    "plt.plot(val_accs)\n",
    "\n",
    "plt.legend(['Training', 'Validation'])\n",
    "plt.title('Accuracy')\n",
    "plt.xlabel('Epochs')"
   ]
  },
  {
   "cell_type": "code",
   "execution_count": 13,
   "metadata": {
    "colab": {
     "base_uri": "https://localhost:8080/",
     "height": 394
    },
    "colab_type": "code",
    "id": "bSJXpPx7VUxV",
    "outputId": "b7b0f227-70a9-47e6-b36c-740781724347"
   },
   "outputs": [
    {
     "data": {
      "text/plain": [
       "Text(0.5,0,'Epochs')"
      ]
     },
     "execution_count": 13,
     "metadata": {
      "tags": []
     },
     "output_type": "execute_result"
    },
    {
     "data": {
      "image/png": "[encoded data removed]",
      "text/plain": [
       "<matplotlib.figure.Figure at 0x7f4fc9ee7e10>"
      ]
     },
     "metadata": {
      "tags": []
     },
     "output_type": "display_data"
    }
   ],
   "source": [
    "plt.plot(train_losses)\n",
    "plt.plot(val_losses)\n",
    "\n",
    "plt.legend(['Training', 'Validation'])\n",
    "plt.title('Loss')\n",
    "plt.xlabel('Epochs')"
   ]
  },
  {
   "cell_type": "markdown",
   "metadata": {
    "colab_type": "text",
    "id": "qVTOxVkTVWiP"
   },
   "source": [
    "## Evaluate Test"
   ]
  },
  {
   "cell_type": "code",
   "execution_count": 14,
   "metadata": {
    "colab": {
     "base_uri": "https://localhost:8080/",
     "height": 52
    },
    "colab_type": "code",
    "id": "7Zzad00BVXuU",
    "outputId": "64039b14-c211-44f6-e303-e995d896a894"
   },
   "outputs": [
    {
     "name": "stdout",
     "output_type": "stream",
     "text": [
      "INFO:tensorflow:Restoring parameters from my_model/MNIST_DNN.ckpt\n",
      "Test set accuracy:  0.9752\n"
     ]
    }
   ],
   "source": [
    "with tf.Session() as sess:\n",
    "    # Restore the model\n",
    "    saver.restore(sess,'my_model/MNIST_DNN.ckpt')\n",
    "    \n",
    "    # Test accuracy\n",
    "    test_matches = tf.equal(\n",
    "        tf.argmax(y_test_cat, 1),\n",
    "        tf.argmax(y_pred, 1))\n",
    "\n",
    "    test_accuracy = tf.reduce_mean(tf.cast(test_matches,tf.float32))\n",
    "\n",
    "    test_acc = sess.run(\n",
    "        test_accuracy,\n",
    "        feed_dict={\n",
    "            X_ph: X_test_norm,\n",
    "            y_ph: y_test_cat})\n",
    "\n",
    "    print('Test set accuracy: ', test_acc)"
   ]
  }
 ],
 "metadata": {
  "accelerator": "GPU",
  "colab": {
   "collapsed_sections": [],
   "name": "Untitled0.ipynb",
   "provenance": [],
   "version": "0.3.2"
  },
  "kernelspec": {
   "display_name": "Root",
   "language": "python",
   "name": "python3"
  },
  "language_info": {
   "codemirror_mode": {
    "name": "ipython",
    "version": 3
   },
   "file_extension": ".py",
   "mimetype": "text/x-python",
   "name": "python",
   "nbconvert_exporter": "python",
   "pygments_lexer": "ipython3",
   "version": "3.6.5"
  }
 },
 "nbformat": 4,
 "nbformat_minor": 1
}
