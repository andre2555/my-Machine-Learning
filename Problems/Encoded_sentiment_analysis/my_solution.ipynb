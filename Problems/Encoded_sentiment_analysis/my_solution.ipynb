{
 "cells": [
  {
   "cell_type": "code",
   "execution_count": 1,
   "metadata": {},
   "outputs": [],
   "source": [
    "import matplotlib.pyplot as plt\n",
    "import pandas as pd\n",
    "import numpy as np\n",
    "from IPython.display import display"
   ]
  },
  {
   "cell_type": "markdown",
   "metadata": {},
   "source": [
    "## Which Novel Do I Belong To?\n",
    "\n",
    "#### In this challenge, you are tasked with training a machine learning model that classifies a given line of text as belonging to one of the following 12 novels:\n",
    "0. alice_in_wonderland\n",
    "1. dracula\n",
    "2. dubliners\n",
    "3. great_expectations\n",
    "4. hard_times\n",
    "5. huckleberry_finn\n",
    "6. les_miserable\n",
    "7. moby_dick\n",
    "8. oliver_twist\n",
    "9. peter_pan\n",
    "10. tale_of_two_cities\n",
    "11. tom_sawyer\n",
    "\n",
    "#### You are provided three text files, we have applied an encoding to the text, but it is done such that each character has a deterministic mapping. Each line in `xtrain.txt` corresponds to a label in `ytrain.txt`.\n",
    "- xtrain.txt\n",
    "- ytrain.txt\n",
    "- xtest.txt.\n",
    "\n",
    "#### Example\n",
    "\n",
    "        line:\n",
    "        satwamuluhqgulamlrmvezuhqvkrpmletwulcitwskuhlemvtwamuluhiwiwenuhlrvimvqvkruh\n",
    "        ulenamuluhqgqvtwvimviwuhtwamuluhulqvkrenamcitwuhvipmpmqvuhskiwkrpmdfuhlrvimv\n",
    "        skvikrpmqvuhskmvgzenleuhqvmvamuluhulenamuluhqvletwtwvipmpmgzleenamuhtwamuluh\n",
    "        twletwdfuhiwkrxeleentwxeuhpmqvuhtwiwmvamdfuhpkeztwamuluhvimvuhqvtwmkpmpmlelr\n",
    "        uhgztwtwskuhtwlrkrpmlruhpmuluhqvenuhtwyplepmxeuhenuhamypkrqvuhamulmvdfuhqvsk\n",
    "        entwamletwlrlrpmiwuhtwamul\n",
    "        label: 7"
   ]
  },
  {
   "cell_type": "markdown",
   "metadata": {},
   "source": [
    "## Dataset"
   ]
  },
  {
   "cell_type": "code",
   "execution_count": 2,
   "metadata": {},
   "outputs": [
    {
     "data": {
      "text/html": [
       "<div>\n",
       "<style scoped>\n",
       "    .dataframe tbody tr th:only-of-type {\n",
       "        vertical-align: middle;\n",
       "    }\n",
       "\n",
       "    .dataframe tbody tr th {\n",
       "        vertical-align: top;\n",
       "    }\n",
       "\n",
       "    .dataframe thead th {\n",
       "        text-align: right;\n",
       "    }\n",
       "</style>\n",
       "<table border=\"1\" class=\"dataframe\">\n",
       "  <thead>\n",
       "    <tr style=\"text-align: right;\">\n",
       "      <th></th>\n",
       "      <th>Text</th>\n",
       "      <th>Label</th>\n",
       "    </tr>\n",
       "  </thead>\n",
       "  <tbody>\n",
       "    <tr>\n",
       "      <th>0</th>\n",
       "      <td>satwamuluhqgulamlrmvezuhqvkrpmletwulcitwskuhle...</td>\n",
       "      <td>7</td>\n",
       "    </tr>\n",
       "    <tr>\n",
       "      <th>1</th>\n",
       "      <td>twmkiwpmqvtwleuhsaiwsktwmvlelekramuhqvkruhtwsk...</td>\n",
       "      <td>3</td>\n",
       "    </tr>\n",
       "    <tr>\n",
       "      <th>2</th>\n",
       "      <td>vidfpmskuhvilepmuluhtwtvuhulsovienamqvuhskiwmv...</td>\n",
       "      <td>8</td>\n",
       "    </tr>\n",
       "    <tr>\n",
       "      <th>3</th>\n",
       "      <td>raskleenkrlruhtwulenleengztwqvuhenuhsatvuhsktw...</td>\n",
       "      <td>3</td>\n",
       "    </tr>\n",
       "    <tr>\n",
       "      <th>4</th>\n",
       "      <td>dfenqvuhtwamqvuhqgtwiwtvenuluhqvijletwamulenxe...</td>\n",
       "      <td>4</td>\n",
       "    </tr>\n",
       "  </tbody>\n",
       "</table>\n",
       "</div>"
      ],
      "text/plain": [
       "                                                Text  Label\n",
       "0  satwamuluhqgulamlrmvezuhqvkrpmletwulcitwskuhle...      7\n",
       "1  twmkiwpmqvtwleuhsaiwsktwmvlelekramuhqvkruhtwsk...      3\n",
       "2  vidfpmskuhvilepmuluhtwtvuhulsovienamqvuhskiwmv...      8\n",
       "3  raskleenkrlruhtwulenleengztwqvuhenuhsatvuhsktw...      3\n",
       "4  dfenqvuhtwamqvuhqgtwiwtvenuluhqvijletwamulenxe...      4"
      ]
     },
     "execution_count": 2,
     "metadata": {},
     "output_type": "execute_result"
    }
   ],
   "source": [
    "df_X = pd.read_csv('./data/Xtrain.txt', header=None)\n",
    "df_X.columns = ['Text']\n",
    "\n",
    "df_y = pd.read_csv('./data/ytrain.txt', header=None)\n",
    "df_y.columns = ['Label']\n",
    "\n",
    "df = df_X.join(df_y)\n",
    "df.head()"
   ]
  },
  {
   "cell_type": "code",
   "execution_count": 3,
   "metadata": {},
   "outputs": [
    {
     "name": "stdout",
     "output_type": "stream",
     "text": [
      "min paragraph length: 168\n",
      "max paragraph length: 452\n"
     ]
    }
   ],
   "source": [
    "# Analysis\n",
    "df_len = df['Text'].transform(lambda x: len(x))\n",
    "\n",
    "print(\n",
    "'''min paragraph length: {}\n",
    "max paragraph length: {}'''.format(\n",
    "    df_len.min(), df_len.max()))"
   ]
  },
  {
   "cell_type": "markdown",
   "metadata": {},
   "source": [
    "## Feature Engineering X_train"
   ]
  },
  {
   "cell_type": "code",
   "execution_count": 4,
   "metadata": {},
   "outputs": [],
   "source": [
    "def convert_char_to_num(c):\n",
    "    return ord(c) - ord('a')"
   ]
  },
  {
   "cell_type": "code",
   "execution_count": 5,
   "metadata": {},
   "outputs": [
    {
     "data": {
      "text/html": [
       "<div>\n",
       "<style scoped>\n",
       "    .dataframe tbody tr th:only-of-type {\n",
       "        vertical-align: middle;\n",
       "    }\n",
       "\n",
       "    .dataframe tbody tr th {\n",
       "        vertical-align: top;\n",
       "    }\n",
       "\n",
       "    .dataframe thead th {\n",
       "        text-align: right;\n",
       "    }\n",
       "</style>\n",
       "<table border=\"1\" class=\"dataframe\">\n",
       "  <thead>\n",
       "    <tr style=\"text-align: right;\">\n",
       "      <th></th>\n",
       "      <th>Text</th>\n",
       "      <th>Label</th>\n",
       "      <th>Character vector</th>\n",
       "    </tr>\n",
       "  </thead>\n",
       "  <tbody>\n",
       "    <tr>\n",
       "      <th>0</th>\n",
       "      <td>satwamuluhqgulamlrmvezuhqvkrpmletwulcitwskuhle...</td>\n",
       "      <td>7</td>\n",
       "      <td>[18, 0, 19, 22, 0, 12, 20, 11, 20, 7, 16, 6, 2...</td>\n",
       "    </tr>\n",
       "    <tr>\n",
       "      <th>1</th>\n",
       "      <td>twmkiwpmqvtwleuhsaiwsktwmvlelekramuhqvkruhtwsk...</td>\n",
       "      <td>3</td>\n",
       "      <td>[19, 22, 12, 10, 8, 22, 15, 12, 16, 21, 19, 22...</td>\n",
       "    </tr>\n",
       "    <tr>\n",
       "      <th>2</th>\n",
       "      <td>vidfpmskuhvilepmuluhtwtvuhulsovienamqvuhskiwmv...</td>\n",
       "      <td>8</td>\n",
       "      <td>[21, 8, 3, 5, 15, 12, 18, 10, 20, 7, 21, 8, 11...</td>\n",
       "    </tr>\n",
       "    <tr>\n",
       "      <th>3</th>\n",
       "      <td>raskleenkrlruhtwulenleengztwqvuhenuhsatvuhsktw...</td>\n",
       "      <td>3</td>\n",
       "      <td>[17, 0, 18, 10, 11, 4, 4, 13, 10, 17, 11, 17, ...</td>\n",
       "    </tr>\n",
       "    <tr>\n",
       "      <th>4</th>\n",
       "      <td>dfenqvuhtwamqvuhqgtwiwtvenuluhqvijletwamulenxe...</td>\n",
       "      <td>4</td>\n",
       "      <td>[3, 5, 4, 13, 16, 21, 20, 7, 19, 22, 0, 12, 16...</td>\n",
       "    </tr>\n",
       "  </tbody>\n",
       "</table>\n",
       "</div>"
      ],
      "text/plain": [
       "                                                Text  Label  \\\n",
       "0  satwamuluhqgulamlrmvezuhqvkrpmletwulcitwskuhle...      7   \n",
       "1  twmkiwpmqvtwleuhsaiwsktwmvlelekramuhqvkruhtwsk...      3   \n",
       "2  vidfpmskuhvilepmuluhtwtvuhulsovienamqvuhskiwmv...      8   \n",
       "3  raskleenkrlruhtwulenleengztwqvuhenuhsatvuhsktw...      3   \n",
       "4  dfenqvuhtwamqvuhqgtwiwtvenuluhqvijletwamulenxe...      4   \n",
       "\n",
       "                                    Character vector  \n",
       "0  [18, 0, 19, 22, 0, 12, 20, 11, 20, 7, 16, 6, 2...  \n",
       "1  [19, 22, 12, 10, 8, 22, 15, 12, 16, 21, 19, 22...  \n",
       "2  [21, 8, 3, 5, 15, 12, 18, 10, 20, 7, 21, 8, 11...  \n",
       "3  [17, 0, 18, 10, 11, 4, 4, 13, 10, 17, 11, 17, ...  \n",
       "4  [3, 5, 4, 13, 16, 21, 20, 7, 19, 22, 0, 12, 16...  "
      ]
     },
     "execution_count": 5,
     "metadata": {},
     "output_type": "execute_result"
    }
   ],
   "source": [
    "df['Character vector'] = df['Text'] \\\n",
    "    .transform(lambda X: np.array([convert_char_to_num(c) for c in X]))\n",
    "\n",
    "df.head()"
   ]
  },
  {
   "cell_type": "code",
   "execution_count": 6,
   "metadata": {},
   "outputs": [
    {
     "name": "stderr",
     "output_type": "stream",
     "text": [
      "Using TensorFlow backend.\n"
     ]
    },
    {
     "name": "stdout",
     "output_type": "stream",
     "text": [
      "(32513, 150)\n"
     ]
    }
   ],
   "source": [
    "from keras.preprocessing.sequence import pad_sequences\n",
    "\n",
    "maxlen = 150\n",
    "\n",
    "X = pad_sequences(np.array(df['Character vector'].values), maxlen=maxlen)\n",
    "\n",
    "print(X.shape)"
   ]
  },
  {
   "cell_type": "markdown",
   "metadata": {},
   "source": [
    "## One Hot Encoding y_train"
   ]
  },
  {
   "cell_type": "code",
   "execution_count": 7,
   "metadata": {},
   "outputs": [
    {
     "name": "stdout",
     "output_type": "stream",
     "text": [
      "(32513, 12)\n"
     ]
    }
   ],
   "source": [
    "from keras.utils.np_utils import to_categorical\n",
    "\n",
    "y = to_categorical(df['Label'].values)\n",
    "\n",
    "print(y.shape)"
   ]
  },
  {
   "cell_type": "markdown",
   "metadata": {},
   "source": [
    "## Train/Test Split"
   ]
  },
  {
   "cell_type": "code",
   "execution_count": 8,
   "metadata": {},
   "outputs": [],
   "source": [
    "from sklearn.model_selection import train_test_split\n",
    "\n",
    "X_train, X_pre_test, y_train, y_pre_test = train_test_split(\n",
    "    X, y,\n",
    "    test_size=0.3, random_state=42)"
   ]
  },
  {
   "cell_type": "markdown",
   "metadata": {},
   "source": [
    "## Model"
   ]
  },
  {
   "cell_type": "code",
   "execution_count": 9,
   "metadata": {},
   "outputs": [
    {
     "name": "stdout",
     "output_type": "stream",
     "text": [
      "_________________________________________________________________\n",
      "Layer (type)                 Output Shape              Param #   \n",
      "=================================================================\n",
      "embedding_1 (Embedding)      (None, None, 2)           52        \n",
      "_________________________________________________________________\n",
      "lstm_1 (LSTM)                (None, 64)                17152     \n",
      "_________________________________________________________________\n",
      "dense_1 (Dense)              (None, 12)                780       \n",
      "=================================================================\n",
      "Total params: 17,984\n",
      "Trainable params: 17,984\n",
      "Non-trainable params: 0\n",
      "_________________________________________________________________\n"
     ]
    }
   ],
   "source": [
    "from keras.layers import LSTM, Dense, Embedding\n",
    "from keras.models import Sequential\n",
    "import keras.backend as K\n",
    "\n",
    "K.clear_session()\n",
    "\n",
    "model = Sequential()\n",
    "\n",
    "model.add(Embedding(\n",
    "    input_dim=26,  # input = a number in range 0-25\n",
    "    output_dim=2)) # output = 2D vector\n",
    "model.add(LSTM(64, dropout=0.2, recurrent_dropout=0.2))\n",
    "model.add(Dense(12, activation='sigmoid'))\n",
    "\n",
    "model.compile(loss='binary_crossentropy',\n",
    "              optimizer='adam',\n",
    "              metrics=['accuracy'])\n",
    "model.summary()"
   ]
  },
  {
   "cell_type": "markdown",
   "metadata": {},
   "source": [
    "#### Train"
   ]
  },
  {
   "cell_type": "code",
   "execution_count": 10,
   "metadata": {},
   "outputs": [],
   "source": [
    "from keras.callbacks import EarlyStopping, ModelCheckpoint\n",
    "\n",
    "early_stop = EarlyStopping(\n",
    "    monitor='val_acc', \n",
    "    min_delta=0.001, \n",
    "    patience=3, \n",
    "    mode='max', \n",
    "    verbose=1)\n",
    "\n",
    "!mkdir -p ./weights\n",
    "checkpoint = ModelCheckpoint(\n",
    "    './weights/LSTM.h5', \n",
    "    monitor='val_acc', \n",
    "    verbose=1, \n",
    "    save_best_only=True, \n",
    "    mode='max', \n",
    "    period=1)"
   ]
  },
  {
   "cell_type": "code",
   "execution_count": 11,
   "metadata": {},
   "outputs": [
    {
     "name": "stdout",
     "output_type": "stream",
     "text": [
      "Train on 15931 samples, validate on 6828 samples\n",
      "Epoch 1/15\n",
      "15931/15931 [==============================] - 175s 11ms/step - loss: 0.2907 - acc: 0.9156 - val_loss: 0.2756 - val_acc: 0.9167\n",
      "\n",
      "Epoch 00001: val_acc improved from -inf to 0.91667, saving model to ./weights/LSTM.h5\n",
      "Epoch 2/15\n",
      "15931/15931 [==============================] - 158s 10ms/step - loss: 0.2742 - acc: 0.9167 - val_loss: 0.2733 - val_acc: 0.9167\n",
      "\n",
      "Epoch 00002: val_acc did not improve from 0.91667\n",
      "Epoch 3/15\n",
      "15931/15931 [==============================] - 153s 10ms/step - loss: 0.2720 - acc: 0.9171 - val_loss: 0.2702 - val_acc: 0.9183\n",
      "\n",
      "Epoch 00003: val_acc improved from 0.91667 to 0.91834, saving model to ./weights/LSTM.h5\n",
      "Epoch 4/15\n",
      "15931/15931 [==============================] - 152s 10ms/step - loss: 0.2696 - acc: 0.9180 - val_loss: 0.2689 - val_acc: 0.9183\n",
      "\n",
      "Epoch 00004: val_acc did not improve from 0.91834\n",
      "Epoch 5/15\n",
      "15931/15931 [==============================] - 154s 10ms/step - loss: 0.2686 - acc: 0.9182 - val_loss: 0.2678 - val_acc: 0.9183\n",
      "\n",
      "Epoch 00005: val_acc did not improve from 0.91834\n",
      "Epoch 6/15\n",
      "15931/15931 [==============================] - 160s 10ms/step - loss: 0.2678 - acc: 0.9182 - val_loss: 0.2671 - val_acc: 0.9183\n",
      "\n",
      "Epoch 00006: val_acc did not improve from 0.91834\n",
      "Epoch 00006: early stopping\n"
     ]
    }
   ],
   "source": [
    "history = model.fit(\n",
    "    X_train, y_train,\n",
    "    batch_size=32, epochs=15,\n",
    "    validation_split=0.3,\n",
    "    verbose=1,\n",
    "    callbacks=[early_stop, checkpoint])"
   ]
  },
  {
   "cell_type": "code",
   "execution_count": 12,
   "metadata": {},
   "outputs": [
    {
     "data": {
      "image/png": "[encoded data removed]",
      "text/plain": [
       "<Figure size 432x288 with 1 Axes>"
      ]
     },
     "metadata": {},
     "output_type": "display_data"
    }
   ],
   "source": [
    "historydf = pd.DataFrame(history.history, index=history.epoch)\n",
    "historydf.plot();"
   ]
  },
  {
   "cell_type": "markdown",
   "metadata": {},
   "source": [
    "## Evaluate"
   ]
  },
  {
   "cell_type": "code",
   "execution_count": 13,
   "metadata": {},
   "outputs": [],
   "source": [
    "from keras.models import load_model\n",
    "\n",
    "model = load_model('./weights/LSTM.h5')"
   ]
  },
  {
   "cell_type": "code",
   "execution_count": 14,
   "metadata": {},
   "outputs": [
    {
     "name": "stdout",
     "output_type": "stream",
     "text": [
      "9754/9754 [==============================] - 8s 816us/step\n",
      "Test score: 0.2707245235917801\n",
      "Test accuracy: 91.82044633935166 %\n"
     ]
    }
   ],
   "source": [
    "score, acc = model.evaluate(X_pre_test, y_pre_test)\n",
    "\n",
    "print('Test score: {}'.format(score))\n",
    "print('Test accuracy: {} %'.format(acc*100.0))"
   ]
  },
  {
   "cell_type": "markdown",
   "metadata": {},
   "source": [
    "## Output ytest"
   ]
  },
  {
   "cell_type": "code",
   "execution_count": 15,
   "metadata": {},
   "outputs": [
    {
     "data": {
      "text/html": [
       "<div>\n",
       "<style scoped>\n",
       "    .dataframe tbody tr th:only-of-type {\n",
       "        vertical-align: middle;\n",
       "    }\n",
       "\n",
       "    .dataframe tbody tr th {\n",
       "        vertical-align: top;\n",
       "    }\n",
       "\n",
       "    .dataframe thead th {\n",
       "        text-align: right;\n",
       "    }\n",
       "</style>\n",
       "<table border=\"1\" class=\"dataframe\">\n",
       "  <thead>\n",
       "    <tr style=\"text-align: right;\">\n",
       "      <th></th>\n",
       "      <th>Text</th>\n",
       "    </tr>\n",
       "  </thead>\n",
       "  <tbody>\n",
       "    <tr>\n",
       "      <th>0</th>\n",
       "      <td>tvletwgzkrqvuhtwamuluhpkskpmpmiwtvuhamqvmviwlr...</td>\n",
       "    </tr>\n",
       "    <tr>\n",
       "      <th>1</th>\n",
       "      <td>qvmvuhskleenmvviengzxyuhqvmvamguuhrakrpmsauhul...</td>\n",
       "    </tr>\n",
       "    <tr>\n",
       "      <th>2</th>\n",
       "      <td>twamuhulenamuluhskvienuhqgdftwmvmkletwulvimvuh...</td>\n",
       "    </tr>\n",
       "    <tr>\n",
       "      <th>3</th>\n",
       "      <td>sooatwqvvitwqvvipmviuhoaampmpmmwuhuhraulvikrpm...</td>\n",
       "    </tr>\n",
       "    <tr>\n",
       "      <th>4</th>\n",
       "      <td>lepmuhpmdfuluhtwletwdfuhtwletwamguuhuhraezpmpm...</td>\n",
       "    </tr>\n",
       "  </tbody>\n",
       "</table>\n",
       "</div>"
      ],
      "text/plain": [
       "                                                Text\n",
       "0  tvletwgzkrqvuhtwamuluhpkskpmpmiwtvuhamqvmviwlr...\n",
       "1  qvmvuhskleenmvviengzxyuhqvmvamguuhrakrpmsauhul...\n",
       "2  twamuhulenamuluhskvienuhqgdftwmvmkletwulvimvuh...\n",
       "3  sooatwqvvitwqvvipmviuhoaampmpmmwuhuhraulvikrpm...\n",
       "4  lepmuhpmdfuluhtwletwdfuhtwletwamguuhuhraezpmpm..."
      ]
     },
     "execution_count": 15,
     "metadata": {},
     "output_type": "execute_result"
    }
   ],
   "source": [
    "# Load Xtest\n",
    "df = pd.read_csv('./data/Xtest.txt', header=None)\n",
    "df.columns = ['Text']\n",
    "\n",
    "df.head()"
   ]
  },
  {
   "cell_type": "code",
   "execution_count": 16,
   "metadata": {},
   "outputs": [
    {
     "data": {
      "text/html": [
       "<div>\n",
       "<style scoped>\n",
       "    .dataframe tbody tr th:only-of-type {\n",
       "        vertical-align: middle;\n",
       "    }\n",
       "\n",
       "    .dataframe tbody tr th {\n",
       "        vertical-align: top;\n",
       "    }\n",
       "\n",
       "    .dataframe thead th {\n",
       "        text-align: right;\n",
       "    }\n",
       "</style>\n",
       "<table border=\"1\" class=\"dataframe\">\n",
       "  <thead>\n",
       "    <tr style=\"text-align: right;\">\n",
       "      <th></th>\n",
       "      <th>Text</th>\n",
       "      <th>Character vector</th>\n",
       "    </tr>\n",
       "  </thead>\n",
       "  <tbody>\n",
       "    <tr>\n",
       "      <th>0</th>\n",
       "      <td>tvletwgzkrqvuhtwamuluhpkskpmpmiwtvuhamqvmviwlr...</td>\n",
       "      <td>[19, 21, 11, 4, 19, 22, 6, 25, 10, 17, 16, 21,...</td>\n",
       "    </tr>\n",
       "    <tr>\n",
       "      <th>1</th>\n",
       "      <td>qvmvuhskleenmvviengzxyuhqvmvamguuhrakrpmsauhul...</td>\n",
       "      <td>[16, 21, 12, 21, 20, 7, 18, 10, 11, 4, 4, 13, ...</td>\n",
       "    </tr>\n",
       "    <tr>\n",
       "      <th>2</th>\n",
       "      <td>twamuhulenamuluhskvienuhqgdftwmvmkletwulvimvuh...</td>\n",
       "      <td>[19, 22, 0, 12, 20, 7, 20, 11, 4, 13, 0, 12, 2...</td>\n",
       "    </tr>\n",
       "    <tr>\n",
       "      <th>3</th>\n",
       "      <td>sooatwqvvitwqvvipmviuhoaampmpmmwuhuhraulvikrpm...</td>\n",
       "      <td>[18, 14, 14, 0, 19, 22, 16, 21, 21, 8, 19, 22,...</td>\n",
       "    </tr>\n",
       "    <tr>\n",
       "      <th>4</th>\n",
       "      <td>lepmuhpmdfuluhtwletwdfuhtwletwamguuhuhraezpmpm...</td>\n",
       "      <td>[11, 4, 15, 12, 20, 7, 15, 12, 3, 5, 20, 11, 2...</td>\n",
       "    </tr>\n",
       "  </tbody>\n",
       "</table>\n",
       "</div>"
      ],
      "text/plain": [
       "                                                Text  \\\n",
       "0  tvletwgzkrqvuhtwamuluhpkskpmpmiwtvuhamqvmviwlr...   \n",
       "1  qvmvuhskleenmvviengzxyuhqvmvamguuhrakrpmsauhul...   \n",
       "2  twamuhulenamuluhskvienuhqgdftwmvmkletwulvimvuh...   \n",
       "3  sooatwqvvitwqvvipmviuhoaampmpmmwuhuhraulvikrpm...   \n",
       "4  lepmuhpmdfuluhtwletwdfuhtwletwamguuhuhraezpmpm...   \n",
       "\n",
       "                                    Character vector  \n",
       "0  [19, 21, 11, 4, 19, 22, 6, 25, 10, 17, 16, 21,...  \n",
       "1  [16, 21, 12, 21, 20, 7, 18, 10, 11, 4, 4, 13, ...  \n",
       "2  [19, 22, 0, 12, 20, 7, 20, 11, 4, 13, 0, 12, 2...  \n",
       "3  [18, 14, 14, 0, 19, 22, 16, 21, 21, 8, 19, 22,...  \n",
       "4  [11, 4, 15, 12, 20, 7, 15, 12, 3, 5, 20, 11, 2...  "
      ]
     },
     "execution_count": 16,
     "metadata": {},
     "output_type": "execute_result"
    }
   ],
   "source": [
    "# Feature Engineering X_test\n",
    "df['Character vector'] = df['Text'].transform(lambda X: np.array([convert_char_to_num(c) for c in X]))\n",
    "\n",
    "df.head()"
   ]
  },
  {
   "cell_type": "code",
   "execution_count": 17,
   "metadata": {},
   "outputs": [
    {
     "name": "stdout",
     "output_type": "stream",
     "text": [
      "(3000, 150)\n"
     ]
    }
   ],
   "source": [
    "# Pad X_test\n",
    "X_test = pad_sequences(np.array(df['Character vector'].values), maxlen=maxlen)\n",
    "\n",
    "print(X_test.shape)"
   ]
  },
  {
   "cell_type": "code",
   "execution_count": 18,
   "metadata": {},
   "outputs": [],
   "source": [
    "from keras.models import load_model\n",
    "\n",
    "model = load_model('./weights/LSTM.h5')\n",
    "y_pred = model.predict(X_test)"
   ]
  },
  {
   "cell_type": "code",
   "execution_count": 19,
   "metadata": {},
   "outputs": [],
   "source": [
    "y_test = [np.argmax(y, axis=None, out=None) for y in y_pred]"
   ]
  },
  {
   "cell_type": "code",
   "execution_count": 20,
   "metadata": {},
   "outputs": [],
   "source": [
    "!mkdir -p ./output\n",
    "\n",
    "with open('./output/ytest.txt', 'w') as outfile:\n",
    "    for y in y_test:\n",
    "        outfile.write('{}\\n'.format(str(y)))"
   ]
  }
 ],
 "metadata": {
  "kernelspec": {
   "display_name": "Python 3.6",
   "language": "python",
   "name": "py36"
  },
  "language_info": {
   "codemirror_mode": {
    "name": "ipython",
    "version": 3
   },
   "file_extension": ".py",
   "mimetype": "text/x-python",
   "name": "python",
   "nbconvert_exporter": "python",
   "pygments_lexer": "ipython3",
   "version": "3.6.6"
  }
 },
 "nbformat": 4,
 "nbformat_minor": 2
}
