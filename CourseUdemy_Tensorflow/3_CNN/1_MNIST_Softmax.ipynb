{
 "cells": [
  {
   "cell_type": "code",
   "execution_count": 1,
   "metadata": {},
   "outputs": [],
   "source": [
    "import matplotlib.pyplot as plt\n",
    "import pandas as pd\n",
    "import numpy as np\n",
    "from IPython.display import display\n",
    "import tensorflow as tf"
   ]
  },
  {
   "cell_type": "code",
   "execution_count": 2,
   "metadata": {},
   "outputs": [],
   "source": [
    "np.random.seed(101)\n",
    "tf.set_random_seed(101)"
   ]
  },
  {
   "cell_type": "markdown",
   "metadata": {},
   "source": [
    "## Dataset\n",
    "** Alternative sources of the data just in case: **\n",
    "\n",
    "* http://yann.lecun.com/exdb/mnist/\n",
    "* https://github.com/mrgloom/MNIST-dataset-in-different-formats"
   ]
  },
  {
   "cell_type": "code",
   "execution_count": 3,
   "metadata": {},
   "outputs": [
    {
     "name": "stderr",
     "output_type": "stream",
     "text": [
      "Using TensorFlow backend.\n"
     ]
    },
    {
     "name": "stdout",
     "output_type": "stream",
     "text": [
      "(48000, 28, 28)\n",
      "(48000,)\n",
      "\n",
      "(12000, 28, 28)\n",
      "(12000,)\n",
      "\n",
      "(10000, 28, 28)\n",
      "(10000,)\n"
     ]
    }
   ],
   "source": [
    "from keras.datasets import mnist\n",
    "\n",
    "(X, y), (X_test, y_test) = mnist.load_data('/tmp/mnist.npz')\n",
    "\n",
    "from sklearn.model_selection import train_test_split\n",
    "\n",
    "X_train, X_val, y_train, y_val = train_test_split(\n",
    "    X, y,\n",
    "    test_size=0.2, random_state=42)\n",
    "\n",
    "print(X_train.shape)\n",
    "print(y_train.shape)\n",
    "print('')\n",
    "print(X_val.shape)\n",
    "print(y_val.shape)\n",
    "print('')\n",
    "print(X_test.shape)\n",
    "print(y_test.shape)"
   ]
  },
  {
   "cell_type": "code",
   "execution_count": 4,
   "metadata": {},
   "outputs": [
    {
     "name": "stdout",
     "output_type": "stream",
     "text": [
      "255\n",
      "0\n"
     ]
    }
   ],
   "source": [
    "# not normalized\n",
    "print(X_train[0].max())\n",
    "print(X_train[0].min())"
   ]
  },
  {
   "cell_type": "code",
   "execution_count": 5,
   "metadata": {},
   "outputs": [
    {
     "name": "stdout",
     "output_type": "stream",
     "text": [
      "5\n"
     ]
    },
    {
     "data": {
      "image/png": "[encoded data removed]",
      "text/plain": [
       "<Figure size 432x288 with 1 Axes>"
      ]
     },
     "metadata": {},
     "output_type": "display_data"
    }
   ],
   "source": [
    "plt.imshow(X_train[0], cmap='gray');\n",
    "print(y_train[0])"
   ]
  },
  {
   "cell_type": "markdown",
   "metadata": {},
   "source": [
    "## Feature Engineering"
   ]
  },
  {
   "cell_type": "code",
   "execution_count": 6,
   "metadata": {},
   "outputs": [
    {
     "name": "stdout",
     "output_type": "stream",
     "text": [
      "(48000, 784)\n",
      "(12000, 784)\n",
      "(10000, 784)\n"
     ]
    }
   ],
   "source": [
    "# Unroll X\n",
    "X_train_rs = X_train.reshape(-1, 28*28)\n",
    "X_val_rs = X_val.reshape(-1, 28*28)\n",
    "X_test_rs = X_test.reshape(-1, 28*28)\n",
    "\n",
    "# Normalize X [0 - 1]\n",
    "X_train_norm = X_train_rs.astype('float32') / 255.0\n",
    "X_val_norm = X_val_rs.astype('float32') / 255.0\n",
    "X_test_norm = X_test_rs.astype('float32') / 255.0\n",
    "\n",
    "print(X_train_norm.shape)\n",
    "print(X_val_norm.shape)\n",
    "print(X_test_norm.shape)"
   ]
  },
  {
   "cell_type": "code",
   "execution_count": 7,
   "metadata": {},
   "outputs": [
    {
     "name": "stdout",
     "output_type": "stream",
     "text": [
      "(48000, 10)\n",
      "(12000, 10)\n",
      "(10000, 10)\n"
     ]
    }
   ],
   "source": [
    "# One hot encoding y\n",
    "from keras.utils.np_utils import to_categorical\n",
    "\n",
    "y_train_cat = to_categorical(y_train)\n",
    "y_val_cat = to_categorical(y_val)\n",
    "y_test_cat = to_categorical(y_test)\n",
    "\n",
    "print(y_train_cat.shape)\n",
    "print(y_val_cat.shape)\n",
    "print(y_test_cat.shape)"
   ]
  },
  {
   "cell_type": "markdown",
   "metadata": {},
   "source": [
    "## Model"
   ]
  },
  {
   "cell_type": "code",
   "execution_count": 8,
   "metadata": {},
   "outputs": [
    {
     "name": "stdout",
     "output_type": "stream",
     "text": [
      "WARNING:tensorflow:From <ipython-input-8-a7460b6cddd1>:16: softmax_cross_entropy_with_logits (from tensorflow.python.ops.nn_ops) is deprecated and will be removed in a future version.\n",
      "Instructions for updating:\n",
      "\n",
      "Future major versions of TensorFlow will allow gradients to flow\n",
      "into the labels input on backprop by default.\n",
      "\n",
      "See @{tf.nn.softmax_cross_entropy_with_logits_v2}.\n",
      "\n"
     ]
    }
   ],
   "source": [
    "# Placeholder\n",
    "X_ph = tf.placeholder(tf.float32,shape=[None,784])\n",
    "y_ph = tf.placeholder(tf.float32,[None,10])\n",
    "\n",
    "# Variables\n",
    "W = tf.Variable(tf.zeros([784,10]))\n",
    "b = tf.Variable(tf.zeros([10]))\n",
    "\n",
    "# Graph\n",
    "y_pred = tf.matmul(X_ph, W) + b \n",
    "\n",
    "# Loss function\n",
    "loss = tf.reduce_mean(\n",
    "    tf.nn.softmax_cross_entropy_with_logits(\n",
    "        labels=y_ph,\n",
    "        logits=y_pred))\n",
    "\n",
    "# Optimizer\n",
    "optimizer = tf.train.GradientDescentOptimizer(learning_rate=0.5)\n",
    "\n",
    "# Trainning function\n",
    "train = optimizer.minimize(loss)"
   ]
  },
  {
   "cell_type": "code",
   "execution_count": 9,
   "metadata": {},
   "outputs": [],
   "source": [
    "def next_batch(X, y, batch_size=10):\n",
    "    # Select a random batch index\n",
    "    rand_idx = np.random.randint(\n",
    "        len(X),\n",
    "        size=batch_size)\n",
    "\n",
    "    return X[rand_idx], y[rand_idx]"
   ]
  },
  {
   "cell_type": "code",
   "execution_count": 10,
   "metadata": {},
   "outputs": [
    {
     "name": "stdout",
     "output_type": "stream",
     "text": [
      "Epoch 0\n",
      "train_acc = 0.4300000071525574 - val_acc = 0.3089166581630707\n",
      "train_loss = 1.6457617282867432 - val_loss = 2.0462241172790527\n",
      "\n",
      "Epoch 500\n",
      "train_acc = 0.9599999785423279 - val_acc = 0.905916690826416\n",
      "train_loss = 0.2620612382888794 - val_loss = 0.3234686851501465\n",
      "\n",
      "Epoch 1000\n",
      "train_acc = 0.9399999976158142 - val_acc = 0.9120833277702332\n",
      "train_loss = 0.18755850195884705 - val_loss = 0.3085329234600067\n",
      "\n",
      "Epoch 1500\n",
      "train_acc = 0.9599999785423279 - val_acc = 0.9175000190734863\n",
      "train_loss = 0.23749832808971405 - val_loss = 0.29321733117103577\n",
      "\n",
      "Epoch 2000\n",
      "train_acc = 0.9300000071525574 - val_acc = 0.9156666398048401\n",
      "train_loss = 0.20456188917160034 - val_loss = 0.2950513958930969\n",
      "\n"
     ]
    }
   ],
   "source": [
    "# Init Variables\n",
    "init = tf.global_variables_initializer()\n",
    "\n",
    "# Saver\n",
    "saver = tf.train.Saver()\n",
    "\n",
    "# Epochs\n",
    "epochs = 2001\n",
    "\n",
    "# Accuracies\n",
    "train_accs = []\n",
    "val_accs = []\n",
    "\n",
    "# Losses\n",
    "train_losses = []\n",
    "val_losses = []\n",
    "\n",
    "with tf.Session() as sess:\n",
    "    # Init Variables\n",
    "    sess.run(init)\n",
    "    \n",
    "    # Run epochs\n",
    "    for i in range(epochs):\n",
    "        # Select a random batch\n",
    "        X_batch , y_batch = next_batch(\n",
    "            X_train_norm , y_train_cat,\n",
    "            batch_size=100)\n",
    "\n",
    "        # Train\n",
    "        sess.run(\n",
    "            train,\n",
    "            feed_dict={\n",
    "                X_ph: X_batch,\n",
    "                y_ph: y_batch})\n",
    "        \n",
    "        if i%100 == 0:\n",
    "            # Train acc\n",
    "            train_matches = tf.equal(\n",
    "                tf.argmax(y_batch, 1),\n",
    "                tf.argmax(y_pred, 1))\n",
    "\n",
    "            train_accuracy = tf.reduce_mean(tf.cast(train_matches,tf.float32))\n",
    "\n",
    "            train_acc = sess.run(\n",
    "                train_accuracy,\n",
    "                feed_dict={\n",
    "                    X_ph: X_batch,\n",
    "                    y_ph: y_batch})\n",
    "\n",
    "            train_accs.append(train_acc)\n",
    "            \n",
    "            # Train loss\n",
    "            train_loss = loss.eval(\n",
    "                feed_dict={\n",
    "                    X_ph: X_batch,\n",
    "                    y_ph: y_batch})\n",
    "            train_losses.append(train_loss)\n",
    "            \n",
    "            # Val acc\n",
    "            val_matches = tf.equal(\n",
    "                tf.argmax(y_val_cat, 1),\n",
    "                tf.argmax(y_pred, 1))\n",
    "\n",
    "            val_accuracy = tf.reduce_mean(tf.cast(val_matches,tf.float32))\n",
    "\n",
    "            val_acc = sess.run(\n",
    "                val_accuracy,\n",
    "                feed_dict={\n",
    "                    X_ph: X_val_norm,\n",
    "                    y_ph: y_val_cat})\n",
    "\n",
    "            val_accs.append(val_acc)\n",
    "            \n",
    "            # Val loss\n",
    "            val_loss = loss.eval(\n",
    "                feed_dict={\n",
    "                    X_ph: X_val_norm,\n",
    "                    y_ph: y_val_cat})\n",
    "            val_losses.append(val_loss)\n",
    "\n",
    "            # PRINT OUT A MESSAGE EVERY 500 STEPS\n",
    "            if i%500 == 0:\n",
    "                print('Epoch {}'.format(i))\n",
    "                print('train_acc = {} - val_acc = {}'.format(train_acc, val_acc))\n",
    "                print('train_loss = {} - val_loss = {}\\n'.format(train_loss, val_loss))\n",
    "\n",
    "    # SAVE MODEL\n",
    "    saver.save(sess, 'my_model/MNIST_Softmax.ckpt')"
   ]
  },
  {
   "cell_type": "code",
   "execution_count": 11,
   "metadata": {},
   "outputs": [
    {
     "data": {
      "text/plain": [
       "Text(0.5,0,'Epochs')"
      ]
     },
     "execution_count": 11,
     "metadata": {},
     "output_type": "execute_result"
    },
    {
     "data": {
      "image/png": "[encoded data removed]",
      "text/plain": [
       "<Figure size 432x288 with 1 Axes>"
      ]
     },
     "metadata": {},
     "output_type": "display_data"
    }
   ],
   "source": [
    "plt.plot(train_accs)\n",
    "plt.plot(val_accs)\n",
    "\n",
    "plt.legend(['Training', 'Validation'])\n",
    "plt.title('Accuracy')\n",
    "plt.xlabel('Epochs')"
   ]
  },
  {
   "cell_type": "code",
   "execution_count": 12,
   "metadata": {},
   "outputs": [
    {
     "data": {
      "text/plain": [
       "Text(0.5,0,'Epochs')"
      ]
     },
     "execution_count": 12,
     "metadata": {},
     "output_type": "execute_result"
    },
    {
     "data": {
      "image/png": "[encoded data removed]",
      "text/plain": [
       "<Figure size 432x288 with 1 Axes>"
      ]
     },
     "metadata": {},
     "output_type": "display_data"
    }
   ],
   "source": [
    "plt.plot(train_losses)\n",
    "plt.plot(val_losses)\n",
    "\n",
    "plt.legend(['Training', 'Validation'])\n",
    "plt.title('Loss')\n",
    "plt.xlabel('Epochs')"
   ]
  },
  {
   "cell_type": "markdown",
   "metadata": {},
   "source": [
    "## Evaluate Test"
   ]
  },
  {
   "cell_type": "code",
   "execution_count": 13,
   "metadata": {},
   "outputs": [
    {
     "name": "stdout",
     "output_type": "stream",
     "text": [
      "INFO:tensorflow:Restoring parameters from my_model/MNIST_Softmax.ckpt\n",
      "Test set accuracy:  0.9172\n"
     ]
    }
   ],
   "source": [
    "with tf.Session() as sess:\n",
    "    # Restore the model\n",
    "    saver.restore(sess,'my_model/MNIST_Softmax.ckpt')\n",
    "    \n",
    "    # Test accuracy\n",
    "    test_matches = tf.equal(\n",
    "        tf.argmax(y_test_cat, 1),\n",
    "        tf.argmax(y_pred, 1))\n",
    "\n",
    "    test_accuracy = tf.reduce_mean(tf.cast(test_matches,tf.float32))\n",
    "\n",
    "    test_acc = sess.run(\n",
    "        test_accuracy,\n",
    "        feed_dict={\n",
    "            X_ph: X_test_norm,\n",
    "            y_ph: y_test_cat})\n",
    "\n",
    "    print('Test set accuracy: ', test_acc)"
   ]
  }
 ],
 "metadata": {
  "kernelspec": {
   "display_name": "Python 3.6",
   "language": "python",
   "name": "py36"
  },
  "language_info": {
   "codemirror_mode": {
    "name": "ipython",
    "version": 3
   },
   "file_extension": ".py",
   "mimetype": "text/x-python",
   "name": "python",
   "nbconvert_exporter": "python",
   "pygments_lexer": "ipython3",
   "version": "3.6.6"
  }
 },
 "nbformat": 4,
 "nbformat_minor": 2
}
