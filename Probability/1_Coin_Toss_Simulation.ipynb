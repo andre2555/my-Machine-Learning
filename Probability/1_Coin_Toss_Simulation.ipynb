{
 "cells": [
  {
   "cell_type": "code",
   "execution_count": 1,
   "metadata": {},
   "outputs": [],
   "source": [
    "import numpy as np\n",
    "import matplotlib.pyplot as plt\n",
    "import pandas as pd"
   ]
  },
  {
   "cell_type": "code",
   "execution_count": 2,
   "metadata": {},
   "outputs": [],
   "source": [
    "def sample_from_finite_probability_space(finite_prob_space):\n",
    "    \"\"\"\n",
    "    Produces a random outcome from a given finite probability space.\n",
    "\n",
    "    Input\n",
    "    -----\n",
    "    - finite_prob_space: finite probability space encoded as a\n",
    "      dictionary\n",
    "\n",
    "    Output\n",
    "    ------\n",
    "    - random outcome, which is one of the keys in the\n",
    "      finite_probability_space dictionary's set of keys\n",
    "      (remember: these keys form the sample space)\n",
    "    \"\"\"\n",
    "\n",
    "    # first produce a list of pairs of the form (outcome, outcome probability)\n",
    "    outcome_probability_pairs = list(finite_prob_space.items())\n",
    "\n",
    "\n",
    "    # convert the pairs into two lists \"outcomes\" and \"outcome_probabilities\":\n",
    "    # - outcomes: list of outcomes\n",
    "    # - outcome_probabilities: i-th element is the probability of the i-th\n",
    "    #   outcome in the \"outcomes\" list\n",
    "    # (note that this step is needed because NumPy wants these lists\n",
    "    # separately)\n",
    "    outcomes, outcome_probabilities = zip(*outcome_probability_pairs)\n",
    "\n",
    "    # use NumPy to randomly sample\n",
    "    random_outcome = np.random.choice(outcomes, p=outcome_probabilities)\n",
    "    return random_outcome"
   ]
  },
  {
   "cell_type": "code",
   "execution_count": 3,
   "metadata": {},
   "outputs": [],
   "source": [
    "def flip_fair_coin():\n",
    "    \"\"\"\n",
    "    Returns a fair coin flip.\n",
    "\n",
    "    Output\n",
    "    ------\n",
    "    - either the string 'heads' or 'tails'\n",
    "    \"\"\"\n",
    "    finite_prob_space = {'heads': 0.5, 'tails': 0.5}\n",
    "    return sample_from_finite_probability_space(finite_prob_space)"
   ]
  },
  {
   "cell_type": "code",
   "execution_count": 4,
   "metadata": {},
   "outputs": [],
   "source": [
    "def flip_fair_coins(number_of_coins):\n",
    "    \"\"\"\n",
    "    Returns a list of fair coin flip results.\n",
    "\n",
    "    Input\n",
    "    -----\n",
    "    - number_of_coins: number of coin flips\n",
    "\n",
    "    Output\n",
    "    ------\n",
    "    - list of length <number_of_coins> consisting of strings 'heads'/'tails'\n",
    "    \"\"\"\n",
    "    finite_prob_space = {'heads': 0.5, 'tails': 0.5}\n",
    "    return [sample_from_finite_probability_space(finite_prob_space)\n",
    "            for i in range(number_of_coins)]"
   ]
  },
  {
   "cell_type": "code",
   "execution_count": 5,
   "metadata": {},
   "outputs": [],
   "source": [
    "def plot_discrete_histogram(array, frequency=False, figsize=(5, 4)):\n",
    "    \"\"\"\n",
    "    Plots a discrete histogram given a 1D array of values.\n",
    "\n",
    "    Input\n",
    "    -----\n",
    "    - array: 1D array consisting of data\n",
    "    - frequency: boolean (True => plot frequencies, False => plot counts)\n",
    "    - figsize: tuple (width, height) of how large to make the plotted figure\n",
    "    \"\"\"\n",
    "    array_as_series = pd.Series(array)\n",
    "\n",
    "    counts = array_as_series.value_counts().sort_index()\n",
    "    if frequency:\n",
    "        counts /= counts.sum()\n",
    "\n",
    "    plt.figure(figsize=figsize)\n",
    "\n",
    "    plt.xlabel('Value')\n",
    "    if frequency:\n",
    "        plt.ylabel('Frequency')\n",
    "    else:\n",
    "        plt.ylabel('Count')\n",
    "\n",
    "    axis = counts.plot(kind='bar')\n",
    "    figure = axis.get_figure()\n",
    "    figure.autofmt_xdate()  # rotates x-axis labels to be more readable\n",
    "\n",
    "    plt.tight_layout()  # tidy up and remove some margins"
   ]
  },
  {
   "cell_type": "code",
   "execution_count": 6,
   "metadata": {},
   "outputs": [],
   "source": [
    "def print_prob_table_array(probabilities, outcomes):\n",
    "    \"\"\"\n",
    "    Prints a probability table that is stored as a 1D array.\n",
    "    \n",
    "    Input\n",
    "    -----\n",
    "    - probabilities: a 1D array of nonnegative entries that add to 1\n",
    "    - outcomes: list of labels; i-th label is for the i-th entry in\n",
    "      <probabilities>\n",
    "    \"\"\"\n",
    "    if len(probabilities) != len(outcomes):\n",
    "        raise Exception(\"The number of outcomes and number of probabilities \"\n",
    "                        + \"must match.\")\n",
    "    print(pd.Series(probabilities, outcomes))"
   ]
  },
  {
   "cell_type": "code",
   "execution_count": 7,
   "metadata": {},
   "outputs": [],
   "source": [
    "def print_joint_prob_table_dict(dicts_in_dict):\n",
    "    \"\"\"\n",
    "    Prints a joint probability table that is stored using the dictionaries\n",
    "    within a dictionary representation.\n",
    "    \n",
    "    Input\n",
    "    -----\n",
    "    - dicts_in_dict: joint probability table stored as dictionaries within a\n",
    "      dictionary\n",
    "    \"\"\"\n",
    "    print(pd.DataFrame(dicts_in_dict).T)"
   ]
  },
  {
   "cell_type": "code",
   "execution_count": 8,
   "metadata": {},
   "outputs": [],
   "source": [
    "def print_joint_prob_table_array(array, row_labels, col_labels):\n",
    "    \"\"\"\n",
    "    Prints a joint probability table that is stored using the 2D array\n",
    "    representation.\n",
    "    \n",
    "    Input\n",
    "    -----\n",
    "    - array: 2D array for the joint probability table (doesn't have label info)\n",
    "    - row_labels: list of labels; i-th label is for the i-th row in <array>\n",
    "    - col_labels: list of labels; i-th label is for the i-th column in <array>\n",
    "    \"\"\"\n",
    "    if len(array.shape) != 2:\n",
    "        raise Exception(\"The array specified must be two-dimensional.\")\n",
    "    print(pd.DataFrame(array, row_labels, col_labels))"
   ]
  },
  {
   "cell_type": "code",
   "execution_count": 9,
   "metadata": {},
   "outputs": [
    {
     "data": {
      "text/plain": [
       "'heads'"
      ]
     },
     "execution_count": 9,
     "metadata": {},
     "output_type": "execute_result"
    }
   ],
   "source": [
    "# simulate flipping a fair coin, You should get either 'heads' or 'tails'.\n",
    "flip_fair_coin()"
   ]
  },
  {
   "cell_type": "code",
   "execution_count": 10,
   "metadata": {},
   "outputs": [
    {
     "data": {
      "image/png": "[encoded data removed]",
      "text/plain": [
       "<Figure size 360x288 with 1 Axes>"
      ]
     },
     "metadata": {},
     "output_type": "display_data"
    }
   ],
   "source": [
    "# To flip the fair coin 100 times\n",
    "flips = flip_fair_coins(100)\n",
    "\n",
    "# plot how many times we see the two possible outcomes in the same bar graph, called a histogram:\n",
    "plot_discrete_histogram(flips)"
   ]
  },
  {
   "cell_type": "code",
   "execution_count": 11,
   "metadata": {},
   "outputs": [
    {
     "data": {
      "image/png": "[encoded data removed]",
      "text/plain": [
       "<Figure size 360x288 with 1 Axes>"
      ]
     },
     "metadata": {},
     "output_type": "display_data"
    }
   ],
   "source": [
    "#  plot the fraction of times heads or tails occurred\n",
    "plot_discrete_histogram(flips, frequency=True)"
   ]
  },
  {
   "cell_type": "code",
   "execution_count": 12,
   "metadata": {},
   "outputs": [],
   "source": [
    "# Plot the fraction of heads as a function of the number of flips (going up to 100,000 flips).\n",
    "n = 100000\n",
    "heads_so_far = 0\n",
    "fraction_of_heads = []\n",
    "for i in range(n):\n",
    "    if flip_fair_coin() == 'heads':\n",
    "        heads_so_far += 1\n",
    "    fraction_of_heads.append(heads_so_far / (i+1))"
   ]
  },
  {
   "cell_type": "code",
   "execution_count": 13,
   "metadata": {},
   "outputs": [
    {
     "data": {
      "text/plain": [
       "Text(0,0.5,'Fraction of heads')"
      ]
     },
     "execution_count": 13,
     "metadata": {},
     "output_type": "execute_result"
    },
    {
     "data": {
      "image/png": "[encoded data removed]",
      "text/plain": [
       "<Figure size 576x288 with 1 Axes>"
      ]
     },
     "metadata": {},
     "output_type": "display_data"
    }
   ],
   "source": [
    "import matplotlib.pyplot as plt\n",
    "plt.figure(figsize=(8, 4))\n",
    "plt.plot(range(1, n+1), fraction_of_heads)\n",
    "plt.xlabel('Number of flips')\n",
    "plt.ylabel('Fraction of heads')"
   ]
  }
 ],
 "metadata": {
  "kernelspec": {
   "display_name": "Python 3",
   "language": "python",
   "name": "python3"
  },
  "language_info": {
   "codemirror_mode": {
    "name": "ipython",
    "version": 3
   },
   "file_extension": ".py",
   "mimetype": "text/x-python",
   "name": "python",
   "nbconvert_exporter": "python",
   "pygments_lexer": "ipython3",
   "version": "3.6.6"
  }
 },
 "nbformat": 4,
 "nbformat_minor": 2
}
