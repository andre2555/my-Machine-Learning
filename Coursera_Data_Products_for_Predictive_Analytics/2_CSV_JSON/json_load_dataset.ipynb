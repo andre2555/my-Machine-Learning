{
 "cells": [
  {
   "cell_type": "markdown",
   "metadata": {},
   "source": [
    "## Dataset\n",
    "[https://www.yelp.com/dataset](https://www.yelp.com/dataset)\n"
   ]
  },
  {
   "cell_type": "code",
   "execution_count": 1,
   "metadata": {},
   "outputs": [],
   "source": [
    "from IPython.display import display"
   ]
  },
  {
   "cell_type": "markdown",
   "metadata": {},
   "source": [
    "#### Load dataset"
   ]
  },
  {
   "cell_type": "code",
   "execution_count": 2,
   "metadata": {},
   "outputs": [
    {
     "data": {
      "text/plain": [
       "'{\"review_id\":\"Q1sbwvVQXV2734tPgoKj4Q\",\"user_id\":\"hG7b0MtEbXx5QzbzE6C_VA\",\"business_id\":\"ujmEBvifdJM6h6RLv4wQIg\",\"stars\":1.0,\"useful\":6,\"funny\":1,\"cool\":0,\"text\":\"Total bill for this horrible service? Over $8Gs. These crooks actually had the nerve to charge us $69 for 3 pills. I checked online the pills can be had for 19 cents EACH! Avoid Hospital ERs at all costs.\",\"date\":\"2013-05-07 04:34:36\"}\\n'"
      ]
     },
     "execution_count": 2,
     "metadata": {},
     "output_type": "execute_result"
    }
   ],
   "source": [
    "path = \"../large_datasets/yelp_dataset/review.json\"\n",
    "\n",
    "f = open(path, 'r', encoding='utf8')\n",
    "\n",
    "lines = []\n",
    "for i in range(50000):\n",
    "    lines.append(f.readline())\n",
    "\n",
    "lines[0]"
   ]
  },
  {
   "cell_type": "code",
   "execution_count": 3,
   "metadata": {},
   "outputs": [
    {
     "data": {
      "text/plain": [
       "{'review_id': 'Q1sbwvVQXV2734tPgoKj4Q',\n",
       " 'user_id': 'hG7b0MtEbXx5QzbzE6C_VA',\n",
       " 'business_id': 'ujmEBvifdJM6h6RLv4wQIg',\n",
       " 'stars': 1.0,\n",
       " 'useful': 6,\n",
       " 'funny': 1,\n",
       " 'cool': 0,\n",
       " 'text': 'Total bill for this horrible service? Over $8Gs. These crooks actually had the nerve to charge us $69 for 3 pills. I checked online the pills can be had for 19 cents EACH! Avoid Hospital ERs at all costs.',\n",
       " 'date': '2013-05-07 04:34:36'}"
      ]
     },
     "metadata": {},
     "output_type": "display_data"
    },
    {
     "data": {
      "text/plain": [
       "'hG7b0MtEbXx5QzbzE6C_VA'"
      ]
     },
     "metadata": {},
     "output_type": "display_data"
    },
    {
     "data": {
      "text/plain": [
       "1.0"
      ]
     },
     "metadata": {},
     "output_type": "display_data"
    }
   ],
   "source": [
    "## Method 1 - convert to dictionary\n",
    "d = eval(lines[0])\n",
    "\n",
    "display(d)\n",
    "display(d['user_id'])\n",
    "display(d['stars'])"
   ]
  },
  {
   "cell_type": "code",
   "execution_count": 4,
   "metadata": {},
   "outputs": [
    {
     "data": {
      "text/plain": [
       "{'review_id': 'Q1sbwvVQXV2734tPgoKj4Q',\n",
       " 'user_id': 'hG7b0MtEbXx5QzbzE6C_VA',\n",
       " 'business_id': 'ujmEBvifdJM6h6RLv4wQIg',\n",
       " 'stars': 1.0,\n",
       " 'useful': 6,\n",
       " 'funny': 1,\n",
       " 'cool': 0,\n",
       " 'text': 'Total bill for this horrible service? Over $8Gs. These crooks actually had the nerve to charge us $69 for 3 pills. I checked online the pills can be had for 19 cents EACH! Avoid Hospital ERs at all costs.',\n",
       " 'date': '2013-05-07 04:34:36'}"
      ]
     },
     "metadata": {},
     "output_type": "display_data"
    },
    {
     "data": {
      "text/plain": [
       "'hG7b0MtEbXx5QzbzE6C_VA'"
      ]
     },
     "metadata": {},
     "output_type": "display_data"
    },
    {
     "data": {
      "text/plain": [
       "1.0"
      ]
     },
     "metadata": {},
     "output_type": "display_data"
    }
   ],
   "source": [
    "## Method 2 - load json\n",
    "import json\n",
    "d = json.loads(lines[0])\n",
    "\n",
    "display(d)\n",
    "display(d['user_id'])\n",
    "display(d['stars'])"
   ]
  },
  {
   "cell_type": "markdown",
   "metadata": {},
   "source": [
    "#### Load whole dataset"
   ]
  },
  {
   "cell_type": "code",
   "execution_count": 5,
   "metadata": {},
   "outputs": [
    {
     "data": {
      "text/plain": [
       "{'business_id': '1SWheh84yJXfytovILXOAQ',\n",
       " 'name': 'Arizona Biltmore Golf Club',\n",
       " 'address': '2818 E Camino Acequia Drive',\n",
       " 'city': 'Phoenix',\n",
       " 'state': 'AZ',\n",
       " 'postal_code': '85016',\n",
       " 'latitude': 33.5221425,\n",
       " 'longitude': -112.0184807,\n",
       " 'stars': 3.0,\n",
       " 'review_count': 5,\n",
       " 'is_open': 0,\n",
       " 'attributes': {'GoodForKids': 'False'},\n",
       " 'categories': 'Golf, Active Life',\n",
       " 'hours': None}"
      ]
     },
     "metadata": {},
     "output_type": "display_data"
    },
    {
     "data": {
      "text/plain": [
       "{'GoodForKids': 'False'}"
      ]
     },
     "metadata": {},
     "output_type": "display_data"
    }
   ],
   "source": [
    "path = \"../large_datasets/yelp_dataset/business.json\"\n",
    "\n",
    "f = open(path, 'r', encoding='utf8')\n",
    "\n",
    "dataset = []\n",
    "for i in range(50000):\n",
    "    dataset.append(json.loads(f.readline()))\n",
    "\n",
    "display(dataset[0])\n",
    "display(dataset[0]['attributes'])"
   ]
  }
 ],
 "metadata": {
  "kernelspec": {
   "display_name": "Python 3.6",
   "language": "python",
   "name": "py36"
  },
  "language_info": {
   "codemirror_mode": {
    "name": "ipython",
    "version": 3
   },
   "file_extension": ".py",
   "mimetype": "text/x-python",
   "name": "python",
   "nbconvert_exporter": "python",
   "pygments_lexer": "ipython3",
   "version": "3.6.6"
  }
 },
 "nbformat": 4,
 "nbformat_minor": 2
}
