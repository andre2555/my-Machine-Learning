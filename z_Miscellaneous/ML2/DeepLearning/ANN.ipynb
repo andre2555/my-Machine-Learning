{
 "cells": [
  {
   "cell_type": "markdown",
   "metadata": {},
   "source": [
    "# Artificial Neural Network"
   ]
  },
  {
   "cell_type": "code",
   "execution_count": 1,
   "metadata": {},
   "outputs": [],
   "source": [
    "import numpy as np\n",
    "import matplotlib.pyplot as plt\n",
    "import pandas as pd"
   ]
  },
  {
   "cell_type": "markdown",
   "metadata": {},
   "source": [
    "## Dataset"
   ]
  },
  {
   "cell_type": "code",
   "execution_count": 2,
   "metadata": {},
   "outputs": [
    {
     "data": {
      "text/html": [
       "<div>\n",
       "<style scoped>\n",
       "    .dataframe tbody tr th:only-of-type {\n",
       "        vertical-align: middle;\n",
       "    }\n",
       "\n",
       "    .dataframe tbody tr th {\n",
       "        vertical-align: top;\n",
       "    }\n",
       "\n",
       "    .dataframe thead th {\n",
       "        text-align: right;\n",
       "    }\n",
       "</style>\n",
       "<table border=\"1\" class=\"dataframe\">\n",
       "  <thead>\n",
       "    <tr style=\"text-align: right;\">\n",
       "      <th></th>\n",
       "      <th>RowNumber</th>\n",
       "      <th>CustomerId</th>\n",
       "      <th>Surname</th>\n",
       "      <th>CreditScore</th>\n",
       "      <th>Geography</th>\n",
       "      <th>Gender</th>\n",
       "      <th>Age</th>\n",
       "      <th>Tenure</th>\n",
       "      <th>Balance</th>\n",
       "      <th>NumOfProducts</th>\n",
       "      <th>HasCrCard</th>\n",
       "      <th>IsActiveMember</th>\n",
       "      <th>EstimatedSalary</th>\n",
       "      <th>Exited</th>\n",
       "    </tr>\n",
       "  </thead>\n",
       "  <tbody>\n",
       "    <tr>\n",
       "      <th>0</th>\n",
       "      <td>1</td>\n",
       "      <td>15634602</td>\n",
       "      <td>Hargrave</td>\n",
       "      <td>619</td>\n",
       "      <td>France</td>\n",
       "      <td>Female</td>\n",
       "      <td>42</td>\n",
       "      <td>2</td>\n",
       "      <td>0.00</td>\n",
       "      <td>1</td>\n",
       "      <td>1</td>\n",
       "      <td>1</td>\n",
       "      <td>101348.88</td>\n",
       "      <td>1</td>\n",
       "    </tr>\n",
       "    <tr>\n",
       "      <th>1</th>\n",
       "      <td>2</td>\n",
       "      <td>15647311</td>\n",
       "      <td>Hill</td>\n",
       "      <td>608</td>\n",
       "      <td>Spain</td>\n",
       "      <td>Female</td>\n",
       "      <td>41</td>\n",
       "      <td>1</td>\n",
       "      <td>83807.86</td>\n",
       "      <td>1</td>\n",
       "      <td>0</td>\n",
       "      <td>1</td>\n",
       "      <td>112542.58</td>\n",
       "      <td>0</td>\n",
       "    </tr>\n",
       "    <tr>\n",
       "      <th>2</th>\n",
       "      <td>3</td>\n",
       "      <td>15619304</td>\n",
       "      <td>Onio</td>\n",
       "      <td>502</td>\n",
       "      <td>France</td>\n",
       "      <td>Female</td>\n",
       "      <td>42</td>\n",
       "      <td>8</td>\n",
       "      <td>159660.80</td>\n",
       "      <td>3</td>\n",
       "      <td>1</td>\n",
       "      <td>0</td>\n",
       "      <td>113931.57</td>\n",
       "      <td>1</td>\n",
       "    </tr>\n",
       "    <tr>\n",
       "      <th>3</th>\n",
       "      <td>4</td>\n",
       "      <td>15701354</td>\n",
       "      <td>Boni</td>\n",
       "      <td>699</td>\n",
       "      <td>France</td>\n",
       "      <td>Female</td>\n",
       "      <td>39</td>\n",
       "      <td>1</td>\n",
       "      <td>0.00</td>\n",
       "      <td>2</td>\n",
       "      <td>0</td>\n",
       "      <td>0</td>\n",
       "      <td>93826.63</td>\n",
       "      <td>0</td>\n",
       "    </tr>\n",
       "    <tr>\n",
       "      <th>4</th>\n",
       "      <td>5</td>\n",
       "      <td>15737888</td>\n",
       "      <td>Mitchell</td>\n",
       "      <td>850</td>\n",
       "      <td>Spain</td>\n",
       "      <td>Female</td>\n",
       "      <td>43</td>\n",
       "      <td>2</td>\n",
       "      <td>125510.82</td>\n",
       "      <td>1</td>\n",
       "      <td>1</td>\n",
       "      <td>1</td>\n",
       "      <td>79084.10</td>\n",
       "      <td>0</td>\n",
       "    </tr>\n",
       "  </tbody>\n",
       "</table>\n",
       "</div>"
      ],
      "text/plain": [
       "   RowNumber  CustomerId   Surname  CreditScore Geography  Gender  Age  \\\n",
       "0          1    15634602  Hargrave          619    France  Female   42   \n",
       "1          2    15647311      Hill          608     Spain  Female   41   \n",
       "2          3    15619304      Onio          502    France  Female   42   \n",
       "3          4    15701354      Boni          699    France  Female   39   \n",
       "4          5    15737888  Mitchell          850     Spain  Female   43   \n",
       "\n",
       "   Tenure    Balance  NumOfProducts  HasCrCard  IsActiveMember  \\\n",
       "0       2       0.00              1          1               1   \n",
       "1       1   83807.86              1          0               1   \n",
       "2       8  159660.80              3          1               0   \n",
       "3       1       0.00              2          0               0   \n",
       "4       2  125510.82              1          1               1   \n",
       "\n",
       "   EstimatedSalary  Exited  \n",
       "0        101348.88       1  \n",
       "1        112542.58       0  \n",
       "2        113931.57       1  \n",
       "3         93826.63       0  \n",
       "4         79084.10       0  "
      ]
     },
     "execution_count": 2,
     "metadata": {},
     "output_type": "execute_result"
    }
   ],
   "source": [
    "dataset = pd.read_csv('Churn_Modelling.csv')\n",
    "dataset.head()"
   ]
  },
  {
   "cell_type": "code",
   "execution_count": 3,
   "metadata": {},
   "outputs": [],
   "source": [
    "X = dataset.iloc[:, 3:13].values\n",
    "y = dataset.iloc[:, 13].values"
   ]
  },
  {
   "cell_type": "markdown",
   "metadata": {},
   "source": [
    "## Encode categorical data"
   ]
  },
  {
   "cell_type": "code",
   "execution_count": 4,
   "metadata": {},
   "outputs": [],
   "source": [
    "# Encode Categorical data\n",
    "from sklearn.preprocessing import LabelEncoder, OneHotEncoder\n",
    "\n",
    "label_encoder_X_country = LabelEncoder()\n",
    "X[:, 1] = label_encoder_X_country.fit_transform(X[:, 1])\n",
    "\n",
    "label_encoder_X_gender = LabelEncoder()\n",
    "X[:, 2] = label_encoder_X_gender.fit_transform(X[:, 1])\n",
    "\n",
    "onehot_encoder = OneHotEncoder(categorical_features=[1])\n",
    "X = onehot_encoder.fit_transform(X).toarray()\n",
    "X = X[:,1:]"
   ]
  },
  {
   "cell_type": "markdown",
   "metadata": {},
   "source": [
    "## Split dataset"
   ]
  },
  {
   "cell_type": "code",
   "execution_count": 5,
   "metadata": {},
   "outputs": [],
   "source": [
    "from sklearn.model_selection import train_test_split\n",
    "X_train, X_test, y_train, y_test = train_test_split(X, y, test_size=0.2, random_state=0)"
   ]
  },
  {
   "cell_type": "markdown",
   "metadata": {},
   "source": [
    "## Feature Scaling"
   ]
  },
  {
   "cell_type": "code",
   "execution_count": 6,
   "metadata": {},
   "outputs": [],
   "source": [
    "from sklearn.preprocessing import StandardScaler\n",
    "sc = StandardScaler()\n",
    "\n",
    "X_train = sc.fit_transform(X_train)\n",
    "X_test = sc.transform(X_test)"
   ]
  },
  {
   "cell_type": "markdown",
   "metadata": {},
   "source": [
    "## ANN"
   ]
  },
  {
   "cell_type": "code",
   "execution_count": 7,
   "metadata": {},
   "outputs": [
    {
     "name": "stderr",
     "output_type": "stream",
     "text": [
      "Using TensorFlow backend.\n",
      "C:\\ProgramData\\Anaconda3\\envs\\py36\\lib\\site-packages\\ipykernel_launcher.py:9: UserWarning: Update your `Dense` call to the Keras 2 API: `Dense(activation=\"relu\", input_dim=11, units=6, kernel_initializer=\"uniform\")`\n",
      "  if __name__ == '__main__':\n",
      "C:\\ProgramData\\Anaconda3\\envs\\py36\\lib\\site-packages\\ipykernel_launcher.py:12: UserWarning: Update your `Dense` call to the Keras 2 API: `Dense(activation=\"relu\", units=6, kernel_initializer=\"uniform\")`\n",
      "  if sys.path[0] == '':\n",
      "C:\\ProgramData\\Anaconda3\\envs\\py36\\lib\\site-packages\\ipykernel_launcher.py:15: UserWarning: Update your `Dense` call to the Keras 2 API: `Dense(activation=\"sigmoid\", units=1, kernel_initializer=\"uniform\")`\n",
      "  from ipykernel import kernelapp as app\n"
     ]
    }
   ],
   "source": [
    "import keras\n",
    "from keras.models import Sequential\n",
    "from keras.layers import Dense\n",
    "\n",
    "# Initialize ANN\n",
    "classifier = Sequential()\n",
    "\n",
    "# Add input and  1st hidden layer\n",
    "classifier.add(Dense(output_dim=6, init='uniform', activation='relu', input_dim=11))\n",
    "\n",
    "# Add 2nd hidden layer\n",
    "classifier.add(Dense(output_dim=6, init='uniform', activation='relu'))\n",
    "\n",
    "# Add output layer\n",
    "classifier.add(Dense(output_dim=1, init='uniform', activation='sigmoid'))\n",
    "\n",
    "# Compile ANN\n",
    "classifier.compile(optimizer='adam', loss='binary_crossentropy', metrics=['accuracy'])"
   ]
  },
  {
   "cell_type": "markdown",
   "metadata": {},
   "source": [
    "## Fit model"
   ]
  },
  {
   "cell_type": "code",
   "execution_count": 8,
   "metadata": {},
   "outputs": [
    {
     "name": "stderr",
     "output_type": "stream",
     "text": [
      "C:\\ProgramData\\Anaconda3\\envs\\py36\\lib\\site-packages\\keras\\models.py:848: UserWarning: The `nb_epoch` argument in `fit` has been renamed `epochs`.\n",
      "  warnings.warn('The `nb_epoch` argument in `fit` '\n"
     ]
    },
    {
     "name": "stdout",
     "output_type": "stream",
     "text": [
      "Epoch 1/100\n",
      "8000/8000 [==============================] - 0s - loss: 0.4916 - acc: 0.7955     \n",
      "Epoch 2/100\n",
      "8000/8000 [==============================] - 0s - loss: 0.4241 - acc: 0.7960     \n",
      "Epoch 3/100\n",
      "8000/8000 [==============================] - 0s - loss: 0.4144 - acc: 0.7960     \n",
      "Epoch 4/100\n",
      "8000/8000 [==============================] - 0s - loss: 0.4052 - acc: 0.8215     \n",
      "Epoch 5/100\n",
      "8000/8000 [==============================] - 0s - loss: 0.3980 - acc: 0.8272     \n",
      "Epoch 6/100\n",
      "8000/8000 [==============================] - 0s - loss: 0.3922 - acc: 0.8277     \n",
      "Epoch 7/100\n",
      "8000/8000 [==============================] - 0s - loss: 0.3877 - acc: 0.8302     \n",
      "Epoch 8/100\n",
      "8000/8000 [==============================] - 0s - loss: 0.3846 - acc: 0.8344     - ETA: 0s - loss: 0.3945 - acc: 0.\n",
      "Epoch 9/100\n",
      "8000/8000 [==============================] - 0s - loss: 0.3820 - acc: 0.8364     \n",
      "Epoch 10/100\n",
      "8000/8000 [==============================] - 0s - loss: 0.3794 - acc: 0.8410     \n",
      "Epoch 11/100\n",
      "8000/8000 [==============================] - 0s - loss: 0.3768 - acc: 0.8446     \n",
      "Epoch 12/100\n",
      "8000/8000 [==============================] - 0s - loss: 0.3728 - acc: 0.8476     \n",
      "Epoch 13/100\n",
      "8000/8000 [==============================] - 0s - loss: 0.3687 - acc: 0.8521     \n",
      "Epoch 14/100\n",
      "8000/8000 [==============================] - 0s - loss: 0.3654 - acc: 0.8537     - ETA: 0s - loss: 0.3586 - acc: 0\n",
      "Epoch 15/100\n",
      "8000/8000 [==============================] - 0s - loss: 0.3622 - acc: 0.8540     \n",
      "Epoch 16/100\n",
      "8000/8000 [==============================] - 0s - loss: 0.3593 - acc: 0.8556     \n",
      "Epoch 17/100\n",
      "8000/8000 [==============================] - 0s - loss: 0.3563 - acc: 0.8559     \n",
      "Epoch 18/100\n",
      "8000/8000 [==============================] - 0s - loss: 0.3549 - acc: 0.8549     \n",
      "Epoch 19/100\n",
      "8000/8000 [==============================] - 0s - loss: 0.3544 - acc: 0.8586     \n",
      "Epoch 20/100\n",
      "8000/8000 [==============================] - 0s - loss: 0.3535 - acc: 0.8585     - ETA: 0s - loss: 0.3529 - acc: 0.85\n",
      "Epoch 21/100\n",
      "8000/8000 [==============================] - 0s - loss: 0.3526 - acc: 0.8587     \n",
      "Epoch 22/100\n",
      "8000/8000 [==============================] - 0s - loss: 0.3514 - acc: 0.8610     \n",
      "Epoch 23/100\n",
      "8000/8000 [==============================] - 0s - loss: 0.3505 - acc: 0.8607     \n",
      "Epoch 24/100\n",
      "8000/8000 [==============================] - 0s - loss: 0.3499 - acc: 0.8582     \n",
      "Epoch 25/100\n",
      "8000/8000 [==============================] - 0s - loss: 0.3506 - acc: 0.8600     \n",
      "Epoch 26/100\n",
      "8000/8000 [==============================] - 0s - loss: 0.3494 - acc: 0.8596     \n",
      "Epoch 27/100\n",
      "8000/8000 [==============================] - 0s - loss: 0.3481 - acc: 0.8596     \n",
      "Epoch 28/100\n",
      "8000/8000 [==============================] - 0s - loss: 0.3489 - acc: 0.8606     \n",
      "Epoch 29/100\n",
      "8000/8000 [==============================] - 0s - loss: 0.3473 - acc: 0.8604     \n",
      "Epoch 30/100\n",
      "8000/8000 [==============================] - 0s - loss: 0.3476 - acc: 0.8614     \n",
      "Epoch 31/100\n",
      "8000/8000 [==============================] - 0s - loss: 0.3471 - acc: 0.8597     \n",
      "Epoch 32/100\n",
      "8000/8000 [==============================] - 0s - loss: 0.3465 - acc: 0.8616     \n",
      "Epoch 33/100\n",
      "8000/8000 [==============================] - 0s - loss: 0.3459 - acc: 0.8609     \n",
      "Epoch 34/100\n",
      "8000/8000 [==============================] - 0s - loss: 0.3457 - acc: 0.8604     \n",
      "Epoch 35/100\n",
      "8000/8000 [==============================] - 0s - loss: 0.3453 - acc: 0.8612     - ETA: 0s - loss: 0.3427 - acc: \n",
      "Epoch 36/100\n",
      "8000/8000 [==============================] - 0s - loss: 0.3455 - acc: 0.8614     \n",
      "Epoch 37/100\n",
      "8000/8000 [==============================] - 0s - loss: 0.3455 - acc: 0.8599     \n",
      "Epoch 38/100\n",
      "8000/8000 [==============================] - 0s - loss: 0.3452 - acc: 0.8594     - ETA: 0s - loss: 0.3442 - acc: 0.859\n",
      "Epoch 39/100\n",
      "8000/8000 [==============================] - 0s - loss: 0.3439 - acc: 0.8624     \n",
      "Epoch 40/100\n",
      "8000/8000 [==============================] - 0s - loss: 0.3437 - acc: 0.8617     \n",
      "Epoch 41/100\n",
      "8000/8000 [==============================] - 0s - loss: 0.3439 - acc: 0.8604     \n",
      "Epoch 42/100\n",
      "8000/8000 [==============================] - 0s - loss: 0.3444 - acc: 0.8597     \n",
      "Epoch 43/100\n",
      "8000/8000 [==============================] - 0s - loss: 0.3434 - acc: 0.8606     \n",
      "Epoch 44/100\n",
      "8000/8000 [==============================] - 0s - loss: 0.3439 - acc: 0.8617     \n",
      "Epoch 45/100\n",
      "8000/8000 [==============================] - 0s - loss: 0.3439 - acc: 0.8621     \n",
      "Epoch 46/100\n",
      "8000/8000 [==============================] - 0s - loss: 0.3432 - acc: 0.8624     - ETA: 0s - loss: 0.3441 - acc: 0.862\n",
      "Epoch 47/100\n",
      "8000/8000 [==============================] - 0s - loss: 0.3429 - acc: 0.8616     \n",
      "Epoch 48/100\n",
      "8000/8000 [==============================] - 0s - loss: 0.3435 - acc: 0.8621     \n",
      "Epoch 49/100\n",
      "8000/8000 [==============================] - 0s - loss: 0.3442 - acc: 0.8602     \n",
      "Epoch 50/100\n",
      "8000/8000 [==============================] - 0s - loss: 0.3431 - acc: 0.8624     \n",
      "Epoch 51/100\n",
      "8000/8000 [==============================] - 0s - loss: 0.3438 - acc: 0.8597     \n",
      "Epoch 52/100\n",
      "8000/8000 [==============================] - 0s - loss: 0.3431 - acc: 0.8629     \n",
      "Epoch 53/100\n",
      "8000/8000 [==============================] - 0s - loss: 0.3427 - acc: 0.8619     \n",
      "Epoch 54/100\n",
      "8000/8000 [==============================] - 0s - loss: 0.3431 - acc: 0.8604     \n",
      "Epoch 55/100\n",
      "8000/8000 [==============================] - 0s - loss: 0.3432 - acc: 0.8601     \n",
      "Epoch 56/100\n",
      "8000/8000 [==============================] - 0s - loss: 0.3431 - acc: 0.8597     \n",
      "Epoch 57/100\n",
      "8000/8000 [==============================] - 0s - loss: 0.3423 - acc: 0.8597     \n",
      "Epoch 58/100\n",
      "8000/8000 [==============================] - 0s - loss: 0.3436 - acc: 0.8619     \n",
      "Epoch 59/100\n",
      "8000/8000 [==============================] - 0s - loss: 0.3428 - acc: 0.8607     \n",
      "Epoch 60/100\n",
      "8000/8000 [==============================] - 0s - loss: 0.3430 - acc: 0.8601     \n",
      "Epoch 61/100\n",
      "8000/8000 [==============================] - 0s - loss: 0.3431 - acc: 0.8606     \n",
      "Epoch 62/100\n",
      "8000/8000 [==============================] - 0s - loss: 0.3423 - acc: 0.8604     \n",
      "Epoch 63/100\n",
      "8000/8000 [==============================] - 0s - loss: 0.3425 - acc: 0.8600     \n",
      "Epoch 64/100\n",
      "8000/8000 [==============================] - 0s - loss: 0.3427 - acc: 0.8609     \n",
      "Epoch 65/100\n",
      "8000/8000 [==============================] - 0s - loss: 0.3431 - acc: 0.8616     \n",
      "Epoch 66/100\n",
      "8000/8000 [==============================] - 0s - loss: 0.3421 - acc: 0.8615     \n",
      "Epoch 67/100\n",
      "8000/8000 [==============================] - 0s - loss: 0.3427 - acc: 0.8607     \n",
      "Epoch 68/100\n",
      "8000/8000 [==============================] - 0s - loss: 0.3428 - acc: 0.8616     \n",
      "Epoch 69/100\n",
      "8000/8000 [==============================] - 0s - loss: 0.3430 - acc: 0.8617     \n",
      "Epoch 70/100\n",
      "8000/8000 [==============================] - 0s - loss: 0.3417 - acc: 0.8601     \n",
      "Epoch 71/100\n",
      "8000/8000 [==============================] - 0s - loss: 0.3421 - acc: 0.8611     \n",
      "Epoch 72/100\n",
      "8000/8000 [==============================] - 0s - loss: 0.3419 - acc: 0.8650     \n",
      "Epoch 73/100\n",
      "8000/8000 [==============================] - 0s - loss: 0.3427 - acc: 0.8606     \n",
      "Epoch 74/100\n",
      "8000/8000 [==============================] - 0s - loss: 0.3425 - acc: 0.8624     \n",
      "Epoch 75/100\n",
      "8000/8000 [==============================] - 0s - loss: 0.3422 - acc: 0.8612     \n",
      "Epoch 76/100\n",
      "8000/8000 [==============================] - 0s - loss: 0.3420 - acc: 0.8620     \n",
      "Epoch 77/100\n",
      "8000/8000 [==============================] - 0s - loss: 0.3415 - acc: 0.8592     \n",
      "Epoch 78/100\n",
      "8000/8000 [==============================] - 0s - loss: 0.3426 - acc: 0.8625     \n",
      "Epoch 79/100\n",
      "8000/8000 [==============================] - 0s - loss: 0.3415 - acc: 0.8609     \n",
      "Epoch 80/100\n",
      "8000/8000 [==============================] - 0s - loss: 0.3421 - acc: 0.8624     \n",
      "Epoch 81/100\n",
      "8000/8000 [==============================] - 0s - loss: 0.3430 - acc: 0.8599     \n",
      "Epoch 82/100\n",
      "8000/8000 [==============================] - 0s - loss: 0.3422 - acc: 0.8600     \n",
      "Epoch 83/100\n",
      "8000/8000 [==============================] - 0s - loss: 0.3422 - acc: 0.8617     \n",
      "Epoch 84/100\n",
      "8000/8000 [==============================] - 0s - loss: 0.3422 - acc: 0.8604     \n",
      "Epoch 85/100\n"
     ]
    },
    {
     "name": "stdout",
     "output_type": "stream",
     "text": [
      "8000/8000 [==============================] - 0s - loss: 0.3426 - acc: 0.8609     \n",
      "Epoch 86/100\n",
      "8000/8000 [==============================] - 0s - loss: 0.3424 - acc: 0.8600     \n",
      "Epoch 87/100\n",
      "8000/8000 [==============================] - 0s - loss: 0.3428 - acc: 0.8607     \n",
      "Epoch 88/100\n",
      "8000/8000 [==============================] - 0s - loss: 0.3418 - acc: 0.8619     \n",
      "Epoch 89/100\n",
      "8000/8000 [==============================] - 0s - loss: 0.3417 - acc: 0.8622     \n",
      "Epoch 90/100\n",
      "8000/8000 [==============================] - 0s - loss: 0.3422 - acc: 0.8641     \n",
      "Epoch 91/100\n",
      "8000/8000 [==============================] - 0s - loss: 0.3426 - acc: 0.8630     \n",
      "Epoch 92/100\n",
      "8000/8000 [==============================] - 0s - loss: 0.3415 - acc: 0.8619     - ETA: 0s - loss: 0.3413 - acc: 0.\n",
      "Epoch 93/100\n",
      "8000/8000 [==============================] - 0s - loss: 0.3420 - acc: 0.8616     - ETA: 0s - loss: 0.3376 - acc: 0.8 - ETA: 0s - loss: 0.3420 - acc: 0.861\n",
      "Epoch 94/100\n",
      "8000/8000 [==============================] - 0s - loss: 0.3422 - acc: 0.8600     \n",
      "Epoch 95/100\n",
      "8000/8000 [==============================] - 0s - loss: 0.3420 - acc: 0.8610     \n",
      "Epoch 96/100\n",
      "8000/8000 [==============================] - 0s - loss: 0.3413 - acc: 0.8625     \n",
      "Epoch 97/100\n",
      "8000/8000 [==============================] - 0s - loss: 0.3427 - acc: 0.8594     \n",
      "Epoch 98/100\n",
      "8000/8000 [==============================] - 0s - loss: 0.3422 - acc: 0.8612     \n",
      "Epoch 99/100\n",
      "8000/8000 [==============================] - 0s - loss: 0.3413 - acc: 0.8605     \n",
      "Epoch 100/100\n",
      "8000/8000 [==============================] - 0s - loss: 0.3422 - acc: 0.8615     \n"
     ]
    },
    {
     "data": {
      "text/plain": [
       "<keras.callbacks.History at 0x86e1940>"
      ]
     },
     "execution_count": 8,
     "metadata": {},
     "output_type": "execute_result"
    }
   ],
   "source": [
    "classifier.fit(X_train, y_train, batch_size=10, nb_epoch=100)"
   ]
  },
  {
   "cell_type": "markdown",
   "metadata": {},
   "source": [
    "## Predict"
   ]
  },
  {
   "cell_type": "code",
   "execution_count": 9,
   "metadata": {},
   "outputs": [
    {
     "data": {
      "text/plain": [
       "array([[False],\n",
       "       [False],\n",
       "       [False],\n",
       "       ..., \n",
       "       [False],\n",
       "       [False],\n",
       "       [False]], dtype=bool)"
      ]
     },
     "execution_count": 9,
     "metadata": {},
     "output_type": "execute_result"
    }
   ],
   "source": [
    "y_pred = classifier.predict(X_test)\n",
    "y_pred = (y_pred > 0.5)\n",
    "y_pred"
   ]
  },
  {
   "cell_type": "markdown",
   "metadata": {},
   "source": [
    "## Confusion matrix"
   ]
  },
  {
   "cell_type": "code",
   "execution_count": 10,
   "metadata": {},
   "outputs": [
    {
     "data": {
      "text/plain": [
       "array([[1520,   75],\n",
       "       [ 204,  201]], dtype=int64)"
      ]
     },
     "execution_count": 10,
     "metadata": {},
     "output_type": "execute_result"
    }
   ],
   "source": [
    "from sklearn.metrics import confusion_matrix\n",
    "cm = confusion_matrix(y_test, y_pred)\n",
    "cm"
   ]
  }
 ],
 "metadata": {
  "kernelspec": {
   "display_name": "Python 3",
   "language": "python",
   "name": "python3"
  },
  "language_info": {
   "codemirror_mode": {
    "name": "ipython",
    "version": 3
   },
   "file_extension": ".py",
   "mimetype": "text/x-python",
   "name": "python",
   "nbconvert_exporter": "python",
   "pygments_lexer": "ipython3",
   "version": "3.6.3"
  }
 },
 "nbformat": 4,
 "nbformat_minor": 2
}
