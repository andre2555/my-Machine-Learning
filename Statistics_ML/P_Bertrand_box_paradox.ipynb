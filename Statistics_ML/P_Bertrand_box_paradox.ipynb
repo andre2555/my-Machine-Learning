{
 "cells": [
  {
   "cell_type": "markdown",
   "metadata": {},
   "source": [
    "# [Bertrand's box paradox](https://en.wikipedia.org/wiki/Bertrand%27s_box_paradox)\n",
    "\n",
    "## Statement\n",
    "- 3 boxes:\n",
    "    + Box 1: 2 Gold coins\n",
    "    + Box 2: 2 Silver coins\n",
    "    + Box 3: 1 Silver coin, 1 Gold coin\n",
    "- Choose a box randomly then withdraw all 2 coins inside\n",
    "    + If the 1st coin is Gold. Calculate the P(2nd coin is Gold) \n",
    "    \n",
    "## Analysis\n",
    "- Seem like the P = 0.5 (Box 1 and Box 3)"
   ]
  },
  {
   "cell_type": "markdown",
   "metadata": {},
   "source": [
    "## Solution\n",
    "- Bayes theorem\n",
    "$$P(2nd\\ G|1st\\ G) = \\frac{P(1st\\ G|2nd\\ G)P(2nd\\ G)}{P(1st\\ G)}$$\n",
    "$$=\\frac{P(1st\\ G|2nd\\ G)P(2nd\\ G)}{P(1st\\ G|Box\\ 1)P(Box\\ 1) + P(1st\\ G|Box\\ 3)P(Box\\ 3)}$$\n",
    "$$=\\frac{1*\\frac{1}{3}}{1*\\frac{1}{3} + 0.5*\\frac{1}{3}}$$\n",
    "$$=\\frac{2}{3}$$"
   ]
  }
 ],
 "metadata": {
  "kernelspec": {
   "display_name": "Python 3.6",
   "language": "python",
   "name": "py36"
  },
  "language_info": {
   "codemirror_mode": {
    "name": "ipython",
    "version": 3
   },
   "file_extension": ".py",
   "mimetype": "text/x-python",
   "name": "python",
   "nbconvert_exporter": "python",
   "pygments_lexer": "ipython3",
   "version": "3.6.6"
  }
 },
 "nbformat": 4,
 "nbformat_minor": 2
}
