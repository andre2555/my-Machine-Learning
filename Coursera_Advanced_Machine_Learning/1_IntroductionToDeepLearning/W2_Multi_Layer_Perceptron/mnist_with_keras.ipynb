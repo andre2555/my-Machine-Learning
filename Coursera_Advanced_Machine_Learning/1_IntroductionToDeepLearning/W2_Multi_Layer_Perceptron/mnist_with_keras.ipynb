{
  "nbformat": 4,
  "nbformat_minor": 0,
  "metadata": {
    "colab": {
      "name": "mnist_with_keras.ipynb",
      "version": "0.3.2",
      "provenance": [],
      "collapsed_sections": []
    },
    "kernelspec": {
      "name": "python3",
      "display_name": "Python 3"
    },
    "accelerator": "GPU"
  },
  "cells": [
    {
      "metadata": {
        "id": "x-JdLDwwK_-s",
        "colab_type": "text"
      },
      "cell_type": "markdown",
      "source": [
        "## Setup"
      ]
    },
    {
      "metadata": {
        "id": "TIL9jbsHKIjf",
        "colab_type": "code",
        "colab": {
          "base_uri": "https://localhost:8080/",
          "height": 316
        },
        "outputId": "20d2aae2-d556-4797-98e9-34d79dee93cd"
      },
      "cell_type": "code",
      "source": [
        "! shred -u setup_google_colab.py\n",
        "! wget https://raw.githubusercontent.com/hse-aml/intro-to-dl/master/setup_google_colab.py -O setup_google_colab.py\n",
        "  \n",
        "import setup_google_colab\n",
        "setup_google_colab.setup_week2()"
      ],
      "execution_count": 1,
      "outputs": [
        {
          "output_type": "stream",
          "text": [
            "--2018-10-18 04:10:15--  https://raw.githubusercontent.com/hse-aml/intro-to-dl/master/setup_google_colab.py\n",
            "Resolving raw.githubusercontent.com (raw.githubusercontent.com)... 151.101.0.133, 151.101.64.133, 151.101.128.133, ...\n",
            "Connecting to raw.githubusercontent.com (raw.githubusercontent.com)|151.101.0.133|:443... connected.\n",
            "HTTP request sent, awaiting response... 200 OK\n",
            "Length: 3595 (3.5K) [text/plain]\n",
            "Saving to: ‘setup_google_colab.py’\n",
            "\n",
            "\rsetup_google_colab.   0%[                    ]       0  --.-KB/s               \rsetup_google_colab. 100%[===================>]   3.51K  --.-KB/s    in 0s      \n",
            "\n",
            "2018-10-18 04:10:15 (55.8 MB/s) - ‘setup_google_colab.py’ saved [3595/3595]\n",
            "\n",
            "**************************************************\n",
            "inception_v3_weights_tf_dim_ordering_tf_kernels_notop.h5\n",
            "**************************************************\n",
            "cifar-10-batches-py.tar.gz\n",
            "**************************************************\n",
            "mnist.npz\n"
          ],
          "name": "stdout"
        }
      ]
    },
    {
      "metadata": {
        "id": "6AS6YWLIK10c",
        "colab_type": "code",
        "colab": {}
      },
      "cell_type": "code",
      "source": [
        "import pandas as pd\n",
        "import numpy as np\n",
        "import matplotlib.pyplot as plt\n",
        "from IPython.display import display"
      ],
      "execution_count": 0,
      "outputs": []
    },
    {
      "metadata": {
        "id": "TKFvZbP-Nqbc",
        "colab_type": "text"
      },
      "cell_type": "markdown",
      "source": [
        "## Dataset\n",
        "\n",
        "In this task we have 50000 28x28 images of digits from 0 to 9.\n",
        "We will train a classifier on this data.\n",
        "\n",
        "<img src=\"images/mnist_sample.png\" style=\"width:30%\">"
      ]
    },
    {
      "metadata": {
        "id": "gdAXrA7yNl5M",
        "colab_type": "code",
        "colab": {
          "base_uri": "https://localhost:8080/",
          "height": 34
        },
        "outputId": "dbfebf82-21d5-420a-98a9-d3d1c6673c8e"
      },
      "cell_type": "code",
      "source": [
        "import preprocessed_mnist\n",
        "\n",
        "X_train, y_train, X_val, y_val, X_test, y_test = preprocessed_mnist.load_dataset()"
      ],
      "execution_count": 3,
      "outputs": [
        {
          "output_type": "stream",
          "text": [
            "Using TensorFlow backend.\n"
          ],
          "name": "stderr"
        }
      ]
    },
    {
      "metadata": {
        "id": "4EfedDv3N2sf",
        "colab_type": "code",
        "colab": {
          "base_uri": "https://localhost:8080/",
          "height": 158
        },
        "outputId": "707f9f36-50a6-466d-fe2a-2d855f2d5375"
      },
      "cell_type": "code",
      "source": [
        "print(X_train.shape)\n",
        "print(y_train.shape)\n",
        "print('')\n",
        "print(X_val.shape)\n",
        "print(y_val.shape)\n",
        "print('')\n",
        "print(X_test.shape)\n",
        "print(y_test.shape)\n"
      ],
      "execution_count": 4,
      "outputs": [
        {
          "output_type": "stream",
          "text": [
            "(50000, 28, 28)\n",
            "(50000,)\n",
            "\n",
            "(10000, 28, 28)\n",
            "(10000,)\n",
            "\n",
            "(10000, 28, 28)\n",
            "(10000,)\n"
          ],
          "name": "stdout"
        }
      ]
    },
    {
      "metadata": {
        "id": "4h62EqgBNufr",
        "colab_type": "code",
        "colab": {
          "base_uri": "https://localhost:8080/",
          "height": 365
        },
        "outputId": "fe6eb6e0-da8b-4edd-b64c-3870f879cbad"
      },
      "cell_type": "code",
      "source": [
        "plt.imshow(X_train[0], cmap='gray');\n",
        "print(y_train[0])"
      ],
      "execution_count": 5,
      "outputs": [
        {
          "output_type": "stream",
          "text": [
            "5\n"
          ],
          "name": "stdout"
        },
        {
          "output_type": "display_data",
          "data": {
            "image/png": "[encoded data removed]",
            "text/plain": [
              "<matplotlib.figure.Figure at 0x7f072f975dd8>"
            ]
          },
          "metadata": {
            "tags": []
          }
        }
      ]
    },
    {
      "metadata": {
        "id": "lM2P0DJeS9Wy",
        "colab_type": "code",
        "colab": {
          "base_uri": "https://localhost:8080/",
          "height": 365
        },
        "outputId": "ed5ca7cf-25e9-4465-efaa-1b3a8240d2ea"
      },
      "cell_type": "code",
      "source": [
        "plt.imshow(X_test[0], cmap='gray');\n",
        "print(y_test[0])"
      ],
      "execution_count": 6,
      "outputs": [
        {
          "output_type": "stream",
          "text": [
            "7\n"
          ],
          "name": "stdout"
        },
        {
          "output_type": "display_data",
          "data": {
            "image/png": "[encoded data removed]",
            "text/plain": [
              "<matplotlib.figure.Figure at 0x7f072f98c0f0>"
            ]
          },
          "metadata": {
            "tags": []
          }
        }
      ]
    },
    {
      "metadata": {
        "id": "xndp9sx5THGQ",
        "colab_type": "text"
      },
      "cell_type": "markdown",
      "source": [
        "## Feature Engineering"
      ]
    },
    {
      "metadata": {
        "id": "tOkh5Oc6S0V_",
        "colab_type": "code",
        "colab": {
          "base_uri": "https://localhost:8080/",
          "height": 70
        },
        "outputId": "5aae8a9e-7b45-426b-9f28-943a311a40f9"
      },
      "cell_type": "code",
      "source": [
        "# flatten images\n",
        "X_train_flat = X_train.reshape((X_train.shape[0], -1))\n",
        "X_val_flat = X_val.reshape((X_val.shape[0], -1))\n",
        "X_test_flat = X_test.reshape((X_test.shape[0], -1))\n",
        "\n",
        "print(X_train_flat.shape)\n",
        "print(X_val_flat.shape)\n",
        "print(X_test_flat.shape)"
      ],
      "execution_count": 7,
      "outputs": [
        {
          "output_type": "stream",
          "text": [
            "(50000, 784)\n",
            "(10000, 784)\n",
            "(10000, 784)\n"
          ],
          "name": "stdout"
        }
      ]
    },
    {
      "metadata": {
        "id": "q_1nVkB5TLXx",
        "colab_type": "code",
        "colab": {
          "base_uri": "https://localhost:8080/",
          "height": 105
        },
        "outputId": "f3d2c867-c513-487b-c493-64f077f47d46"
      },
      "cell_type": "code",
      "source": [
        "import keras\n",
        "\n",
        "# one-hot encode the target\n",
        "y_train_oh = keras.utils.to_categorical(y_train, 10)\n",
        "y_val_oh = keras.utils.to_categorical(y_val, 10)\n",
        "y_test_oh = keras.utils.to_categorical(y_test, 10)\n",
        "\n",
        "display(y_train_oh.shape)\n",
        "display(y_train_oh[:3])\n",
        "display(y_train[:3])"
      ],
      "execution_count": 8,
      "outputs": [
        {
          "output_type": "display_data",
          "data": {
            "text/plain": [
              "(50000, 10)"
            ]
          },
          "metadata": {
            "tags": []
          }
        },
        {
          "output_type": "display_data",
          "data": {
            "text/plain": [
              "array([[0., 0., 0., 0., 0., 1., 0., 0., 0., 0.],\n",
              "       [1., 0., 0., 0., 0., 0., 0., 0., 0., 0.],\n",
              "       [0., 0., 0., 0., 1., 0., 0., 0., 0., 0.]])"
            ]
          },
          "metadata": {
            "tags": []
          }
        },
        {
          "output_type": "display_data",
          "data": {
            "text/plain": [
              "array([5, 0, 4], dtype=uint8)"
            ]
          },
          "metadata": {
            "tags": []
          }
        }
      ]
    },
    {
      "metadata": {
        "id": "09GZYaqGT0fS",
        "colab_type": "text"
      },
      "cell_type": "markdown",
      "source": [
        "## Model"
      ]
    },
    {
      "metadata": {
        "id": "OVXAVZf7T1u-",
        "colab_type": "code",
        "colab": {
          "base_uri": "https://localhost:8080/",
          "height": 477
        },
        "outputId": "44b70ace-1e00-4647-cd75-59189a24c2aa"
      },
      "cell_type": "code",
      "source": [
        "from keras.layers import Dense, Activation\n",
        "from keras.models import Sequential\n",
        "import keras.backend as K\n",
        "\n",
        "K.clear_session()\n",
        "\n",
        "# it is a feed-forward network without loops like in RNN\n",
        "model = Sequential() \n",
        "\n",
        "# the first layer must specify the input shape (replacing placeholders)\n",
        "model.add(Dense(256, input_shape=(784,)))  \n",
        "\n",
        "model.add(Activation('sigmoid'))\n",
        "model.add(Dense(256))\n",
        "model.add(Activation('sigmoid'))\n",
        "model.add(Dense(10))\n",
        "model.add(Activation('softmax'))\n",
        "\n",
        "# you can look at all layers and parameter count\n",
        "model.summary()\n",
        "\n",
        "# now we \"compile\" the model specifying the loss and optimizer\n",
        "model.compile(\n",
        "    loss='categorical_crossentropy', # this is our cross-entropy\n",
        "    optimizer='adam',\n",
        "    metrics=['accuracy']  # report accuracy during training\n",
        ")"
      ],
      "execution_count": 9,
      "outputs": [
        {
          "output_type": "stream",
          "text": [
            "_________________________________________________________________\n",
            "Layer (type)                 Output Shape              Param #   \n",
            "=================================================================\n",
            "dense_1 (Dense)              (None, 256)               200960    \n",
            "_________________________________________________________________\n",
            "activation_1 (Activation)    (None, 256)               0         \n",
            "_________________________________________________________________\n",
            "dense_2 (Dense)              (None, 256)               65792     \n",
            "_________________________________________________________________\n",
            "activation_2 (Activation)    (None, 256)               0         \n",
            "_________________________________________________________________\n",
            "dense_3 (Dense)              (None, 10)                2570      \n",
            "_________________________________________________________________\n",
            "activation_3 (Activation)    (None, 10)                0         \n",
            "=================================================================\n",
            "Total params: 269,322\n",
            "Trainable params: 269,322\n",
            "Non-trainable params: 0\n",
            "_________________________________________________________________\n",
            "WARNING:tensorflow:From /usr/local/lib/python3.6/dist-packages/keras/backend/tensorflow_backend.py:2745: calling reduce_sum (from tensorflow.python.ops.math_ops) with keep_dims is deprecated and will be removed in a future version.\n",
            "Instructions for updating:\n",
            "keep_dims is deprecated, use keepdims instead\n",
            "WARNING:tensorflow:From /usr/local/lib/python3.6/dist-packages/keras/backend/tensorflow_backend.py:1299: calling reduce_mean (from tensorflow.python.ops.math_ops) with keep_dims is deprecated and will be removed in a future version.\n",
            "Instructions for updating:\n",
            "keep_dims is deprecated, use keepdims instead\n"
          ],
          "name": "stdout"
        }
      ]
    },
    {
      "metadata": {
        "id": "1Hh0Goo7TzmZ",
        "colab_type": "code",
        "colab": {
          "base_uri": "https://localhost:8080/",
          "height": 2833
        },
        "outputId": "b9816f7b-aac6-470a-f1bb-54cb89f0a16d"
      },
      "cell_type": "code",
      "source": [
        "import keras_utils\n",
        "\n",
        "# and now we can fit the model with model.fit()\n",
        "# and we don't have to write loops and batching manually as in TensorFlow\n",
        "history = model.fit(\n",
        "    X_train_flat, y_train_oh,\n",
        "    batch_size=512, \n",
        "    epochs=40,\n",
        "    validation_data=(X_val_flat, y_val_oh),\n",
        "    callbacks=[keras_utils.TqdmProgressCallback()],\n",
        "    verbose=0\n",
        ")"
      ],
      "execution_count": 10,
      "outputs": [
        {
          "output_type": "stream",
          "text": [
            "\n",
            "Epoch 1/40\n",
            "**************************************************\n",
            "loss: 1.1804; acc: 0.7013; val_loss: 0.4514; val_acc: 0.8886\n",
            "\n",
            "Epoch 2/40\n",
            "**************************************************\n",
            "loss: 0.3820; acc: 0.8964; val_loss: 0.2934; val_acc: 0.9175\n",
            "\n",
            "Epoch 3/40\n",
            "**************************************************\n",
            "loss: 0.2918; acc: 0.9164; val_loss: 0.2496; val_acc: 0.9276\n",
            "\n",
            "Epoch 4/40\n",
            "**************************************************\n",
            "loss: 0.2495; acc: 0.9268; val_loss: 0.2171; val_acc: 0.9379\n",
            "\n",
            "Epoch 5/40\n",
            "**************************************************\n",
            "loss: 0.2205; acc: 0.9352; val_loss: 0.2015; val_acc: 0.9425\n",
            "\n",
            "Epoch 6/40\n",
            "**************************************************\n",
            "loss: 0.1951; acc: 0.9430; val_loss: 0.1793; val_acc: 0.9486\n",
            "\n",
            "Epoch 7/40\n",
            "**************************************************\n",
            "loss: 0.1748; acc: 0.9487; val_loss: 0.1624; val_acc: 0.9546\n",
            "\n",
            "Epoch 8/40\n",
            "**************************************************\n",
            "loss: 0.1567; acc: 0.9543; val_loss: 0.1539; val_acc: 0.9572\n",
            "\n",
            "Epoch 9/40\n",
            "**************************************************\n",
            "loss: 0.1404; acc: 0.9587; val_loss: 0.1434; val_acc: 0.9608\n",
            "\n",
            "Epoch 10/40\n",
            "**************************************************\n",
            "loss: 0.1275; acc: 0.9623; val_loss: 0.1317; val_acc: 0.9628\n",
            "\n",
            "Epoch 11/40\n",
            "**************************************************\n",
            "loss: 0.1147; acc: 0.9665; val_loss: 0.1217; val_acc: 0.9650\n",
            "\n",
            "Epoch 12/40\n",
            "**************************************************\n",
            "loss: 0.1050; acc: 0.9694; val_loss: 0.1151; val_acc: 0.9665\n",
            "\n",
            "Epoch 13/40\n",
            "**************************************************\n",
            "loss: 0.0940; acc: 0.9732; val_loss: 0.1097; val_acc: 0.9685\n",
            "\n",
            "Epoch 14/40\n",
            "**************************************************\n",
            "loss: 0.0859; acc: 0.9754; val_loss: 0.1043; val_acc: 0.9696\n",
            "\n",
            "Epoch 15/40\n",
            "**************************************************\n",
            "loss: 0.0782; acc: 0.9780; val_loss: 0.0986; val_acc: 0.9713\n",
            "\n",
            "Epoch 16/40\n",
            "**************************************************\n",
            "loss: 0.0711; acc: 0.9803; val_loss: 0.0974; val_acc: 0.9720\n",
            "\n",
            "Epoch 17/40\n",
            "**************************************************\n",
            "loss: 0.0647; acc: 0.9821; val_loss: 0.0932; val_acc: 0.9716\n",
            "\n",
            "Epoch 18/40\n",
            "**************************************************\n",
            "loss: 0.0594; acc: 0.9829; val_loss: 0.0918; val_acc: 0.9730\n",
            "\n",
            "Epoch 19/40\n",
            "**************************************************\n",
            "loss: 0.0548; acc: 0.9848; val_loss: 0.0885; val_acc: 0.9722\n",
            "\n",
            "Epoch 20/40\n",
            "**************************************************\n",
            "loss: 0.0488; acc: 0.9866; val_loss: 0.0831; val_acc: 0.9756\n",
            "\n",
            "Epoch 21/40\n",
            "**************************************************\n",
            "loss: 0.0438; acc: 0.9880; val_loss: 0.0826; val_acc: 0.9759\n",
            "\n",
            "Epoch 22/40\n",
            "**************************************************\n",
            "loss: 0.0399; acc: 0.9896; val_loss: 0.0806; val_acc: 0.9765\n",
            "\n",
            "Epoch 23/40\n",
            "**************************************************\n",
            "loss: 0.0361; acc: 0.9906; val_loss: 0.0834; val_acc: 0.9765\n",
            "\n",
            "Epoch 24/40\n",
            "**************************************************\n",
            "loss: 0.0324; acc: 0.9921; val_loss: 0.0777; val_acc: 0.9775\n",
            "\n",
            "Epoch 25/40\n",
            "**************************************************\n",
            "loss: 0.0293; acc: 0.9935; val_loss: 0.0784; val_acc: 0.9778\n",
            "\n",
            "Epoch 26/40\n",
            "**************************************************\n",
            "loss: 0.0265; acc: 0.9943; val_loss: 0.0781; val_acc: 0.9774\n",
            "\n",
            "Epoch 27/40\n",
            "**************************************************\n",
            "loss: 0.0244; acc: 0.9945; val_loss: 0.0754; val_acc: 0.9775\n",
            "\n",
            "Epoch 28/40\n",
            "**************************************************\n",
            "loss: 0.0214; acc: 0.9957; val_loss: 0.0762; val_acc: 0.9777\n",
            "\n",
            "Epoch 29/40\n",
            "**************************************************\n",
            "loss: 0.0193; acc: 0.9964; val_loss: 0.0772; val_acc: 0.9779\n",
            "\n",
            "Epoch 30/40\n",
            "**************************************************\n",
            "loss: 0.0173; acc: 0.9968; val_loss: 0.0755; val_acc: 0.9778\n",
            "\n",
            "Epoch 31/40\n",
            "**************************************************\n",
            "loss: 0.0153; acc: 0.9976; val_loss: 0.0773; val_acc: 0.9787\n",
            "\n",
            "Epoch 32/40\n",
            "**************************************************\n",
            "loss: 0.0144; acc: 0.9975; val_loss: 0.0752; val_acc: 0.9789\n",
            "\n",
            "Epoch 33/40\n",
            "**************************************************\n",
            "loss: 0.0124; acc: 0.9981; val_loss: 0.0772; val_acc: 0.9783\n",
            "\n",
            "Epoch 34/40\n",
            "**************************************************\n",
            "loss: 0.0110; acc: 0.9988; val_loss: 0.0746; val_acc: 0.9788\n",
            "\n",
            "Epoch 35/40\n",
            "**************************************************\n",
            "loss: 0.0101; acc: 0.9986; val_loss: 0.0757; val_acc: 0.9782\n",
            "\n",
            "Epoch 36/40\n",
            "**************************************************\n",
            "loss: 0.0088; acc: 0.9991; val_loss: 0.0760; val_acc: 0.9791\n",
            "\n",
            "Epoch 37/40\n",
            "**************************************************\n",
            "loss: 0.0080; acc: 0.9992; val_loss: 0.0769; val_acc: 0.9785\n",
            "\n",
            "Epoch 38/40\n",
            "**************************************************\n",
            "loss: 0.0070; acc: 0.9994; val_loss: 0.0766; val_acc: 0.9779\n",
            "\n",
            "Epoch 39/40\n",
            "**************************************************\n",
            "loss: 0.0065; acc: 0.9994; val_loss: 0.0758; val_acc: 0.9789\n",
            "\n",
            "Epoch 40/40\n",
            "**************************************************\n",
            "loss: 0.0058; acc: 0.9995; val_loss: 0.0792; val_acc: 0.9775\n"
          ],
          "name": "stdout"
        }
      ]
    },
    {
      "metadata": {
        "id": "lFUqQyqwWTCq",
        "colab_type": "code",
        "colab": {
          "base_uri": "https://localhost:8080/",
          "height": 347
        },
        "outputId": "a38589f4-087a-42ac-a0ba-9c3907ea009d"
      },
      "cell_type": "code",
      "source": [
        "historydf = pd.DataFrame(history.history, index=history.epoch)\n",
        "historydf.plot();"
      ],
      "execution_count": 11,
      "outputs": [
        {
          "output_type": "display_data",
          "data": {
            "image/png": "[encoded data removed]",
            "text/plain": [
              "<matplotlib.figure.Figure at 0x7f072cd18cf8>"
            ]
          },
          "metadata": {
            "tags": []
          }
        }
      ]
    },
    {
      "metadata": {
        "id": "sUpx-ZOkWq4a",
        "colab_type": "text"
      },
      "cell_type": "markdown",
      "source": [
        "## Evaluation"
      ]
    },
    {
      "metadata": {
        "id": "Su1CoGh6Wl7M",
        "colab_type": "code",
        "colab": {
          "base_uri": "https://localhost:8080/",
          "height": 70
        },
        "outputId": "4810cced-2129-4f19-fd99-df03c6add8b6"
      },
      "cell_type": "code",
      "source": [
        "result = model.evaluate(X_test_flat, y_test_oh)\n",
        "\n",
        "display(result)\n",
        "print('Accuracy: ' + str(result[1]*100.0) + ' %')"
      ],
      "execution_count": 12,
      "outputs": [
        {
          "output_type": "stream",
          "text": [
            " 9504/10000 [===========================>..] - ETA: 0s"
          ],
          "name": "stdout"
        },
        {
          "output_type": "display_data",
          "data": {
            "text/plain": [
              "[0.0771901397134381, 0.9784]"
            ]
          },
          "metadata": {
            "tags": []
          }
        },
        {
          "output_type": "stream",
          "text": [
            "Accuracy: 97.84 %\n"
          ],
          "name": "stdout"
        }
      ]
    },
    {
      "metadata": {
        "id": "zaLkWGSuQdAC",
        "colab_type": "text"
      },
      "cell_type": "markdown",
      "source": [
        "## Here're the notes for those who want to play around here\n",
        "\n",
        "Here are some tips on what you could do:\n",
        "\n",
        " * __Network size__\n",
        "   * More neurons, \n",
        "   * More layers, ([docs](https://keras.io/))\n",
        "\n",
        "   * Other nonlinearities in the hidden layers\n",
        "     * tanh, relu, leaky relu, etc\n",
        "   * Larger networks may take more epochs to train, so don't discard your net just because it could didn't beat the baseline in 5 epochs.\n",
        "\n",
        "\n",
        " * __Early Stopping__\n",
        "   * Training for 100 epochs regardless of anything is probably a bad idea.\n",
        "   * Some networks converge over 5 epochs, others - over 500.\n",
        "   * Way to go: stop when validation score is 10 iterations past maximum\n",
        "     \n",
        "\n",
        " * __Faster optimization__\n",
        "   * rmsprop, nesterov_momentum, adam, adagrad and so on.\n",
        "     * Converge faster and sometimes reach better optima\n",
        "     * It might make sense to tweak learning rate/momentum, other learning parameters, batch size and number of epochs\n",
        "\n",
        "\n",
        " * __Regularize__ to prevent overfitting\n",
        "   * Add some L2 weight norm to the loss function, theano will do the rest\n",
        "     * Can be done manually or via - https://keras.io/regularizers/\n",
        "   \n",
        "   \n",
        " * __Data augmemntation__ - getting 5x as large dataset for free is a great deal\n",
        "   * https://keras.io/preprocessing/image/\n",
        "   * Zoom-in+slice = move\n",
        "   * Rotate+zoom(to remove black stripes)\n",
        "   * any other perturbations\n",
        "   * Simple way to do that (if you have PIL/Image): \n",
        "     * ```from scipy.misc import imrotate,imresize```\n",
        "     * and a few slicing\n",
        "   * Stay realistic. There's usually no point in flipping dogs upside down as that is not the way you usually see them."
      ]
    }
  ]
}