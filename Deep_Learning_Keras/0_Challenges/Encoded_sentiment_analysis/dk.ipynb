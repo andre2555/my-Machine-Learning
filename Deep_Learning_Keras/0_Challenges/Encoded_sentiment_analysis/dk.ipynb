{
 "cells": [
  {
   "cell_type": "code",
   "execution_count": 1,
   "metadata": {},
   "outputs": [],
   "source": [
    "import pandas as pd\n",
    "import numpy as np\n",
    "import matplotlib.pyplot as plt"
   ]
  },
  {
   "cell_type": "markdown",
   "metadata": {},
   "source": [
    "# Feature Engineering"
   ]
  },
  {
   "cell_type": "code",
   "execution_count": 2,
   "metadata": {},
   "outputs": [],
   "source": [
    "def convert_char_to_num(c):\n",
    "    return ord(c) - ord('a')"
   ]
  },
  {
   "cell_type": "markdown",
   "metadata": {},
   "source": [
    "## Trainning set"
   ]
  },
  {
   "cell_type": "code",
   "execution_count": 3,
   "metadata": {},
   "outputs": [
    {
     "data": {
      "text/html": [
       "<div>\n",
       "<style scoped>\n",
       "    .dataframe tbody tr th:only-of-type {\n",
       "        vertical-align: middle;\n",
       "    }\n",
       "\n",
       "    .dataframe tbody tr th {\n",
       "        vertical-align: top;\n",
       "    }\n",
       "\n",
       "    .dataframe thead th {\n",
       "        text-align: right;\n",
       "    }\n",
       "</style>\n",
       "<table border=\"1\" class=\"dataframe\">\n",
       "  <thead>\n",
       "    <tr style=\"text-align: right;\">\n",
       "      <th></th>\n",
       "      <th>Text</th>\n",
       "      <th>Label</th>\n",
       "    </tr>\n",
       "  </thead>\n",
       "  <tbody>\n",
       "    <tr>\n",
       "      <th>0</th>\n",
       "      <td>satwamuluhqgulamlrmvezuhqvkrpmletwulcitwskuhle...</td>\n",
       "      <td>7</td>\n",
       "    </tr>\n",
       "    <tr>\n",
       "      <th>1</th>\n",
       "      <td>twmkiwpmqvtwleuhsaiwsktwmvlelekramuhqvkruhtwsk...</td>\n",
       "      <td>3</td>\n",
       "    </tr>\n",
       "    <tr>\n",
       "      <th>2</th>\n",
       "      <td>vidfpmskuhvilepmuluhtwtvuhulsovienamqvuhskiwmv...</td>\n",
       "      <td>8</td>\n",
       "    </tr>\n",
       "    <tr>\n",
       "      <th>3</th>\n",
       "      <td>raskleenkrlruhtwulenleengztwqvuhenuhsatvuhsktw...</td>\n",
       "      <td>3</td>\n",
       "    </tr>\n",
       "    <tr>\n",
       "      <th>4</th>\n",
       "      <td>dfenqvuhtwamqvuhqgtwiwtvenuluhqvijletwamulenxe...</td>\n",
       "      <td>4</td>\n",
       "    </tr>\n",
       "  </tbody>\n",
       "</table>\n",
       "</div>"
      ],
      "text/plain": [
       "                                                Text  Label\n",
       "0  satwamuluhqgulamlrmvezuhqvkrpmletwulcitwskuhle...      7\n",
       "1  twmkiwpmqvtwleuhsaiwsktwmvlelekramuhqvkruhtwsk...      3\n",
       "2  vidfpmskuhvilepmuluhtwtvuhulsovienamqvuhskiwmv...      8\n",
       "3  raskleenkrlruhtwulenleengztwqvuhenuhsatvuhsktw...      3\n",
       "4  dfenqvuhtwamqvuhqgtwiwtvenuluhqvijletwamulenxe...      4"
      ]
     },
     "execution_count": 3,
     "metadata": {},
     "output_type": "execute_result"
    }
   ],
   "source": [
    "df_X = pd.read_csv('xtrain_obfuscated.txt', header=None)\n",
    "df_X.columns = ['Text']\n",
    "\n",
    "df_y = pd.read_csv('ytrain.txt', header=None)\n",
    "df_y.columns = ['Label']\n",
    "\n",
    "df = df_X.join(df_y)\n",
    "df.head()"
   ]
  },
  {
   "cell_type": "code",
   "execution_count": 4,
   "metadata": {},
   "outputs": [
    {
     "data": {
      "text/html": [
       "<div>\n",
       "<style scoped>\n",
       "    .dataframe tbody tr th:only-of-type {\n",
       "        vertical-align: middle;\n",
       "    }\n",
       "\n",
       "    .dataframe tbody tr th {\n",
       "        vertical-align: top;\n",
       "    }\n",
       "\n",
       "    .dataframe thead th {\n",
       "        text-align: right;\n",
       "    }\n",
       "</style>\n",
       "<table border=\"1\" class=\"dataframe\">\n",
       "  <thead>\n",
       "    <tr style=\"text-align: right;\">\n",
       "      <th></th>\n",
       "      <th>Text</th>\n",
       "      <th>Label</th>\n",
       "      <th>Character vector</th>\n",
       "    </tr>\n",
       "  </thead>\n",
       "  <tbody>\n",
       "    <tr>\n",
       "      <th>0</th>\n",
       "      <td>satwamuluhqgulamlrmvezuhqvkrpmletwulcitwskuhle...</td>\n",
       "      <td>7</td>\n",
       "      <td>[18, 0, 19, 22, 0, 12, 20, 11, 20, 7, 16, 6, 2...</td>\n",
       "    </tr>\n",
       "    <tr>\n",
       "      <th>1</th>\n",
       "      <td>twmkiwpmqvtwleuhsaiwsktwmvlelekramuhqvkruhtwsk...</td>\n",
       "      <td>3</td>\n",
       "      <td>[19, 22, 12, 10, 8, 22, 15, 12, 16, 21, 19, 22...</td>\n",
       "    </tr>\n",
       "    <tr>\n",
       "      <th>2</th>\n",
       "      <td>vidfpmskuhvilepmuluhtwtvuhulsovienamqvuhskiwmv...</td>\n",
       "      <td>8</td>\n",
       "      <td>[21, 8, 3, 5, 15, 12, 18, 10, 20, 7, 21, 8, 11...</td>\n",
       "    </tr>\n",
       "    <tr>\n",
       "      <th>3</th>\n",
       "      <td>raskleenkrlruhtwulenleengztwqvuhenuhsatvuhsktw...</td>\n",
       "      <td>3</td>\n",
       "      <td>[17, 0, 18, 10, 11, 4, 4, 13, 10, 17, 11, 17, ...</td>\n",
       "    </tr>\n",
       "    <tr>\n",
       "      <th>4</th>\n",
       "      <td>dfenqvuhtwamqvuhqgtwiwtvenuluhqvijletwamulenxe...</td>\n",
       "      <td>4</td>\n",
       "      <td>[3, 5, 4, 13, 16, 21, 20, 7, 19, 22, 0, 12, 16...</td>\n",
       "    </tr>\n",
       "  </tbody>\n",
       "</table>\n",
       "</div>"
      ],
      "text/plain": [
       "                                                Text  Label  \\\n",
       "0  satwamuluhqgulamlrmvezuhqvkrpmletwulcitwskuhle...      7   \n",
       "1  twmkiwpmqvtwleuhsaiwsktwmvlelekramuhqvkruhtwsk...      3   \n",
       "2  vidfpmskuhvilepmuluhtwtvuhulsovienamqvuhskiwmv...      8   \n",
       "3  raskleenkrlruhtwulenleengztwqvuhenuhsatvuhsktw...      3   \n",
       "4  dfenqvuhtwamqvuhqgtwiwtvenuluhqvijletwamulenxe...      4   \n",
       "\n",
       "                                    Character vector  \n",
       "0  [18, 0, 19, 22, 0, 12, 20, 11, 20, 7, 16, 6, 2...  \n",
       "1  [19, 22, 12, 10, 8, 22, 15, 12, 16, 21, 19, 22...  \n",
       "2  [21, 8, 3, 5, 15, 12, 18, 10, 20, 7, 21, 8, 11...  \n",
       "3  [17, 0, 18, 10, 11, 4, 4, 13, 10, 17, 11, 17, ...  \n",
       "4  [3, 5, 4, 13, 16, 21, 20, 7, 19, 22, 0, 12, 16...  "
      ]
     },
     "execution_count": 4,
     "metadata": {},
     "output_type": "execute_result"
    }
   ],
   "source": [
    "df['Character vector'] = df['Text'].transform(lambda X: np.array([convert_char_to_num(c) for c in X]))\n",
    "df.head()"
   ]
  },
  {
   "cell_type": "code",
   "execution_count": 5,
   "metadata": {},
   "outputs": [
    {
     "name": "stdout",
     "output_type": "stream",
     "text": [
      "(32513,)\n",
      "(32513,)\n"
     ]
    }
   ],
   "source": [
    "X_train, y_train = np.array(df['Character vector'].values), df['Label'].values\n",
    "\n",
    "print(X_train.shape)\n",
    "print(y_train.shape)"
   ]
  },
  {
   "cell_type": "code",
   "execution_count": 6,
   "metadata": {},
   "outputs": [
    {
     "name": "stderr",
     "output_type": "stream",
     "text": [
      "Using TensorFlow backend.\n"
     ]
    },
    {
     "name": "stdout",
     "output_type": "stream",
     "text": [
      "(32513, 150)\n"
     ]
    }
   ],
   "source": [
    "from keras.preprocessing.sequence import pad_sequences\n",
    "\n",
    "maxlen = 150\n",
    "\n",
    "X_train_pad = pad_sequences(X_train, maxlen=maxlen)\n",
    "\n",
    "print(X_train_pad.shape)"
   ]
  },
  {
   "cell_type": "code",
   "execution_count": 7,
   "metadata": {},
   "outputs": [
    {
     "name": "stdout",
     "output_type": "stream",
     "text": [
      "(32513, 150, 26)\n",
      "(32513, 12)\n"
     ]
    }
   ],
   "source": [
    "from keras.utils.np_utils import to_categorical\n",
    "\n",
    "X_train_cat = to_categorical(X_train_pad)\n",
    "y_train_cat = to_categorical(y_train)\n",
    "\n",
    "\n",
    "print(X_train_cat.shape)\n",
    "print(y_train_cat.shape)"
   ]
  },
  {
   "cell_type": "code",
   "execution_count": 8,
   "metadata": {},
   "outputs": [
    {
     "name": "stdout",
     "output_type": "stream",
     "text": [
      "(32513, 150, 26, 1)\n"
     ]
    }
   ],
   "source": [
    "X_train_cat = X_train_cat.reshape(-1, maxlen, 26, 1)\n",
    "print(X_train_cat.shape)"
   ]
  },
  {
   "cell_type": "markdown",
   "metadata": {},
   "source": [
    "# Model"
   ]
  },
  {
   "cell_type": "code",
   "execution_count": 9,
   "metadata": {},
   "outputs": [
    {
     "name": "stdout",
     "output_type": "stream",
     "text": [
      "_________________________________________________________________\n",
      "Layer (type)                 Output Shape              Param #   \n",
      "=================================================================\n",
      "conv2d_1 (Conv2D)            (None, 148, 24, 32)       320       \n",
      "_________________________________________________________________\n",
      "max_pooling2d_1 (MaxPooling2 (None, 74, 12, 32)        0         \n",
      "_________________________________________________________________\n",
      "activation_1 (Activation)    (None, 74, 12, 32)        0         \n",
      "_________________________________________________________________\n",
      "flatten_1 (Flatten)          (None, 28416)             0         \n",
      "_________________________________________________________________\n",
      "dense_1 (Dense)              (None, 128)               3637376   \n",
      "_________________________________________________________________\n",
      "dense_2 (Dense)              (None, 12)                1548      \n",
      "=================================================================\n",
      "Total params: 3,639,244\n",
      "Trainable params: 3,639,244\n",
      "Non-trainable params: 0\n",
      "_________________________________________________________________\n"
     ]
    }
   ],
   "source": [
    "from keras.models import Sequential\n",
    "from keras.layers import Conv2D, Dense, MaxPool2D, Flatten, Activation\n",
    "import keras.backend as K\n",
    "from keras.callbacks import EarlyStopping\n",
    "\n",
    "K.clear_session()\n",
    "\n",
    "model = Sequential()\n",
    "\n",
    "# Feature Extraction layers\n",
    "model.add(Conv2D(32, (3, 3), input_shape=(maxlen, 26, 1)))\n",
    "model.add(MaxPool2D(pool_size=(2, 2)))\n",
    "model.add(Activation('relu'))\n",
    "\n",
    "# Flatten layer\n",
    "model.add(Flatten())\n",
    "\n",
    "# Fully connected layers\n",
    "model.add(Dense(128, activation='relu'))\n",
    "model.add(Dense(12, activation='softmax'))\n",
    "\n",
    "# Compile\n",
    "model.compile(loss='categorical_crossentropy',\n",
    "              optimizer='rmsprop',\n",
    "              metrics=['accuracy'])\n",
    "\n",
    "model.summary()"
   ]
  },
  {
   "cell_type": "code",
   "execution_count": 10,
   "metadata": {},
   "outputs": [],
   "source": [
    "# early_stopping_monitor = EarlyStopping(patience=2)"
   ]
  },
  {
   "cell_type": "code",
   "execution_count": 11,
   "metadata": {},
   "outputs": [
    {
     "name": "stdout",
     "output_type": "stream",
     "text": [
      "Train on 22759 samples, validate on 9754 samples\n",
      "Epoch 1/30\n",
      "22759/22759 [==============================] - 9s 376us/step - loss: 2.3357 - acc: 0.1709 - val_loss: 2.3097 - val_acc: 0.1804\n",
      "Epoch 2/30\n",
      "22759/22759 [==============================] - 7s 315us/step - loss: 2.2005 - acc: 0.2269 - val_loss: 2.2781 - val_acc: 0.2048\n",
      "Epoch 3/30\n",
      "22759/22759 [==============================] - 7s 314us/step - loss: 2.1048 - acc: 0.2703 - val_loss: 2.2592 - val_acc: 0.2074\n",
      "Epoch 4/30\n",
      "22759/22759 [==============================] - 7s 313us/step - loss: 2.0151 - acc: 0.3090 - val_loss: 2.2073 - val_acc: 0.2323\n",
      "Epoch 5/30\n",
      "22759/22759 [==============================] - 7s 314us/step - loss: 1.8798 - acc: 0.3586 - val_loss: 2.2343 - val_acc: 0.2356\n",
      "Epoch 6/30\n",
      "22759/22759 [==============================] - 7s 314us/step - loss: 1.6938 - acc: 0.4269 - val_loss: 2.3731 - val_acc: 0.2366\n",
      "Epoch 7/30\n",
      "22759/22759 [==============================] - 7s 314us/step - loss: 1.4477 - acc: 0.5154 - val_loss: 2.5124 - val_acc: 0.2327\n",
      "Epoch 8/30\n",
      "22759/22759 [==============================] - 7s 314us/step - loss: 1.1686 - acc: 0.6140 - val_loss: 2.7456 - val_acc: 0.2279\n",
      "Epoch 9/30\n",
      "22759/22759 [==============================] - 7s 314us/step - loss: 0.8932 - acc: 0.7103 - val_loss: 3.1087 - val_acc: 0.2224\n",
      "Epoch 10/30\n",
      "22759/22759 [==============================] - 7s 314us/step - loss: 0.6364 - acc: 0.7978 - val_loss: 3.6396 - val_acc: 0.2121\n",
      "Epoch 11/30\n",
      "22759/22759 [==============================] - 7s 313us/step - loss: 0.4259 - acc: 0.8660 - val_loss: 4.3271 - val_acc: 0.2088\n",
      "Epoch 12/30\n",
      "22759/22759 [==============================] - 7s 314us/step - loss: 0.2759 - acc: 0.9149 - val_loss: 5.2534 - val_acc: 0.1951\n",
      "Epoch 13/30\n",
      "22759/22759 [==============================] - 7s 314us/step - loss: 0.1710 - acc: 0.9483 - val_loss: 5.6378 - val_acc: 0.2120\n",
      "Epoch 14/30\n",
      "22759/22759 [==============================] - 7s 313us/step - loss: 0.1106 - acc: 0.9680 - val_loss: 6.0065 - val_acc: 0.2099\n",
      "Epoch 15/30\n",
      "22759/22759 [==============================] - 7s 313us/step - loss: 0.0743 - acc: 0.9796 - val_loss: 6.4873 - val_acc: 0.2005\n",
      "Epoch 16/30\n",
      "22759/22759 [==============================] - 7s 313us/step - loss: 0.0529 - acc: 0.9852 - val_loss: 7.0070 - val_acc: 0.2023\n",
      "Epoch 17/30\n",
      "22759/22759 [==============================] - 7s 314us/step - loss: 0.0460 - acc: 0.9869 - val_loss: 7.2827 - val_acc: 0.2023\n",
      "Epoch 18/30\n",
      "22759/22759 [==============================] - 7s 315us/step - loss: 0.0363 - acc: 0.9894 - val_loss: 7.3084 - val_acc: 0.2066\n",
      "Epoch 19/30\n",
      "22759/22759 [==============================] - 7s 314us/step - loss: 0.0340 - acc: 0.9901 - val_loss: 7.4243 - val_acc: 0.1950\n",
      "Epoch 20/30\n",
      "22759/22759 [==============================] - 7s 314us/step - loss: 0.0302 - acc: 0.9917 - val_loss: 7.7314 - val_acc: 0.2041\n",
      "Epoch 21/30\n",
      "22759/22759 [==============================] - 7s 315us/step - loss: 0.0318 - acc: 0.9907 - val_loss: 7.8302 - val_acc: 0.2005\n",
      "Epoch 22/30\n",
      "22759/22759 [==============================] - 7s 313us/step - loss: 0.0267 - acc: 0.9919 - val_loss: 7.4310 - val_acc: 0.1982\n",
      "Epoch 23/30\n",
      "22759/22759 [==============================] - 7s 315us/step - loss: 0.0308 - acc: 0.9916 - val_loss: 7.6388 - val_acc: 0.2065\n",
      "Epoch 24/30\n",
      "22759/22759 [==============================] - 7s 316us/step - loss: 0.0302 - acc: 0.9908 - val_loss: 7.4972 - val_acc: 0.1995\n",
      "Epoch 25/30\n",
      "22759/22759 [==============================] - 7s 314us/step - loss: 0.0319 - acc: 0.9916 - val_loss: 7.8830 - val_acc: 0.2072\n",
      "Epoch 26/30\n",
      "22759/22759 [==============================] - 7s 314us/step - loss: 0.0316 - acc: 0.9906 - val_loss: 7.5836 - val_acc: 0.2007\n",
      "Epoch 27/30\n",
      "22759/22759 [==============================] - 7s 315us/step - loss: 0.0366 - acc: 0.9887 - val_loss: 8.0220 - val_acc: 0.1981\n",
      "Epoch 28/30\n",
      "22759/22759 [==============================] - 7s 314us/step - loss: 0.0376 - acc: 0.9898 - val_loss: 7.4186 - val_acc: 0.2107\n",
      "Epoch 29/30\n",
      "22759/22759 [==============================] - 7s 316us/step - loss: 0.0393 - acc: 0.9889 - val_loss: 7.3359 - val_acc: 0.2070\n",
      "Epoch 30/30\n",
      "22759/22759 [==============================] - 7s 314us/step - loss: 0.0474 - acc: 0.9861 - val_loss: 7.5000 - val_acc: 0.2068\n"
     ]
    }
   ],
   "source": [
    "result = model.fit(\n",
    "    X_train_cat, y_train_cat,\n",
    "    \n",
    "    epochs=30, validation_split=0.3)\n",
    "#     callbacks=[early_stopping_monitor])\n",
    "\n",
    "model.save('CNN.h5')"
   ]
  },
  {
   "cell_type": "code",
   "execution_count": 12,
   "metadata": {},
   "outputs": [
    {
     "data": {
      "text/plain": [
       "Text(0.5,0,'Epochs')"
      ]
     },
     "execution_count": 12,
     "metadata": {},
     "output_type": "execute_result"
    },
    {
     "data": {
      "image/png": "[encoded data removed]",
      "text/plain": [
       "<Figure size 432x288 with 1 Axes>"
      ]
     },
     "metadata": {},
     "output_type": "display_data"
    }
   ],
   "source": [
    "plt.plot(result.history['acc'])\n",
    "plt.plot(result.history['val_acc'])\n",
    "\n",
    "plt.legend(['Training', 'Validation'])\n",
    "plt.title('Accuracy')\n",
    "plt.xlabel('Epochs')"
   ]
  },
  {
   "cell_type": "markdown",
   "metadata": {},
   "source": [
    "# Evaluation"
   ]
  },
  {
   "cell_type": "markdown",
   "metadata": {},
   "source": [
    "## Testset "
   ]
  },
  {
   "cell_type": "code",
   "execution_count": 13,
   "metadata": {},
   "outputs": [],
   "source": [
    "df = pd.read_csv('xtest_obfuscated.txt', header=None)\n",
    "df.columns = ['Text']"
   ]
  },
  {
   "cell_type": "code",
   "execution_count": 14,
   "metadata": {},
   "outputs": [
    {
     "data": {
      "text/html": [
       "<div>\n",
       "<style scoped>\n",
       "    .dataframe tbody tr th:only-of-type {\n",
       "        vertical-align: middle;\n",
       "    }\n",
       "\n",
       "    .dataframe tbody tr th {\n",
       "        vertical-align: top;\n",
       "    }\n",
       "\n",
       "    .dataframe thead th {\n",
       "        text-align: right;\n",
       "    }\n",
       "</style>\n",
       "<table border=\"1\" class=\"dataframe\">\n",
       "  <thead>\n",
       "    <tr style=\"text-align: right;\">\n",
       "      <th></th>\n",
       "      <th>Text</th>\n",
       "      <th>Character vector</th>\n",
       "    </tr>\n",
       "  </thead>\n",
       "  <tbody>\n",
       "    <tr>\n",
       "      <th>0</th>\n",
       "      <td>tvletwgzkrqvuhtwamuluhpkskpmpmiwtvuhamqvmviwlr...</td>\n",
       "      <td>[19, 21, 11, 4, 19, 22, 6, 25, 10, 17, 16, 21,...</td>\n",
       "    </tr>\n",
       "    <tr>\n",
       "      <th>1</th>\n",
       "      <td>qvmvuhskleenmvviengzxyuhqvmvamguuhrakrpmsauhul...</td>\n",
       "      <td>[16, 21, 12, 21, 20, 7, 18, 10, 11, 4, 4, 13, ...</td>\n",
       "    </tr>\n",
       "    <tr>\n",
       "      <th>2</th>\n",
       "      <td>twamuhulenamuluhskvienuhqgdftwmvmkletwulvimvuh...</td>\n",
       "      <td>[19, 22, 0, 12, 20, 7, 20, 11, 4, 13, 0, 12, 2...</td>\n",
       "    </tr>\n",
       "    <tr>\n",
       "      <th>3</th>\n",
       "      <td>sooatwqvvitwqvvipmviuhoaampmpmmwuhuhraulvikrpm...</td>\n",
       "      <td>[18, 14, 14, 0, 19, 22, 16, 21, 21, 8, 19, 22,...</td>\n",
       "    </tr>\n",
       "    <tr>\n",
       "      <th>4</th>\n",
       "      <td>lepmuhpmdfuluhtwletwdfuhtwletwamguuhuhraezpmpm...</td>\n",
       "      <td>[11, 4, 15, 12, 20, 7, 15, 12, 3, 5, 20, 11, 2...</td>\n",
       "    </tr>\n",
       "  </tbody>\n",
       "</table>\n",
       "</div>"
      ],
      "text/plain": [
       "                                                Text  \\\n",
       "0  tvletwgzkrqvuhtwamuluhpkskpmpmiwtvuhamqvmviwlr...   \n",
       "1  qvmvuhskleenmvviengzxyuhqvmvamguuhrakrpmsauhul...   \n",
       "2  twamuhulenamuluhskvienuhqgdftwmvmkletwulvimvuh...   \n",
       "3  sooatwqvvitwqvvipmviuhoaampmpmmwuhuhraulvikrpm...   \n",
       "4  lepmuhpmdfuluhtwletwdfuhtwletwamguuhuhraezpmpm...   \n",
       "\n",
       "                                    Character vector  \n",
       "0  [19, 21, 11, 4, 19, 22, 6, 25, 10, 17, 16, 21,...  \n",
       "1  [16, 21, 12, 21, 20, 7, 18, 10, 11, 4, 4, 13, ...  \n",
       "2  [19, 22, 0, 12, 20, 7, 20, 11, 4, 13, 0, 12, 2...  \n",
       "3  [18, 14, 14, 0, 19, 22, 16, 21, 21, 8, 19, 22,...  \n",
       "4  [11, 4, 15, 12, 20, 7, 15, 12, 3, 5, 20, 11, 2...  "
      ]
     },
     "execution_count": 14,
     "metadata": {},
     "output_type": "execute_result"
    }
   ],
   "source": [
    "df['Character vector'] = df['Text'].transform(lambda X: np.array([convert_char_to_num(c) for c in X]))\n",
    "df.head()"
   ]
  },
  {
   "cell_type": "code",
   "execution_count": 15,
   "metadata": {},
   "outputs": [
    {
     "name": "stdout",
     "output_type": "stream",
     "text": [
      "(3000,)\n"
     ]
    }
   ],
   "source": [
    "X_test = np.array(df['Character vector'].values)\n",
    "\n",
    "print(X_test.shape)"
   ]
  },
  {
   "cell_type": "code",
   "execution_count": 16,
   "metadata": {},
   "outputs": [
    {
     "name": "stdout",
     "output_type": "stream",
     "text": [
      "(3000, 150)\n"
     ]
    }
   ],
   "source": [
    "X_test_pad = pad_sequences(X_test, maxlen=maxlen)\n",
    "\n",
    "print(X_test_pad.shape)"
   ]
  },
  {
   "cell_type": "code",
   "execution_count": 17,
   "metadata": {},
   "outputs": [
    {
     "name": "stdout",
     "output_type": "stream",
     "text": [
      "(3000, 150, 26)\n"
     ]
    }
   ],
   "source": [
    "X_test_cat = to_categorical(X_test_pad)\n",
    "\n",
    "print(X_test_cat.shape)"
   ]
  },
  {
   "cell_type": "code",
   "execution_count": 18,
   "metadata": {},
   "outputs": [
    {
     "name": "stdout",
     "output_type": "stream",
     "text": [
      "(3000, 150, 26, 1)\n"
     ]
    }
   ],
   "source": [
    "X_test_cat = X_test_cat.reshape(-1, maxlen, 26, 1)\n",
    "\n",
    "print(X_test_cat.shape)"
   ]
  },
  {
   "cell_type": "markdown",
   "metadata": {},
   "source": [
    "## Predict"
   ]
  },
  {
   "cell_type": "code",
   "execution_count": 19,
   "metadata": {},
   "outputs": [],
   "source": [
    "from keras.models import load_model\n",
    "\n",
    "model = load_model('CNN.h5')"
   ]
  },
  {
   "cell_type": "code",
   "execution_count": 20,
   "metadata": {},
   "outputs": [],
   "source": [
    "y_pred = model.predict(X_test_cat)"
   ]
  },
  {
   "cell_type": "code",
   "execution_count": 21,
   "metadata": {},
   "outputs": [],
   "source": [
    "y_test = [np.argmax(y, axis=None, out=None) for y in y_pred]"
   ]
  },
  {
   "cell_type": "code",
   "execution_count": 22,
   "metadata": {},
   "outputs": [],
   "source": [
    "with open('ytest.txt', 'w') as outfile:\n",
    "    for y in y_test:\n",
    "        outfile.write('{}\\n'.format(str(y)))"
   ]
  }
 ],
 "metadata": {
  "kernelspec": {
   "display_name": "Python 3",
   "language": "python",
   "name": "python3"
  },
  "language_info": {
   "codemirror_mode": {
    "name": "ipython",
    "version": 3
   },
   "file_extension": ".py",
   "mimetype": "text/x-python",
   "name": "python",
   "nbconvert_exporter": "python",
   "pygments_lexer": "ipython3",
   "version": "3.6.5"
  }
 },
 "nbformat": 4,
 "nbformat_minor": 2
}
