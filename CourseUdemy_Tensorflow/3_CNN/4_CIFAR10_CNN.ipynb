{
 "cells": [
  {
   "cell_type": "code",
   "execution_count": 0,
   "metadata": {
    "colab": {},
    "colab_type": "code",
    "id": "-1wUJ3NY-GEA"
   },
   "outputs": [],
   "source": [
    "import matplotlib.pyplot as plt\n",
    "import pandas as pd\n",
    "import numpy as np\n",
    "from IPython.display import display\n",
    "import tensorflow as tf"
   ]
  },
  {
   "cell_type": "code",
   "execution_count": 0,
   "metadata": {
    "colab": {},
    "colab_type": "code",
    "id": "mPpqkSVj-K6d"
   },
   "outputs": [],
   "source": [
    "np.random.seed(101)\n",
    "tf.set_random_seed(101)"
   ]
  },
  {
   "cell_type": "markdown",
   "metadata": {
    "colab_type": "text",
    "id": "e4XgqRmK-NSs"
   },
   "source": [
    "## Dataset\n",
    "We'll be using the CIFAR-10 dataset, which is very famous dataset for image recognition! \n",
    "\n",
    "The CIFAR-10 dataset consists of 60000 32x32 colour images in 10 classes, with 6000 images per class. There are 50000 training images and 10000 test images. \n",
    "\n",
    "The dataset is divided into five training batches and one test batch, each with 10000 images. The test batch contains exactly 1000 randomly-selected images from each class. The training batches contain the remaining images in random order, but some training batches may contain more images from one class than another. Between them, the training batches contain exactly 5000 images from each class. \n"
   ]
  },
  {
   "cell_type": "code",
   "execution_count": 3,
   "metadata": {
    "colab": {
     "base_uri": "https://localhost:8080/",
     "height": 175
    },
    "colab_type": "code",
    "id": "TvK6Y052-QM5",
    "outputId": "28a4fedd-bf32-4cb9-8dd4-5c4488672ad8"
   },
   "outputs": [
    {
     "name": "stderr",
     "output_type": "stream",
     "text": [
      "Using TensorFlow backend.\n"
     ]
    },
    {
     "name": "stdout",
     "output_type": "stream",
     "text": [
      "(40000, 32, 32, 3)\n",
      "(40000, 1)\n",
      "\n",
      "(10000, 32, 32, 3)\n",
      "(10000, 1)\n",
      "\n",
      "(10000, 32, 32, 3)\n",
      "(10000, 1)\n"
     ]
    }
   ],
   "source": [
    "from keras.datasets import cifar10\n",
    "\n",
    "(X, y), (X_test, y_test) = cifar10.load_data()\n",
    "\n",
    "from sklearn.model_selection import train_test_split\n",
    "\n",
    "X_train, X_val, y_train, y_val = train_test_split(\n",
    "    X, y,\n",
    "    test_size=0.2, random_state=42)\n",
    "\n",
    "print(X_train.shape)\n",
    "print(y_train.shape)\n",
    "print('')\n",
    "print(X_val.shape)\n",
    "print(y_val.shape)\n",
    "print('')\n",
    "print(X_test.shape)\n",
    "print(y_test.shape)"
   ]
  },
  {
   "cell_type": "code",
   "execution_count": 4,
   "metadata": {
    "colab": {
     "base_uri": "https://localhost:8080/",
     "height": 52
    },
    "colab_type": "code",
    "id": "WtnHygIo-20b",
    "outputId": "da58bb69-6a9f-44a3-e988-7d38f552e1db"
   },
   "outputs": [
    {
     "name": "stdout",
     "output_type": "stream",
     "text": [
      "248\n",
      "24\n"
     ]
    }
   ],
   "source": [
    "# not normalized\n",
    "print(X_train[0].max())\n",
    "print(X_train[0].min())"
   ]
  },
  {
   "cell_type": "code",
   "execution_count": 5,
   "metadata": {
    "colab": {
     "base_uri": "https://localhost:8080/",
     "height": 382
    },
    "colab_type": "code",
    "id": "cLDFoZ95_AOm",
    "outputId": "d4acac85-3e39-4435-9aea-c38a35aeb453"
   },
   "outputs": [
    {
     "data": {
      "text/plain": [
       "<matplotlib.image.AxesImage at 0x7fa0047ed898>"
      ]
     },
     "metadata": {
      "tags": []
     },
     "output_type": "display_data"
    },
    {
     "name": "stdout",
     "output_type": "stream",
     "text": [
      "[6]\n"
     ]
    },
    {
     "data": {
      "image/png": "[encoded data removed]",
      "text/plain": [
       "<matplotlib.figure.Figure at 0x7fa004a7f198>"
      ]
     },
     "metadata": {
      "tags": []
     },
     "output_type": "display_data"
    }
   ],
   "source": [
    "# Sample\n",
    "display(plt.imshow(X_train[0]))\n",
    "print(y_train[0])"
   ]
  },
  {
   "cell_type": "markdown",
   "metadata": {
    "colab_type": "text",
    "id": "1TcTcPhW_I7B"
   },
   "source": [
    "## Feature Engineering "
   ]
  },
  {
   "cell_type": "code",
   "execution_count": 6,
   "metadata": {
    "colab": {
     "base_uri": "https://localhost:8080/",
     "height": 70
    },
    "colab_type": "code",
    "id": "Xa4oqLL__Jzt",
    "outputId": "8b746b8a-c24e-40bc-d002-493fcf889d0e"
   },
   "outputs": [
    {
     "name": "stdout",
     "output_type": "stream",
     "text": [
      "(40000, 32, 32, 3)\n",
      "(10000, 32, 32, 3)\n",
      "(10000, 32, 32, 3)\n"
     ]
    }
   ],
   "source": [
    "# Normalize X\n",
    "X_train_norm = X_train.astype('float32') / 255.0\n",
    "X_val_norm = X_val.astype('float32') / 255.0\n",
    "X_test_norm = X_test.astype('float32') / 255.0\n",
    "\n",
    "# Reshape tensor\n",
    "X_train_rs = X_train_norm.reshape(-1, 32, 32, 3)\n",
    "X_val_rs = X_val_norm.reshape(-1, 32, 32, 3)\n",
    "X_test_rs = X_test_norm.reshape(-1, 32, 32, 3)\n",
    "\n",
    "print(X_train_rs.shape)\n",
    "print(X_val_rs.shape)\n",
    "print(X_test_rs.shape)"
   ]
  },
  {
   "cell_type": "code",
   "execution_count": 7,
   "metadata": {
    "colab": {
     "base_uri": "https://localhost:8080/",
     "height": 70
    },
    "colab_type": "code",
    "id": "2DcuzUJ9_uD7",
    "outputId": "b5dd1107-d608-4dab-b058-4e22afb00553"
   },
   "outputs": [
    {
     "name": "stdout",
     "output_type": "stream",
     "text": [
      "(40000, 10)\n",
      "(10000, 10)\n",
      "(10000, 10)\n"
     ]
    }
   ],
   "source": [
    "# One hot encoding y\n",
    "from keras.utils.np_utils import to_categorical\n",
    "\n",
    "y_train_cat = to_categorical(y_train)\n",
    "y_val_cat = to_categorical(y_val)\n",
    "y_test_cat = to_categorical(y_test)\n",
    "\n",
    "print(y_train_cat.shape)\n",
    "print(y_val_cat.shape)\n",
    "print(y_test_cat.shape)"
   ]
  },
  {
   "cell_type": "markdown",
   "metadata": {
    "colab_type": "text",
    "id": "geNRsCx8_1PO"
   },
   "source": [
    "## Model - Keras"
   ]
  },
  {
   "cell_type": "code",
   "execution_count": 8,
   "metadata": {
    "colab": {
     "base_uri": "https://localhost:8080/",
     "height": 633
    },
    "colab_type": "code",
    "id": "GMSlpy2t_rwC",
    "outputId": "7b303fcc-ed89-4cbd-ad71-bcb9ada8dbb3"
   },
   "outputs": [
    {
     "name": "stdout",
     "output_type": "stream",
     "text": [
      "_________________________________________________________________\n",
      "Layer (type)                 Output Shape              Param #   \n",
      "=================================================================\n",
      "conv2d_1 (Conv2D)            (None, 32, 32, 32)        2432      \n",
      "_________________________________________________________________\n",
      "max_pooling2d_1 (MaxPooling2 (None, 16, 16, 32)        0         \n",
      "_________________________________________________________________\n",
      "conv2d_2 (Conv2D)            (None, 16, 16, 32)        25632     \n",
      "_________________________________________________________________\n",
      "max_pooling2d_2 (MaxPooling2 (None, 8, 8, 32)          0         \n",
      "_________________________________________________________________\n",
      "conv2d_3 (Conv2D)            (None, 8, 8, 64)          18496     \n",
      "_________________________________________________________________\n",
      "max_pooling2d_3 (MaxPooling2 (None, 4, 4, 64)          0         \n",
      "_________________________________________________________________\n",
      "conv2d_4 (Conv2D)            (None, 4, 4, 64)          36928     \n",
      "_________________________________________________________________\n",
      "max_pooling2d_4 (MaxPooling2 (None, 2, 2, 64)          0         \n",
      "_________________________________________________________________\n",
      "activation_1 (Activation)    (None, 2, 2, 64)          0         \n",
      "_________________________________________________________________\n",
      "flatten_1 (Flatten)          (None, 256)               0         \n",
      "_________________________________________________________________\n",
      "dense_1 (Dense)              (None, 1024)              263168    \n",
      "_________________________________________________________________\n",
      "dense_2 (Dense)              (None, 512)               524800    \n",
      "_________________________________________________________________\n",
      "dropout_1 (Dropout)          (None, 512)               0         \n",
      "_________________________________________________________________\n",
      "dense_3 (Dense)              (None, 10)                5130      \n",
      "=================================================================\n",
      "Total params: 876,586\n",
      "Trainable params: 876,586\n",
      "Non-trainable params: 0\n",
      "_________________________________________________________________\n"
     ]
    }
   ],
   "source": [
    "# Equivalent Keras Model\n",
    "from keras.models import Sequential\n",
    "from keras.layers import Conv2D, Dense, MaxPool2D, Flatten, Activation, Dropout\n",
    "import keras.backend as K\n",
    "\n",
    "K.clear_session()\n",
    "\n",
    "model = Sequential()\n",
    "\n",
    "# Feature Extraction layers\n",
    "model.add(Conv2D(32, (5, 5), input_shape=(32, 32, 3), padding='same', activation='relu'))\n",
    "model.add(MaxPool2D(pool_size=(2, 2), padding='same'))\n",
    "\n",
    "model.add(Conv2D(32, (5, 5), padding='same', activation='relu'))\n",
    "model.add(MaxPool2D(pool_size=(2, 2), padding='same'))\n",
    "\n",
    "model.add(Conv2D(64, (3, 3), padding='same', activation='relu'))\n",
    "model.add(MaxPool2D(pool_size=(2, 2), padding='same'))\n",
    "\n",
    "model.add(Conv2D(64, (3, 3), padding='same', activation='relu'))\n",
    "model.add(MaxPool2D(pool_size=(2, 2), padding='same'))\n",
    "\n",
    "model.add(Activation('relu'))\n",
    "\n",
    "# Flatten layer\n",
    "model.add(Flatten())\n",
    "\n",
    "# Fully connected layers\n",
    "model.add(Dense(1024, activation='relu'))\n",
    "model.add(Dense(512, activation='relu'))\n",
    "model.add(Dropout(0.8))\n",
    "model.add(Dense(10, activation='softmax'))\n",
    "\n",
    "\n",
    "model.summary()"
   ]
  },
  {
   "cell_type": "markdown",
   "metadata": {
    "colab_type": "text",
    "id": "_Y13Z4lx_5IM"
   },
   "source": [
    "## Model - Tensorflow"
   ]
  },
  {
   "cell_type": "code",
   "execution_count": 0,
   "metadata": {
    "colab": {},
    "colab_type": "code",
    "id": "s8R1d-Ht_26Z"
   },
   "outputs": [],
   "source": [
    "tf.reset_default_graph()"
   ]
  },
  {
   "cell_type": "code",
   "execution_count": 0,
   "metadata": {
    "colab": {},
    "colab_type": "code",
    "id": "AI2nDlHW_8lN"
   },
   "outputs": [],
   "source": [
    "def init_weights(shape):\n",
    "    \"\"\"Init weight\"\"\"\n",
    "    # Random normal distribution\n",
    "    init_random_dist = tf.truncated_normal(\n",
    "        shape, \n",
    "        stddev=0.1)\n",
    "    return tf.Variable(init_random_dist)\n",
    "\n",
    "\n",
    "def init_bias(shape):\n",
    "    \"\"\"Init bias\"\"\"\n",
    "    # Constant 0.1\n",
    "    init_bias_vals = tf.constant(\n",
    "        0.1,\n",
    "        shape=shape)\n",
    "    return tf.Variable(init_bias_vals)"
   ]
  },
  {
   "cell_type": "code",
   "execution_count": 0,
   "metadata": {
    "colab": {},
    "colab_type": "code",
    "id": "hJkNhbMg_-Nb"
   },
   "outputs": [],
   "source": [
    "def conv2d(x, W):\n",
    "    # x tensor: [batch, H, W, C]\n",
    "    # W tensor: [filter H, filter W, Cin, Cout]\n",
    "    return tf.nn.conv2d(\n",
    "        x, W,\n",
    "        strides=[1, 1, 1, 1], \n",
    "        padding='SAME')\n",
    "\n",
    "\n",
    "def conv_layer(x, shape):\n",
    "    # [filter H, filter W, Cin, Cout]\n",
    "    W = init_weights(shape)\n",
    "    b = init_bias([shape[3]])\n",
    "    return tf.nn.relu(conv2d(x, W) + b)\n",
    "\n",
    "\n",
    "def max_pool_2by2_layer(x):\n",
    "    # tensor x: [batch, H, W, C]\n",
    "    return tf.nn.max_pool(\n",
    "        x, \n",
    "        ksize=[1, 2, 2, 1],\n",
    "        strides=[1, 2, 2, 1],\n",
    "        padding='SAME')\n",
    "\n",
    "\n",
    "def dense_layer(input_layer, size):\n",
    "    input_size = int(input_layer.get_shape()[1])\n",
    "    W = init_weights([input_size, size])\n",
    "    b = init_bias([size])\n",
    "    return tf.matmul(input_layer, W) + b"
   ]
  },
  {
   "cell_type": "code",
   "execution_count": 12,
   "metadata": {
    "colab": {
     "base_uri": "https://localhost:8080/",
     "height": 178
    },
    "colab_type": "code",
    "id": "oAQeq_Lf__5f",
    "outputId": "5549f5a4-782c-4a86-b91b-23bd1841ef52"
   },
   "outputs": [
    {
     "name": "stdout",
     "output_type": "stream",
     "text": [
      "WARNING:tensorflow:From <ipython-input-12-9edf49eb7e79>:48: softmax_cross_entropy_with_logits (from tensorflow.python.ops.nn_ops) is deprecated and will be removed in a future version.\n",
      "Instructions for updating:\n",
      "\n",
      "Future major versions of TensorFlow will allow gradients to flow\n",
      "into the labels input on backprop by default.\n",
      "\n",
      "See `tf.nn.softmax_cross_entropy_with_logits_v2`.\n",
      "\n"
     ]
    }
   ],
   "source": [
    "# Placeholders\n",
    "X_ph = tf.placeholder(tf.float32,shape=[None,32,32,3])\n",
    "y_ph = tf.placeholder(tf.float32,shape=[None,10])\n",
    "dropout_ph = tf.placeholder(tf.float32) # Dropout params\n",
    "\n",
    "###################################### Stack layers ###############################################\n",
    "# Feature Extraction layers\n",
    "convo_1 = conv_layer(\n",
    "    X_ph,\n",
    "    shape=[5,5,3,32])\n",
    "convo_1_pooling = max_pool_2by2_layer(convo_1)\n",
    "\n",
    "convo_2 = conv_layer(\n",
    "    convo_1_pooling,\n",
    "    shape=[5,5,32,32])\n",
    "convo_2_pooling = max_pool_2by2_layer(convo_2)\n",
    "\n",
    "convo_3 = conv_layer(\n",
    "    convo_2_pooling,\n",
    "    shape=[3,3,32,64])\n",
    "convo_3_pooling = max_pool_2by2_layer(convo_3)\n",
    "\n",
    "convo_4 = conv_layer(\n",
    "    convo_3_pooling,\n",
    "    shape=[3,3,64,64])\n",
    "convo_4_pooling = max_pool_2by2_layer(convo_4)\n",
    "\n",
    "# Flatten layer\n",
    "convo_2_flat = tf.reshape(convo_4_pooling,[-1, 2*2*64])\n",
    "\n",
    "# Fully connected layers\n",
    "dense_layer_1 = tf.nn.relu(\n",
    "    dense_layer(convo_2_flat, 1024))\n",
    "\n",
    "dense_layer_2 = tf.nn.relu(\n",
    "    dense_layer(dense_layer_1, 512))\n",
    "\n",
    "dense_one_dropout = tf.nn.dropout(\n",
    "    dense_layer_2,\n",
    "    keep_prob=dropout_ph)\n",
    "\n",
    "y_pred = dense_layer(dense_one_dropout, 10)\n",
    "###################################################################################################\n",
    "\n",
    "# Loss function\n",
    "loss = tf.reduce_mean(\n",
    "    tf.nn.softmax_cross_entropy_with_logits(\n",
    "        labels=y_ph,\n",
    "        logits=y_pred))\n",
    "\n",
    "# Optimizer\n",
    "optimizer = tf.train.AdamOptimizer(learning_rate=0.0001)\n",
    "\n",
    "# trainning function\n",
    "train = optimizer.minimize(loss)"
   ]
  },
  {
   "cell_type": "code",
   "execution_count": 0,
   "metadata": {
    "colab": {},
    "colab_type": "code",
    "id": "9d_FmGgcAaaY"
   },
   "outputs": [],
   "source": [
    "def next_batch(X, y, batch_size=10):\n",
    "    # Select a random batch index\n",
    "    rand_idx = np.random.randint(\n",
    "        len(X),\n",
    "        size=batch_size)\n",
    "\n",
    "    return X[rand_idx], y[rand_idx]"
   ]
  },
  {
   "cell_type": "code",
   "execution_count": 14,
   "metadata": {
    "colab": {
     "base_uri": "https://localhost:8080/",
     "height": 1495
    },
    "colab_type": "code",
    "id": "_IP-CgwVAa_r",
    "outputId": "73332c0d-6808-4ea7-d13a-7570bdd594eb"
   },
   "outputs": [
    {
     "name": "stdout",
     "output_type": "stream",
     "text": [
      "Epoch 0\n",
      "train_acc = 0.046875 - val_acc = 0.10260000079870224\n",
      "train_loss = 7.801501274108887 - val_loss = 7.4086127281188965\n",
      "\n",
      "Epoch 500\n",
      "train_acc = 0.390625 - val_acc = 0.4066999852657318\n",
      "train_loss = 1.5893349647521973 - val_loss = 1.6387531757354736\n",
      "\n",
      "Epoch 1000\n",
      "train_acc = 0.5 - val_acc = 0.4632999897003174\n",
      "train_loss = 1.2828515768051147 - val_loss = 1.4912986755371094\n",
      "\n",
      "Epoch 1500\n",
      "train_acc = 0.453125 - val_acc = 0.4733000099658966\n",
      "train_loss = 1.5404963493347168 - val_loss = 1.4447191953659058\n",
      "\n",
      "Epoch 2000\n",
      "train_acc = 0.5625 - val_acc = 0.5051000118255615\n",
      "train_loss = 1.312830924987793 - val_loss = 1.3668102025985718\n",
      "\n",
      "Epoch 2500\n",
      "train_acc = 0.53125 - val_acc = 0.5335999727249146\n",
      "train_loss = 1.2340424060821533 - val_loss = 1.313109040260315\n",
      "\n",
      "Epoch 3000\n",
      "train_acc = 0.53125 - val_acc = 0.5389000177383423\n",
      "train_loss = 1.039574384689331 - val_loss = 1.2918802499771118\n",
      "\n",
      "Epoch 3500\n",
      "train_acc = 0.625 - val_acc = 0.5493999719619751\n",
      "train_loss = 1.172863483428955 - val_loss = 1.2806622982025146\n",
      "\n",
      "Epoch 4000\n",
      "train_acc = 0.671875 - val_acc = 0.5591999888420105\n",
      "train_loss = 0.9822369813919067 - val_loss = 1.2442289590835571\n",
      "\n",
      "Epoch 4500\n",
      "train_acc = 0.609375 - val_acc = 0.5631999969482422\n",
      "train_loss = 0.9798227548599243 - val_loss = 1.2339282035827637\n",
      "\n",
      "Epoch 5000\n",
      "train_acc = 0.71875 - val_acc = 0.578499972820282\n",
      "train_loss = 0.7693484425544739 - val_loss = 1.1951019763946533\n",
      "\n",
      "Epoch 5500\n",
      "train_acc = 0.59375 - val_acc = 0.5942000150680542\n",
      "train_loss = 1.1553959846496582 - val_loss = 1.1580322980880737\n",
      "\n",
      "Epoch 6000\n",
      "train_acc = 0.640625 - val_acc = 0.5896999835968018\n",
      "train_loss = 1.021620512008667 - val_loss = 1.1573954820632935\n",
      "\n",
      "Epoch 6500\n",
      "train_acc = 0.671875 - val_acc = 0.5954999923706055\n",
      "train_loss = 0.9619249701499939 - val_loss = 1.1526896953582764\n",
      "\n",
      "Epoch 7000\n",
      "train_acc = 0.703125 - val_acc = 0.6101999878883362\n",
      "train_loss = 0.8615792989730835 - val_loss = 1.123267412185669\n",
      "\n",
      "Epoch 7500\n",
      "train_acc = 0.8125 - val_acc = 0.6096000075340271\n",
      "train_loss = 0.6616494059562683 - val_loss = 1.115006446838379\n",
      "\n",
      "Epoch 8000\n",
      "train_acc = 0.6875 - val_acc = 0.6151000261306763\n",
      "train_loss = 0.8867865800857544 - val_loss = 1.1041045188903809\n",
      "\n",
      "Epoch 8500\n",
      "train_acc = 0.6875 - val_acc = 0.6092000007629395\n",
      "train_loss = 0.827078640460968 - val_loss = 1.1364809274673462\n",
      "\n",
      "Epoch 9000\n",
      "train_acc = 0.65625 - val_acc = 0.6075999736785889\n",
      "train_loss = 0.9284469485282898 - val_loss = 1.1253567934036255\n",
      "\n",
      "Epoch 9500\n",
      "train_acc = 0.796875 - val_acc = 0.609000027179718\n",
      "train_loss = 0.618171215057373 - val_loss = 1.1298338174819946\n",
      "\n",
      "Epoch 10000\n",
      "train_acc = 0.765625 - val_acc = 0.626800000667572\n",
      "train_loss = 0.6637179255485535 - val_loss = 1.084755778312683\n",
      "\n"
     ]
    }
   ],
   "source": [
    "# Init Variables\n",
    "init = tf.global_variables_initializer()\n",
    "\n",
    "# GPU option\n",
    "gpu_options = tf.GPUOptions(per_process_gpu_memory_fraction=0.9)\n",
    "\n",
    "# Saver\n",
    "saver = tf.train.Saver()\n",
    "\n",
    "# Epochs\n",
    "epochs = 10001\n",
    "\n",
    "# Accuracies\n",
    "train_accs = []\n",
    "val_accs = []\n",
    "\n",
    "# Losses\n",
    "train_losses = []\n",
    "val_losses = []\n",
    "\n",
    "with tf.Session(config=tf.ConfigProto(gpu_options=gpu_options)) as sess:\n",
    "    # Init Variables\n",
    "    sess.run(init)\n",
    "    \n",
    "    # Run epochs\n",
    "    for i in range(epochs):\n",
    "        # Select a random batch\n",
    "        X_batch , y_batch = next_batch(\n",
    "            X_train_rs , y_train_cat,\n",
    "            batch_size=64)\n",
    "\n",
    "        # Train\n",
    "        sess.run(\n",
    "            train,\n",
    "            feed_dict={\n",
    "                X_ph: X_batch,\n",
    "                y_ph: y_batch,\n",
    "                dropout_ph: 0.8})\n",
    "        \n",
    "        if i%100 == 0:\n",
    "            # Train acc\n",
    "            train_matches = tf.equal(\n",
    "                tf.argmax(y_batch, 1),\n",
    "                tf.argmax(y_pred, 1))\n",
    "\n",
    "            train_accuracy = tf.reduce_mean(tf.cast(train_matches,tf.float32))\n",
    "\n",
    "            train_acc = sess.run(\n",
    "                train_accuracy,\n",
    "                feed_dict={\n",
    "                    X_ph: X_batch,\n",
    "                    y_ph: y_batch,\n",
    "                    dropout_ph:1.0})\n",
    "\n",
    "            train_accs.append(train_acc)\n",
    "            \n",
    "            # Train loss\n",
    "            train_loss = loss.eval(\n",
    "                feed_dict={\n",
    "                    X_ph: X_batch,\n",
    "                    y_ph: y_batch,\n",
    "                    dropout_ph: 1.0})\n",
    "            train_losses.append(train_loss)\n",
    "            \n",
    "            # Val acc\n",
    "            val_matches = tf.equal(\n",
    "                tf.argmax(y_val_cat, 1),\n",
    "                tf.argmax(y_pred, 1))\n",
    "\n",
    "            val_accuracy = tf.reduce_mean(tf.cast(val_matches,tf.float32))\n",
    "\n",
    "            val_acc = sess.run(\n",
    "                val_accuracy,\n",
    "                feed_dict={\n",
    "                    X_ph: X_val_rs,\n",
    "                    y_ph: y_val_cat,\n",
    "                    dropout_ph: 1.0})\n",
    "\n",
    "            val_accs.append(val_acc)\n",
    "            \n",
    "            # Val loss\n",
    "            val_loss = loss.eval(\n",
    "                feed_dict={\n",
    "                    X_ph: X_val_rs,\n",
    "                    y_ph: y_val_cat,\n",
    "                    dropout_ph: 1.0})\n",
    "            val_losses.append(val_loss)\n",
    "\n",
    "            # PRINT OUT A MESSAGE EVERY 500 STEPS\n",
    "            if i%500 == 0:\n",
    "                print('Epoch {}'.format(i))\n",
    "                print('train_acc = {} - val_acc = {}'.format(train_acc, val_acc))\n",
    "                print('train_loss = {} - val_loss = {}\\n'.format(train_loss, val_loss))\n",
    "\n",
    "    # SAVE MODEL\n",
    "    saver.save(sess, 'my_model/CIFAR_CNN.ckpt')"
   ]
  },
  {
   "cell_type": "code",
   "execution_count": 15,
   "metadata": {
    "colab": {
     "base_uri": "https://localhost:8080/",
     "height": 394
    },
    "colab_type": "code",
    "id": "NX2Th8a5Afk_",
    "outputId": "049ae451-e8ee-4fbc-ff3a-b047190db287"
   },
   "outputs": [
    {
     "data": {
      "text/plain": [
       "Text(0.5,0,'Epochs')"
      ]
     },
     "execution_count": 15,
     "metadata": {
      "tags": []
     },
     "output_type": "execute_result"
    },
    {
     "data": {
      "image/png": "[encoded data removed]",
      "text/plain": [
       "<matplotlib.figure.Figure at 0x7fa0014db198>"
      ]
     },
     "metadata": {
      "tags": []
     },
     "output_type": "display_data"
    }
   ],
   "source": [
    "plt.plot(train_accs)\n",
    "plt.plot(val_accs)\n",
    "\n",
    "plt.legend(['Training', 'Validation'])\n",
    "plt.title('Accuracy')\n",
    "plt.xlabel('Epochs')"
   ]
  },
  {
   "cell_type": "code",
   "execution_count": 16,
   "metadata": {
    "colab": {
     "base_uri": "https://localhost:8080/",
     "height": 394
    },
    "colab_type": "code",
    "id": "hZY1altXAiSa",
    "outputId": "4ac206c2-ae96-4ffc-c9cc-06ea74541f20"
   },
   "outputs": [
    {
     "data": {
      "text/plain": [
       "Text(0.5,0,'Epochs')"
      ]
     },
     "execution_count": 16,
     "metadata": {
      "tags": []
     },
     "output_type": "execute_result"
    },
    {
     "data": {
      "image/png": "[encoded data removed]",
      "text/plain": [
       "<matplotlib.figure.Figure at 0x7fa00481efd0>"
      ]
     },
     "metadata": {
      "tags": []
     },
     "output_type": "display_data"
    }
   ],
   "source": [
    "plt.plot(train_losses)\n",
    "plt.plot(val_losses)\n",
    "\n",
    "plt.legend(['Training', 'Validation'])\n",
    "plt.title('Loss')\n",
    "plt.xlabel('Epochs')"
   ]
  },
  {
   "cell_type": "markdown",
   "metadata": {
    "colab_type": "text",
    "id": "RlKQhQ70AkD_"
   },
   "source": [
    "## Evaluate Test"
   ]
  },
  {
   "cell_type": "code",
   "execution_count": 17,
   "metadata": {
    "colab": {
     "base_uri": "https://localhost:8080/",
     "height": 52
    },
    "colab_type": "code",
    "id": "cxKCHAuXAkgW",
    "outputId": "1403375d-6d34-4deb-9c42-7cb488134542"
   },
   "outputs": [
    {
     "name": "stdout",
     "output_type": "stream",
     "text": [
      "INFO:tensorflow:Restoring parameters from my_model/CIFAR_CNN.ckpt\n",
      "Test set accuracy:  0.6225\n"
     ]
    }
   ],
   "source": [
    "with tf.Session() as sess:\n",
    "    # Restore the model\n",
    "    saver.restore(sess,'my_model/CIFAR_CNN.ckpt')\n",
    "    \n",
    "    # Test accuracy\n",
    "    test_matches = tf.equal(\n",
    "        tf.argmax(y_test_cat, 1),\n",
    "        tf.argmax(y_pred, 1))\n",
    "\n",
    "    test_accuracy = tf.reduce_mean(tf.cast(test_matches,tf.float32))\n",
    "\n",
    "    test_acc = sess.run(\n",
    "        test_accuracy,\n",
    "        feed_dict={\n",
    "            X_ph: X_test_rs,\n",
    "            y_ph: y_test_cat,\n",
    "            dropout_ph:1.0})\n",
    "\n",
    "    print('Test set accuracy: ', test_acc)"
   ]
  }
 ],
 "metadata": {
  "accelerator": "GPU",
  "colab": {
   "collapsed_sections": [],
   "name": "Untitled0.ipynb",
   "provenance": [],
   "version": "0.3.2"
  },
  "kernelspec": {
   "display_name": "Root",
   "language": "python",
   "name": "python3"
  },
  "language_info": {
   "codemirror_mode": {
    "name": "ipython",
    "version": 3
   },
   "file_extension": ".py",
   "mimetype": "text/x-python",
   "name": "python",
   "nbconvert_exporter": "python",
   "pygments_lexer": "ipython3",
   "version": "3.6.5"
  }
 },
 "nbformat": 4,
 "nbformat_minor": 1
}
