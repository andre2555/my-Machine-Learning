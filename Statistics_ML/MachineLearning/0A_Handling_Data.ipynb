{
 "cells": [
  {
   "cell_type": "code",
   "execution_count": 1,
   "metadata": {},
   "outputs": [],
   "source": [
    "import pandas as pd"
   ]
  },
  {
   "cell_type": "code",
   "execution_count": 2,
   "metadata": {},
   "outputs": [],
   "source": [
    "df = pd.read_csv('./datasets/housing.csv')\n",
    "df2 = pd.read_csv('./datasets/student-mat.csv')"
   ]
  },
  {
   "cell_type": "markdown",
   "metadata": {},
   "source": [
    "# Index and Select"
   ]
  },
  {
   "cell_type": "markdown",
   "metadata": {},
   "source": [
    "#### Columns"
   ]
  },
  {
   "cell_type": "code",
   "execution_count": 3,
   "metadata": {},
   "outputs": [],
   "source": [
    "# Select columns 1\n",
    "new_df = df[['longitude','latitude','population', 'ocean_proximity']]\n",
    "\n",
    "# Select columns 2\n",
    "new_df = df.loc[:, ['longitude','latitude','population', 'ocean_proximity']]\n",
    "\n",
    "# Select columns 3\n",
    "new_df = df.iloc[:, [0,2,4]]"
   ]
  },
  {
   "cell_type": "markdown",
   "metadata": {},
   "source": [
    "#### Rows"
   ]
  },
  {
   "cell_type": "code",
   "execution_count": 4,
   "metadata": {},
   "outputs": [],
   "source": [
    "# Select rows 1\n",
    "new_df = df.loc[[0,2,5,8], :]\n",
    "\n",
    "# Select rows 2\n",
    "new_df = df.loc[3:7, :]\n",
    "\n",
    "# Select rows 3\n",
    "new_df = df.iloc[3:7, :]"
   ]
  },
  {
   "cell_type": "markdown",
   "metadata": {},
   "source": [
    "#### Rows and cols"
   ]
  },
  {
   "cell_type": "code",
   "execution_count": 5,
   "metadata": {},
   "outputs": [],
   "source": [
    "# Select rows-cols 1\n",
    "new_df = df.loc[[0,2,5,8], ['longitude','latitude','population', 'ocean_proximity']]\n",
    "\n",
    "# Select rows-cols 2\n",
    "new_df = df.loc[0:5, ['longitude','latitude','population', 'ocean_proximity']]"
   ]
  },
  {
   "cell_type": "markdown",
   "metadata": {},
   "source": [
    "# Filter"
   ]
  },
  {
   "cell_type": "markdown",
   "metadata": {},
   "source": [
    "#### Unique"
   ]
  },
  {
   "cell_type": "code",
   "execution_count": 6,
   "metadata": {},
   "outputs": [
    {
     "name": "stdout",
     "output_type": "stream",
     "text": [
      "['NEAR BAY' '<1H OCEAN' 'INLAND' 'NEAR OCEAN' 'ISLAND']\n"
     ]
    }
   ],
   "source": [
    "# Find all distinct values\n",
    "unique_values = df['ocean_proximity'].unique()\n",
    "print(unique_values)"
   ]
  },
  {
   "cell_type": "markdown",
   "metadata": {},
   "source": [
    "#### Condition filter"
   ]
  },
  {
   "cell_type": "code",
   "execution_count": 7,
   "metadata": {},
   "outputs": [
    {
     "name": "stdout",
     "output_type": "stream",
     "text": [
      "(20640, 10)\n"
     ]
    }
   ],
   "source": [
    "print(df.shape)"
   ]
  },
  {
   "cell_type": "code",
   "execution_count": 8,
   "metadata": {},
   "outputs": [
    {
     "name": "stdout",
     "output_type": "stream",
     "text": [
      "(2658, 10)\n",
      "(20617, 10)\n",
      "(14089, 10)\n",
      "(2, 10)\n",
      "(4948, 10)\n"
     ]
    }
   ],
   "source": [
    "condition = (df['ocean_proximity'] == 'NEAR OCEAN')\n",
    "filtered_df = df[condition]\n",
    "print(filtered_df.shape)\n",
    "\n",
    "\n",
    "condition = df['population'] < 10000\n",
    "filtered_df = df[condition]\n",
    "print(filtered_df.shape)\n",
    "\n",
    "\n",
    "condition = df['ocean_proximity'] != 'INLAND'\n",
    "filtered_df = df[condition]\n",
    "print(filtered_df.shape)\n",
    "\n",
    "\n",
    "condition = (df['population'] > 15000) & (df['households'] < 5000)\n",
    "filtered_df = df[condition]\n",
    "print(filtered_df.shape)\n",
    "\n",
    "\n",
    "condition = df['ocean_proximity'].isin(['NEAR OCEAN', 'NEAR BAY'])\n",
    "filtered_df = df[condition]\n",
    "print(filtered_df.shape)"
   ]
  },
  {
   "cell_type": "markdown",
   "metadata": {},
   "source": [
    "# Function"
   ]
  },
  {
   "cell_type": "code",
   "execution_count": 9,
   "metadata": {},
   "outputs": [],
   "source": [
    "# Function\n",
    "def convert(value):\n",
    "    return value * 10000\n",
    "df['converted_median_income'] = df['median_income'].apply(convert)\n",
    "\n",
    "# Lambda\n",
    "df['converted_median_income'] = df['median_income'].apply(lambda x: x*10000)"
   ]
  },
  {
   "cell_type": "code",
   "execution_count": 10,
   "metadata": {},
   "outputs": [],
   "source": [
    "def convert_categories(value):\n",
    "    if value > 10:\n",
    "        return 'high-incomes'\n",
    "    elif value > 2 and value < 10:\n",
    "        return 'moderate-incomes'\n",
    "    else:\n",
    "        return 'low-incomes'\n",
    "df['categorical_median_income'] = df['median_income'].apply(convert_categories)"
   ]
  },
  {
   "cell_type": "markdown",
   "metadata": {},
   "source": [
    "# Aggregate\n",
    "**Note**: After groupby, grouped columns are set as index\n",
    "+ reset index by: `.reset_index()` "
   ]
  },
  {
   "cell_type": "code",
   "execution_count": 11,
   "metadata": {},
   "outputs": [],
   "source": [
    "summmation = df['households'].sum()\n",
    "minimum = df['median_income'].min()\n",
    "maximum = df['median_house_value'].max()\n",
    "avg = df['population'].mean()"
   ]
  },
  {
   "cell_type": "markdown",
   "metadata": {},
   "source": [
    "#### Group by 1 variable\n",
    "<img src=\"./assets/1.svg\" width=\"600\"/>"
   ]
  },
  {
   "cell_type": "code",
   "execution_count": 12,
   "metadata": {},
   "outputs": [
    {
     "data": {
      "text/html": [
       "<div>\n",
       "<style scoped>\n",
       "    .dataframe tbody tr th:only-of-type {\n",
       "        vertical-align: middle;\n",
       "    }\n",
       "\n",
       "    .dataframe tbody tr th {\n",
       "        vertical-align: top;\n",
       "    }\n",
       "\n",
       "    .dataframe thead th {\n",
       "        text-align: right;\n",
       "    }\n",
       "</style>\n",
       "<table border=\"1\" class=\"dataframe\">\n",
       "  <thead>\n",
       "    <tr style=\"text-align: right;\">\n",
       "      <th></th>\n",
       "      <th>population</th>\n",
       "    </tr>\n",
       "    <tr>\n",
       "      <th>ocean_proximity</th>\n",
       "      <th></th>\n",
       "    </tr>\n",
       "  </thead>\n",
       "  <tbody>\n",
       "    <tr>\n",
       "      <td>&lt;1H OCEAN</td>\n",
       "      <td>13889374.0</td>\n",
       "    </tr>\n",
       "    <tr>\n",
       "      <td>INLAND</td>\n",
       "      <td>9112744.0</td>\n",
       "    </tr>\n",
       "    <tr>\n",
       "      <td>ISLAND</td>\n",
       "      <td>3340.0</td>\n",
       "    </tr>\n",
       "    <tr>\n",
       "      <td>NEAR BAY</td>\n",
       "      <td>2817427.0</td>\n",
       "    </tr>\n",
       "    <tr>\n",
       "      <td>NEAR OCEAN</td>\n",
       "      <td>3598955.0</td>\n",
       "    </tr>\n",
       "  </tbody>\n",
       "</table>\n",
       "</div>"
      ],
      "text/plain": [
       "                 population\n",
       "ocean_proximity            \n",
       "<1H OCEAN        13889374.0\n",
       "INLAND            9112744.0\n",
       "ISLAND               3340.0\n",
       "NEAR BAY          2817427.0\n",
       "NEAR OCEAN        3598955.0"
      ]
     },
     "execution_count": 12,
     "metadata": {},
     "output_type": "execute_result"
    }
   ],
   "source": [
    "sums = df[['population','ocean_proximity']] \\\n",
    "    .groupby('ocean_proximity') \\\n",
    "    .sum()\n",
    "\n",
    "sums"
   ]
  },
  {
   "cell_type": "markdown",
   "metadata": {},
   "source": [
    "#### Group by 2 variables"
   ]
  },
  {
   "cell_type": "code",
   "execution_count": 13,
   "metadata": {},
   "outputs": [
    {
     "data": {
      "text/html": [
       "<div>\n",
       "<style scoped>\n",
       "    .dataframe tbody tr th:only-of-type {\n",
       "        vertical-align: middle;\n",
       "    }\n",
       "\n",
       "    .dataframe tbody tr th {\n",
       "        vertical-align: top;\n",
       "    }\n",
       "\n",
       "    .dataframe thead th {\n",
       "        text-align: right;\n",
       "    }\n",
       "</style>\n",
       "<table border=\"1\" class=\"dataframe\">\n",
       "  <thead>\n",
       "    <tr style=\"text-align: right;\">\n",
       "      <th></th>\n",
       "      <th></th>\n",
       "      <th>G3</th>\n",
       "    </tr>\n",
       "    <tr>\n",
       "      <th>school</th>\n",
       "      <th>sex</th>\n",
       "      <th></th>\n",
       "    </tr>\n",
       "  </thead>\n",
       "  <tbody>\n",
       "    <tr>\n",
       "      <td rowspan=\"2\" valign=\"top\">GP</td>\n",
       "      <td>F</td>\n",
       "      <td>9.972678</td>\n",
       "    </tr>\n",
       "    <tr>\n",
       "      <td>M</td>\n",
       "      <td>11.060241</td>\n",
       "    </tr>\n",
       "    <tr>\n",
       "      <td rowspan=\"2\" valign=\"top\">MS</td>\n",
       "      <td>F</td>\n",
       "      <td>9.920000</td>\n",
       "    </tr>\n",
       "    <tr>\n",
       "      <td>M</td>\n",
       "      <td>9.761905</td>\n",
       "    </tr>\n",
       "  </tbody>\n",
       "</table>\n",
       "</div>"
      ],
      "text/plain": [
       "                   G3\n",
       "school sex           \n",
       "GP     F     9.972678\n",
       "       M    11.060241\n",
       "MS     F     9.920000\n",
       "       M     9.761905"
      ]
     },
     "execution_count": 13,
     "metadata": {},
     "output_type": "execute_result"
    }
   ],
   "source": [
    "avgs = df2[['school','sex','G3']] \\\n",
    "    .groupby(['school','sex']) \\\n",
    "    .mean()\n",
    "\n",
    "avgs"
   ]
  },
  {
   "cell_type": "markdown",
   "metadata": {},
   "source": [
    "#### Pivot Tables\n",
    "- Pivot tables = a summary of the whole data\n",
    "    + Reorganize the desired data in a different format\n",
    "    + Transform data from columns to rows or rows to columns\n",
    "    + Group data by any attribute\n",
    "    + Include statistics: sum, mean, maximum, minimum, etc.\n",
    "\n",
    "- Use cases\n",
    "    + Group data for business problems\n",
    "        + Eg: Calculating sales by region or products\n",
    "    + Compare different classes of a data field\n",
    "        + Eg: Comparing data for males and females\n",
    "    + Detect unique values in a field\n",
    "        + Eg: Finding out different types of products\n",
    "    + Summarize complex tables"
   ]
  },
  {
   "cell_type": "code",
   "execution_count": 17,
   "metadata": {},
   "outputs": [
    {
     "data": {
      "text/html": [
       "<div>\n",
       "<style scoped>\n",
       "    .dataframe tbody tr th:only-of-type {\n",
       "        vertical-align: middle;\n",
       "    }\n",
       "\n",
       "    .dataframe tbody tr th {\n",
       "        vertical-align: top;\n",
       "    }\n",
       "\n",
       "    .dataframe thead th {\n",
       "        text-align: right;\n",
       "    }\n",
       "</style>\n",
       "<table border=\"1\" class=\"dataframe\">\n",
       "  <thead>\n",
       "    <tr style=\"text-align: right;\">\n",
       "      <th></th>\n",
       "      <th></th>\n",
       "      <th>Dalc</th>\n",
       "      <th>G3</th>\n",
       "      <th>Walc</th>\n",
       "      <th>studytime</th>\n",
       "    </tr>\n",
       "    <tr>\n",
       "      <th>school</th>\n",
       "      <th>sex</th>\n",
       "      <th></th>\n",
       "      <th></th>\n",
       "      <th></th>\n",
       "      <th></th>\n",
       "    </tr>\n",
       "  </thead>\n",
       "  <tbody>\n",
       "    <tr>\n",
       "      <td rowspan=\"2\" valign=\"top\">GP</td>\n",
       "      <td>F</td>\n",
       "      <td>1.251366</td>\n",
       "      <td>9.972678</td>\n",
       "      <td>1.956284</td>\n",
       "      <td>2.300546</td>\n",
       "    </tr>\n",
       "    <tr>\n",
       "      <td>M</td>\n",
       "      <td>1.656627</td>\n",
       "      <td>11.060241</td>\n",
       "      <td>2.596386</td>\n",
       "      <td>1.801205</td>\n",
       "    </tr>\n",
       "    <tr>\n",
       "      <td rowspan=\"2\" valign=\"top\">MS</td>\n",
       "      <td>F</td>\n",
       "      <td>1.280000</td>\n",
       "      <td>9.920000</td>\n",
       "      <td>1.960000</td>\n",
       "      <td>2.120000</td>\n",
       "    </tr>\n",
       "    <tr>\n",
       "      <td>M</td>\n",
       "      <td>2.333333</td>\n",
       "      <td>9.761905</td>\n",
       "      <td>3.190476</td>\n",
       "      <td>1.476190</td>\n",
       "    </tr>\n",
       "  </tbody>\n",
       "</table>\n",
       "</div>"
      ],
      "text/plain": [
       "                Dalc         G3      Walc  studytime\n",
       "school sex                                          \n",
       "GP     F    1.251366   9.972678  1.956284   2.300546\n",
       "       M    1.656627  11.060241  2.596386   1.801205\n",
       "MS     F    1.280000   9.920000  1.960000   2.120000\n",
       "       M    2.333333   9.761905  3.190476   1.476190"
      ]
     },
     "execution_count": 17,
     "metadata": {},
     "output_type": "execute_result"
    }
   ],
   "source": [
    "df2.pivot_table(\n",
    "    index=['school','sex'],\n",
    "    values=['G3','Walc','Dalc','studytime'],\n",
    "    aggfunc = 'mean')"
   ]
  }
 ],
 "metadata": {
  "kernelspec": {
   "display_name": "Python 3.6",
   "language": "python",
   "name": "py36"
  },
  "language_info": {
   "codemirror_mode": {
    "name": "ipython",
    "version": 3
   },
   "file_extension": ".py",
   "mimetype": "text/x-python",
   "name": "python",
   "nbconvert_exporter": "python",
   "pygments_lexer": "ipython3",
   "version": "3.6.9"
  }
 },
 "nbformat": 4,
 "nbformat_minor": 2
}
