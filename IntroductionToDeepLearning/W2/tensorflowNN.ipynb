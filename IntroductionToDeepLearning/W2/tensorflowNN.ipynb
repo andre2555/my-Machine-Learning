{
 "cells": [
  {
   "cell_type": "code",
   "execution_count": 1,
   "metadata": {
    "collapsed": true
   },
   "outputs": [],
   "source": [
    "import tensorflow as tf\n",
    "import numpy as np"
   ]
  },
  {
   "cell_type": "markdown",
   "metadata": {},
   "source": [
    "## Explore the dataset"
   ]
  },
  {
   "cell_type": "code",
   "execution_count": 2,
   "metadata": {},
   "outputs": [
    {
     "name": "stderr",
     "output_type": "stream",
     "text": [
      "Using TensorFlow backend.\n"
     ]
    },
    {
     "name": "stdout",
     "output_type": "stream",
     "text": [
      "(50000, 28, 28) (50000,)\n"
     ]
    },
    {
     "data": {
      "image/png": "[encoded data removed]",
      "text/plain": [
       "<matplotlib.figure.Figure at 0x7ff5a06beac8>"
      ]
     },
     "metadata": {},
     "output_type": "display_data"
    }
   ],
   "source": [
    "from preprocessed_mnist import load_dataset\n",
    "X_train, y_train, X_val, y_val, X_test, y_test = load_dataset()\n",
    "print(X_train.shape, y_train.shape)\n",
    "import matplotlib.pyplot as plt\n",
    "%matplotlib inline\n",
    "plt.imshow(X_train[0], cmap=\"Greys\");"
   ]
  },
  {
   "cell_type": "code",
   "execution_count": 3,
   "metadata": {},
   "outputs": [
    {
     "name": "stdout",
     "output_type": "stream",
     "text": [
      "(50000, 28, 28) (50000,)\n",
      "(10000, 28, 28) (10000,)\n",
      "(10000, 28, 28) (10000,)\n"
     ]
    }
   ],
   "source": [
    "print(X_train.shape, y_train.shape)\n",
    "print(X_val.shape, y_val.shape)\n",
    "print(X_test.shape, y_test.shape)"
   ]
  },
  {
   "cell_type": "markdown",
   "metadata": {},
   "source": [
    "## Preprocess Data"
   ]
  },
  {
   "cell_type": "code",
   "execution_count": 4,
   "metadata": {
    "collapsed": true
   },
   "outputs": [],
   "source": [
    "# Flatten\n",
    "X_train = X_train.reshape([50000, 784])\n",
    "X_val = X_val.reshape([10000, 784])\n",
    "X_test = X_test.reshape([10000, 784])"
   ]
  },
  {
   "cell_type": "code",
   "execution_count": 5,
   "metadata": {},
   "outputs": [],
   "source": [
    "# y_train = np.eye(10)[y_train]\n",
    "# y_val = np.eye(10)[y_val]\n",
    "# y_test = np.eye(10)[y_test]\n",
    "\n",
    "# One hot Encode\n",
    "import numpy as np\n",
    "from sklearn import preprocessing\n",
    "\n",
    "def one_hot_encode(label):\n",
    "    # Create the encoder\n",
    "    lb = preprocessing.LabelBinarizer()\n",
    "\n",
    "    # Here the encoder finds the classes and assigns one-hot vectors \n",
    "    lb.fit(label)\n",
    "\n",
    "    # And finally, transform the labels into one-hot encoded vectors\n",
    "    return lb.transform(label)\n",
    "\n",
    "y_train = one_hot_encode(y_train)\n",
    "y_val = one_hot_encode(y_val)\n",
    "y_test = one_hot_encode(y_test)"
   ]
  },
  {
   "cell_type": "code",
   "execution_count": 6,
   "metadata": {},
   "outputs": [
    {
     "data": {
      "text/plain": [
       "(10000, 10)"
      ]
     },
     "execution_count": 6,
     "metadata": {},
     "output_type": "execute_result"
    }
   ],
   "source": [
    "y_test.shape"
   ]
  },
  {
   "cell_type": "markdown",
   "metadata": {},
   "source": [
    "## Build Layers"
   ]
  },
  {
   "cell_type": "code",
   "execution_count": 7,
   "metadata": {
    "collapsed": true
   },
   "outputs": [],
   "source": [
    "X = tf.placeholder(tf.float32, shape=(None, 784))\n",
    "Y = tf.placeholder(tf.float32, shape=(None, 10))\n",
    "keep_prob = tf.placeholder(tf.float32)"
   ]
  },
  {
   "cell_type": "code",
   "execution_count": 8,
   "metadata": {
    "collapsed": true
   },
   "outputs": [],
   "source": [
    "# Hidden fully connected layer with 256 neurons\n",
    "W1 = tf.get_variable(\"W1\",  [784, 256], initializer=tf.contrib.layers.xavier_initializer())\n",
    "b1 = tf.get_variable(\"b1\",  [256], initializer=tf.zeros_initializer())\n",
    "\n",
    "# Hidden fully connected layer with 256 neurons\n",
    "W2 = tf.get_variable(\"W2\",  [256, 256], initializer=tf.contrib.layers.xavier_initializer())\n",
    "b2 = tf.get_variable(\"b2\",  [256], initializer=tf.zeros_initializer())\n",
    "\n",
    "# Output: 10 classes\n",
    "W3 = tf.get_variable(\"W3\", [256, 10], initializer=tf.contrib.layers.xavier_initializer())\n",
    "b3 = tf.get_variable(\"b3\",  [10], initializer=tf.zeros_initializer())"
   ]
  },
  {
   "cell_type": "code",
   "execution_count": 9,
   "metadata": {
    "collapsed": true
   },
   "outputs": [],
   "source": [
    "# Connections and Calculations\n",
    "Z1 = tf.add(tf.matmul(X, W1), b1)\n",
    "A1 = tf.nn.relu(Z1)\n",
    "A1 = tf.nn.dropout(A1, keep_prob)\n",
    "\n",
    "Z2 = tf.add(tf.matmul(A1, W2), b2)\n",
    "A2 = tf.nn.relu(Z2)\n",
    "A2 = tf.nn.dropout(A2, keep_prob)\n",
    "\n",
    "Z3 = tf.add(tf.matmul(A2, W3), b3)\n",
    "A3 = tf.nn.sigmoid(Z3)"
   ]
  },
  {
   "cell_type": "markdown",
   "metadata": {},
   "source": [
    "## Build Hyperparameters"
   ]
  },
  {
   "cell_type": "code",
   "execution_count": 10,
   "metadata": {
    "collapsed": true
   },
   "outputs": [],
   "source": [
    "# Learning rate\n",
    "starter_learning_rate = 0.00036\n",
    "global_step = tf.Variable(0, trainable=False)\n",
    "learning_rate = tf.train.exponential_decay(starter_learning_rate, global_step, 100, 0.85, staircase=True)\n",
    "\n",
    "# Define cost and optimizer\n",
    "cost = tf.reduce_mean(tf.nn.softmax_cross_entropy_with_logits(labels=Y, logits=A3))\n",
    "optimizer = tf.train.AdamOptimizer(learning_rate).minimize(cost)\n",
    "\n",
    "# Calculate accuracy\n",
    "predict_op = tf.argmax(Z3, 1)\n",
    "correct_prediction = tf.equal(predict_op, tf.argmax(Y, 1))\n",
    "accuracy = tf.reduce_mean(tf.cast(correct_prediction, \"float\"))"
   ]
  },
  {
   "cell_type": "markdown",
   "metadata": {},
   "source": [
    "## Train Model"
   ]
  },
  {
   "cell_type": "code",
   "execution_count": 11,
   "metadata": {
    "collapsed": true
   },
   "outputs": [],
   "source": [
    "# Batch process\n",
    "import math\n",
    "def batches(batch_size, X, y):\n",
    "\n",
    "    assert len(X) == len(y)\n",
    "    output_batches = []\n",
    "    \n",
    "    sample_size = len(X)\n",
    "    for start_i in range(0, sample_size, batch_size):\n",
    "        end_i = start_i + batch_size\n",
    "        batch = [X[start_i:end_i], y[start_i:end_i]]\n",
    "        output_batches.append(batch)\n",
    "        \n",
    "    return output_batches"
   ]
  },
  {
   "cell_type": "code",
   "execution_count": 12,
   "metadata": {
    "collapsed": true
   },
   "outputs": [],
   "source": [
    "def print_epoch_stats(epoch_i, sess):\n",
    "    \n",
    "    current_cost = sess.run(\n",
    "        cost,\n",
    "        feed_dict={\n",
    "            X: X_test,\n",
    "            Y: y_test,\n",
    "            keep_prob: 1})\n",
    "    \n",
    "    # Calculate validation set accuracy\n",
    "    valid_accuracy = sess.run(\n",
    "        accuracy,\n",
    "        feed_dict={\n",
    "            X: X_val, \n",
    "            Y: y_val,\n",
    "            keep_prob: 1})\n",
    "\n",
    "    print('Epoch: {:<4} - Cost: {:<8.3} Validation Accuracy: {:<5.3}'.format(\n",
    "        epoch_i,\n",
    "        current_cost,\n",
    "        valid_accuracy))"
   ]
  },
  {
   "cell_type": "code",
   "execution_count": 13,
   "metadata": {},
   "outputs": [
    {
     "name": "stdout",
     "output_type": "stream",
     "text": [
      "Epoch: 1    - Cost: 1.62     Validation Accuracy: 0.89 \n",
      "Epoch: 2    - Cost: 1.56     Validation Accuracy: 0.914\n",
      "Epoch: 3    - Cost: 1.54     Validation Accuracy: 0.926\n",
      "Epoch: 4    - Cost: 1.53     Validation Accuracy: 0.937\n",
      "Epoch: 5    - Cost: 1.52     Validation Accuracy: 0.943\n",
      "Epoch: 6    - Cost: 1.51     Validation Accuracy: 0.948\n",
      "Epoch: 7    - Cost: 1.51     Validation Accuracy: 0.951\n",
      "Epoch: 8    - Cost: 1.51     Validation Accuracy: 0.955\n",
      "Epoch: 9    - Cost: 1.5      Validation Accuracy: 0.957\n",
      "Epoch: 10   - Cost: 1.5      Validation Accuracy: 0.96 \n",
      "Epoch: 11   - Cost: 1.5      Validation Accuracy: 0.962\n",
      "Epoch: 12   - Cost: 1.5      Validation Accuracy: 0.964\n",
      "Epoch: 13   - Cost: 1.5      Validation Accuracy: 0.965\n",
      "Epoch: 14   - Cost: 1.49     Validation Accuracy: 0.966\n",
      "Epoch: 15   - Cost: 1.49     Validation Accuracy: 0.967\n",
      "Epoch: 16   - Cost: 1.49     Validation Accuracy: 0.968\n",
      "Epoch: 17   - Cost: 1.49     Validation Accuracy: 0.969\n",
      "Epoch: 18   - Cost: 1.49     Validation Accuracy: 0.97 \n",
      "Epoch: 19   - Cost: 1.49     Validation Accuracy: 0.971\n",
      "Epoch: 20   - Cost: 1.49     Validation Accuracy: 0.971\n",
      "Epoch: 21   - Cost: 1.49     Validation Accuracy: 0.972\n",
      "Epoch: 22   - Cost: 1.49     Validation Accuracy: 0.972\n",
      "Epoch: 23   - Cost: 1.49     Validation Accuracy: 0.973\n",
      "Epoch: 24   - Cost: 1.49     Validation Accuracy: 0.974\n",
      "Epoch: 25   - Cost: 1.49     Validation Accuracy: 0.974\n",
      "Epoch: 26   - Cost: 1.48     Validation Accuracy: 0.975\n",
      "Epoch: 27   - Cost: 1.48     Validation Accuracy: 0.974\n",
      "Epoch: 28   - Cost: 1.48     Validation Accuracy: 0.974\n",
      "Epoch: 29   - Cost: 1.48     Validation Accuracy: 0.975\n",
      "Epoch: 30   - Cost: 1.48     Validation Accuracy: 0.976\n",
      "Epoch: 31   - Cost: 1.48     Validation Accuracy: 0.976\n",
      "Epoch: 32   - Cost: 1.48     Validation Accuracy: 0.976\n",
      "Epoch: 33   - Cost: 1.48     Validation Accuracy: 0.975\n",
      "Epoch: 34   - Cost: 1.48     Validation Accuracy: 0.976\n",
      "Epoch: 35   - Cost: 1.48     Validation Accuracy: 0.977\n",
      "Epoch: 36   - Cost: 1.48     Validation Accuracy: 0.977\n",
      "Epoch: 37   - Cost: 1.48     Validation Accuracy: 0.977\n",
      "Epoch: 38   - Cost: 1.48     Validation Accuracy: 0.977\n",
      "Epoch: 39   - Cost: 1.48     Validation Accuracy: 0.978\n",
      "Epoch: 40   - Cost: 1.48     Validation Accuracy: 0.978\n",
      "Epoch: 41   - Cost: 1.48     Validation Accuracy: 0.978\n",
      "Epoch: 42   - Cost: 1.48     Validation Accuracy: 0.977\n",
      "Epoch: 43   - Cost: 1.48     Validation Accuracy: 0.978\n",
      "Epoch: 44   - Cost: 1.48     Validation Accuracy: 0.979\n",
      "Epoch: 45   - Cost: 1.48     Validation Accuracy: 0.979\n",
      "Epoch: 46   - Cost: 1.48     Validation Accuracy: 0.978\n",
      "Epoch: 47   - Cost: 1.48     Validation Accuracy: 0.979\n",
      "Epoch: 48   - Cost: 1.48     Validation Accuracy: 0.979\n",
      "Epoch: 49   - Cost: 1.48     Validation Accuracy: 0.979\n",
      "Epoch: 50   - Cost: 1.48     Validation Accuracy: 0.979\n",
      "Epoch: 51   - Cost: 1.48     Validation Accuracy: 0.98 \n",
      "Epoch: 52   - Cost: 1.48     Validation Accuracy: 0.98 \n",
      "Epoch: 53   - Cost: 1.48     Validation Accuracy: 0.979\n",
      "Epoch: 54   - Cost: 1.48     Validation Accuracy: 0.979\n",
      "Epoch: 55   - Cost: 1.48     Validation Accuracy: 0.98 \n",
      "Epoch: 56   - Cost: 1.48     Validation Accuracy: 0.979\n",
      "Epoch: 57   - Cost: 1.48     Validation Accuracy: 0.98 \n",
      "Epoch: 58   - Cost: 1.48     Validation Accuracy: 0.981\n",
      "Epoch: 59   - Cost: 1.48     Validation Accuracy: 0.98 \n",
      "Epoch: 60   - Cost: 1.48     Validation Accuracy: 0.98 \n",
      "Epoch: 61   - Cost: 1.48     Validation Accuracy: 0.98 \n",
      "Epoch: 62   - Cost: 1.48     Validation Accuracy: 0.98 \n",
      "Epoch: 63   - Cost: 1.48     Validation Accuracy: 0.981\n",
      "Epoch: 64   - Cost: 1.48     Validation Accuracy: 0.98 \n",
      "Epoch: 65   - Cost: 1.48     Validation Accuracy: 0.98 \n",
      "Epoch: 66   - Cost: 1.48     Validation Accuracy: 0.981\n",
      "Epoch: 67   - Cost: 1.48     Validation Accuracy: 0.981\n",
      "Epoch: 68   - Cost: 1.48     Validation Accuracy: 0.98 \n",
      "Epoch: 69   - Cost: 1.48     Validation Accuracy: 0.98 \n",
      "Epoch: 70   - Cost: 1.48     Validation Accuracy: 0.98 \n",
      "Epoch: 71   - Cost: 1.48     Validation Accuracy: 0.98 \n",
      "Epoch: 72   - Cost: 1.48     Validation Accuracy: 0.981\n",
      "Epoch: 73   - Cost: 1.48     Validation Accuracy: 0.981\n",
      "Epoch: 74   - Cost: 1.48     Validation Accuracy: 0.982\n",
      "Epoch: 75   - Cost: 1.48     Validation Accuracy: 0.98 \n",
      "Epoch: 76   - Cost: 1.48     Validation Accuracy: 0.981\n",
      "Epoch: 77   - Cost: 1.48     Validation Accuracy: 0.982\n",
      "Epoch: 78   - Cost: 1.48     Validation Accuracy: 0.982\n",
      "Epoch: 79   - Cost: 1.48     Validation Accuracy: 0.982\n",
      "Epoch: 80   - Cost: 1.48     Validation Accuracy: 0.981\n",
      "Epoch: 81   - Cost: 1.48     Validation Accuracy: 0.982\n",
      "Epoch: 82   - Cost: 1.48     Validation Accuracy: 0.982\n",
      "Epoch: 83   - Cost: 1.48     Validation Accuracy: 0.982\n",
      "Epoch: 84   - Cost: 1.48     Validation Accuracy: 0.982\n",
      "Epoch: 85   - Cost: 1.48     Validation Accuracy: 0.982\n",
      "Epoch: 86   - Cost: 1.48     Validation Accuracy: 0.982\n",
      "Epoch: 87   - Cost: 1.48     Validation Accuracy: 0.982\n",
      "Epoch: 88   - Cost: 1.48     Validation Accuracy: 0.982\n",
      "Epoch: 89   - Cost: 1.48     Validation Accuracy: 0.981\n",
      "Epoch: 90   - Cost: 1.48     Validation Accuracy: 0.982\n",
      "Epoch: 91   - Cost: 1.48     Validation Accuracy: 0.982\n",
      "Epoch: 92   - Cost: 1.48     Validation Accuracy: 0.982\n",
      "Epoch: 93   - Cost: 1.48     Validation Accuracy: 0.982\n",
      "Epoch: 94   - Cost: 1.48     Validation Accuracy: 0.982\n",
      "Epoch: 95   - Cost: 1.48     Validation Accuracy: 0.982\n",
      "Epoch: 96   - Cost: 1.48     Validation Accuracy: 0.982\n",
      "Epoch: 97   - Cost: 1.48     Validation Accuracy: 0.983\n",
      "Epoch: 98   - Cost: 1.48     Validation Accuracy: 0.982\n",
      "Epoch: 99   - Cost: 1.48     Validation Accuracy: 0.982\n",
      "Epoch: 100  - Cost: 1.48     Validation Accuracy: 0.982\n"
     ]
    }
   ],
   "source": [
    "# Parameters\n",
    "batch_size = 500\n",
    "train_batches = batches(batch_size, X_train, y_train)\n",
    "\n",
    "epochs = 100\n",
    "DropOutRate = 0.35\n",
    "\n",
    "# Trains\n",
    "init = tf.global_variables_initializer()\n",
    "\n",
    "costs_train = []\n",
    "costs_val = []\n",
    "costs_test = []\n",
    "with tf.Session() as session:\n",
    "    session.run(init)\n",
    "\n",
    "    for epoch in range(epochs):\n",
    "        for batch_X, batch_y in train_batches:\n",
    "            # Train\n",
    "            session.run(\n",
    "                optimizer, \n",
    "                feed_dict={\n",
    "                    X: batch_X,\n",
    "                    Y: batch_y,\n",
    "                    keep_prob: (1.0 - DropOutRate)})\n",
    "        \n",
    "        # Print cost and validation accuracy of an epoch\n",
    "        print_epoch_stats(epoch + 1, session)\n",
    "    \n",
    "        # Collect costs for plotting\n",
    "        costs_train.append(session.run(cost, feed_dict={X:X_train, Y:y_train, keep_prob : 1}))\n",
    "        costs_val.append(session.run(cost, feed_dict={X:X_val, Y:y_val, keep_prob : 1}))\n",
    "        costs_test.append(session.run(cost, feed_dict={X:X_test, Y:y_test, keep_prob : 1}))\n",
    "\n",
    "    # Calculate accuracies\n",
    "    accuracy_train = session.run(\n",
    "        accuracy,\n",
    "        feed_dict={\n",
    "            X: X_train,\n",
    "            Y: y_train,\n",
    "            keep_prob: 1})\n",
    "\n",
    "    accuracy_test = session.run(\n",
    "        accuracy,\n",
    "        feed_dict={\n",
    "            X: X_test,\n",
    "            Y: y_test,\n",
    "            keep_prob: 1})"
   ]
  },
  {
   "cell_type": "markdown",
   "metadata": {},
   "source": [
    "## Evaluate"
   ]
  },
  {
   "cell_type": "code",
   "execution_count": 14,
   "metadata": {},
   "outputs": [
    {
     "data": {
      "image/png": "[encoded data removed]",
      "text/plain": [
       "<matplotlib.figure.Figure at 0x7ff5623beb00>"
      ]
     },
     "metadata": {},
     "output_type": "display_data"
    }
   ],
   "source": [
    "iterations = list(range(epochs))\n",
    "plt.plot(iterations, costs_train, label='Train')\n",
    "plt.plot(iterations, costs_val, label='Validation')\n",
    "plt.plot(iterations, costs_test, label='Test')\n",
    "plt.ylabel('Cost')\n",
    "plt.xlabel('iterations')\n",
    "plt.show()"
   ]
  },
  {
   "cell_type": "code",
   "execution_count": 15,
   "metadata": {},
   "outputs": [
    {
     "name": "stdout",
     "output_type": "stream",
     "text": [
      "Train Accuracy: 0.9975\n",
      "Test Accuracy: 0.9816\n"
     ]
    }
   ],
   "source": [
    "print(\"Train Accuracy:\", accuracy_train)\n",
    "print(\"Test Accuracy:\", accuracy_test)"
   ]
  }
 ],
 "metadata": {
  "kernelspec": {
   "display_name": "Python 3",
   "language": "python",
   "name": "python3"
  },
  "language_info": {
   "codemirror_mode": {
    "name": "ipython",
    "version": 3
   },
   "file_extension": ".py",
   "mimetype": "text/x-python",
   "name": "python",
   "nbconvert_exporter": "python",
   "pygments_lexer": "ipython3",
   "version": "3.6.0"
  }
 },
 "nbformat": 4,
 "nbformat_minor": 2
}
