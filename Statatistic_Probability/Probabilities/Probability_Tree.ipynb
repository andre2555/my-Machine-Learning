{
 "cells": [
  {
   "cell_type": "markdown",
   "metadata": {},
   "source": [
    "## Problem Statement - Monty Hall\n",
    "- 3 doors [1,2,3], 1 door has a big prize inside\n",
    "- Proceed:\n",
    "    + Constestant choose 1 door\n",
    "    + Host open 1 empty door then ask if contestant want to switch?\n",
    "- Find the best strategy: switch or not swtich "
   ]
  },
  {
   "cell_type": "markdown",
   "metadata": {},
   "source": [
    "## Solve\n",
    "- Not switch: P(winning) = 1/3\n",
    "- Switch: P(winning) = 2/3\n",
    "\n",
    "![](./img/1.jpg)\n"
   ]
  }
 ],
 "metadata": {
  "kernelspec": {
   "display_name": "Python 3.6",
   "language": "python",
   "name": "py36"
  },
  "language_info": {
   "codemirror_mode": {
    "name": "ipython",
    "version": 3
   },
   "file_extension": ".py",
   "mimetype": "text/x-python",
   "name": "python",
   "nbconvert_exporter": "python",
   "pygments_lexer": "ipython3",
   "version": "3.6.6"
  }
 },
 "nbformat": 4,
 "nbformat_minor": 2
}
