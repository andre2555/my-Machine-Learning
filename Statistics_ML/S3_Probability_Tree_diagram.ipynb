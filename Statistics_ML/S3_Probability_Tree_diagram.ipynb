{
 "cells": [
  {
   "cell_type": "markdown",
   "metadata": {},
   "source": [
    "## Tree Diagram\n",
    "<img src=\"./img/2.jpg\" alt=\"drawing\" width=\"550\"/>\n"
   ]
  },
  {
   "cell_type": "markdown",
   "metadata": {},
   "source": [
    "## Ice-cream Stall\n",
    "- A stall has infinite ice-creams and only 2 soft-drink bottles left\n",
    "    + You are the last one on a queue of 4 people\n",
    "    + Each people in front of you have the probability to order(1 ice-cream or 1 soft-drink)\n",
    "        + P(ice-cream) = 0.6\n",
    "        + P(soft-drink) = 0.4\n",
    "    + You want to order a soft-drink. Calculate the Prob\n",
    "    \n",
    "#### Solution\n",
    "\n",
    "<img src=\"./img/5.jpg\" alt=\"drawing\" width=\"900\"/>\n"
   ]
  },
  {
   "cell_type": "markdown",
   "metadata": {},
   "source": [
    "## Monty Hall\n",
    "- 3 doors [1,2,3], 1 door has a big prize inside\n",
    "- Proceed:\n",
    "    + Constestant choose 1 door\n",
    "    + Host open 1 empty door then ask if contestant want to switch?\n",
    "- Find the best strategy: switch or not swtich \n",
    "\n",
    "#### Solution\n",
    "- Not switch: P(winning) = 1/3\n",
    "- Switch: P(winning) = 2/3\n",
    "\n",
    "![](./img/1.jpg)\n"
   ]
  }
 ],
 "metadata": {
  "kernelspec": {
   "display_name": "Python 3.6",
   "language": "python",
   "name": "py36"
  },
  "language_info": {
   "codemirror_mode": {
    "name": "ipython",
    "version": 3
   },
   "file_extension": ".py",
   "mimetype": "text/x-python",
   "name": "python",
   "nbconvert_exporter": "python",
   "pygments_lexer": "ipython3",
   "version": "3.6.9"
  }
 },
 "nbformat": 4,
 "nbformat_minor": 2
}
