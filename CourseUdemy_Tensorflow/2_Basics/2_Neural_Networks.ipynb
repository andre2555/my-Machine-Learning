{
 "cells": [
  {
   "cell_type": "code",
   "execution_count": 1,
   "metadata": {},
   "outputs": [],
   "source": [
    "import matplotlib.pyplot as plt\n",
    "import pandas as pd\n",
    "import numpy as np\n",
    "from IPython.display import display\n",
    "import tensorflow as tf"
   ]
  },
  {
   "cell_type": "code",
   "execution_count": 2,
   "metadata": {},
   "outputs": [],
   "source": [
    "# Set random seed\n",
    "np.random.seed(101)\n",
    "tf.set_random_seed(101)"
   ]
  },
  {
   "cell_type": "markdown",
   "metadata": {},
   "source": [
    "## Operation Example"
   ]
  },
  {
   "cell_type": "markdown",
   "metadata": {},
   "source": [
    "#### Dataset"
   ]
  },
  {
   "cell_type": "code",
   "execution_count": 3,
   "metadata": {},
   "outputs": [
    {
     "data": {
      "text/plain": [
       "(5, 5)"
      ]
     },
     "metadata": {},
     "output_type": "display_data"
    },
    {
     "data": {
      "text/plain": [
       "(5, 1)"
      ]
     },
     "metadata": {},
     "output_type": "display_data"
    }
   ],
   "source": [
    "A = np.random.uniform(0,100,(5,5))\n",
    "B = np.random.uniform(0,100,(5,1))\n",
    "\n",
    "display(A.shape)\n",
    "display(B.shape)"
   ]
  },
  {
   "cell_type": "markdown",
   "metadata": {},
   "source": [
    "#### Model"
   ]
  },
  {
   "cell_type": "code",
   "execution_count": 4,
   "metadata": {},
   "outputs": [],
   "source": [
    "# Placeholders\n",
    "a = tf.placeholder(tf.float32)\n",
    "b = tf.placeholder(tf.float32)\n",
    "\n",
    "# Graph\n",
    "add_op = a + b\n",
    "mult_op = a * b"
   ]
  },
  {
   "cell_type": "code",
   "execution_count": 5,
   "metadata": {},
   "outputs": [
    {
     "name": "stdout",
     "output_type": "stream",
     "text": [
      "Add Operation result: \n",
      "[[151.07166  156.49855  102.27921  116.58396  167.95949 ]\n",
      " [135.45622   82.76316  141.42784  124.22093   71.06043 ]\n",
      " [113.30171   93.09215   76.06819  136.43912  154.42728 ]\n",
      " [ 96.71727   81.83804  133.83675  146.38118  101.10579 ]\n",
      " [122.72681  105.982925  59.044632  67.9831    72.89292 ]]\n",
      "\n",
      "Mul Operation result: \n",
      "[[5134.644   5674.25     283.12433 1705.4707  6813.8315 ]\n",
      " [4341.8125  1598.267   4652.734   3756.8293   988.94635]\n",
      " [3207.8113  2038.1029  1052.7742  4546.9805  5588.1157 ]\n",
      " [1707.379    614.02527 4434.989   5356.7773  2029.8555 ]\n",
      " [3714.0984  2806.6438   262.76764  747.19855 1013.292  ]]\n"
     ]
    }
   ],
   "source": [
    "with tf.Session() as sess:\n",
    "    # Evaluate Add op\n",
    "    print('Add Operation result: ')\n",
    "    add_result = sess.run(\n",
    "        add_op,\n",
    "        feed_dict={\n",
    "            a: A,\n",
    "            b: B})\n",
    "    print(add_result)\n",
    "    \n",
    "    # Evaluate Mul op\n",
    "    print('\\nMul Operation result: ')\n",
    "    mult_result = sess.run(\n",
    "        mult_op,\n",
    "        feed_dict={\n",
    "            a: A,\n",
    "            b: B})\n",
    "    print(mult_result)"
   ]
  },
  {
   "cell_type": "markdown",
   "metadata": {},
   "source": [
    "## Perceptron Example\n",
    "<img src=\"./img/1.jpg\" alt=\"drawing\" width=\"600\"/>\n"
   ]
  },
  {
   "cell_type": "markdown",
   "metadata": {},
   "source": [
    "#### Dataset"
   ]
  },
  {
   "cell_type": "code",
   "execution_count": 6,
   "metadata": {},
   "outputs": [
    {
     "data": {
      "text/plain": [
       "(1, 10)"
      ]
     },
     "execution_count": 6,
     "metadata": {},
     "output_type": "execute_result"
    }
   ],
   "source": [
    "X = np.random.random([1, 10])\n",
    "\n",
    "X.shape"
   ]
  },
  {
   "cell_type": "markdown",
   "metadata": {},
   "source": [
    "#### Model"
   ]
  },
  {
   "cell_type": "code",
   "execution_count": 7,
   "metadata": {},
   "outputs": [],
   "source": [
    "n_dense_neurons = 3\n",
    "\n",
    "# Placeholder: x\n",
    "X_ph = tf.placeholder(tf.float32, shape=(None, 10))\n",
    "\n",
    "# Variables: w, b\n",
    "b = tf.Variable(tf.zeros(shape=[n_dense_neurons]))\n",
    "W = tf.Variable(tf.random_normal(shape=[10, n_dense_neurons]))\n",
    "\n",
    "# Graph\n",
    "xW = tf.matmul(X_ph,W)\n",
    "z = tf.add(xW,b)\n",
    "a = tf.sigmoid(z)"
   ]
  },
  {
   "cell_type": "code",
   "execution_count": 8,
   "metadata": {},
   "outputs": [
    {
     "name": "stdout",
     "output_type": "stream",
     "text": [
      "[[0.53415525 0.44564104 0.5842615 ]]\n"
     ]
    }
   ],
   "source": [
    "# Init Global variables\n",
    "init = tf.global_variables_initializer()\n",
    "\n",
    "with tf.Session() as sess:\n",
    "    # Init Global variables\n",
    "    sess.run(init)\n",
    "    \n",
    "    # Train model\n",
    "    model = sess.run(\n",
    "        a,\n",
    "        feed_dict={\n",
    "            X_ph: X})\n",
    "\n",
    "print(model)"
   ]
  },
  {
   "cell_type": "markdown",
   "metadata": {},
   "source": [
    "## Linear Regression Example"
   ]
  },
  {
   "cell_type": "markdown",
   "metadata": {},
   "source": [
    "#### Dataset"
   ]
  },
  {
   "cell_type": "code",
   "execution_count": 9,
   "metadata": {},
   "outputs": [
    {
     "data": {
      "text/plain": [
       "<matplotlib.axes._subplots.AxesSubplot at 0x7fd44017b4a8>"
      ]
     },
     "metadata": {},
     "output_type": "display_data"
    },
    {
     "data": {
      "text/plain": [
       "(1000000,)"
      ]
     },
     "metadata": {},
     "output_type": "display_data"
    },
    {
     "data": {
      "text/plain": [
       "(1000000,)"
      ]
     },
     "metadata": {},
     "output_type": "display_data"
    },
    {
     "data": {
      "image/png": "[encoded data removed]",
      "text/plain": [
       "<Figure size 432x288 with 1 Axes>"
      ]
     },
     "metadata": {},
     "output_type": "display_data"
    }
   ],
   "source": [
    "X = np.linspace(0.0,10.0,1000000)\n",
    "y = (0.5 * X) + 5 + np.random.randn(len(X))\n",
    "\n",
    "data = pd.concat([\n",
    "    pd.DataFrame(data=X, columns=['X']),\n",
    "    pd.DataFrame(data=y, columns=['y'])],axis=1)\n",
    "\n",
    "display(data \\\n",
    "    .sample(n=250) \\\n",
    "    .plot(kind='scatter',x='X',y='y'))\n",
    "\n",
    "display(X.shape)\n",
    "display(y.shape)"
   ]
  },
  {
   "cell_type": "markdown",
   "metadata": {},
   "source": [
    "#### Model"
   ]
  },
  {
   "cell_type": "code",
   "execution_count": 10,
   "metadata": {},
   "outputs": [],
   "source": [
    "batch_size = 10\n",
    "\n",
    "# Variables\n",
    "W = tf.Variable(0.5)\n",
    "b = tf.Variable(1.0)\n",
    "\n",
    "# Placeholders\n",
    "X_ph = tf.placeholder(tf.float32, shape=[batch_size])\n",
    "y_ph = tf.placeholder(tf.float32, shape=[batch_size])\n",
    "\n",
    "# Graph\n",
    "y_pred = W*X_ph + b\n",
    "\n",
    "# Loss function\n",
    "loss = tf.reduce_sum(\n",
    "    tf.square(y_ph - y_pred))\n",
    "\n",
    "# Optimizer\n",
    "optimizer = tf.train.GradientDescentOptimizer(learning_rate=0.001)\n",
    "\n",
    "# Train Function\n",
    "train = optimizer.minimize(loss)"
   ]
  },
  {
   "cell_type": "code",
   "execution_count": 11,
   "metadata": {},
   "outputs": [],
   "source": [
    "def next_batch(X, y, batch_size=10):\n",
    "    # Select a random batch index\n",
    "    rand_idx = np.random.randint(\n",
    "        len(X),\n",
    "        size=batch_size)\n",
    "\n",
    "    return X[rand_idx], y[rand_idx]"
   ]
  },
  {
   "cell_type": "code",
   "execution_count": 12,
   "metadata": {},
   "outputs": [
    {
     "name": "stdout",
     "output_type": "stream",
     "text": [
      "Epoch: 0 - MSE loss = 29.765052795410156\n",
      "Epoch: 500 - MSE loss = 12.582509994506836\n",
      "Epoch: 1000 - MSE loss = 10.763671875\n",
      "Epoch: 1500 - MSE loss = 13.52699089050293\n",
      "Epoch: 2000 - MSE loss = 6.366916656494141\n",
      "Epoch: 2500 - MSE loss = 12.62639331817627\n",
      "Epoch: 3000 - MSE loss = 7.27824592590332\n",
      "Epoch: 3500 - MSE loss = 7.377480506896973\n",
      "Epoch: 4000 - MSE loss = 9.431181907653809\n",
      "Epoch: 4500 - MSE loss = 4.750251770019531\n",
      "Epoch: 5000 - MSE loss = 1.9204293489456177\n",
      "Epoch: 5500 - MSE loss = 16.291837692260742\n",
      "Epoch: 6000 - MSE loss = 5.199832916259766\n",
      "Epoch: 6500 - MSE loss = 7.995843410491943\n",
      "Epoch: 7000 - MSE loss = 11.378549575805664\n",
      "Epoch: 7500 - MSE loss = 7.803361415863037\n",
      "Epoch: 8000 - MSE loss = 6.719941139221191\n",
      "Epoch: 8500 - MSE loss = 7.275454998016357\n",
      "Epoch: 9000 - MSE loss = 12.311779022216797\n",
      "Epoch: 9500 - MSE loss = 5.122316360473633\n",
      "Epoch: 10000 - MSE loss = 7.522307872772217\n"
     ]
    },
    {
     "data": {
      "text/plain": [
       "[0.50191176, 5.0082445]"
      ]
     },
     "metadata": {},
     "output_type": "display_data"
    }
   ],
   "source": [
    "# Init global variables\n",
    "init = tf.global_variables_initializer()\n",
    "\n",
    "# epochs\n",
    "epochs = 10001\n",
    "\n",
    "# MSE\n",
    "losses = []\n",
    "\n",
    "with tf.Session() as sess:\n",
    "    # Init variables\n",
    "    sess.run(init)\n",
    "\n",
    "    # Train\n",
    "    for i in range(epochs):\n",
    "        # Select a random batch\n",
    "        X_batch, y_batch = next_batch(X , y, batch_size)\n",
    "\n",
    "        # train\n",
    "        sess.run(\n",
    "            train,\n",
    "            feed_dict={\n",
    "                X_ph: X_batch,\n",
    "                y_ph: y_batch})\n",
    "\n",
    "        if i%100 == 0:\n",
    "            # Train mse\n",
    "            mse = loss.eval(\n",
    "                feed_dict={\n",
    "                    X_ph: X_batch,\n",
    "                    y_ph: y_batch})\n",
    "            losses.append(mse)\n",
    "\n",
    "            # PRINT OUT A MESSAGE EVERY 500 STEPS\n",
    "            if i%500 == 0: \n",
    "                print('Epoch: {} - MSE loss = {}'.format(i, mse))\n",
    "\n",
    "\n",
    "    # Get model\n",
    "    model = sess.run([W,b])\n",
    "    display(model)"
   ]
  },
  {
   "cell_type": "code",
   "execution_count": 13,
   "metadata": {},
   "outputs": [
    {
     "data": {
      "text/plain": [
       "[<matplotlib.lines.Line2D at 0x7fd440068898>]"
      ]
     },
     "execution_count": 13,
     "metadata": {},
     "output_type": "execute_result"
    },
    {
     "data": {
      "image/png": "[encoded data removed]",
      "text/plain": [
       "<Figure size 432x288 with 1 Axes>"
      ]
     },
     "metadata": {},
     "output_type": "display_data"
    }
   ],
   "source": [
    "plt.plot(losses)"
   ]
  },
  {
   "cell_type": "markdown",
   "metadata": {},
   "source": [
    "#### Evaluate"
   ]
  },
  {
   "cell_type": "code",
   "execution_count": 14,
   "metadata": {},
   "outputs": [
    {
     "data": {
      "text/plain": [
       "[<matplotlib.lines.Line2D at 0x7fd44006deb8>]"
      ]
     },
     "execution_count": 14,
     "metadata": {},
     "output_type": "execute_result"
    },
    {
     "data": {
      "image/png": "[encoded data removed]",
      "text/plain": [
       "<Figure size 432x288 with 1 Axes>"
      ]
     },
     "metadata": {},
     "output_type": "display_data"
    }
   ],
   "source": [
    "y_pred = X * model[0] + model[1]\n",
    "\n",
    "data.sample(n=250).plot(kind='scatter',x='X',y='y')\n",
    "plt.plot(X, y_pred,'r')"
   ]
  }
 ],
 "metadata": {
  "kernelspec": {
   "display_name": "Python 3.6",
   "language": "python",
   "name": "py36"
  },
  "language_info": {
   "codemirror_mode": {
    "name": "ipython",
    "version": 3
   },
   "file_extension": ".py",
   "mimetype": "text/x-python",
   "name": "python",
   "nbconvert_exporter": "python",
   "pygments_lexer": "ipython3",
   "version": "3.6.6"
  }
 },
 "nbformat": 4,
 "nbformat_minor": 2
}
