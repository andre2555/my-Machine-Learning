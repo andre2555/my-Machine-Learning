{
 "cells": [
  {
   "cell_type": "markdown",
   "metadata": {},
   "source": [
    "## Data Product\n",
    "- Data products = system models help us to understand data in order to\n",
    "    + gain insights\n",
    "    + make predictions\n",
    "\n",
    "<img src=\"./img/1.jpg\" alt=\"drawing\" width=\"600\"/>\n",
    "\n",
    "## Predictive models\n",
    "- **Predict** users future actions based on their past activities\n",
    "- **Recommend** content to users that they are likely to consume\n",
    "- **Estimate** demand for a product\n",
    "\n",
    "## Recommender systems\n",
    "- Recommender systems\n",
    "    - **Modeling task**: Predict what rating a person will give to an item\n",
    "    - **Data Product**: build a system to recommend products that people are interested in\n",
    "    - **Modeling challenges**: how are opinions influenced by \n",
    "        + time\n",
    "        + gender\n",
    "        + age\n",
    "        + location\n",
    "\n",
    "- Example: Social Network\n",
    "    + **Modeling task**: predict if 2 users are likely to be friends\n",
    "    + **Data Product**: \"People you may know\" feature\n",
    "    + **Modeling challenges**: what features describe friendships\n",
    "\n",
    "- Example: Advertising\n",
    "    + **Modeling task**: predict whether a user click an ad\n",
    "    + **Data Product**: Ad recommender system \n",
    "    + **Modeling challenges**: \n",
    "        + what product tend to be purchased together\n",
    "        + how do purchases change over time"
   ]
  }
 ],
 "metadata": {
  "kernelspec": {
   "display_name": "Python 3.6",
   "language": "python",
   "name": "py36"
  },
  "language_info": {
   "codemirror_mode": {
    "name": "ipython",
    "version": 3
   },
   "file_extension": ".py",
   "mimetype": "text/x-python",
   "name": "python",
   "nbconvert_exporter": "python",
   "pygments_lexer": "ipython3",
   "version": "3.6.6"
  }
 },
 "nbformat": 4,
 "nbformat_minor": 2
}
