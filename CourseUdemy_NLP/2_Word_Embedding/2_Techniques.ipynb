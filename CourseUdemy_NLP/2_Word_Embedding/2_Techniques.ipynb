{
 "cells": [
  {
   "cell_type": "markdown",
   "metadata": {},
   "source": [
    "## Neural Bigram\n",
    "$$p(x_{t+1}|x_t)=softmax(W^{(2)T}f(W^{(1)T}x_t))$$\n",
    "\n",
    "<img src=\"./img/1.jpg\" alt=\"drawing\" width=\"500\"/>"
   ]
  },
  {
   "cell_type": "markdown",
   "metadata": {},
   "source": [
    "## CBOW - Continous Bag of Words\n",
    "- Have a list of context words to predict a word in the middle\n",
    "<img src=\"./img/2.jpg\" alt=\"drawing\" width=\"500\"/>\n",
    "\n",
    "- context words should be 5-10 on either side\n",
    "\n",
    "- Model\n",
    "$$h = \\frac{1}{|C|}\\sum_{c\\subset C}W^{(1)T}_c$$\n",
    "$$p(y|C)=softmax(W^{(2)T}h)$$\n",
    "    + c = context words\n"
   ]
  },
  {
   "cell_type": "markdown",
   "metadata": {},
   "source": [
    "## Skipgram\n",
    "<img src=\"./img/3.jpg\" alt=\"drawing\" width=\"500\"/>\n",
    "\n",
    "- Bigram\n",
    "    + jumps -> over\n",
    "- Skipgram\n",
    "    + jumps -> over\n",
    "    + jumps -> fox\n",
    "    + jumps -> fox\n",
    "    + jumps -> the\n",
    "- Skipgram model\n",
    "$$h=W^{(1)}_{input}$$\n",
    "$$p(y|input)=softmax(W^{(2)T}h)$$"
   ]
  }
 ],
 "metadata": {
  "kernelspec": {
   "display_name": "Root",
   "language": "python",
   "name": "python3"
  },
  "language_info": {
   "codemirror_mode": {
    "name": "ipython",
    "version": 3
   },
   "file_extension": ".py",
   "mimetype": "text/x-python",
   "name": "python",
   "nbconvert_exporter": "python",
   "pygments_lexer": "ipython3",
   "version": "3.6.5"
  }
 },
 "nbformat": 4,
 "nbformat_minor": 2
}
