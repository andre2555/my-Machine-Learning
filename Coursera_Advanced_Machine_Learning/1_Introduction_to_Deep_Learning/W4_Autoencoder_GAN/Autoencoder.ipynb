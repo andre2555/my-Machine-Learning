{
  "nbformat": 4,
  "nbformat_minor": 0,
  "metadata": {
    "colab": {
      "name": "Autoencoder.ipynb",
      "version": "0.3.2",
      "provenance": [],
      "collapsed_sections": []
    },
    "kernelspec": {
      "name": "python3",
      "display_name": "Python 3"
    },
    "accelerator": "GPU"
  },
  "cells": [
    {
      "metadata": {
        "id": "elazz6lNwvBp",
        "colab_type": "text"
      },
      "cell_type": "markdown",
      "source": [
        "## Setup"
      ]
    },
    {
      "metadata": {
        "id": "7IOXabXUwQFf",
        "colab_type": "code",
        "colab": {
          "base_uri": "https://localhost:8080/",
          "height": 341
        },
        "outputId": "b04f0dba-d6aa-40ed-e59c-7ec1fa77fa4f"
      },
      "cell_type": "code",
      "source": [
        "! shred -u setup_google_colab.py\n",
        "! wget https://raw.githubusercontent.com/hse-aml/intro-to-dl/master/setup_google_colab.py -O setup_google_colab.py\n",
        "\n",
        "import setup_google_colab\n",
        "setup_google_colab.setup_week4()"
      ],
      "execution_count": 1,
      "outputs": [
        {
          "output_type": "stream",
          "text": [
            "shred: setup_google_colab.py: failed to open for writing: No such file or directory\n",
            "--2018-10-20 13:16:06--  https://raw.githubusercontent.com/hse-aml/intro-to-dl/master/setup_google_colab.py\n",
            "Resolving raw.githubusercontent.com (raw.githubusercontent.com)... 151.101.0.133, 151.101.64.133, 151.101.128.133, ...\n",
            "Connecting to raw.githubusercontent.com (raw.githubusercontent.com)|151.101.0.133|:443... connected.\n",
            "HTTP request sent, awaiting response... 200 OK\n",
            "Length: 3595 (3.5K) [text/plain]\n",
            "Saving to: ‘setup_google_colab.py’\n",
            "\n",
            "setup_google_colab. 100%[===================>]   3.51K  --.-KB/s    in 0s      \n",
            "\n",
            "2018-10-20 13:16:06 (65.8 MB/s) - ‘setup_google_colab.py’ saved [3595/3595]\n",
            "\n",
            "**************************************************\n",
            "lfw-deepfunneled.tgz\n",
            "**************************************************\n",
            "lfw.tgz\n",
            "**************************************************\n",
            "lfw_attributes.txt\n"
          ],
          "name": "stdout"
        }
      ]
    },
    {
      "metadata": {
        "id": "coxDv1NYyFIF",
        "colab_type": "code",
        "colab": {}
      },
      "cell_type": "code",
      "source": [
        "import pandas as pd\n",
        "import numpy as np\n",
        "import matplotlib.pyplot as plt\n",
        "from IPython.display import display"
      ],
      "execution_count": 0,
      "outputs": []
    },
    {
      "metadata": {
        "id": "TQbvhnhp0fg5",
        "colab_type": "code",
        "colab": {
          "base_uri": "https://localhost:8080/",
          "height": 35
        },
        "outputId": "abfd473f-d00d-4b73-daee-3f9aa11a20b9"
      },
      "cell_type": "code",
      "source": [
        "import keras, keras.layers as L, keras.backend as K\n",
        "import tensorflow as tf\n",
        "\n",
        "# !!! remember to clear session/graph if you rebuild your graph to avoid out-of-memory errors !!!\n",
        "def reset_tf_session():\n",
        "    K.clear_session()\n",
        "    tf.reset_default_graph()\n",
        "    s = K.get_session()\n",
        "    return s"
      ],
      "execution_count": 4,
      "outputs": [
        {
          "output_type": "stream",
          "text": [
            "Using TensorFlow backend.\n"
          ],
          "name": "stderr"
        }
      ]
    },
    {
      "metadata": {
        "id": "SlFSonH256Ux",
        "colab_type": "code",
        "colab": {}
      },
      "cell_type": "code",
      "source": [
        "# token expires every 30 min\n",
        "COURSERA_TOKEN = 'xwUykND0orYrYEg4'\n",
        "COURSERA_EMAIL = 'dangledangkhoa@gmail.com'"
      ],
      "execution_count": 0,
      "outputs": []
    },
    {
      "metadata": {
        "id": "av-FxIVVxBMc",
        "colab_type": "text"
      },
      "cell_type": "markdown",
      "source": [
        "## Load dataset \n",
        "Dataset was downloaded for you. Relevant links (just in case):\n",
        "- http://vis-www.cs.umass.edu/lfw/\n",
        "- http://www.cs.columbia.edu/CAVE/databases/pubfig/download/lfw_attributes.txt\n",
        "- http://vis-www.cs.umass.edu/lfw/lfw-deepfunneled.tgz\n",
        "- http://vis-www.cs.umass.edu/lfw/lfw.tgz"
      ]
    },
    {
      "metadata": {
        "id": "X2i52Q-NwulN",
        "colab_type": "code",
        "colab": {}
      },
      "cell_type": "code",
      "source": [
        "# we downloaded them for you, just link them here\n",
        "! ln -s $(realpath ../readonly/week4/*) ."
      ],
      "execution_count": 0,
      "outputs": []
    },
    {
      "metadata": {
        "id": "w7x1hr86xEsP",
        "colab_type": "code",
        "colab": {
          "base_uri": "https://localhost:8080/",
          "height": 53
        },
        "outputId": "cb190216-cb72-4639-cdfc-813ac9578f4f"
      },
      "cell_type": "code",
      "source": [
        "from lfw_dataset import load_lfw_dataset\n",
        "\n",
        "# load images\n",
        "X, attr = load_lfw_dataset(use_raw=True, dimx=32, dimy=32)\n",
        "\n",
        "IMG_SHAPE = X.shape[1:]"
      ],
      "execution_count": 7,
      "outputs": [
        {
          "output_type": "stream",
          "text": [
            "**************************************************\n",
            "\n"
          ],
          "name": "stdout"
        }
      ]
    },
    {
      "metadata": {
        "id": "z6fk7WVwxQUC",
        "colab_type": "code",
        "colab": {}
      },
      "cell_type": "code",
      "source": [
        "# center images\n",
        "X = X.astype('float32') / 255.0 - 0.5"
      ],
      "execution_count": 0,
      "outputs": []
    },
    {
      "metadata": {
        "id": "KSfjP9exxoBy",
        "colab_type": "code",
        "colab": {}
      },
      "cell_type": "code",
      "source": [
        "from sklearn.model_selection import train_test_split\n",
        "\n",
        "# split dataset\n",
        "X_train, X_test = train_test_split(X, test_size=0.1, random_state=42)"
      ],
      "execution_count": 0,
      "outputs": []
    },
    {
      "metadata": {
        "id": "tc2bShczxyuS",
        "colab_type": "text"
      },
      "cell_type": "markdown",
      "source": [
        "## Sample Images"
      ]
    },
    {
      "metadata": {
        "id": "z97Jqcnzx0o1",
        "colab_type": "code",
        "colab": {
          "base_uri": "https://localhost:8080/",
          "height": 350
        },
        "outputId": "bbdb857f-3626-47af-fca6-318cf338336c"
      },
      "cell_type": "code",
      "source": [
        "def show_image(x):\n",
        "    plt.imshow(np.clip(x + 0.5, 0, 1))\n",
        "    \n",
        "\n",
        "plt.title('sample images')\n",
        "\n",
        "for i in range(12):\n",
        "    plt.subplot(3,4,i+1)\n",
        "    show_image(X[i])"
      ],
      "execution_count": 10,
      "outputs": [
        {
          "output_type": "display_data",
          "data": {
            "image/png": "[encoded data removed]",
            "text/plain": [
              "<matplotlib.figure.Figure at 0x7f7a54c155c0>"
            ]
          },
          "metadata": {
            "tags": []
          }
        }
      ]
    },
    {
      "metadata": {
        "id": "KQbkCNmrx-x2",
        "colab_type": "code",
        "colab": {
          "base_uri": "https://localhost:8080/",
          "height": 53
        },
        "outputId": "6aef4f06-43cb-472f-e84e-e1817811906b"
      },
      "cell_type": "code",
      "source": [
        "print(\"X shape:\", X.shape)\n",
        "print(\"attr shape:\", attr.shape)"
      ],
      "execution_count": 11,
      "outputs": [
        {
          "output_type": "stream",
          "text": [
            "X shape: (13143, 32, 32, 3)\n",
            "attr shape: (13143, 73)\n"
          ],
          "name": "stdout"
        }
      ]
    },
    {
      "metadata": {
        "id": "xEze2y3Xxrd0",
        "colab_type": "code",
        "colab": {
          "base_uri": "https://localhost:8080/",
          "height": 35
        },
        "outputId": "0865b1bf-fa19-4892-e656-31e581fc5cfe"
      },
      "cell_type": "code",
      "source": [
        "# try to free memory\n",
        "del X\n",
        "import gc\n",
        "gc.collect()"
      ],
      "execution_count": 12,
      "outputs": [
        {
          "output_type": "execute_result",
          "data": {
            "text/plain": [
              "22462"
            ]
          },
          "metadata": {
            "tags": []
          },
          "execution_count": 12
        }
      ]
    },
    {
      "metadata": {
        "id": "u7LKag62zXvO",
        "colab_type": "text"
      },
      "cell_type": "markdown",
      "source": [
        "# Autoencoder architecture\n",
        "\n",
        "Let's design autoencoder as two sequential keras models: the encoder and decoder respectively.\n",
        "\n",
        "We will then use symbolic API to apply and train those models.\n",
        "\n",
        "<img src=\"images/autoencoder.png\" style=\"width:50%\">\n",
        "<img src=\"http://nghiaho.com/wp-content/uploads/2012/12/autoencoder_network1.png\" width=640px>\n",
        "\n"
      ]
    },
    {
      "metadata": {
        "id": "PJntyW49zgLh",
        "colab_type": "text"
      },
      "cell_type": "markdown",
      "source": [
        "## PCA Autoencoder\n",
        "\n",
        "Principial Component Analysis is a popular dimensionality reduction method. \n",
        "\n",
        "Under the hood, PCA attempts to decompose object-feature matrix $X$ into two smaller matrices: $W$ and $\\hat W$ minimizing _mean squared error_:\n",
        "\n",
        "$$\\|(X W) \\hat{W} - X\\|^2_2 \\to_{W, \\hat{W}} \\min$$\n",
        "- $X \\in \\mathbb{R}^{n \\times m}$ - object matrix (**centered**);\n",
        "- $W \\in \\mathbb{R}^{m \\times d}$ - matrix of direct transformation;\n",
        "- $\\hat{W} \\in \\mathbb{R}^{d \\times m}$ - matrix of reverse transformation;\n",
        "- $n$ samples, $m$ original dimensions and $d$ target dimensions;\n",
        "\n",
        "In geometric terms, we want to find d axes along which most of variance occurs. The \"natural\" axes, if you wish.\n",
        "\n",
        "![](https://upload.wikimedia.org/wikipedia/commons/thumb/9/90/PCA_fish.png/256px-PCA_fish.png)\n",
        "<img src=\"images/pca.png\" style=\"width:30%\">\n",
        "\n",
        "\n",
        "PCA can also be seen as a special case of an autoencoder.\n",
        "\n",
        "* __Encoder__: X -> Dense(d units) -> code\n",
        "* __Decoder__: code -> Dense(m units) -> X\n",
        "\n",
        "Where Dense is a fully-connected layer with linear activaton:   $f(X) = W \\cdot X + \\vec b $\n",
        "\n",
        "\n",
        "Note: the bias term in those layers is responsible for \"centering\" the matrix i.e. substracting mean."
      ]
    },
    {
      "metadata": {
        "id": "qPu6pAV_zEbV",
        "colab_type": "code",
        "colab": {}
      },
      "cell_type": "code",
      "source": [
        "def build_pca_autoencoder(img_shape,code_size=32):\n",
        "    \"\"\"\n",
        "    Here we define a simple linear autoencoder as described above.\n",
        "    We also flatten and un-flatten data to be compatible with image shapes\n",
        "    \"\"\"\n",
        "    \n",
        "    encoder = keras.models.Sequential()\n",
        "    encoder.add(L.InputLayer(img_shape))\n",
        "    encoder.add(L.Flatten())                  #flatten image to vector\n",
        "    encoder.add(L.Dense(code_size))           #actual encoder\n",
        "\n",
        "    decoder = keras.models.Sequential()\n",
        "    decoder.add(L.InputLayer((code_size,)))\n",
        "    decoder.add(L.Dense(np.prod(img_shape)))  #actual decoder, height*width*3 units\n",
        "    decoder.add(L.Reshape(img_shape))         #un-flatten\n",
        "    \n",
        "    return encoder,decoder"
      ],
      "execution_count": 0,
      "outputs": []
    },
    {
      "metadata": {
        "id": "TDbY4a-9zmJV",
        "colab_type": "code",
        "colab": {
          "base_uri": "https://localhost:8080/",
          "height": 145
        },
        "outputId": "f62d894b-0146-4e73-f65c-f705f489daa8"
      },
      "cell_type": "code",
      "source": [
        "# Meld them together into one model\n",
        "s = reset_tf_session()\n",
        "\n",
        "encoder, decoder = build_pca_autoencoder(IMG_SHAPE, code_size=32)\n",
        "\n",
        "inp = L.Input(IMG_SHAPE)\n",
        "code = encoder(inp)\n",
        "reconstruction = decoder(code)\n",
        "\n",
        "# model\n",
        "autoencoder = keras.models.Model(\n",
        "    inputs=inp,\n",
        "    outputs=reconstruction)\n",
        "\n",
        "# Compile\n",
        "autoencoder.compile(optimizer='adamax', loss='mse')"
      ],
      "execution_count": 14,
      "outputs": [
        {
          "output_type": "stream",
          "text": [
            "WARNING:tensorflow:From /usr/local/lib/python3.6/dist-packages/keras/backend/tensorflow_backend.py:1210: calling reduce_prod (from tensorflow.python.ops.math_ops) with keep_dims is deprecated and will be removed in a future version.\n",
            "Instructions for updating:\n",
            "keep_dims is deprecated, use keepdims instead\n",
            "WARNING:tensorflow:From /usr/local/lib/python3.6/dist-packages/keras/backend/tensorflow_backend.py:1299: calling reduce_mean (from tensorflow.python.ops.math_ops) with keep_dims is deprecated and will be removed in a future version.\n",
            "Instructions for updating:\n",
            "keep_dims is deprecated, use keepdims instead\n"
          ],
          "name": "stdout"
        }
      ]
    },
    {
      "metadata": {
        "id": "HF78Hgr2zrLV",
        "colab_type": "code",
        "colab": {
          "base_uri": "https://localhost:8080/",
          "height": 1097
        },
        "outputId": "9f3bce3a-dc46-4244-e660-37cf393e71fb"
      },
      "cell_type": "code",
      "source": [
        "import keras_utils\n",
        "\n",
        "# Train PCA\n",
        "history = autoencoder.fit(\n",
        "    x=X_train, y=X_train,\n",
        "    epochs=15,\n",
        "    validation_data=[X_test, X_test],\n",
        "    callbacks=[keras_utils.TqdmProgressCallback()],\n",
        "    verbose=False)"
      ],
      "execution_count": 15,
      "outputs": [
        {
          "output_type": "stream",
          "text": [
            "\n",
            "Epoch 1/15\n",
            "**************************************************\n",
            "loss: 0.0124; val_loss: 0.0085\n",
            "\n",
            "Epoch 2/15\n",
            "**************************************************\n",
            "loss: 0.0076; val_loss: 0.0070\n",
            "\n",
            "Epoch 3/15\n",
            "**************************************************\n",
            "loss: 0.0068; val_loss: 0.0067\n",
            "\n",
            "Epoch 4/15\n",
            "**************************************************\n",
            "loss: 0.0067; val_loss: 0.0067\n",
            "\n",
            "Epoch 5/15\n",
            "**************************************************\n",
            "loss: 0.0067; val_loss: 0.0067\n",
            "\n",
            "Epoch 6/15\n",
            "**************************************************\n",
            "loss: 0.0067; val_loss: 0.0066\n",
            "\n",
            "Epoch 7/15\n",
            "**************************************************\n",
            "loss: 0.0067; val_loss: 0.0067\n",
            "\n",
            "Epoch 8/15\n",
            "**************************************************\n",
            "loss: 0.0067; val_loss: 0.0066\n",
            "\n",
            "Epoch 9/15\n",
            "**************************************************\n",
            "loss: 0.0067; val_loss: 0.0066\n",
            "\n",
            "Epoch 10/15\n",
            "**************************************************\n",
            "loss: 0.0067; val_loss: 0.0066\n",
            "\n",
            "Epoch 11/15\n",
            "**************************************************\n",
            "loss: 0.0067; val_loss: 0.0066\n",
            "\n",
            "Epoch 12/15\n",
            "**************************************************\n",
            "loss: 0.0067; val_loss: 0.0066\n",
            "\n",
            "Epoch 13/15\n",
            "**************************************************\n",
            "loss: 0.0067; val_loss: 0.0066\n",
            "\n",
            "Epoch 14/15\n",
            "**************************************************\n",
            "loss: 0.0067; val_loss: 0.0066\n",
            "\n",
            "Epoch 15/15\n",
            "**************************************************\n",
            "loss: 0.0067; val_loss: 0.0066\n"
          ],
          "name": "stdout"
        }
      ]
    },
    {
      "metadata": {
        "id": "yIqpiJvk05yj",
        "colab_type": "code",
        "colab": {
          "base_uri": "https://localhost:8080/",
          "height": 347
        },
        "outputId": "358dfed7-c94a-4f97-ec72-75df3c286d43"
      },
      "cell_type": "code",
      "source": [
        "historydf = pd.DataFrame(history.history, index=history.epoch)\n",
        "historydf.plot();"
      ],
      "execution_count": 16,
      "outputs": [
        {
          "output_type": "display_data",
          "data": {
            "image/png": "[encoded data removed]",
            "text/plain": [
              "<matplotlib.figure.Figure at 0x7f7a5513a358>"
            ]
          },
          "metadata": {
            "tags": []
          }
        }
      ]
    },
    {
      "metadata": {
        "id": "GlIve2EN0mu4",
        "colab_type": "code",
        "colab": {
          "base_uri": "https://localhost:8080/",
          "height": 35
        },
        "outputId": "984ad881-b4d6-401d-ec57-0c89ba985508"
      },
      "cell_type": "code",
      "source": [
        "# Evaluation\n",
        "score = autoencoder.evaluate(X_test,X_test,verbose=0)\n",
        "print(\"PCA MSE:\", score)"
      ],
      "execution_count": 17,
      "outputs": [
        {
          "output_type": "stream",
          "text": [
            "PCA MSE: 0.006580282202408341\n"
          ],
          "name": "stdout"
        }
      ]
    },
    {
      "metadata": {
        "id": "L4cU42aU5SR9",
        "colab_type": "code",
        "colab": {
          "base_uri": "https://localhost:8080/",
          "height": 1052
        },
        "outputId": "96403da5-e79f-4ad4-fca3-538f219c17b8"
      },
      "cell_type": "code",
      "source": [
        "# Visualize\n",
        "def visualize(img,encoder,decoder):\n",
        "    \"\"\"Draws original, encoded and decoded images\"\"\"\n",
        "    code = encoder.predict(img[None])[0]  # img[None] is the same as img[np.newaxis, :]\n",
        "    reco = decoder.predict(code[None])[0]\n",
        "\n",
        "    plt.subplot(1,3,1)\n",
        "    plt.title(\"Original\")\n",
        "    show_image(img)\n",
        "\n",
        "    plt.subplot(1,3,2)\n",
        "    plt.title(\"Code\")\n",
        "    plt.imshow(code.reshape([code.shape[-1]//2,-1]))\n",
        "\n",
        "    plt.subplot(1,3,3)\n",
        "    plt.title(\"Reconstructed\")\n",
        "    show_image(reco)\n",
        "    plt.show()\n",
        "    \n",
        "    \n",
        "for i in range(3):\n",
        "    img = X_test[i]\n",
        "    visualize(img,encoder,decoder)"
      ],
      "execution_count": 18,
      "outputs": [
        {
          "output_type": "display_data",
          "data": {
            "image/png": "[encoded data removed]",
            "text/plain": [
              "<matplotlib.figure.Figure at 0x7f7a55399630>"
            ]
          },
          "metadata": {
            "tags": []
          }
        },
        {
          "output_type": "display_data",
          "data": {
            "image/png": "[encoded data removed]",
            "text/plain": [
              "<matplotlib.figure.Figure at 0x7f7a5548dac8>"
            ]
          },
          "metadata": {
            "tags": []
          }
        },
        {
          "output_type": "display_data",
          "data": {
            "image/png": "[encoded data removed]",
            "text/plain": [
              "<matplotlib.figure.Figure at 0x7f7a55e784e0>"
            ]
          },
          "metadata": {
            "tags": []
          }
        }
      ]
    },
    {
      "metadata": {
        "id": "Q68dgDBb1sAs",
        "colab_type": "text"
      },
      "cell_type": "markdown",
      "source": [
        "##  Deep Autoencoder - Convolutional autoencoder\n",
        "\n",
        "PCA is neat but surely we can do better. This time we want you to build a deep convolutional autoencoder by... stacking more layers.\n",
        "\n",
        "### Encoder\n",
        "\n",
        "The **encoder** part is pretty standard, we stack convolutional and pooling layers and finish with a dense layer to get the representation of desirable size (`code_size`).\n",
        "\n",
        "We recommend to use `activation='elu'` for all convolutional and dense layers.\n",
        "\n",
        "We recommend to repeat (conv, pool) 4 times with kernel size (3, 3), `padding='same'` and the following numbers of output channels: `32, 64, 128, 256`.\n",
        "\n",
        "Remember to flatten (`L.Flatten()`) output before adding the last dense layer!\n",
        "\n",
        "### Decoder\n",
        "\n",
        "For **decoder** we will use so-called \"transpose convolution\". \n",
        "\n",
        "Traditional convolutional layer takes a patch of an image and produces a number (patch -> number). In \"transpose convolution\" we want to take a number and produce a patch of an image (number -> patch). We need this layer to \"undo\" convolutions in encoder. We had a glimpse of it during week 3 (watch [this video](https://www.coursera.org/learn/intro-to-deep-learning/lecture/auRqf/a-glimpse-of-other-computer-vision-tasks) starting at 5:41).\n",
        "\n",
        "Here's how \"transpose convolution\" works:\n",
        "<img src=\"images/transpose_conv.jpg\" style=\"width:60%\">\n",
        "In this example we use a stride of 2 to produce 4x4 output, this way we \"undo\" pooling as well. Another way to think about it: we \"undo\" convolution with stride 2 (which is similar to conv + pool).\n",
        "\n",
        "You can add \"transpose convolution\" layer in Keras like this:\n",
        "```python\n",
        "L.Conv2DTranspose(filters=?, kernel_size=(3, 3), strides=2, activation='elu', padding='same')\n",
        "```\n",
        "\n",
        "Our decoder starts with a dense layer to \"undo\" the last layer of encoder. Remember to reshape its output to \"undo\" `L.Flatten()` in encoder.\n",
        "\n",
        "Now we're ready to undo (conv, pool) pairs. For this we need to stack 4 `L.Conv2DTranspose` layers with the following numbers of output channels: `128, 64, 32, 3`. Each of these layers will learn to \"undo\" (conv, pool) pair in encoder. For the last `L.Conv2DTranspose` layer use `activation=None` because that is our final image.\n",
        "\n",
        "In particular, your encoder and decoder should be at least 3 layers deep each. You can use any nonlinearity you want and any number of hidden units in non-bottleneck layers provided you can actually afford training it.\n",
        "\n",
        "![layers](https://pbs.twimg.com/media/CYggEo-VAAACg_n.png:small)\n",
        "\n",
        "A few sanity checks:\n",
        "* There shouldn't be any hidden layer smaller than bottleneck (encoder output).\n",
        "* Don't forget to insert nonlinearities between intermediate dense layers.\n",
        "* Convolutional layers are allowed but not required. To undo convolution use L.Deconv2D, pooling - L.UpSampling2D.\n",
        "* Adding activation after bottleneck is allowed, but not strictly necessary.\n",
        "\n",
        "__Hint:__ if you're getting \"Encoder layer is smaller than bottleneck\" error, use code_size when defining intermediate layers. \n",
        "\n",
        "For example, such layer may have code_size*2 units.\n",
        "\n",
        "__Tips:__ If you keep getting \"Compression to lossy\" error, there's a few things you might try:\n",
        "\n",
        "* Make sure it converged. Some architectures need way more than 32 epochs to converge. They may fluctuate a lot, but eventually they're going to get good enough to pass. You may train your network for as long as you want.\n",
        "\n",
        "* Complexity. If you already have, like, 152 layers and still not passing threshold, you may wish to start from something simpler instead and go in small incremental steps.\n",
        "\n",
        "* Architecture. You can use any combination of layers (including convolutions, normalization, etc) as long as __encoder output only stores 32 numbers per training object__. \n",
        "\n",
        "A cunning learner can circumvent this last limitation by using some manual encoding strategy, but he is strongly recommended to avoid that."
      ]
    },
    {
      "metadata": {
        "id": "heYjgRny1Mxe",
        "colab_type": "code",
        "colab": {}
      },
      "cell_type": "code",
      "source": [
        "from keras.layers import Conv2D, Deconv2D, MaxPooling2D, UpSampling2D, GlobalAveragePooling2D\n",
        "\n",
        "def build_deep_autoencoder(img_shape,code_size=32):\n",
        "    \"\"\"PCA's deeper brother. See instructions above\"\"\"\n",
        "    H,W,C = img_shape\n",
        "    \n",
        "    # Encoder\n",
        "    encoder = keras.models.Sequential()\n",
        "    encoder.add(L.InputLayer(img_shape))\n",
        "    \n",
        "    encoder.add(Conv2D(filters=code_size*8, kernel_size=2, padding='same', activation='relu'))\n",
        "    encoder.add(Conv2D(filters=code_size*4, kernel_size=2, padding='same', activation='relu'))\n",
        "    encoder.add(Conv2D(filters=code_size, kernel_size=2, padding='same', activation='tanh'))\n",
        "    encoder.add(Conv2D(filters=code_size, kernel_size=2, padding='same', activation='tanh'))\n",
        "    encoder.add(MaxPooling2D())\n",
        "    encoder.add(L.Flatten())\n",
        "    encoder.add(L.Dense(code_size))\n",
        "    \n",
        "    # Decoder\n",
        "    decoder = keras.models.Sequential()\n",
        "    decoder.add(L.InputLayer((code_size, )))\n",
        "    \n",
        "    decoder.add(L.Dense(int(H/2*W/2*code_size)))\n",
        "    decoder.add(L.Reshape( (int(H/2), int(W/2), int(code_size))) )\n",
        "    decoder.add(Deconv2D(filters=code_size, kernel_size=2, padding='same', activation='tanh'))\n",
        "    decoder.add(Deconv2D(filters=code_size, kernel_size=2, padding='same', activation='tanh'))\n",
        "    decoder.add(Deconv2D(filters=code_size*4, kernel_size=2, padding='same', activation='relu'))\n",
        "    decoder.add(Deconv2D(filters=code_size*8, kernel_size=2, padding='same', activation='relu'))\n",
        "    decoder.add(UpSampling2D())\n",
        "    decoder.add(Conv2D(filters=C, kernel_size=3, padding='same', activation='tanh'))\n",
        "\n",
        "\n",
        "    return encoder,decoder"
      ],
      "execution_count": 0,
      "outputs": []
    },
    {
      "metadata": {
        "id": "JUli7a-p2B6m",
        "colab_type": "code",
        "colab": {
          "base_uri": "https://localhost:8080/",
          "height": 125
        },
        "outputId": "cb566bd2-887f-436d-9d89-c34ed497a3ab"
      },
      "cell_type": "code",
      "source": [
        "# Check autoencoder shapes along different code_sizes\n",
        "get_dim = lambda layer: np.prod(layer.output_shape[1:])\n",
        "for code_size in [1,8,32,128,512]:\n",
        "    s = reset_tf_session()\n",
        "    \n",
        "    # Model\n",
        "    encoder, decoder = build_deep_autoencoder(IMG_SHAPE, code_size=code_size)\n",
        "    \n",
        "    # Test\n",
        "    print(\"Testing code size %i\" % code_size)\n",
        "    assert encoder.output_shape[1:]==(code_size,),\"encoder must output a code of required size\"\n",
        "    assert decoder.output_shape[1:]==IMG_SHAPE,   \"decoder must output an image of valid shape\"\n",
        "    assert len(encoder.trainable_weights)>=6,     \"encoder must contain at least 3 layers\"\n",
        "    assert len(decoder.trainable_weights)>=6,     \"decoder must contain at least 3 layers\"\n",
        "    \n",
        "    for layer in encoder.layers + decoder.layers:\n",
        "        assert get_dim(layer) >= code_size, \"Encoder layer %s is smaller than bottleneck (%i units)\"%(layer.name,get_dim(layer))\n",
        "\n",
        "print(\"All tests passed!\")\n",
        "s = reset_tf_session()"
      ],
      "execution_count": 20,
      "outputs": [
        {
          "output_type": "stream",
          "text": [
            "Testing code size 1\n",
            "Testing code size 8\n",
            "Testing code size 32\n",
            "Testing code size 128\n",
            "Testing code size 512\n",
            "All tests passed!\n"
          ],
          "name": "stdout"
        }
      ]
    },
    {
      "metadata": {
        "id": "L-vZSueD2m1u",
        "colab_type": "code",
        "colab": {
          "base_uri": "https://localhost:8080/",
          "height": 917
        },
        "outputId": "8b52734d-f9f0-48b9-da7f-d0783dc72cf0"
      },
      "cell_type": "code",
      "source": [
        "# Look at encoder and decoder shapes.\n",
        "# Total number of trainable parameters of encoder and decoder should be close.\n",
        "s = reset_tf_session()\n",
        "encoder, decoder = build_deep_autoencoder(IMG_SHAPE, code_size=32)\n",
        "\n",
        "display(encoder.summary())\n",
        "display(decoder.summary())"
      ],
      "execution_count": 21,
      "outputs": [
        {
          "output_type": "stream",
          "text": [
            "_________________________________________________________________\n",
            "Layer (type)                 Output Shape              Param #   \n",
            "=================================================================\n",
            "input_1 (InputLayer)         (None, 32, 32, 3)         0         \n",
            "_________________________________________________________________\n",
            "conv2d_1 (Conv2D)            (None, 32, 32, 256)       3328      \n",
            "_________________________________________________________________\n",
            "conv2d_2 (Conv2D)            (None, 32, 32, 128)       131200    \n",
            "_________________________________________________________________\n",
            "conv2d_3 (Conv2D)            (None, 32, 32, 32)        16416     \n",
            "_________________________________________________________________\n",
            "conv2d_4 (Conv2D)            (None, 32, 32, 32)        4128      \n",
            "_________________________________________________________________\n",
            "max_pooling2d_1 (MaxPooling2 (None, 16, 16, 32)        0         \n",
            "_________________________________________________________________\n",
            "flatten_1 (Flatten)          (None, 8192)              0         \n",
            "_________________________________________________________________\n",
            "dense_1 (Dense)              (None, 32)                262176    \n",
            "=================================================================\n",
            "Total params: 417,248\n",
            "Trainable params: 417,248\n",
            "Non-trainable params: 0\n",
            "_________________________________________________________________\n"
          ],
          "name": "stdout"
        },
        {
          "output_type": "display_data",
          "data": {
            "text/plain": [
              "None"
            ]
          },
          "metadata": {
            "tags": []
          }
        },
        {
          "output_type": "stream",
          "text": [
            "_________________________________________________________________\n",
            "Layer (type)                 Output Shape              Param #   \n",
            "=================================================================\n",
            "input_2 (InputLayer)         (None, 32)                0         \n",
            "_________________________________________________________________\n",
            "dense_2 (Dense)              (None, 8192)              270336    \n",
            "_________________________________________________________________\n",
            "reshape_1 (Reshape)          (None, 16, 16, 32)        0         \n",
            "_________________________________________________________________\n",
            "conv2d_transpose_1 (Conv2DTr (None, 16, 16, 32)        4128      \n",
            "_________________________________________________________________\n",
            "conv2d_transpose_2 (Conv2DTr (None, 16, 16, 32)        4128      \n",
            "_________________________________________________________________\n",
            "conv2d_transpose_3 (Conv2DTr (None, 16, 16, 128)       16512     \n",
            "_________________________________________________________________\n",
            "conv2d_transpose_4 (Conv2DTr (None, 16, 16, 256)       131328    \n",
            "_________________________________________________________________\n",
            "up_sampling2d_1 (UpSampling2 (None, 32, 32, 256)       0         \n",
            "_________________________________________________________________\n",
            "conv2d_5 (Conv2D)            (None, 32, 32, 3)         6915      \n",
            "=================================================================\n",
            "Total params: 433,347\n",
            "Trainable params: 433,347\n",
            "Non-trainable params: 0\n",
            "_________________________________________________________________\n"
          ],
          "name": "stdout"
        },
        {
          "output_type": "display_data",
          "data": {
            "text/plain": [
              "None"
            ]
          },
          "metadata": {
            "tags": []
          }
        }
      ]
    },
    {
      "metadata": {
        "id": "PgWTQ6bf15nx",
        "colab_type": "code",
        "colab": {}
      },
      "cell_type": "code",
      "source": [
        "s = reset_tf_session()\n",
        "\n",
        "# model\n",
        "encoder, decoder = build_deep_autoencoder(IMG_SHAPE, code_size=32)\n",
        "\n",
        "# In/Code/Out\n",
        "inp = L.Input(IMG_SHAPE)\n",
        "code = encoder(inp)\n",
        "reconstruction = decoder(code)\n",
        "\n",
        "# Meld\n",
        "autoencoder = keras.models.Model(\n",
        "    inputs=inp, outputs=reconstruction)\n",
        "\n",
        "# Compile\n",
        "autoencoder.compile(optimizer=\"adamax\", loss='mse')"
      ],
      "execution_count": 0,
      "outputs": []
    },
    {
      "metadata": {
        "id": "nD5GbkVQ3wSJ",
        "colab_type": "code",
        "colab": {
          "base_uri": "https://localhost:8080/",
          "height": 2267
        },
        "outputId": "2b96a804-fb84-4461-8730-1529640a808b"
      },
      "cell_type": "code",
      "source": [
        "# Checkpoint\n",
        "from keras.callbacks import ModelCheckpoint\n",
        "\n",
        "checkpointer = ModelCheckpoint(\n",
        "    filepath='weights.best.deepEncoder.hdf5', \n",
        "    verbose=1, save_best_only=True)\n",
        "\n",
        "# Early Stopping\n",
        "from keras.callbacks import EarlyStopping\n",
        "\n",
        "earlystopper = EarlyStopping(monitor='loss', patience=1)\n",
        "\n",
        "# we will save model checkpoints here to continue training in case of kernel death\n",
        "model_filename = 'autoencoder.{0}.hdf5'\n",
        "\n",
        "#### uncomment below to continue training from model checkpoint\n",
        "#### every time epoch counter starts at 0, so you need to track epochs manually\n",
        "# from keras.models import load_model\n",
        "# s = reset_tf_session()\n",
        "# autoencoder = load_model(model_filename.format(0))  # continue after epoch 0+1\n",
        "# encoder = autoencoder.layers[1]\n",
        "# decoder = autoencoder.layers[2]\n",
        "\n",
        "# Train Deep Autoencoder\n",
        "history = autoencoder.fit(\n",
        "    x=X_train, y=X_train,\n",
        "    epochs=25,\n",
        "    validation_data=[X_test, X_test],\n",
        "    callbacks=[\n",
        "        keras_utils.TqdmProgressCallback(),\n",
        "        checkpointer,\n",
        "        earlystopper],\n",
        "    verbose=0)"
      ],
      "execution_count": 23,
      "outputs": [
        {
          "output_type": "stream",
          "text": [
            "\n",
            "Epoch 1/25\n",
            "**************************************************\n",
            "loss: 0.0126; val_loss: 0.0074\n",
            "Epoch 00000: val_loss improved from inf to 0.00742, saving model to weights.best.deepEncoder.hdf5\n",
            "\n",
            "Epoch 2/25\n",
            "**************************************************\n",
            "loss: 0.0070; val_loss: 0.0067\n",
            "Epoch 00001: val_loss improved from 0.00742 to 0.00666, saving model to weights.best.deepEncoder.hdf5\n",
            "\n",
            "Epoch 3/25\n",
            "**************************************************\n",
            "loss: 0.0065; val_loss: 0.0064\n",
            "Epoch 00002: val_loss improved from 0.00666 to 0.00636, saving model to weights.best.deepEncoder.hdf5\n",
            "\n",
            "Epoch 4/25\n",
            "**************************************************\n",
            "loss: 0.0062; val_loss: 0.0062\n",
            "Epoch 00003: val_loss improved from 0.00636 to 0.00617, saving model to weights.best.deepEncoder.hdf5\n",
            "\n",
            "Epoch 5/25\n",
            "**************************************************\n",
            "loss: 0.0061; val_loss: 0.0062\n",
            "Epoch 00004: val_loss did not improve\n",
            "\n",
            "Epoch 6/25\n",
            "**************************************************\n",
            "loss: 0.0059; val_loss: 0.0059\n",
            "Epoch 00005: val_loss improved from 0.00617 to 0.00589, saving model to weights.best.deepEncoder.hdf5\n",
            "\n",
            "Epoch 7/25\n",
            "**************************************************\n",
            "loss: 0.0058; val_loss: 0.0058\n",
            "Epoch 00006: val_loss improved from 0.00589 to 0.00581, saving model to weights.best.deepEncoder.hdf5\n",
            "\n",
            "Epoch 8/25\n",
            "**************************************************\n",
            "loss: 0.0057; val_loss: 0.0058\n",
            "Epoch 00007: val_loss did not improve\n",
            "\n",
            "Epoch 9/25\n",
            "**************************************************\n",
            "loss: 0.0056; val_loss: 0.0057\n",
            "Epoch 00008: val_loss improved from 0.00581 to 0.00572, saving model to weights.best.deepEncoder.hdf5\n",
            "\n",
            "Epoch 10/25\n",
            "**************************************************\n",
            "loss: 0.0055; val_loss: 0.0057\n",
            "Epoch 00009: val_loss improved from 0.00572 to 0.00568, saving model to weights.best.deepEncoder.hdf5\n",
            "\n",
            "Epoch 11/25\n",
            "**************************************************\n",
            "loss: 0.0054; val_loss: 0.0056\n",
            "Epoch 00010: val_loss improved from 0.00568 to 0.00558, saving model to weights.best.deepEncoder.hdf5\n",
            "\n",
            "Epoch 12/25\n",
            "**************************************************\n",
            "loss: 0.0054; val_loss: 0.0057\n",
            "Epoch 00011: val_loss did not improve\n",
            "\n",
            "Epoch 13/25\n",
            "**************************************************\n",
            "loss: 0.0053; val_loss: 0.0055\n",
            "Epoch 00012: val_loss improved from 0.00558 to 0.00553, saving model to weights.best.deepEncoder.hdf5\n",
            "\n",
            "Epoch 14/25\n",
            "**************************************************\n",
            "loss: 0.0052; val_loss: 0.0055\n",
            "Epoch 00013: val_loss did not improve\n",
            "\n",
            "Epoch 15/25\n",
            "**************************************************\n",
            "loss: 0.0052; val_loss: 0.0055\n",
            "Epoch 00014: val_loss improved from 0.00553 to 0.00547, saving model to weights.best.deepEncoder.hdf5\n",
            "\n",
            "Epoch 16/25\n",
            "**************************************************\n",
            "loss: 0.0051; val_loss: 0.0055\n",
            "Epoch 00015: val_loss did not improve\n",
            "\n",
            "Epoch 17/25\n",
            "**************************************************\n",
            "loss: 0.0050; val_loss: 0.0055\n",
            "Epoch 00016: val_loss did not improve\n",
            "\n",
            "Epoch 18/25\n",
            "**************************************************\n",
            "loss: 0.0050; val_loss: 0.0055\n",
            "Epoch 00017: val_loss improved from 0.00547 to 0.00545, saving model to weights.best.deepEncoder.hdf5\n",
            "\n",
            "Epoch 19/25\n",
            "**************************************************\n",
            "loss: 0.0049; val_loss: 0.0054\n",
            "Epoch 00018: val_loss improved from 0.00545 to 0.00544, saving model to weights.best.deepEncoder.hdf5\n",
            "\n",
            "Epoch 20/25\n",
            "**************************************************\n",
            "loss: 0.0049; val_loss: 0.0055\n",
            "Epoch 00019: val_loss did not improve\n",
            "\n",
            "Epoch 21/25\n",
            "**************************************************\n",
            "loss: 0.0049; val_loss: 0.0055\n",
            "Epoch 00020: val_loss did not improve\n",
            "\n",
            "Epoch 22/25\n",
            "**************************************************\n",
            "loss: 0.0048; val_loss: 0.0055\n",
            "Epoch 00021: val_loss did not improve\n",
            "\n",
            "Epoch 23/25\n",
            "**************************************************\n",
            "loss: 0.0048; val_loss: 0.0054\n",
            "Epoch 00022: val_loss did not improve\n",
            "\n",
            "Epoch 24/25\n",
            "**************************************************\n",
            "loss: 0.0048; val_loss: 0.0055\n",
            "Epoch 00023: val_loss did not improve\n",
            "\n",
            "Epoch 25/25\n",
            "**************************************************\n",
            "loss: 0.0047; val_loss: 0.0055\n",
            "Epoch 00024: val_loss did not improve\n"
          ],
          "name": "stdout"
        }
      ]
    },
    {
      "metadata": {
        "id": "V3Qw36i96-_x",
        "colab_type": "code",
        "colab": {
          "base_uri": "https://localhost:8080/",
          "height": 347
        },
        "outputId": "00b6349a-0f5d-4583-b1ed-93d7132bc697"
      },
      "cell_type": "code",
      "source": [
        "historydf = pd.DataFrame(history.history, index=history.epoch)\n",
        "historydf.plot();"
      ],
      "execution_count": 24,
      "outputs": [
        {
          "output_type": "display_data",
          "data": {
            "image/png": "[encoded data removed]",
            "text/plain": [
              "<matplotlib.figure.Figure at 0x7f7a5540c7b8>"
            ]
          },
          "metadata": {
            "tags": []
          }
        }
      ]
    },
    {
      "metadata": {
        "id": "QTYx7dVr6zer",
        "colab_type": "code",
        "colab": {}
      },
      "cell_type": "code",
      "source": [
        "# save trained weights\n",
        "encoder.save_weights(\"encoder.h5\")\n",
        "decoder.save_weights(\"decoder.h5\")"
      ],
      "execution_count": 0,
      "outputs": []
    },
    {
      "metadata": {
        "id": "uHgbmfew4Sjt",
        "colab_type": "code",
        "colab": {
          "base_uri": "https://localhost:8080/",
          "height": 35
        },
        "outputId": "e36c5407-27b8-4e29-e83a-686546e610e4"
      },
      "cell_type": "code",
      "source": [
        "# Evaluation\n",
        "autoencoder.load_weights('weights.best.deepEncoder.hdf5')\n",
        "\n",
        "reconstruction_mse = autoencoder.evaluate(\n",
        "    X_test, X_test, verbose=0)\n",
        "print(\"Convolutional autoencoder MSE:\", reconstruction_mse)"
      ],
      "execution_count": 26,
      "outputs": [
        {
          "output_type": "stream",
          "text": [
            "Convolutional autoencoder MSE: 0.005440234632971395\n"
          ],
          "name": "stdout"
        }
      ]
    },
    {
      "metadata": {
        "id": "CtTZB2FP5GkN",
        "colab_type": "code",
        "colab": {
          "base_uri": "https://localhost:8080/",
          "height": 1052
        },
        "outputId": "f4e09738-e9aa-4187-9422-176718f53333"
      },
      "cell_type": "code",
      "source": [
        "# Visualize\n",
        "for i in range(3):\n",
        "    img = X_test[i]\n",
        "    visualize(img,encoder,decoder)"
      ],
      "execution_count": 27,
      "outputs": [
        {
          "output_type": "display_data",
          "data": {
            "image/png": "[encoded data removed]",
            "text/plain": [
              "<matplotlib.figure.Figure at 0x7f7a5524e4a8>"
            ]
          },
          "metadata": {
            "tags": []
          }
        },
        {
          "output_type": "display_data",
          "data": {
            "image/png": "[encoded data removed]",
            "text/plain": [
              "<matplotlib.figure.Figure at 0x7f7a5544db00>"
            ]
          },
          "metadata": {
            "tags": []
          }
        },
        {
          "output_type": "display_data",
          "data": {
            "image/png": "[encoded data removed]",
            "text/plain": [
              "<matplotlib.figure.Figure at 0x7f7a51aaf828>"
            ]
          },
          "metadata": {
            "tags": []
          }
        }
      ]
    },
    {
      "metadata": {
        "id": "WrHMeQF95nK_",
        "colab_type": "code",
        "colab": {
          "base_uri": "https://localhost:8080/",
          "height": 53
        },
        "outputId": "7dfb7167-48a3-4a9f-88ce-7950dcc5116f"
      },
      "cell_type": "code",
      "source": [
        "# Evaluate Auto encoder, decoder\n",
        "s = reset_tf_session()\n",
        "\n",
        "encoder, decoder = build_deep_autoencoder(IMG_SHAPE, code_size=32)\n",
        "encoder.load_weights(\"encoder.h5\")\n",
        "decoder.load_weights(\"decoder.h5\")\n",
        "\n",
        "inp = L.Input(IMG_SHAPE)\n",
        "code = encoder(inp)\n",
        "reconstruction = decoder(code)\n",
        "\n",
        "autoencoder = keras.models.Model(inputs=inp, outputs=reconstruction)\n",
        "autoencoder.compile(optimizer=\"adamax\", loss='mse')\n",
        "\n",
        "print(autoencoder.evaluate(X_test, X_test, verbose=0))\n",
        "print(reconstruction_mse)"
      ],
      "execution_count": 28,
      "outputs": [
        {
          "output_type": "stream",
          "text": [
            "0.00549303459998631\n",
            "0.005440234632971395\n"
          ],
          "name": "stdout"
        }
      ]
    },
    {
      "metadata": {
        "id": "1HIcF9tm7O7T",
        "colab_type": "code",
        "colab": {
          "base_uri": "https://localhost:8080/",
          "height": 35
        },
        "outputId": "e6530a47-a578-46cd-e923-227253f62fea"
      },
      "cell_type": "code",
      "source": [
        "# Submit to Coursera\n",
        "from submit import submit_autoencoder\n",
        "submission = build_deep_autoencoder(IMG_SHAPE, code_size=71)\n",
        "\n",
        "submit_autoencoder(\n",
        "    submission, reconstruction_mse, \n",
        "    COURSERA_EMAIL, COURSERA_TOKEN)"
      ],
      "execution_count": 29,
      "outputs": [
        {
          "output_type": "stream",
          "text": [
            "You used an invalid email or your token may have expired. Please make sure you have entered all fields correctly. Try generating a new token if the issue still persists.\n"
          ],
          "name": "stdout"
        }
      ]
    },
    {
      "metadata": {
        "id": "n9QVHrs07cbc",
        "colab_type": "text"
      },
      "cell_type": "markdown",
      "source": [
        "## Denoising AutoEncoder\n",
        "\n",
        "Let's now make our model into a denoising autoencoder.\n",
        "\n",
        "We'll keep your model architecture, but change the way it trains. In particular, we'll corrupt it's input data randomly before each epoch.\n",
        "\n",
        "There are many strategies to apply noise. We'll implement two popular one: adding gaussian noise and using dropout.This part is **optional**, it shows you one useful application of autoencoders: denoising. You can run this code and make sure denoising works :) \n",
        "\n",
        "Let's now turn our model into a denoising autoencoder:\n",
        "<img src=\"images/denoising.jpg\" style=\"width:40%\">\n",
        "\n",
        "We'll keep the model architecture, but change the way it is trained. In particular, we'll corrupt its input data randomly with noise before each epoch.\n",
        "\n",
        "There are many strategies to introduce noise: adding gaussian white noise, occluding with random black rectangles, etc. We will add gaussian white noise."
      ]
    },
    {
      "metadata": {
        "id": "12PS7keM7akA",
        "colab_type": "code",
        "colab": {}
      },
      "cell_type": "code",
      "source": [
        "def apply_gaussian_noise(X,sigma=0.1):\n",
        "    \"\"\"\n",
        "    adds noise from normal distribution with standard deviation sigma\n",
        "    :param X: image tensor of shape [batch,height,width,3]\n",
        "    \"\"\"\n",
        "\n",
        "    ### YOUR CODE HERE ###\n",
        "    noise = np.random.normal(loc=0.0, scale=sigma, size=X.shape)\n",
        "    return X + noise"
      ],
      "execution_count": 0,
      "outputs": []
    },
    {
      "metadata": {
        "id": "rnNxc2d97X_F",
        "colab_type": "code",
        "colab": {}
      },
      "cell_type": "code",
      "source": [
        "# noise tests\n",
        "theoretical_std = (X_train[:100].std()**2 + 0.5**2)**.5\n",
        "our_std = apply_gaussian_noise(X_train[:100],sigma=0.5).std()\n",
        "\n",
        "assert abs(theoretical_std - our_std) < 0.01, \\\n",
        "  \"Standard deviation does not match it's required value. Make sure you use sigma as std.\"\n",
        "  \n",
        "assert abs(apply_gaussian_noise(X_train[:100],sigma=0.5).mean() - X_train[:100].mean()) < 0.01, \\\n",
        "  \"Mean has changed. Please add zero-mean noise\""
      ],
      "execution_count": 0,
      "outputs": []
    },
    {
      "metadata": {
        "id": "isRXsGIO8-xB",
        "colab_type": "code",
        "colab": {
          "base_uri": "https://localhost:8080/",
          "height": 165
        },
        "outputId": "209d9587-4433-470d-b75d-15ce98d7193e"
      },
      "cell_type": "code",
      "source": [
        "def normalize(x):\n",
        "    \"\"\"\n",
        "    Normalize a list of sample image data in the range of 0 to 1\n",
        "    : x: List of image data.  The image shape is (32, 32, 3)\n",
        "    : return: Numpy array of normalized data\n",
        "    \"\"\"\n",
        "    return np.array((x - np.min(x)) / (np.max(x) - np.min(x)))\n",
        "\n",
        "# test different noise scales\n",
        "plt.subplot(1,4,1)\n",
        "plt.imshow(normalize(X_train[0]))\n",
        "\n",
        "plt.subplot(1,4,2)\n",
        "plt.imshow(normalize(apply_gaussian_noise(X_train[:1],sigma=0.01)[0]))\n",
        "\n",
        "plt.subplot(1,4,3)\n",
        "plt.imshow(normalize(apply_gaussian_noise(X_train[:1],sigma=0.1)[0]))\n",
        "\n",
        "plt.subplot(1,4,4)\n",
        "plt.imshow(normalize(apply_gaussian_noise(X_train[:1],sigma=0.5)[0]))"
      ],
      "execution_count": 32,
      "outputs": [
        {
          "output_type": "execute_result",
          "data": {
            "text/plain": [
              "<matplotlib.image.AxesImage at 0x7fd7c5d42128>"
            ]
          },
          "metadata": {
            "tags": []
          },
          "execution_count": 32
        },
        {
          "output_type": "display_data",
          "data": {
            "image/png": "[encoded data removed]",
            "text/plain": [
              "<matplotlib.figure.Figure at 0x7fd7c6b20a20>"
            ]
          },
          "metadata": {
            "tags": []
          }
        }
      ]
    },
    {
      "metadata": {
        "id": "xbyHV4Ko--U1",
        "colab_type": "code",
        "colab": {}
      },
      "cell_type": "code",
      "source": [
        "s = reset_tf_session()\n",
        "\n",
        "# we use bigger code size here for better quality\n",
        "encoder,decoder = build_deep_autoencoder(IMG_SHAPE, code_size=512)\n",
        "assert encoder.output_shape[1:]==(512,), \"encoder must output a code of required size\"\n",
        "\n",
        "inp = L.Input(IMG_SHAPE)\n",
        "code = encoder(inp)\n",
        "reconstruction = decoder(code)\n",
        "\n",
        "autoencoder = keras.models.Model(inp,reconstruction)\n",
        "autoencoder.compile('adamax','mse')"
      ],
      "execution_count": 0,
      "outputs": []
    },
    {
      "metadata": {
        "id": "Rv40O-B-ApoT",
        "colab_type": "text"
      },
      "cell_type": "markdown",
      "source": [
        "__Note:__ if it hasn't yet converged, increase the number of iterations.\n",
        "\n",
        "__Bonus:__ replace gaussian noise with masking random rectangles on image."
      ]
    },
    {
      "metadata": {
        "id": "hkdcvEiSAKFS",
        "colab_type": "code",
        "colab": {
          "base_uri": "https://localhost:8080/",
          "height": 2717
        },
        "outputId": "5fe62c02-c283-4b4e-83f0-23d316120b1f"
      },
      "cell_type": "code",
      "source": [
        "import keras_utils\n",
        "\n",
        "# Training will take several hours.\n",
        "for i in range(25):\n",
        "    print(\"Epoch %i/25, Generating corrupted samples...\"%(i+1))\n",
        "    X_train_noise = apply_gaussian_noise(X_train)\n",
        "    X_test_noise = apply_gaussian_noise(X_test)\n",
        "    \n",
        "    # we continue to train our model with new noise-augmented data\n",
        "    autoencoder.fit(\n",
        "        x=X_train_noise, y=X_train,\n",
        "        epochs=1,\n",
        "        validation_data=[X_test_noise, X_test],\n",
        "        callbacks=[keras_utils.TqdmProgressCallback()],\n",
        "        verbose=1)"
      ],
      "execution_count": 0,
      "outputs": [
        {
          "output_type": "stream",
          "text": [
            "Epoch 1/25, Generating corrupted samples...\n",
            "Train on 11828 samples, validate on 1315 samples\n",
            "\n",
            "Epoch 1/1\n",
            "Epoch 1/1\n",
            "11808/11828 [============================>.] - ETA: 3s - loss: 0.1041\n",
            "loss: 0.1039; val_loss: 0.0293\n",
            "11828/11828 [==============================] - 2286s - loss: 0.1040 - val_loss: 0.0293\n",
            "Epoch 2/25, Generating corrupted samples...\n",
            "Train on 11828 samples, validate on 1315 samples\n",
            "\n",
            "Epoch 1/1\n",
            "Epoch 1/1\n",
            "11808/11828 [============================>.] - ETA: 3s - loss: 0.0297\n",
            "loss: 0.0297; val_loss: 0.0295\n",
            "11828/11828 [==============================] - 2251s - loss: 0.0297 - val_loss: 0.0295\n",
            "Epoch 3/25, Generating corrupted samples...\n",
            "Train on 11828 samples, validate on 1315 samples\n",
            "\n",
            "Epoch 1/1\n",
            "Epoch 1/1\n",
            "11808/11828 [============================>.] - ETA: 3s - loss: 0.0297\n",
            "loss: 0.0297; val_loss: 0.0298\n",
            "11828/11828 [==============================] - 2249s - loss: 0.0297 - val_loss: 0.0298\n",
            "Epoch 4/25, Generating corrupted samples...\n",
            "Train on 11828 samples, validate on 1315 samples\n",
            "\n",
            "Epoch 1/1\n",
            "Epoch 1/1\n",
            "11808/11828 [============================>.] - ETA: 3s - loss: 0.0295\n",
            "loss: 0.0295; val_loss: 0.0297\n",
            "11828/11828 [==============================] - 2251s - loss: 0.0295 - val_loss: 0.0297\n",
            "Epoch 5/25, Generating corrupted samples...\n",
            "Train on 11828 samples, validate on 1315 samples\n",
            "\n",
            "Epoch 1/1\n",
            "Epoch 1/1\n",
            "11808/11828 [============================>.] - ETA: 3s - loss: 0.0296\n",
            "loss: 0.0296; val_loss: 0.0302\n",
            "11828/11828 [==============================] - 2250s - loss: 0.0296 - val_loss: 0.0302\n",
            "Epoch 6/25, Generating corrupted samples...\n",
            "Train on 11828 samples, validate on 1315 samples\n",
            "\n",
            "Epoch 1/1\n",
            "Epoch 1/1\n",
            "11808/11828 [============================>.] - ETA: 3s - loss: 0.0295\n",
            "loss: 0.0295; val_loss: 0.0296\n",
            "11828/11828 [==============================] - 2251s - loss: 0.0295 - val_loss: 0.0296\n",
            "Epoch 7/25, Generating corrupted samples...\n",
            "Train on 11828 samples, validate on 1315 samples\n",
            "\n",
            "Epoch 1/1\n",
            "Epoch 1/1\n",
            "11808/11828 [============================>.] - ETA: 3s - loss: 0.0296\n",
            "loss: 0.0295; val_loss: 0.0293\n",
            "11828/11828 [==============================] - 2251s - loss: 0.0296 - val_loss: 0.0293\n",
            "Epoch 8/25, Generating corrupted samples...\n",
            "Train on 11828 samples, validate on 1315 samples\n",
            "\n",
            "Epoch 1/1\n",
            "Epoch 1/1\n",
            "11808/11828 [============================>.] - ETA: 3s - loss: 0.0295\n",
            "loss: 0.0295; val_loss: 0.0294\n",
            "11828/11828 [==============================] - 2252s - loss: 0.0295 - val_loss: 0.0294\n",
            "Epoch 9/25, Generating corrupted samples...\n",
            "Train on 11828 samples, validate on 1315 samples\n",
            "\n",
            "Epoch 1/1\n",
            "Epoch 1/1\n",
            "11808/11828 [============================>.] - ETA: 3s - loss: 0.0295\n",
            "loss: 0.0295; val_loss: 0.0293\n",
            "11828/11828 [==============================] - 2250s - loss: 0.0295 - val_loss: 0.0293\n",
            "Epoch 10/25, Generating corrupted samples...\n",
            "Train on 11828 samples, validate on 1315 samples\n",
            "\n",
            "Epoch 1/1\n",
            "Epoch 1/1\n",
            "11808/11828 [============================>.] - ETA: 3s - loss: 0.0295\n",
            "loss: 0.0295; val_loss: 0.0291\n",
            "11828/11828 [==============================] - 2251s - loss: 0.0295 - val_loss: 0.0291\n",
            "Epoch 11/25, Generating corrupted samples...\n",
            "Train on 11828 samples, validate on 1315 samples\n",
            "\n",
            "Epoch 1/1\n",
            "Epoch 1/1\n",
            "11808/11828 [============================>.] - ETA: 3s - loss: 0.0295\n",
            "loss: 0.0295; val_loss: 0.0294\n",
            "11828/11828 [==============================] - 2250s - loss: 0.0295 - val_loss: 0.0294\n",
            "Epoch 12/25, Generating corrupted samples...\n",
            "Train on 11828 samples, validate on 1315 samples\n",
            "\n",
            "Epoch 1/1\n",
            "Epoch 1/1\n",
            "11808/11828 [============================>.] - ETA: 3s - loss: 0.0295\n",
            "loss: 0.0294; val_loss: 0.0292\n",
            "11828/11828 [==============================] - 2249s - loss: 0.0294 - val_loss: 0.0292\n",
            "Epoch 13/25, Generating corrupted samples...\n",
            "Train on 11828 samples, validate on 1315 samples\n",
            "\n",
            "Epoch 1/1\n",
            "Epoch 1/1\n",
            "11808/11828 [============================>.] - ETA: 3s - loss: 0.0295\n",
            "loss: 0.0294; val_loss: 0.0292\n",
            "11828/11828 [==============================] - 2249s - loss: 0.0295 - val_loss: 0.0292\n",
            "Epoch 14/25, Generating corrupted samples...\n",
            "Train on 11828 samples, validate on 1315 samples\n",
            "\n",
            "Epoch 1/1\n",
            "Epoch 1/1\n",
            "11808/11828 [============================>.] - ETA: 3s - loss: 0.0293\n",
            "loss: 0.0293; val_loss: 0.0257\n",
            "11828/11828 [==============================] - 2243s - loss: 0.0293 - val_loss: 0.0257\n",
            "Epoch 15/25, Generating corrupted samples...\n",
            "Train on 11828 samples, validate on 1315 samples\n",
            "\n",
            "Epoch 1/1\n",
            "Epoch 1/1\n",
            "11808/11828 [============================>.] - ETA: 3s - loss: 0.0204\n",
            "loss: 0.0204; val_loss: 0.0172\n",
            "11828/11828 [==============================] - 2238s - loss: 0.0204 - val_loss: 0.0172\n",
            "Epoch 16/25, Generating corrupted samples...\n",
            "Train on 11828 samples, validate on 1315 samples\n",
            "\n",
            "Epoch 1/1\n",
            "Epoch 1/1\n",
            "11808/11828 [============================>.] - ETA: 3s - loss: 0.0158\n",
            "loss: 0.0158; val_loss: 0.0146\n",
            "11828/11828 [==============================] - 2229s - loss: 0.0158 - val_loss: 0.0146\n",
            "Epoch 17/25, Generating corrupted samples...\n",
            "Train on 11828 samples, validate on 1315 samples\n",
            "\n",
            "Epoch 1/1\n",
            "Epoch 1/1\n",
            "11808/11828 [============================>.] - ETA: 3s - loss: 0.0138\n",
            "loss: 0.0138; val_loss: 0.0124\n",
            "11828/11828 [==============================] - 2246s - loss: 0.0138 - val_loss: 0.0124\n",
            "Epoch 18/25, Generating corrupted samples...\n",
            "Train on 11828 samples, validate on 1315 samples\n",
            "\n",
            "Epoch 1/1\n",
            "Epoch 1/1\n",
            "11808/11828 [============================>.] - ETA: 3s - loss: 0.0120\n",
            "loss: 0.0120; val_loss: 0.0112\n",
            "11828/11828 [==============================] - 2245s - loss: 0.0120 - val_loss: 0.0112\n",
            "Epoch 19/25, Generating corrupted samples...\n",
            "Train on 11828 samples, validate on 1315 samples\n",
            "\n",
            "Epoch 1/1\n",
            "Epoch 1/1\n",
            "11360/11828 [===========================>..] - ETA: 85s - loss: 0.0110"
          ],
          "name": "stdout"
        }
      ]
    },
    {
      "metadata": {
        "id": "ufqmoDQ6AusC",
        "colab_type": "code",
        "colab": {}
      },
      "cell_type": "code",
      "source": [
        "encoder.save(\"./encoder.h5\")\n",
        "decoder.save(\"./decoder.h5\")"
      ],
      "execution_count": 0,
      "outputs": []
    },
    {
      "metadata": {
        "id": "1wu27UnMExZZ",
        "colab_type": "code",
        "colab": {}
      },
      "cell_type": "code",
      "source": [
        "# Evaluate\n",
        "X_test_noise = apply_gaussian_noise(X_test)\n",
        "denoising_mse = autoencoder.evaluate(X_test_noise, X_test, verbose=0)\n",
        "print(\"Denoising MSE:\", denoising_mse)\n",
        "for i in range(5):\n",
        "    img = X_test_noise[i]\n",
        "    visualize(img,encoder,decoder)"
      ],
      "execution_count": 0,
      "outputs": []
    },
    {
      "metadata": {
        "id": "C6AOCQmJBUT3",
        "colab_type": "text"
      },
      "cell_type": "markdown",
      "source": [
        "## Image retrieval with autoencoders\n",
        "\n",
        "So we've just trained a network that converts image into itself imperfectly. This task is not that useful in and of itself, but it has a number of awesome side-effects. Let's see them in action.\n",
        "\n",
        "First thing we can do is image retrieval aka image search. We will give it an image and find similar images in latent space:\n",
        "\n",
        "<img src=\"images/similar_images.jpg\" style=\"width:60%\">\n",
        "\n",
        "To speed up retrieval process, one should use Locality Sensitive Hashing on top of encoded vectors. This [technique](https://erikbern.com/2015/07/04/benchmark-of-approximate-nearest-neighbor-libraries.html) can narrow down the potential nearest neighbours of our image in latent space (encoder code). We will caclulate nearest neighbours in brute force way for simplicity."
      ]
    },
    {
      "metadata": {
        "id": "QHcHA1WAFHyX",
        "colab_type": "code",
        "colab": {}
      },
      "cell_type": "code",
      "source": [
        "# restore trained encoder weights\n",
        "s = reset_tf_session()\n",
        "\n",
        "encoder, decoder = build_deep_autoencoder(IMG_SHAPE, code_size=32)\n",
        "encoder.load_weights(\"encoder.h5\")"
      ],
      "execution_count": 0,
      "outputs": []
    },
    {
      "metadata": {
        "id": "f7NlkMOQBSOn",
        "colab_type": "code",
        "colab": {}
      },
      "cell_type": "code",
      "source": [
        "images = X_train\n",
        "codes = encoder() ### YOUR CODE HERE: encode all images ###\n",
        "\n",
        "assert len(codes) == len(images)"
      ],
      "execution_count": 0,
      "outputs": []
    },
    {
      "metadata": {
        "id": "WzEqHc4dBtIi",
        "colab_type": "code",
        "colab": {}
      },
      "cell_type": "code",
      "source": [
        "from sklearn.neighbors.unsupervised import NearestNeighbors\n",
        "\n",
        "nei_clf = NearestNeighbors(metric=\"euclidean\")\n",
        "nei_clf.fit(codes)"
      ],
      "execution_count": 0,
      "outputs": []
    },
    {
      "metadata": {
        "id": "K3OQLENgBuys",
        "colab_type": "code",
        "colab": {}
      },
      "cell_type": "code",
      "source": [
        "def get_similar(image, n_neighbors=5):\n",
        "    assert image.ndim==3,\"image must be [batch,height,width,3]\"\n",
        "\n",
        "    code = encoder.predict(image[None])\n",
        "    \n",
        "    (distances,),(idx,) = nei_clf.kneighbors(code,n_neighbors=n_neighbors)\n",
        "    \n",
        "    return distances,images[idx]"
      ],
      "execution_count": 0,
      "outputs": []
    },
    {
      "metadata": {
        "id": "N13Bq7ZXBvlR",
        "colab_type": "code",
        "colab": {}
      },
      "cell_type": "code",
      "source": [
        "def show_similar(image):\n",
        "    \n",
        "    distances,neighbors = get_similar(image,n_neighbors=3)\n",
        "    \n",
        "    plt.figure(figsize=[8,7])\n",
        "    plt.subplot(1,4,1)\n",
        "    show_image(image)\n",
        "    plt.title(\"Original image\")\n",
        "    \n",
        "    for i in range(3):\n",
        "        plt.subplot(1,4,i+2)\n",
        "        show_image(neighbors[i])\n",
        "        plt.title(\"Dist=%.3f\"%distances[i])\n",
        "    plt.show()"
      ],
      "execution_count": 0,
      "outputs": []
    },
    {
      "metadata": {
        "id": "O136QgMEFSLm",
        "colab_type": "text"
      },
      "cell_type": "markdown",
      "source": [
        "Cherry-picked examples:"
      ]
    },
    {
      "metadata": {
        "id": "2VWerUVfBw59",
        "colab_type": "code",
        "colab": {}
      },
      "cell_type": "code",
      "source": [
        "#smiles\n",
        "show_similar(X_test[2])"
      ],
      "execution_count": 0,
      "outputs": []
    },
    {
      "metadata": {
        "id": "zTAInYu3ByR1",
        "colab_type": "code",
        "colab": {}
      },
      "cell_type": "code",
      "source": [
        "#ethnicity\n",
        "show_similar(X_test[500])"
      ],
      "execution_count": 0,
      "outputs": []
    },
    {
      "metadata": {
        "id": "iGYHwmDsBzok",
        "colab_type": "code",
        "colab": {}
      },
      "cell_type": "code",
      "source": [
        "#glasses\n",
        "show_similar(X_test[66])"
      ],
      "execution_count": 0,
      "outputs": []
    },
    {
      "metadata": {
        "id": "K51ENJi1B4M0",
        "colab_type": "text"
      },
      "cell_type": "markdown",
      "source": [
        "## Cheap image morphing"
      ]
    },
    {
      "metadata": {
        "id": "dBcCMmg1FVOS",
        "colab_type": "code",
        "colab": {}
      },
      "cell_type": "code",
      "source": [
        "# restore trained encoder weights\n",
        "s = reset_tf_session()\n",
        "\n",
        "encoder, decoder = build_deep_autoencoder(IMG_SHAPE, code_size=32)\n",
        "\n",
        "encoder.load_weights(\"encoder.h5\")\n",
        "decoder.load_weights(\"decoder.h5\")"
      ],
      "execution_count": 0,
      "outputs": []
    },
    {
      "metadata": {
        "id": "rOWxp46eB0ny",
        "colab_type": "code",
        "colab": {}
      },
      "cell_type": "code",
      "source": [
        "for _ in range(5):\n",
        "    image1,image2 = X_test[np.random.randint(0,len(X_test),size=2)]\n",
        "\n",
        "    code1, code2 = encoder.predict(np.stack([image1,image2]))\n",
        "\n",
        "    plt.figure(figsize=[10,4])\n",
        "    for i,a in enumerate(np.linspace(0,1,num=7)):\n",
        "\n",
        "        output_code = code1*(1-a) + code2*(a)\n",
        "        output_image = decoder.predict(output_code[None])[0]\n",
        "\n",
        "        plt.subplot(1,7,i+1)\n",
        "        plt.imshow(output_image)\n",
        "        plt.title(\"a=%.2f\"%a)\n",
        "        \n",
        "    plt.show()"
      ],
      "execution_count": 0,
      "outputs": []
    }
  ]
}