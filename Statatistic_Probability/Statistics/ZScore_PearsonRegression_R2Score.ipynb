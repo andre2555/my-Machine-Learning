{
 "cells": [
  {
   "cell_type": "markdown",
   "metadata": {},
   "source": [
    "## Variance\n",
    "\n",
    "$$s^2 = \\frac{\\sum(x-\\bar{x})^2}{n-1}$$\n",
    "\n",
    "## Standard Deviation\n",
    "\n",
    "$$s = \\sqrt{\\frac{\\sum(x-\\bar{x})^2}{n-1}}$$\n",
    "- n: sample size\n",
    "- n-1: adjusted sample size"
   ]
  },
  {
   "cell_type": "markdown",
   "metadata": {},
   "source": [
    "## Z-score\n",
    "- Distance above or below the population mean of an observation (unit = 1 std)\n",
    "- $\\sum{z_i} = 0$\n",
    "$$z_i = \\frac{x_i-\\bar{x}}{s}$$\n"
   ]
  },
  {
   "cell_type": "markdown",
   "metadata": {},
   "source": [
    "## R Score - Pearson's Correlation\n",
    "- Direction(positive/negative) and strength(strong/weak) of linear correlation with one number [-1, 1]\n",
    "    + -1: Strong Negative\n",
    "    + 0: \n",
    "    + 1: Strong Positive\n",
    "    \n",
    "$$r = \\frac{\\sum{z_xz_y}}{n-1}$$\n",
    "\n",
    "#### Example\n",
    "\n",
    "| i  | x   | $z_x$ | y  | $z_y$ | $z_xz_y$ |\n",
    "|----|-----|-------|----|-------|----------|\n",
    "| 0  | 50  | -1.01 | 50 | -1.15 | 1.17     |\n",
    "| 1  | 100 | -0.56 | 70 | -0.07 | 0.04     |\n",
    "| 2  | 200 | 0.34  | 70 | -0.07 | -0.02    |\n",
    "| 3  | 300 | 1.24  | 95 | 1.29  | 1.60     |\n",
    "\n",
    "- $\\bar{x}=162.5$, $s_x=110.9$\n",
    "- $\\bar{y}=71.3$, $s_y=18.4$\n",
    "$$r=2.78/3=0.93$$"
   ]
  },
  {
   "cell_type": "code",
   "execution_count": 1,
   "metadata": {},
   "outputs": [
    {
     "data": {
      "image/png": "[encoded data removed]",
      "text/plain": [
       "<Figure size 432x288 with 1 Axes>"
      ]
     },
     "metadata": {},
     "output_type": "display_data"
    }
   ],
   "source": [
    "%matplotlib inline\n",
    "import matplotlib.pyplot as plt\n",
    "import numpy as np\n",
    "\n",
    "fig, ax = plt.subplots()\n",
    "x = np.array([50,100,200,300])\n",
    "y = np.array([50,70,70,95])\n",
    "\n",
    "ax.plot(x, y, 'bo')\n",
    "plt.show()"
   ]
  },
  {
   "cell_type": "markdown",
   "metadata": {},
   "source": [
    "## R2 Score\n",
    "\n",
    "$$r^2 = 1 - \\frac{SS_{res}}{SS_{tot}}$$\n",
    "- <span style=\"color:blue\">$SS_{res}$</span>: residual sum of squares (Blue)\n",
    "- <span style=\"color:red\">$SS_{tot}$</span>: The total sum of squares (Red) (proportional to the variance of the data)\n",
    "![](./img/2.png)\n",
    "\n",
    "- Compare Regression model to the baseline model(average of y)\n",
    "    + Range [0,1]: better than the baseline (1 = best)\n",
    "    + <0: Worst than the baseline"
   ]
  }
 ],
 "metadata": {
  "kernelspec": {
   "display_name": "Python 3.6",
   "language": "python",
   "name": "py36"
  },
  "language_info": {
   "codemirror_mode": {
    "name": "ipython",
    "version": 3
   },
   "file_extension": ".py",
   "mimetype": "text/x-python",
   "name": "python",
   "nbconvert_exporter": "python",
   "pygments_lexer": "ipython3",
   "version": "3.6.6"
  }
 },
 "nbformat": 4,
 "nbformat_minor": 2
}
