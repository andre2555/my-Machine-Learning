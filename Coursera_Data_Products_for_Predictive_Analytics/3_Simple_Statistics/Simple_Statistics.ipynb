{
 "cells": [
  {
   "cell_type": "markdown",
   "metadata": {},
   "source": [
    "## Load dataset"
   ]
  },
  {
   "cell_type": "code",
   "execution_count": 1,
   "metadata": {},
   "outputs": [
    {
     "data": {
      "text/plain": [
       "{'marketplace': 'US',\n",
       " 'customer_id': '24371595',\n",
       " 'review_id': 'R27ZP1F1CD0C3Y',\n",
       " 'product_id': 'B004LLIL5A',\n",
       " 'product_parent': '346014806',\n",
       " 'product_title': 'Amazon eGift Card - Celebrate',\n",
       " 'product_category': 'Gift Card',\n",
       " 'star_rating': 5,\n",
       " 'helpful_votes': 0,\n",
       " 'total_votes': 0,\n",
       " 'vine': False,\n",
       " 'verified_purchase': True,\n",
       " 'review_headline': 'Five Stars',\n",
       " 'review_body': 'Great birthday gift for a young adult.',\n",
       " 'review_date': '2015-08-31'}"
      ]
     },
     "metadata": {},
     "output_type": "display_data"
    }
   ],
   "source": [
    "from IPython.display import display\n",
    "\n",
    "import gzip\n",
    "\n",
    "path = \"../large_datasets/amazon_reviews_us_Gift_Card_v1_00.tsv.gz\"\n",
    "f = gzip.open(path, 'rt')\n",
    "\n",
    "import csv\n",
    "reader = csv.reader(f, delimiter='\\t')\n",
    "\n",
    "## Load header\n",
    "header = next(reader)\n",
    "\n",
    "## Load dataset\n",
    "dataset = []\n",
    "\n",
    "for line in reader:\n",
    "    d = dict(zip(header, line))\n",
    "    for field in ['helpful_votes', 'star_rating', 'total_votes']:\n",
    "        d[field] = int(d[field])\n",
    "    for field in ['verified_purchase', 'vine']:\n",
    "        if d[field] == 'Y':\n",
    "            d[field] = True\n",
    "        else:\n",
    "            d[field] = False\n",
    "\n",
    "    dataset.append(d)\n",
    "\n",
    "display(dataset[0])"
   ]
  },
  {
   "cell_type": "markdown",
   "metadata": {},
   "source": [
    "## Simple stats"
   ]
  },
  {
   "cell_type": "code",
   "execution_count": 2,
   "metadata": {},
   "outputs": [
    {
     "data": {
      "text/plain": [
       "4.731333018677096"
      ]
     },
     "execution_count": 2,
     "metadata": {},
     "output_type": "execute_result"
    }
   ],
   "source": [
    "## Average rating\n",
    "ratings = [d['star_rating'] for d in dataset]\n",
    "avg_rating = sum(ratings)/len(ratings)\n",
    "\n",
    "avg_rating"
   ]
  },
  {
   "cell_type": "code",
   "execution_count": 3,
   "metadata": {},
   "outputs": [
    {
     "data": {
      "text/plain": [
       "{1: 4766, 2: 1560, 3: 3147, 4: 9808, 5: 129029}"
      ]
     },
     "metadata": {},
     "output_type": "display_data"
    }
   ],
   "source": [
    "## Rating distribution\n",
    "ratingCounts = {1:0, 2:0, 3:0, 4:0, 5:0}\n",
    "\n",
    "for d in dataset:\n",
    "    ratingCounts[d['star_rating']] += 1\n",
    "\n",
    "display(ratingCounts)"
   ]
  },
  {
   "cell_type": "code",
   "execution_count": 4,
   "metadata": {},
   "outputs": [
    {
     "data": {
      "text/plain": [
       "defaultdict(int, {5: 129029, 1: 4766, 4: 9808, 2: 1560, 3: 3147})"
      ]
     },
     "metadata": {},
     "output_type": "display_data"
    }
   ],
   "source": [
    "## Rating distribution - default dict\n",
    "from collections import defaultdict\n",
    "\n",
    "ratingCounts = defaultdict(int)\n",
    "\n",
    "for d in dataset:\n",
    "    ratingCounts[d['star_rating']] += 1\n",
    "\n",
    "display(ratingCounts)"
   ]
  },
  {
   "cell_type": "code",
   "execution_count": 5,
   "metadata": {},
   "outputs": [
    {
     "data": {
      "text/plain": [
       "defaultdict(int, {True: 135289, False: 13021})"
      ]
     },
     "metadata": {},
     "output_type": "display_data"
    }
   ],
   "source": [
    "## Verified count\n",
    "verified_counts = defaultdict(int)\n",
    "\n",
    "for d in dataset:\n",
    "    verified_counts[d['verified_purchase']] += 1\n",
    "\n",
    "display(verified_counts)"
   ]
  },
  {
   "cell_type": "code",
   "execution_count": 6,
   "metadata": {},
   "outputs": [
    {
     "data": {
      "text/plain": [
       "[(2038, 'B004KNWWO0'),\n",
       " (2173, 'B0066AZGD4'),\n",
       " (2630, 'BT00DDC7CE'),\n",
       " (2643, 'B004LLIKY2'),\n",
       " (3407, 'BT00DDC7BK'),\n",
       " (3440, 'BT00CTOUNS'),\n",
       " (4283, 'B00IX1I3G6'),\n",
       " (5034, 'BT00DDVMVQ'),\n",
       " (6037, 'B00A48G0D4'),\n",
       " (28705, 'B004LLIKVU')]"
      ]
     },
     "execution_count": 6,
     "metadata": {},
     "output_type": "execute_result"
    }
   ],
   "source": [
    "## Most popular product\n",
    "product_counts = defaultdict(int)\n",
    "\n",
    "for d in dataset:\n",
    "    product_counts[d['product_id']] += 1\n",
    "\n",
    "counts = [(product_counts[p], p) for p in product_counts]\n",
    "counts.sort()\n",
    "counts[-10:]"
   ]
  },
  {
   "cell_type": "code",
   "execution_count": 7,
   "metadata": {},
   "outputs": [
    {
     "data": {
      "text/plain": [
       "[(4.918918918918919, 'B004KNWX94'),\n",
       " (4.919354838709677, 'B00CRQ496G'),\n",
       " (4.923076923076923, 'B00PMLDNBA'),\n",
       " (4.931034482758621, 'B00CT77E60'),\n",
       " (4.936842105263158, 'B004KNWX76'),\n",
       " (4.9423076923076925, 'B00SNMPQYC'),\n",
       " (4.944444444444445, 'B007V6EWKK'),\n",
       " (4.947368421052632, 'B004LLIL5K'),\n",
       " (4.955882352941177, 'B00H5BNKYA'),\n",
       " (4.966101694915254, 'B00P8N49M4')]"
      ]
     },
     "execution_count": 7,
     "metadata": {},
     "output_type": "execute_result"
    }
   ],
   "source": [
    "## Top rated products\n",
    "ratings_per_product = defaultdict(list)\n",
    "\n",
    "for d in dataset:\n",
    "    ratings_per_product[d['product_id']].append(d['star_rating'])\n",
    "\n",
    "avg_rating_per_product = {}\n",
    "for p in ratings_per_product:\n",
    "    avg_rating_per_product[p] = sum(ratings_per_product[p])/len(ratings_per_product[p])\n",
    "\n",
    "#### Filter only product > 50 reviews\n",
    "top_rated = [(avg_rating_per_product[p], p) for p in avg_rating_per_product if len(ratings_per_product[p]) > 50]\n",
    "top_rated.sort()\n",
    "top_rated[-10:]"
   ]
  }
 ],
 "metadata": {
  "kernelspec": {
   "display_name": "Python 3.6",
   "language": "python",
   "name": "py36"
  },
  "language_info": {
   "codemirror_mode": {
    "name": "ipython",
    "version": 3
   },
   "file_extension": ".py",
   "mimetype": "text/x-python",
   "name": "python",
   "nbconvert_exporter": "python",
   "pygments_lexer": "ipython3",
   "version": "3.6.9"
  }
 },
 "nbformat": 4,
 "nbformat_minor": 2
}
