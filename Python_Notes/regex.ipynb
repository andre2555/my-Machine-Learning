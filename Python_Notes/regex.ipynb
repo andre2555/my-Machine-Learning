{
 "cells": [
  {
   "cell_type": "code",
   "execution_count": 1,
   "metadata": {},
   "outputs": [],
   "source": [
    "import re"
   ]
  },
  {
   "cell_type": "markdown",
   "execution_count": null,
   "metadata": {},
   "outputs": [],
   "source": [
    "# strip"
   ]
  },
  {
   "cell_type": "code",
   "execution_count": 2,
   "metadata": {},
   "outputs": [
    {
     "data": {
      "text/plain": "['Kha Ngan', 'Jun Vu', 'Lan Ngoc', 'Trinh  Thao']"
     },
     "execution_count": 2,
     "metadata": {},
     "output_type": "execute_result"
    }
   ],
   "source": [
    "data = ['  Kha Ngan ', '  Jun Vu', 'Lan Ngoc', 'Trinh  Thao']\n",
    "\n",
    "cleaned_data = [x.strip() for x in data]\n",
    "cleaned_data"
   ]
  },
  {
   "cell_type": "code",
   "execution_count": 3,
   "metadata": {},
   "outputs": [
    {
     "data": {
      "text/plain": "[' \\\\\\\\ Kha Ngan ', 'Jun Vu', 'Lan \\\\Ngoc', 'Trinh \\\\ Thao']"
     },
     "execution_count": 3,
     "metadata": {},
     "output_type": "execute_result"
    }
   ],
   "source": [
    "data = [' \\\\\\\\ Kha Ngan \\\\', '\\\\\\\\Jun Vu\\\\', 'Lan \\Ngoc', '\\\\\\\\Trinh \\\\ Thao\\\\']\n",
    "\n",
    "cleaned_data = [x.strip('\\\\') for x in data]\n",
    "cleaned_data"
   ]
  },
  {
   "cell_type": "markdown",
   "execution_count": null,
   "metadata": {},
   "outputs": [],
   "source": [
    "# split"
   ]
  },
  {
   "cell_type": "code",
   "execution_count": 4,
   "metadata": {},
   "outputs": [
    {
     "data": {
      "text/plain": "['https://www.youtube.com/watch?v=eoJecvGMR6E',\n 'list=PLFfN5QDT9yl3bc2IbIoIR1Pr6yhQ_4TTD',\n 'index=3']"
     },
     "execution_count": 4,
     "metadata": {},
     "output_type": "execute_result"
    }
   ],
   "source": [
    "url = \"https://www.youtube.com/watch?v=eoJecvGMR6E&list=PLFfN5QDT9yl3bc2IbIoIR1Pr6yhQ_4TTD&index=3\"\n",
    "\n",
    "my_list = url.split('&')\n",
    "my_list"
   ]
  },
  {
   "cell_type": "code",
   "execution_count": 5,
   "metadata": {},
   "outputs": [
    {
     "data": {
      "text/plain": "{'https://www.youtube.com/watch?v': 'eoJecvGMR6E',\n 'index': '3',\n 'list': 'PLFfN5QDT9yl3bc2IbIoIR1Pr6yhQ_4TTD'}"
     },
     "execution_count": 5,
     "metadata": {},
     "output_type": "execute_result"
    }
   ],
   "source": [
    "data = dict()\n",
    "for x in my_list:\n",
    "    key_ = x.split('=')[0]\n",
    "    value_ = x.split('=')[1]\n",
    "    y[key_] = value_\n",
    "\n",
    "data"
   ]
  },
  {
   "cell_type": "markdown",
   "execution_count": null,
   "metadata": {},
   "outputs": [],
   "source": [
    "# RegEx   \n",
    "One special chars\n",
    "+ `$`: Matches the end of the line\n",
    "+ `^`: Matches the beginning of the line\n",
    "<br>\n",
    "\n",
    "One character\n",
    "+ `.`: Any single character exclude '\\n'\n",
    "+ `[agd]`: The character is one of those included within the square brackets\n",
    "+ `[^agd]`: **Exception** - The character is **not** one of those included within the square brackets\n",
    "+ `[a-d]`: The character is one of those included within the range  \n",
    "<br>\n",
    "\n",
    "special character\n",
    "+ `\\d`: match any digit\n",
    "+ `\\w`: match any alphanumeric character\n",
    "+ `\\s`: match any white space character\n",
    "<br>\n",
    "\n",
    "suffix\n",
    "+ `?`: The preceding item is optional and matched **$\\leqslant 1$** times **consecutively**\n",
    "+ `*`: The preceding item will be matched **$\\geqslant 0$** times **consecutively**\n",
    "+ `+`: The preceding item will be matched **$\\geqslant 1$** times **consecutively**\n",
    "+ `{n}`: The preceding item is matched exactly **$= n$** times **consecutively**\n",
    "+ `{n,}`: The preceding item is matched **$\\geqslant n$** times **consecutively**\n",
    "+ `{n,m}`: The preceding item is matched in range **$[n, m]$** times **consecutively**  \n",
    "<br>\n",
    "\n",
    "group\n",
    "+ `()`: group (followed by a suffix)\n",
    "    + Eg: `(very)+`, `([a-z]{3})?`\n",
    "+ `|`: logical OR operation  \n",
    "    + Eg: `(abc)|(xyz)`: matches either \"abc\" or \"xyz\"\n",
    "\n",
    "\n",
    "#### character classes\n",
    "- `[:alnum:]` = alphanumeric characters = `([A-Z] | [a-z] | [0-9])`\n",
    "- `[:lower:]` = lowercase letters = `[a-z]`\n",
    "- `[:upper:]` = uppercase letters = `[A-Z]`\n",
    "- `[:digit:]` = digits = `[0-9]`\n",
    "- `[:blank:]` = Space and tab = `[ \\t]`\n",
    "- `[:space:]` = space = `[ ]`\n",
    "- `[:punct:]` = punctuation characters = `([] | [!\"#$%&'()*+,./:;<=>?@\\^_{}~-])`\n",
    "\n",
    "#### lookaround\n",
    "- `(?=foo)`\t= Lookahead\t= Asserts that what **immediately follows** the current position in the string is `foo`\n",
    "- `(?<=foo)` = Lookbehind = Asserts that what **immediately precedes** the current position in the string is `foo`\n",
    "- `(?!foo)`\t= Negative Lookahead = Asserts that what **immediately follows** the current position in the string is **not** `foo`\n",
    "- `(?<!foo)` = Negative Lookbehind = Asserts that what **immediately precedes** the current position in the string is **not** `foo`\n"
   ]
  },
  {
   "cell_type": "markdown",
   "execution_count": null,
   "metadata": {},
   "outputs": [],
   "source": [
    "# 1. match\n",
    "- check the if the `<text>` match the `<pattern>` ?\n",
    "- `re.match(<pattern>, <text>)`"
   ]
  },
  {
   "cell_type": "code",
   "execution_count": 6,
   "metadata": {},
   "outputs": [
    {
     "name": "stdout",
     "output_type": "stream",
     "text": "------- words -------\nTrue\nFalse\nTrue\n\n------- . -------\nTrue\nTrue\nTrue\nFalse\n\n------- ? -------\nTrue\nTrue\nFalse\n\n------- * -------\nTrue\nTrue\nTrue\n\n------- + -------\nTrue\nTrue\nFalse\n\n------- {n} -------\nFalse\nFalse\nTrue\n\n------- [ ] -------\nTrue\nFalse\nTrue\n\n------- [^ ] -------\nFalse\nFalse\nFalse\nFalse\n\n------- \\d -------\nTrue\nFalse\n\n------- ( ) -------\nFalse\nTrue\nTrue\n"
    }
   ],
   "source": [
    "print \"------- words -------\"\n",
    "print bool(re.match(r'good', 'good text'))\n",
    "print bool(re.match(r'good', 'It is a good text'))\n",
    "print bool(re.match(r'good', 'Good text', re.IGNORECASE))\n",
    "\n",
    "print \"\\n------- . -------\"\n",
    "print bool(re.match(r'.bc', 'abc'))\n",
    "print bool(re.match(r'.bc', 'bbc'))\n",
    "print bool(re.match(r'.bc', '$bc'))\n",
    "print bool(re.match(r'.bc', '\\nbc'))\n",
    "\n",
    "print \"\\n------- ? -------\"\n",
    "print bool(re.match(r'ab?c', 'ac'))\n",
    "print bool(re.match(r'ab?c', 'abc'))\n",
    "print bool(re.match(r'ab?c', 'abbc'))\n",
    "\n",
    "print \"\\n------- * -------\"\n",
    "print bool(re.match(r'ab*c', 'ac'))\n",
    "print bool(re.match(r'ab*c', 'abc'))\n",
    "print bool(re.match(r'ab*c', 'abbbbbc'))\n",
    "\n",
    "print \"\\n------- + -------\"\n",
    "print bool(re.match(r'ab+c', 'abc'))\n",
    "print bool(re.match(r'ab+c', 'abbbbc'))\n",
    "print bool(re.match(r'ab+c', 'ac'))\n",
    "\n",
    "print \"\\n------- {n} -------\"\n",
    "print bool(re.match(r'ab{2}c', 'ac'))\n",
    "print bool(re.match(r'ab{2}c', 'abc'))\n",
    "print bool(re.match(r'ab{2}c', 'abbc'))\n",
    "\n",
    "print \"\\n------- [ ] -------\"\n",
    "print bool(re.match(r'a[b-d]e', 'ace'))\n",
    "print bool(re.match(r'a[b-d]e', 'aae'))\n",
    "print bool(re.match(r'a[b59]e', 'a5e'))\n",
    "\n",
    "print \"\\n------- [^ ] -------\"\n",
    "print bool(re.match(r'a[^b]c', 'abc'))\n",
    "print bool(re.match(r'a[^0-9]c', 'a9c'))\n",
    "print bool(re.match(r'[^hc]at', 'cat'))\n",
    "print bool(re.match(r'[^hc]at', 'hat'))\n",
    "\n",
    "print \"\\n------- \\d -------\"\n",
    "print bool(re.match(r'a\\d+c', 'a585c'))\n",
    "print bool(re.match(r'a\\d+c', 'abbc'))\n",
    "\n",
    "print \"\\n------- ( ) -------\"\n",
    "print bool(re.match(r'(very )+', 'hard'))\n",
    "print bool(re.match(r'(very )+', 'very hard'))\n",
    "print bool(re.match(r'(very )+', 'very very hard'))"
   ]
  },
  {
   "cell_type": "markdown",
   "execution_count": null,
   "metadata": {},
   "outputs": [],
   "source": [
    "# 2. search\n",
    "- Check if `<pattern>` is a substring of `<text>`\n",
    "- `re.search(<pattern>, <text>)`"
   ]
  },
  {
   "cell_type": "code",
   "execution_count": 15,
   "metadata": {},
   "outputs": [
    {
     "name": "stdout",
     "output_type": "stream",
     "text": "True\nTrue\nTrue\n"
    }
   ],
   "source": [
    "print bool(re.search(r'good', 'good text')) \n",
    "print bool(re.search(r'good', 'It is a good text'))\n",
    "print bool(re.search(r'good', 'Good text', re.IGNORECASE))"
   ]
  },
  {
   "cell_type": "markdown",
   "execution_count": null,
   "metadata": {},
   "outputs": [],
   "source": [
    "# 3. Extract\n",
    "- Extract the substring of `<text>` completely match the `<pattern>`\n",
    "- `re.search(<pattern>, <text>).group()`"
   ]
  },
  {
   "cell_type": "code",
   "execution_count": 7,
   "metadata": {},
   "outputs": [
    {
     "name": "stdout",
     "output_type": "stream",
     "text": "good\nnice\nnice\n"
    }
   ],
   "source": [
    "print re.search(r'(good|nice)', 'text with good word').group()\n",
    "print re.search(r'(good|nice)', 'text with nice word').group()\n",
    "print re.search(r'(good|nice)', 'text with nice word').group()"
   ]
  },
  {
   "cell_type": "code",
   "execution_count": 9,
   "metadata": {},
   "outputs": [
    {
     "name": "stdout",
     "output_type": "stream",
     "text": "really good\nreally nice\n"
    }
   ],
   "source": [
    "print re.search(r'really (good|nice)', 'text with really good word').group()\n",
    "print re.search(r'really (good|nice)', 'text with really nice word').group()"
   ]
  },
  {
   "cell_type": "code",
   "execution_count": 10,
   "metadata": {},
   "outputs": [
    {
     "name": "stdout",
     "output_type": "stream",
     "text": "good w\ngood word\n"
    }
   ],
   "source": [
    "print re.search(r'(good|nice) [a-z]', 'text with good word').group()\n",
    "print re.search(r'(good|nice) [a-z]*', 'text with good word').group()"
   ]
  },
  {
   "cell_type": "code",
   "execution_count": 11,
   "metadata": {},
   "outputs": [
    {
     "data": {
      "text/plain": "'godd'"
     },
     "execution_count": 11,
     "metadata": {},
     "output_type": "execute_result"
    }
   ],
   "source": [
    "re.search(r'go[a-z]*', 'text with godd word').group()"
   ]
  },
  {
   "cell_type": "code",
   "execution_count": 12,
   "metadata": {},
   "outputs": [
    {
     "name": "stdout",
     "output_type": "stream",
     "text": "really good\nreally really good\n"
    }
   ],
   "source": [
    "print re.search(\n",
    "    r'(really )?really (good|nice)',\n",
    "    'text with really good word').group()\n",
    "\n",
    "print re.search(\n",
    "    r'(really )?really (good|nice)',\n",
    "    'text with really really good word').group()"
   ]
  },
  {
   "cell_type": "markdown",
   "execution_count": null,
   "metadata": {},
   "outputs": [],
   "source": [
    "#### Advanced Extract"
   ]
  },
  {
   "cell_type": "code",
   "execution_count": 13,
   "metadata": {},
   "outputs": [
    {
     "data": {
      "text/plain": "(None, '65', '25')"
     },
     "execution_count": 13,
     "metadata": {},
     "output_type": "execute_result"
    }
   ],
   "source": [
    "# Extract all the numbers after: mouse, cat, dog\n",
    "text = '''dog=\"25\" is a cat=\"65\" meow'''\n",
    "re.search(\n",
    "    r'(?=.*mouse=\\\"(\\d+)\\\")?(?=.*cat=\\\"(\\d+)\\\")(?=.*dog=\\\"(\\d+)\\\")',\n",
    "    text).groups()"
   ]
  },
  {
   "cell_type": "markdown",
   "metadata": {},
   "source": [
    "# 4. sub\n",
    "- Replace the `<pattern>` in the `<text>` by a `<replacement>`\n",
    "- `re.compile(<pattern>).sub(<replacement>, `<text>`)"
   ]
  },
  {
   "cell_type": "code",
   "execution_count": 23,
   "metadata": {},
   "outputs": [
    {
     "data": {
      "text/plain": "'Hello: It is a good text'"
     },
     "execution_count": 23,
     "metadata": {},
     "output_type": "execute_result"
    }
   ],
   "source": [
    "re.compile(r'^ ').sub(\n",
    "    'Hello:',\n",
    "    '  It is a good text')"
   ]
  },
  {
   "cell_type": "code",
   "execution_count": 24,
   "metadata": {},
   "outputs": [
    {
     "data": {
      "text/plain": "'Hello: It is a good text'"
     },
     "execution_count": 24,
     "metadata": {},
     "output_type": "execute_result"
    }
   ],
   "source": [
    "space_at_beginning = re.compile(r'^ ')\n",
    "space_at_beginning.sub(\n",
    "    'Hello:',\n",
    "    '  It is a good text')"
   ]
  }
 ],
 "metadata": {
  "kernelspec": {
   "display_name": "Python 2.7",
   "language": "python",
   "name": "py27"
  },
  "language_info": {
   "codemirror_mode": {
    "name": "ipython",
    "version": 3
   },
   "file_extension": ".py",
   "mimetype": "text/x-python",
   "name": "python",
   "nbconvert_exporter": "python",
   "pygments_lexer": "ipython3",
   "version": "3.6.9-final"
  }
 },
 "nbformat": 4,
 "nbformat_minor": 2
}