{
 "cells": [
  {
   "cell_type": "code",
   "execution_count": 0,
   "metadata": {
    "colab": {},
    "colab_type": "code",
    "id": "caPzq7ofR39f"
   },
   "outputs": [],
   "source": [
    "import matplotlib.pyplot as plt\n",
    "import pandas as pd\n",
    "import numpy as np\n",
    "from IPython.display import display\n",
    "import tensorflow as tf"
   ]
  },
  {
   "cell_type": "code",
   "execution_count": 0,
   "metadata": {
    "colab": {},
    "colab_type": "code",
    "id": "ZuYKXRhkR39i"
   },
   "outputs": [],
   "source": [
    "np.random.seed(101)\n",
    "tf.set_random_seed(101)"
   ]
  },
  {
   "cell_type": "markdown",
   "metadata": {
    "colab_type": "text",
    "id": "9wwN8-aYR39m"
   },
   "source": [
    "## Dataset\n",
    "** Alternative sources of the data just in case: **\n",
    "\n",
    "* http://yann.lecun.com/exdb/mnist/\n",
    "* https://github.com/mrgloom/MNIST-dataset-in-different-formats"
   ]
  },
  {
   "cell_type": "code",
   "execution_count": 3,
   "metadata": {
    "colab": {
     "base_uri": "https://localhost:8080/",
     "height": 175
    },
    "colab_type": "code",
    "id": "CdST9KqbR39n",
    "outputId": "4ba3959d-e338-435d-f27f-946befce696d"
   },
   "outputs": [
    {
     "name": "stderr",
     "output_type": "stream",
     "text": [
      "Using TensorFlow backend.\n"
     ]
    },
    {
     "name": "stdout",
     "output_type": "stream",
     "text": [
      "(48000, 28, 28)\n",
      "(48000,)\n",
      "\n",
      "(12000, 28, 28)\n",
      "(12000,)\n",
      "\n",
      "(10000, 28, 28)\n",
      "(10000,)\n"
     ]
    }
   ],
   "source": [
    "from keras.datasets import mnist\n",
    "\n",
    "(X, y), (X_test, y_test) = mnist.load_data('/tmp/mnist.npz')\n",
    "\n",
    "from sklearn.model_selection import train_test_split\n",
    "\n",
    "X_train, X_val, y_train, y_val = train_test_split(\n",
    "    X, y,\n",
    "    test_size=0.2, random_state=42)\n",
    "\n",
    "print(X_train.shape)\n",
    "print(y_train.shape)\n",
    "print('')\n",
    "print(X_val.shape)\n",
    "print(y_val.shape)\n",
    "print('')\n",
    "print(X_test.shape)\n",
    "print(y_test.shape)"
   ]
  },
  {
   "cell_type": "code",
   "execution_count": 4,
   "metadata": {
    "colab": {
     "base_uri": "https://localhost:8080/",
     "height": 52
    },
    "colab_type": "code",
    "id": "xOh69pd4R39s",
    "outputId": "15089300-74b1-45b3-8d01-b4c549f38382"
   },
   "outputs": [
    {
     "name": "stdout",
     "output_type": "stream",
     "text": [
      "255\n",
      "0\n"
     ]
    }
   ],
   "source": [
    "# not normalized\n",
    "print(X_train[0].max())\n",
    "print(X_train[0].min())"
   ]
  },
  {
   "cell_type": "code",
   "execution_count": 5,
   "metadata": {
    "colab": {
     "base_uri": "https://localhost:8080/",
     "height": 365
    },
    "colab_type": "code",
    "id": "z8F8aAg9R39x",
    "outputId": "88d4631f-b869-43f1-ed98-6466c63def5c"
   },
   "outputs": [
    {
     "name": "stdout",
     "output_type": "stream",
     "text": [
      "5\n"
     ]
    },
    {
     "data": {
      "image/png": "[encoded data removed]",
      "text/plain": [
       "<matplotlib.figure.Figure at 0x7fa19e93f438>"
      ]
     },
     "metadata": {
      "tags": []
     },
     "output_type": "display_data"
    }
   ],
   "source": [
    "plt.imshow(X_train[0], cmap='gray');\n",
    "print(y_train[0])"
   ]
  },
  {
   "cell_type": "markdown",
   "metadata": {
    "colab_type": "text",
    "id": "9Z6lLUb3a4Ep"
   },
   "source": [
    "## Feature Engineering"
   ]
  },
  {
   "cell_type": "code",
   "execution_count": 6,
   "metadata": {
    "colab": {
     "base_uri": "https://localhost:8080/",
     "height": 70
    },
    "colab_type": "code",
    "id": "TD5pDZzHR391",
    "outputId": "03116148-d1be-4a42-e4a5-ec20ed7bae18"
   },
   "outputs": [
    {
     "name": "stdout",
     "output_type": "stream",
     "text": [
      "(48000, 28, 28, 1)\n",
      "(12000, 28, 28, 1)\n",
      "(10000, 28, 28, 1)\n"
     ]
    }
   ],
   "source": [
    "# Normalize X [0 - 1]\n",
    "X_train_norm = X_train.astype('float32') / 255.0\n",
    "X_val_norm = X_val.astype('float32') / 255.0\n",
    "X_test_norm = X_test.astype('float32') / 255.0\n",
    "\n",
    "# Reshape tensor\n",
    "X_train_rs = X_train_norm.reshape(-1, 28, 28, 1)\n",
    "X_val_rs = X_val_norm.reshape(-1, 28, 28, 1)\n",
    "X_test_rs = X_test_norm.reshape(-1, 28, 28, 1)\n",
    "\n",
    "print(X_train_rs.shape)\n",
    "print(X_val_rs.shape)\n",
    "print(X_test_rs.shape)"
   ]
  },
  {
   "cell_type": "code",
   "execution_count": 7,
   "metadata": {
    "colab": {
     "base_uri": "https://localhost:8080/",
     "height": 70
    },
    "colab_type": "code",
    "id": "S2RC7sPsa61V",
    "outputId": "7aa3f191-fb83-4d71-ecb0-02c53a2e9693"
   },
   "outputs": [
    {
     "name": "stdout",
     "output_type": "stream",
     "text": [
      "(48000, 10)\n",
      "(12000, 10)\n",
      "(10000, 10)\n"
     ]
    }
   ],
   "source": [
    "# One hot encoding y\n",
    "from keras.utils.np_utils import to_categorical\n",
    "\n",
    "y_train_cat = to_categorical(y_train)\n",
    "y_val_cat = to_categorical(y_val)\n",
    "y_test_cat = to_categorical(y_test)\n",
    "\n",
    "print(y_train_cat.shape)\n",
    "print(y_val_cat.shape)\n",
    "print(y_test_cat.shape)"
   ]
  },
  {
   "cell_type": "markdown",
   "metadata": {
    "colab_type": "text",
    "id": "a58cSLcqctIH"
   },
   "source": [
    "## Model - Keras"
   ]
  },
  {
   "cell_type": "code",
   "execution_count": 8,
   "metadata": {
    "colab": {
     "base_uri": "https://localhost:8080/",
     "height": 457
    },
    "colab_type": "code",
    "id": "2B8TlPuLdVWa",
    "outputId": "a28b173c-329b-4297-8668-61dfee9ed56d"
   },
   "outputs": [
    {
     "name": "stdout",
     "output_type": "stream",
     "text": [
      "_________________________________________________________________\n",
      "Layer (type)                 Output Shape              Param #   \n",
      "=================================================================\n",
      "conv2d_1 (Conv2D)            (None, 28, 28, 32)        1184      \n",
      "_________________________________________________________________\n",
      "max_pooling2d_1 (MaxPooling2 (None, 14, 14, 32)        0         \n",
      "_________________________________________________________________\n",
      "conv2d_2 (Conv2D)            (None, 14, 14, 64)        73792     \n",
      "_________________________________________________________________\n",
      "max_pooling2d_2 (MaxPooling2 (None, 7, 7, 64)          0         \n",
      "_________________________________________________________________\n",
      "activation_1 (Activation)    (None, 7, 7, 64)          0         \n",
      "_________________________________________________________________\n",
      "flatten_1 (Flatten)          (None, 3136)              0         \n",
      "_________________________________________________________________\n",
      "dense_1 (Dense)              (None, 1024)              3212288   \n",
      "_________________________________________________________________\n",
      "dropout_1 (Dropout)          (None, 1024)              0         \n",
      "_________________________________________________________________\n",
      "dense_2 (Dense)              (None, 10)                10250     \n",
      "=================================================================\n",
      "Total params: 3,297,514\n",
      "Trainable params: 3,297,514\n",
      "Non-trainable params: 0\n",
      "_________________________________________________________________\n"
     ]
    }
   ],
   "source": [
    "# Equivalent Keras Model\n",
    "from keras.models import Sequential\n",
    "from keras.layers import Conv2D, Dense, MaxPool2D, Flatten, Activation, Dropout\n",
    "import keras.backend as K\n",
    "\n",
    "K.clear_session()\n",
    "\n",
    "model = Sequential()\n",
    "\n",
    "# Feature Extraction layers\n",
    "model.add(Conv2D(32, (6, 6), input_shape=(28, 28, 1), padding='same', activation='relu'))\n",
    "model.add(MaxPool2D(pool_size=(2, 2), padding='same'))\n",
    "model.add(Conv2D(64, (6, 6), padding='same', activation='relu'))\n",
    "model.add(MaxPool2D(pool_size=(2, 2), padding='same'))\n",
    "\n",
    "model.add(Activation('relu'))\n",
    "\n",
    "# Flatten layer\n",
    "model.add(Flatten())\n",
    "\n",
    "# Fully connected layers\n",
    "model.add(Dense(1024, activation='relu'))\n",
    "model.add(Dropout(0.5))\n",
    "model.add(Dense(10, activation='softmax'))\n",
    "\n",
    "\n",
    "model.summary()"
   ]
  },
  {
   "cell_type": "markdown",
   "metadata": {
    "colab_type": "text",
    "id": "cEt5yAUgR395"
   },
   "source": [
    "## Model - Tensorflow"
   ]
  },
  {
   "cell_type": "code",
   "execution_count": 0,
   "metadata": {
    "colab": {},
    "colab_type": "code",
    "id": "H-SLJ_gRhH_u"
   },
   "outputs": [],
   "source": [
    "tf.reset_default_graph()"
   ]
  },
  {
   "cell_type": "code",
   "execution_count": 0,
   "metadata": {
    "colab": {},
    "colab_type": "code",
    "id": "tfG42ra_R397"
   },
   "outputs": [],
   "source": [
    "def init_weights(shape):\n",
    "    \"\"\"Init weight\"\"\"\n",
    "    # Random normal distribution\n",
    "    init_random_dist = tf.truncated_normal(\n",
    "        shape, \n",
    "        stddev=0.1)\n",
    "    return tf.Variable(init_random_dist)\n",
    "\n",
    "\n",
    "def init_bias(shape):\n",
    "    \"\"\"Init bias\"\"\"\n",
    "    # Constant 0.1\n",
    "    init_bias_vals = tf.constant(\n",
    "        0.1,\n",
    "        shape=shape)\n",
    "    return tf.Variable(init_bias_vals)"
   ]
  },
  {
   "cell_type": "code",
   "execution_count": 0,
   "metadata": {
    "colab": {},
    "colab_type": "code",
    "id": "kRir0bsdR39-"
   },
   "outputs": [],
   "source": [
    "def conv2d(x, W):\n",
    "    # x tensor: [batch, H, W, C]\n",
    "    # W tensor: [filter H, filter W, Cin, Cout]\n",
    "    return tf.nn.conv2d(\n",
    "        x, W,\n",
    "        strides=[1, 1, 1, 1], \n",
    "        padding='SAME')\n",
    "\n",
    "\n",
    "def conv_layer(x, shape):\n",
    "    # [filter H, filter W, Cin, Cout]\n",
    "    W = init_weights(shape)\n",
    "    b = init_bias([shape[3]])\n",
    "    return tf.nn.relu(conv2d(x, W) + b)\n",
    "\n",
    "\n",
    "def max_pool_2by2_layer(x):\n",
    "    # tensor x: [batch, H, W, C]\n",
    "    return tf.nn.max_pool(\n",
    "        x, \n",
    "        ksize=[1, 2, 2, 1],\n",
    "        strides=[1, 2, 2, 1],\n",
    "        padding='SAME')\n",
    "\n",
    "\n",
    "def dense_layer(input_layer, size):\n",
    "    input_size = int(input_layer.get_shape()[1])\n",
    "    W = init_weights([input_size, size])\n",
    "    b = init_bias([size])\n",
    "    return tf.matmul(input_layer, W) + b"
   ]
  },
  {
   "cell_type": "code",
   "execution_count": 12,
   "metadata": {
    "colab": {
     "base_uri": "https://localhost:8080/",
     "height": 178
    },
    "colab_type": "code",
    "id": "i9BCgyHyR3-F",
    "outputId": "0fbb574a-861e-44c5-fe7e-ca6589954fbb"
   },
   "outputs": [
    {
     "name": "stdout",
     "output_type": "stream",
     "text": [
      "WARNING:tensorflow:From <ipython-input-12-a6476b1b5bc3>:35: softmax_cross_entropy_with_logits (from tensorflow.python.ops.nn_ops) is deprecated and will be removed in a future version.\n",
      "Instructions for updating:\n",
      "\n",
      "Future major versions of TensorFlow will allow gradients to flow\n",
      "into the labels input on backprop by default.\n",
      "\n",
      "See `tf.nn.softmax_cross_entropy_with_logits_v2`.\n",
      "\n"
     ]
    }
   ],
   "source": [
    "# Placeholders\n",
    "X_ph = tf.placeholder(tf.float32,shape=[None,28,28,1])\n",
    "y_ph = tf.placeholder(tf.float32,shape=[None,10])\n",
    "dropout_ph = tf.placeholder(tf.float32) # Dropout params\n",
    "\n",
    "###################################### Stack layers ###############################################\n",
    "# Feature Extraction layers\n",
    "convo_1 = conv_layer(\n",
    "    X_ph,\n",
    "    shape=[6,6,1,32])\n",
    "convo_1_pooling = max_pool_2by2_layer(convo_1)\n",
    "\n",
    "convo_2 = conv_layer(\n",
    "    convo_1_pooling,\n",
    "    shape=[6,6,32,64])\n",
    "convo_2_pooling = max_pool_2by2_layer(convo_2)\n",
    "\n",
    "# Flatten layer\n",
    "convo_2_flat = tf.reshape(convo_2_pooling,[-1, 7*7*64])\n",
    "\n",
    "# Fully connected layers\n",
    "dense_layer_one = tf.nn.relu(\n",
    "    dense_layer(convo_2_flat, 1024))\n",
    "\n",
    "dense_one_dropout = tf.nn.dropout(\n",
    "    dense_layer_one,\n",
    "    keep_prob=dropout_ph)\n",
    "\n",
    "y_pred = dense_layer(dense_one_dropout, 10)\n",
    "###################################################################################################\n",
    "\n",
    "# Loss function\n",
    "loss = tf.reduce_mean(\n",
    "    tf.nn.softmax_cross_entropy_with_logits(\n",
    "        labels=y_ph,\n",
    "        logits=y_pred))\n",
    "\n",
    "# Optimizer\n",
    "optimizer = tf.train.AdamOptimizer(learning_rate=0.0001)\n",
    "\n",
    "# trainning function\n",
    "train = optimizer.minimize(loss)"
   ]
  },
  {
   "cell_type": "code",
   "execution_count": 0,
   "metadata": {
    "colab": {},
    "colab_type": "code",
    "id": "PQvUnh0ZR3-J"
   },
   "outputs": [],
   "source": [
    "def next_batch(X, y, batch_size=10):\n",
    "    # Select a random batch index\n",
    "    rand_idx = np.random.randint(\n",
    "        len(X),\n",
    "        size=batch_size)\n",
    "\n",
    "    return X[rand_idx], y[rand_idx]"
   ]
  },
  {
   "cell_type": "code",
   "execution_count": 14,
   "metadata": {
    "colab": {
     "base_uri": "https://localhost:8080/",
     "height": 650
    },
    "colab_type": "code",
    "id": "T6rilxTjdpDv",
    "outputId": "3e4a346e-55a6-4de6-9a17-fe98dbdf6ff2"
   },
   "outputs": [
    {
     "name": "stdout",
     "output_type": "stream",
     "text": [
      "Epoch 0\n",
      "train_acc = 0.07000000029802322 - val_acc = 0.05483333393931389\n",
      "train_loss = 5.779883861541748 - val_loss = 5.835087299346924\n",
      "\n",
      "Epoch 500\n",
      "train_acc = 0.9800000190734863 - val_acc = 0.9505833387374878\n",
      "train_loss = 0.12986335158348083 - val_loss = 0.1569656878709793\n",
      "\n",
      "Epoch 1000\n",
      "train_acc = 1.0 - val_acc = 0.9679166674613953\n",
      "train_loss = 0.03042956441640854 - val_loss = 0.1047934740781784\n",
      "\n",
      "Epoch 1500\n",
      "train_acc = 0.9800000190734863 - val_acc = 0.9752500057220459\n",
      "train_loss = 0.06847436726093292 - val_loss = 0.08122622966766357\n",
      "\n",
      "Epoch 2000\n",
      "train_acc = 0.9800000190734863 - val_acc = 0.9797499775886536\n",
      "train_loss = 0.05218138173222542 - val_loss = 0.06874178349971771\n",
      "\n",
      "Epoch 2500\n",
      "train_acc = 1.0 - val_acc = 0.9805833101272583\n",
      "train_loss = 0.027216320857405663 - val_loss = 0.0621066577732563\n",
      "\n",
      "Epoch 3000\n",
      "train_acc = 1.0 - val_acc = 0.9830833077430725\n",
      "train_loss = 0.01049396488815546 - val_loss = 0.05580705404281616\n",
      "\n",
      "Epoch 3500\n",
      "train_acc = 0.9900000095367432 - val_acc = 0.984416663646698\n",
      "train_loss = 0.03706342726945877 - val_loss = 0.05420345067977905\n",
      "\n",
      "Epoch 4000\n",
      "train_acc = 1.0 - val_acc = 0.9857500195503235\n",
      "train_loss = 0.0060351029969751835 - val_loss = 0.05331889167428017\n",
      "\n"
     ]
    }
   ],
   "source": [
    "# Init Variables\n",
    "init = tf.global_variables_initializer()\n",
    "\n",
    "# GPU option\n",
    "gpu_options = tf.GPUOptions(per_process_gpu_memory_fraction=0.9)\n",
    "\n",
    "# Saver\n",
    "saver = tf.train.Saver()\n",
    "\n",
    "# Epochs\n",
    "epochs = 4001\n",
    "\n",
    "# Accuracies\n",
    "train_accs = []\n",
    "val_accs = []\n",
    "\n",
    "# Losses\n",
    "train_losses = []\n",
    "val_losses = []\n",
    "\n",
    "with tf.Session(config=tf.ConfigProto(gpu_options=gpu_options)) as sess:\n",
    "    # Init Variables\n",
    "    sess.run(init)\n",
    "    \n",
    "    # Run epochs\n",
    "    for i in range(epochs):\n",
    "        # Select a random batch\n",
    "        X_batch , y_batch = next_batch(\n",
    "            X_train_rs , y_train_cat,\n",
    "            batch_size=100)\n",
    "\n",
    "        # Train\n",
    "        sess.run(\n",
    "            train,\n",
    "            feed_dict={\n",
    "                X_ph: X_batch,\n",
    "                y_ph: y_batch,\n",
    "                dropout_ph: 0.5})\n",
    "        \n",
    "        if i%100 == 0:\n",
    "            # Train acc\n",
    "            train_matches = tf.equal(\n",
    "                tf.argmax(y_batch, 1),\n",
    "                tf.argmax(y_pred, 1))\n",
    "\n",
    "            train_accuracy = tf.reduce_mean(tf.cast(train_matches,tf.float32))\n",
    "\n",
    "            train_acc = sess.run(\n",
    "                train_accuracy,\n",
    "                feed_dict={\n",
    "                    X_ph: X_batch,\n",
    "                    y_ph: y_batch,\n",
    "                    dropout_ph:1.0})\n",
    "\n",
    "            train_accs.append(train_acc)\n",
    "            \n",
    "            # Train loss\n",
    "            train_loss = loss.eval(\n",
    "                feed_dict={\n",
    "                    X_ph: X_batch,\n",
    "                    y_ph: y_batch,\n",
    "                    dropout_ph: 1.0})\n",
    "            train_losses.append(train_loss)\n",
    "            \n",
    "            # Val acc\n",
    "            val_matches = tf.equal(\n",
    "                tf.argmax(y_val_cat, 1),\n",
    "                tf.argmax(y_pred, 1))\n",
    "\n",
    "            val_accuracy = tf.reduce_mean(tf.cast(val_matches,tf.float32))\n",
    "\n",
    "            val_acc = sess.run(\n",
    "                val_accuracy,\n",
    "                feed_dict={\n",
    "                    X_ph: X_val_rs,\n",
    "                    y_ph: y_val_cat,\n",
    "                    dropout_ph: 1.0})\n",
    "\n",
    "            val_accs.append(val_acc)\n",
    "            \n",
    "            # Val loss\n",
    "            val_loss = loss.eval(\n",
    "                feed_dict={\n",
    "                    X_ph: X_val_rs,\n",
    "                    y_ph: y_val_cat,\n",
    "                    dropout_ph: 1.0})\n",
    "            val_losses.append(val_loss)\n",
    "\n",
    "            # PRINT OUT A MESSAGE EVERY 500 STEPS\n",
    "            if i%500 == 0:\n",
    "                print('Epoch {}'.format(i))\n",
    "                print('train_acc = {} - val_acc = {}'.format(train_acc, val_acc))\n",
    "                print('train_loss = {} - val_loss = {}\\n'.format(train_loss, val_loss))\n",
    "\n",
    "    # SAVE MODEL\n",
    "    saver.save(sess, 'my_model/MNIST_CNN.ckpt')"
   ]
  },
  {
   "cell_type": "code",
   "execution_count": 15,
   "metadata": {
    "colab": {
     "base_uri": "https://localhost:8080/",
     "height": 394
    },
    "colab_type": "code",
    "id": "VLCGDfJGdsAl",
    "outputId": "bc98ca37-5025-4cbb-f553-2cb74b15c61c"
   },
   "outputs": [
    {
     "data": {
      "text/plain": [
       "Text(0.5,0,'Epochs')"
      ]
     },
     "execution_count": 15,
     "metadata": {
      "tags": []
     },
     "output_type": "execute_result"
    },
    {
     "data": {
      "image/png": "[encoded data removed]",
      "text/plain": [
       "<matplotlib.figure.Figure at 0x7fa1dcb6d278>"
      ]
     },
     "metadata": {
      "tags": []
     },
     "output_type": "display_data"
    }
   ],
   "source": [
    "plt.plot(train_accs)\n",
    "plt.plot(val_accs)\n",
    "\n",
    "plt.legend(['Training', 'Validation'])\n",
    "plt.title('Accuracy')\n",
    "plt.xlabel('Epochs')"
   ]
  },
  {
   "cell_type": "code",
   "execution_count": 16,
   "metadata": {
    "colab": {
     "base_uri": "https://localhost:8080/",
     "height": 394
    },
    "colab_type": "code",
    "id": "pj_DM7gIdskU",
    "outputId": "55ece449-860f-4a03-eff4-18eaa3afe1aa"
   },
   "outputs": [
    {
     "data": {
      "text/plain": [
       "Text(0.5,0,'Epochs')"
      ]
     },
     "execution_count": 16,
     "metadata": {
      "tags": []
     },
     "output_type": "execute_result"
    },
    {
     "data": {
      "image/png": "[encoded data removed]",
      "text/plain": [
       "<matplotlib.figure.Figure at 0x7fa192ad02e8>"
      ]
     },
     "metadata": {
      "tags": []
     },
     "output_type": "display_data"
    }
   ],
   "source": [
    "plt.plot(train_losses)\n",
    "plt.plot(val_losses)\n",
    "\n",
    "plt.legend(['Training', 'Validation'])\n",
    "plt.title('Loss')\n",
    "plt.xlabel('Epochs')"
   ]
  },
  {
   "cell_type": "markdown",
   "metadata": {
    "colab_type": "text",
    "id": "3IaaQV7gduk-"
   },
   "source": [
    "## Evaluate Test"
   ]
  },
  {
   "cell_type": "code",
   "execution_count": 17,
   "metadata": {
    "colab": {
     "base_uri": "https://localhost:8080/",
     "height": 52
    },
    "colab_type": "code",
    "id": "ZikKNJmBdvG-",
    "outputId": "28f33c4c-ae8f-4d73-e808-e4ea36714531"
   },
   "outputs": [
    {
     "name": "stdout",
     "output_type": "stream",
     "text": [
      "INFO:tensorflow:Restoring parameters from my_model/MNIST_CNN.ckpt\n",
      "Test set accuracy:  0.9872\n"
     ]
    }
   ],
   "source": [
    "with tf.Session() as sess:\n",
    "    # Restore the model\n",
    "    saver.restore(sess,'my_model/MNIST_CNN.ckpt')\n",
    "    \n",
    "    # Test accuracy\n",
    "    test_matches = tf.equal(\n",
    "        tf.argmax(y_test_cat, 1),\n",
    "        tf.argmax(y_pred, 1))\n",
    "\n",
    "    test_accuracy = tf.reduce_mean(tf.cast(test_matches,tf.float32))\n",
    "\n",
    "    test_acc = sess.run(\n",
    "        test_accuracy,\n",
    "        feed_dict={\n",
    "            X_ph: X_test_rs,\n",
    "            y_ph: y_test_cat,\n",
    "            dropout_ph:1.0})\n",
    "\n",
    "    print('Test set accuracy: ', test_acc)"
   ]
  }
 ],
 "metadata": {
  "accelerator": "GPU",
  "colab": {
   "collapsed_sections": [],
   "name": "3_MNIST_CNN.ipynb",
   "provenance": [],
   "version": "0.3.2"
  },
  "kernelspec": {
   "display_name": "Root",
   "language": "python",
   "name": "python3"
  },
  "language_info": {
   "codemirror_mode": {
    "name": "ipython",
    "version": 3
   },
   "file_extension": ".py",
   "mimetype": "text/x-python",
   "name": "python",
   "nbconvert_exporter": "python",
   "pygments_lexer": "ipython3",
   "version": "3.6.5"
  }
 },
 "nbformat": 4,
 "nbformat_minor": 1
}
