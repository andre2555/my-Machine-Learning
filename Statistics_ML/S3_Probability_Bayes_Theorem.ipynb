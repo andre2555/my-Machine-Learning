{
 "cells": [
  {
   "cell_type": "markdown",
   "metadata": {},
   "source": [
    "# Conditional Probability\n",
    "- Conditional probability\n",
    "    + Measure the probability of an event given that another event has occurred\n",
    "    + The probability of one event occurring with some relationship to one or more other events.\n",
    "\n",
    "- Example\n",
    "    + Given\n",
    "        + X: Chance of rainning today $P(X) = 30\\%$\n",
    "        + Y: You go outside $P(Y) = 50\\%$\n",
    "    + Conditional probability\n",
    "        + $P(Y|X)$: Chance you go outside given it rains today\n",
    "        + $P(X|Y)$: Chance it rains today given you go outside\n",
    "\n",
    "\\begin{align*}\n",
    "    P(Y|X) &= \\frac{P(\\text{X and Y})}{P(X)} \\\\\n",
    "    P(\\text{X and Y}) &= P(X)*P(Y|X) = P(Y)*P(X|Y)\n",
    "\\end{align*}\n",
    "\n",
    "- **Problem**: Probability of drawing 2 Kings from a deck of cards?\n",
    "- **Solution**\n",
    "    + X: Draw the 1st card = King => $P(X) = \\frac{4}{52}$\n",
    "    + Y: Draw the 2nd card = King\n",
    "    + Y|X: Draw the 2nd card = King given the 1st card = King => $P(Y|X) = \\frac{3}{51}$\n",
    "    + Probability of getting 2 Kings:  \n",
    "        $P(\\text{X and Y}) = P(X)*P(Y|X) = \\frac{4}{52} * \\frac{3}{51} = \\frac{1}{221}$"
   ]
  },
  {
   "cell_type": "markdown",
   "metadata": {},
   "source": [
    "# Bayes Theorem\n",
    "- A way of finding a probability when we know certain other probabilities\n",
    "\n",
    "- $P(A|B) = \\frac{P(A)*P(B|A)}{P(B)}$\n",
    "    + $P(A|B)$: how often A happens given that B happens\n",
    "    + $P(B|A)$: How often B happens given that A happens\n",
    "    + $P(A)$: How likely A is, on its own\n",
    "    + $P(B)$: How likely B is, on its own\n",
    "\n",
    "- Example: Spam filter\n",
    "    + Analyze the words in a message, we can compute its probability of being spam using Bayes’ Theorem\n",
    "    + $P(spam|words) = \\frac{P(spam)*P(words|spam)}{P(words)}$\n",
    "\n",
    "- **Problem**: A test for having an allergy\n",
    "    + The test accuracy is 80%\n",
    "    + The frequency of the test saying “Positive” to a patient is 10%\n",
    "    + 1% of population actually has the allergy\n",
    "- **Solution**\n",
    "    + $P(Allergy) = 0.01$: probability a person got allergy\n",
    "    + $P(Positive|Allergy) = 0.8$: probability the test correct given the person got allergy\n",
    "    + $P(Positive) = 0.1$: probability of the test saying “Positive” to a random person\n",
    "    + Bayes Theorem\n",
    "        + $P(Allergy|Positive)$: The chance that a person actually has the allergy given test positive\n",
    "        + $P(Allergy|Positive) = \\frac{P(Allergy)*P(Positive|Allergy)}{P(Positive)} = \\frac{0.01*0.8}{0.1} = 8\\%$"
   ]
  }
 ],
 "metadata": {
  "kernelspec": {
   "display_name": "Python 3.6",
   "language": "python",
   "name": "py36"
  },
  "language_info": {
   "codemirror_mode": {
    "name": "ipython",
    "version": 3
   },
   "file_extension": ".py",
   "mimetype": "text/x-python",
   "name": "python",
   "nbconvert_exporter": "python",
   "pygments_lexer": "ipython3",
   "version": "3.6.9"
  }
 },
 "nbformat": 4,
 "nbformat_minor": 2
}
