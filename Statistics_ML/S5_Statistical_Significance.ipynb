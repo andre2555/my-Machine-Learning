{
 "cells": [
  {
   "cell_type": "markdown",
   "metadata": {},
   "source": [
    "# Statistical Significance\n",
    "#### Hypothesis Testing\n",
    "- Hypothesis testing = A technique for evaluating a theory using data\n",
    "    + The hypothesis = initial belief about the situation before the study\n",
    "        + Null hypothesis = common accepted facts\n",
    "        + Alternate hypothesis = the opposite of Null hypothesis\n",
    "    + The researcher’s task is to reject/disprove the null hypothesis\n",
    "\n",
    "- Example: A study about cell phones and cancer risk\n",
    "    + **Problem**\n",
    "        + Null hypothesis: “Cell phones have no effect on cancer risk.”\n",
    "        + Alternative hypothesis: “Cell phones affect the risk of cancer.”\n",
    "    - **Solution**\n",
    "        + Common goal = determine which of the 2 hypotheses is better supported bydata\n",
    "        + Common hypothesis tests = make comparisons \n",
    "            + Between two groups \n",
    "            + Or between one group and the entire population\n",
    "\n",
    "#### Z-test\n",
    "- Z-test = a statistical technique to test the Null Hypothesis against the Alternate Hypothesis. Used when\n",
    "    + sample data is normally distributed \n",
    "    + Population size is greater than 30\n",
    "        + According to the Central Limit Theorem, the samples are considered to be normally distributed whenever sample size exceeds 30\n",
    "\n",
    "- $Z = \\frac{\\bar{x}-\\mu}{\\sigma/ \\sqrt{n}}$\n",
    "    + $\\bar{x}$: mean of sample\n",
    "    + $\\mu$: mean of population\n",
    "    + $\\sigma$: std of population\n",
    "    + $n$: number of observations\n",
    "\n",
    "#### P-value\n",
    "- p-value quantifies the rareness in our results\n",
    "    + Tells us how often we’d see the results of an experiment \n",
    "    + We can use p-values to reach conclusions in significance testing\n",
    "\n",
    "<img src=\"./img/11.png\" width=\"500\"/>\n",
    "\n",
    "+ We compare the p-value to a significance level ($\\alpha$) to make conclusions about our hypotheses\n",
    "    + If $\\text{p-value} < \\alpha$ = the result would rarely occur by chance\n",
    "        + The result is statistically significant\n",
    "        + We can reject the null hypothesis in favor of the alternative hypothesis\n",
    "    + If $\\text{p-value} \\geq \\alpha$\n",
    "        + Fail to reject the null hypothesis\n",
    "        + This doesn’t mean we accept the null hypothesis though!\n",
    "\n",
    "+ How to choose $\\alpha$?\n",
    "    + Choice of $\\alpha$ depends on the situation\n",
    "    + 0.05 = the most widely used value across all scientific disciplines\n",
    "    - $p<0.05$ meaning\n",
    "        + there is less than 5% chance of seeing our results, in the world where the null hypothesis is true\n",
    "    - $p<0.05$ **does not** mean\n",
    "        + there’s less than 5% chance that our experimental results are due to random chance\n",
    "\n",
    "<p align=\"center\">\n",
    "    <img src=\"./img/12.png\" width=\"220\"/>\n",
    "    <br/>\n",
    "    <i><a href=https://xkcd.com//>Credit</a></i>\n",
    "</p>"
   ]
  },
  {
   "cell_type": "markdown",
   "metadata": {},
   "source": [
    "## Significance Testing Example 1\n",
    "- **Problem**: A company claims that it has a high hiring bar which its employees having an IQ above the average\n",
    "    + A random sample of their 40 employees has a mean IQ score of 115\n",
    "    + Given mean population IQ is 100 with a standard deviation of 15?\n",
    "    + Is this sufficient evidence to support the company’s claim?\n",
    "- **Solution**\n",
    "    + State the Null hypothesis\n",
    "        + H0 - 40 employees have population mean IQ = 100: $\\mu = 100$\n",
    "    + State the Alternate Hypothesis:\n",
    "        + H1 - 40 employees have above population average IQ scores: $\\mu > 100$\n",
    "    + State the threshold for the p-value\n",
    "        + $\\alpha = 0.05$\n",
    "    + Calc z-test\n",
    "        + $Z = \\frac{\\bar{x}-\\mu}{\\sigma/ \\sqrt{n}} = \\frac{115-110}{15/\\sqrt{40}} = 6.32$\n",
    "    + Calc p-value from z-score"
   ]
  },
  {
   "cell_type": "code",
   "execution_count": 1,
   "metadata": {},
   "outputs": [
    {
     "data": {
      "text/plain": [
       "1.3078165132642286e-10"
      ]
     },
     "execution_count": 1,
     "metadata": {},
     "output_type": "execute_result"
    }
   ],
   "source": [
    "import scipy.stats as ss\n",
    "\n",
    "z_scores = 6.32\n",
    "p_values = ss.norm.sf(abs(z_scores))\n",
    "p_values"
   ]
  },
  {
   "cell_type": "markdown",
   "metadata": {},
   "source": [
    "- **p = extremely small** meaning\n",
    "    + If 40 employees have population mean IQ (H0 is true), there is an extremely small **random** chance that a sample of 40 employees will have IQ mean = 115\n",
    "    \n",
    "- Conclude\n",
    "    + p < 0.05 => we can reject the null hypothesis\n",
    "    + 40 employees have an unusually higher IQ score compared to random samples of similar size from the entire population"
   ]
  },
  {
   "cell_type": "markdown",
   "metadata": {},
   "source": [
    "## Significance Testing Example 2\n",
    "- **Problem**: A study that tests the impact of smoking on the duration of pregnancy. \n",
    "    + We randomly sample 40 women who smoked, has mean duration of pregnancy = 260 days\n",
    "    + While the mean pregnancy length = 266 days with std = 21 days\n",
    "    + Is this sufficient evidence to support the company’s claim?\n",
    "- **Solution**\n",
    "    + State the Null hypothesis\n",
    "        + H0 - smoking has no effect on the duration of pregnancy, 40 smoking women have population mean = 266 days: $\\mu = 266$\n",
    "    + State the Alternate Hypothesis:\n",
    "        + H1 - smoking impact on the duration of pregnancy: $\\mu < 266$\n",
    "    + State the threshold for the p-value\n",
    "        + $\\alpha = 0.05$\n",
    "    + Calc z-test\n",
    "        + $Z = \\frac{\\bar{x}-\\mu}{\\sigma/ \\sqrt{n}} = \\frac{260-266}{21/\\sqrt{40}} = -1.81$\n",
    "    + Calc p-value from z-score"
   ]
  },
  {
   "cell_type": "code",
   "execution_count": 2,
   "metadata": {},
   "outputs": [
    {
     "data": {
      "text/plain": [
       "0.03514789358403879"
      ]
     },
     "execution_count": 2,
     "metadata": {},
     "output_type": "execute_result"
    }
   ],
   "source": [
    "import scipy.stats as ss\n",
    "\n",
    "z_scores = -1.81\n",
    "p_values = ss.norm.sf(abs(z_scores))\n",
    "p_values"
   ]
  },
  {
   "cell_type": "markdown",
   "metadata": {},
   "source": [
    "- **p = 0.035** meaning\n",
    "    + If smoking has no effect on the duration of pregnancy (H0 is true), there is a 3.5% **random** chance that a sample of 40 smokers will have pregnancies lasting less than 260 days\n",
    "\n",
    "- Conclude\n",
    "    + p < 0.05 => we can reject the null hypothesis\n",
    "    + 40 smoking women have an unusually duration of pregnancy compared to random samples of similar size from the entire population"
   ]
  }
 ],
 "metadata": {
  "kernelspec": {
   "display_name": "Python 3.6",
   "language": "python",
   "name": "py36"
  },
  "language_info": {
   "codemirror_mode": {
    "name": "ipython",
    "version": 3
   },
   "file_extension": ".py",
   "mimetype": "text/x-python",
   "name": "python",
   "nbconvert_exporter": "python",
   "pygments_lexer": "ipython3",
   "version": "3.6.9"
  }
 },
 "nbformat": 4,
 "nbformat_minor": 2
}
