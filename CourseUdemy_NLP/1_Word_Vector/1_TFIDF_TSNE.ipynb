{
  "nbformat": 4,
  "nbformat_minor": 0,
  "metadata": {
    "colab": {
      "name": "Untitled1.ipynb",
      "version": "0.3.2",
      "provenance": [],
      "collapsed_sections": []
    },
    "kernelspec": {
      "name": "python3",
      "display_name": "Python 3"
    },
    "accelerator": "GPU"
  },
  "cells": [
    {
      "metadata": {
        "id": "DizeeCwTW6id",
        "colab_type": "code",
        "colab": {}
      },
      "cell_type": "code",
      "source": [
        "import matplotlib.pyplot as plt\n",
        "import pandas as pd\n",
        "import numpy as np\n",
        "from IPython.display import display"
      ],
      "execution_count": 0,
      "outputs": []
    },
    {
      "metadata": {
        "id": "XHEn4ZRrXBxU",
        "colab_type": "text"
      },
      "cell_type": "markdown",
      "source": [
        "## TF-IDF\n",
        "- Term Frequency-Inverse Document Frequency\n",
        "- Words that appear in many documents are less meaningful (Eg: the, a, an...)\n",
        "$$\\frac{Word\\ count}{Document\\ count}$$\n",
        "\n",
        "## Word Embedding\n",
        "- Embedd words into a vector space\n",
        "<img src=\"./img/1.jpg\" alt=\"drawing\" width=\"400\"/>\n",
        "\n",
        "<img src=\"./img/2.jpg\" alt=\"drawing\" width=\"400\"/>\n",
        "\n",
        "- V: Vocabulary size (# of words)\n",
        "- D: Vector dimensionality (features)\n",
        "\n",
        "### Word Analogy\n",
        "```\n",
        "woman - man ~= Queen - King\n",
        "```\n",
        "- Distance\n",
        "    + Euclidean distance: $|a-b|$\n",
        "    + Cosine distance: $1 - \\frac{a^Tb}{|a||b|}$"
      ]
    },
    {
      "metadata": {
        "id": "vVvYYx9SXFIS",
        "colab_type": "text"
      },
      "cell_type": "markdown",
      "source": [
        "## T-SNE Dimensionality Reduction\n",
        "- TF-IDF produces high dimensions across documents\n",
        "- t-SNE can help reduce the dimensionality"
      ]
    },
    {
      "metadata": {
        "id": "Qxoja81FXGsj",
        "colab_type": "text"
      },
      "cell_type": "markdown",
      "source": [
        "### Dataset"
      ]
    },
    {
      "metadata": {
        "id": "dydGnRmcW_xJ",
        "colab_type": "code",
        "colab": {
          "base_uri": "https://localhost:8080/",
          "height": 52
        },
        "outputId": "b84cd110-69ef-41f8-e80a-fce748c161bc"
      },
      "cell_type": "code",
      "source": [
        "from keras.datasets import imdb\n",
        "\n",
        "# dataset set: \n",
        "#     + X: 25000 trainning paragraphs, 25000 Testing paragraphs\n",
        "#          each word is mapped as a number\n",
        "#     + y: 0 or 1\n",
        "(X_train, y_train), (X_test, y_test) = imdb.load_data(\n",
        "    '/tmp/imdb.npz',\n",
        "    num_words=None,\n",
        "    skip_top=0,\n",
        "    maxlen=None,\n",
        "    start_char=1,\n",
        "    oov_char=2,\n",
        "    index_from=3)\n",
        "\n",
        "# Word Index\n",
        "word2idx = imdb.get_word_index()\n",
        "display(len(word2idx))\n",
        "\n",
        "# Reverse Word index\n",
        "idx2word = {v+3:k for k,v in word2idx.items()}\n",
        "idx2word[0] = 'padding_char'\n",
        "idx2word[1] = 'start_char'\n",
        "idx2word[2] = 'oov_char'\n",
        "idx2word[3] = 'unk_char'"
      ],
      "execution_count": 2,
      "outputs": [
        {
          "output_type": "stream",
          "text": [
            "Using TensorFlow backend.\n"
          ],
          "name": "stderr"
        },
        {
          "output_type": "display_data",
          "data": {
            "text/plain": [
              "88584"
            ]
          },
          "metadata": {
            "tags": []
          }
        }
      ]
    },
    {
      "metadata": {
        "id": "XDHcuHTqu5oJ",
        "colab_type": "text"
      },
      "cell_type": "markdown",
      "source": [
        "### Reduce index and dataset to speed up trainning"
      ]
    },
    {
      "metadata": {
        "id": "4lJVXYupjiJx",
        "colab_type": "code",
        "colab": {
          "base_uri": "https://localhost:8080/",
          "height": 195
        },
        "outputId": "862a887a-fde5-4fc4-a4ad-37e3e00d9884"
      },
      "cell_type": "code",
      "source": [
        "from_ = 1000\n",
        "to_ = 1500\n",
        "\n",
        "# Reduce Dataset\n",
        "df = pd.DataFrame(\n",
        "    X_train[from_:to_],\n",
        "    columns=['Sentences'])\n",
        "\n",
        "df['Reconstruct Sentences'] = df['Sentences'] \\\n",
        "    .apply(lambda x: ' '.join([idx2word[word] for word in x]))\n",
        "\n",
        "df.head()"
      ],
      "execution_count": 3,
      "outputs": [
        {
          "output_type": "execute_result",
          "data": {
            "text/html": [
              "<div>\n",
              "<style scoped>\n",
              "    .dataframe tbody tr th:only-of-type {\n",
              "        vertical-align: middle;\n",
              "    }\n",
              "\n",
              "    .dataframe tbody tr th {\n",
              "        vertical-align: top;\n",
              "    }\n",
              "\n",
              "    .dataframe thead th {\n",
              "        text-align: right;\n",
              "    }\n",
              "</style>\n",
              "<table border=\"1\" class=\"dataframe\">\n",
              "  <thead>\n",
              "    <tr style=\"text-align: right;\">\n",
              "      <th></th>\n",
              "      <th>Sentences</th>\n",
              "      <th>Reconstruct Sentences</th>\n",
              "    </tr>\n",
              "  </thead>\n",
              "  <tbody>\n",
              "    <tr>\n",
              "      <th>0</th>\n",
              "      <td>[1, 261, 13, 69, 110, 15394, 11, 6, 750, 96, 1...</td>\n",
              "      <td>start_char although i had seen gymkata in a th...</td>\n",
              "    </tr>\n",
              "    <tr>\n",
              "      <th>1</th>\n",
              "      <td>[1, 13, 69, 115, 110, 6, 1295, 20, 366, 7084, ...</td>\n",
              "      <td>start_char i had never seen a silent movie unt...</td>\n",
              "    </tr>\n",
              "    <tr>\n",
              "      <th>2</th>\n",
              "      <td>[1, 684, 91, 529, 694, 164, 44, 4, 479, 7, 238...</td>\n",
              "      <td>start_char apparently most viewer knows nothin...</td>\n",
              "    </tr>\n",
              "    <tr>\n",
              "      <th>3</th>\n",
              "      <td>[1, 55, 3382, 1361, 10, 10, 14, 20, 466, 112, ...</td>\n",
              "      <td>start_char very slight spoiler br br this movi...</td>\n",
              "    </tr>\n",
              "    <tr>\n",
              "      <th>4</th>\n",
              "      <td>[1, 11, 31, 1161, 45, 40, 1065, 4602, 7, 4493,...</td>\n",
              "      <td>start_char in one respect it's like 'the wizar...</td>\n",
              "    </tr>\n",
              "  </tbody>\n",
              "</table>\n",
              "</div>"
            ],
            "text/plain": [
              "                                           Sentences  \\\n",
              "0  [1, 261, 13, 69, 110, 15394, 11, 6, 750, 96, 1...   \n",
              "1  [1, 13, 69, 115, 110, 6, 1295, 20, 366, 7084, ...   \n",
              "2  [1, 684, 91, 529, 694, 164, 44, 4, 479, 7, 238...   \n",
              "3  [1, 55, 3382, 1361, 10, 10, 14, 20, 466, 112, ...   \n",
              "4  [1, 11, 31, 1161, 45, 40, 1065, 4602, 7, 4493,...   \n",
              "\n",
              "                               Reconstruct Sentences  \n",
              "0  start_char although i had seen gymkata in a th...  \n",
              "1  start_char i had never seen a silent movie unt...  \n",
              "2  start_char apparently most viewer knows nothin...  \n",
              "3  start_char very slight spoiler br br this movi...  \n",
              "4  start_char in one respect it's like 'the wizar...  "
            ]
          },
          "metadata": {
            "tags": []
          },
          "execution_count": 3
        }
      ]
    },
    {
      "metadata": {
        "id": "mODGKXubpSdZ",
        "colab_type": "code",
        "colab": {
          "base_uri": "https://localhost:8080/",
          "height": 34
        },
        "outputId": "6ba45f73-8903-4f49-b1c7-332e6148c574"
      },
      "cell_type": "code",
      "source": [
        "# Reduce index\n",
        "reconstruct_sentences = df['Reconstruct Sentences'].values\n",
        "new_sentences = []\n",
        "\n",
        "idx = {}\n",
        "idx['padding_char'] = 0\n",
        "idx['start_char'] = 1\n",
        "idx['oov_char'] = 2\n",
        "idx['unk_char'] = 3\n",
        "\n",
        "num = 4\n",
        "\n",
        "for sentence in reconstruct_sentences:\n",
        "    new_sentence = []\n",
        "    for word in sentence.split(' '):\n",
        "        # Update\n",
        "        if word not in idx:\n",
        "            idx[word] = num\n",
        "            num += 1\n",
        "        \n",
        "        # Rebuild sentence\n",
        "        new_sentence.append(idx[word])\n",
        "    new_sentences.append(new_sentence)\n",
        "    \n",
        "# Update sentences\n",
        "sentences = np.array(new_sentences)\n",
        "\n",
        "# update reduced index\n",
        "word2idx = idx\n",
        "idx2word = {v:k for k,v in word2idx.items()}\n",
        "\n",
        "display(len(word2idx))"
      ],
      "execution_count": 4,
      "outputs": [
        {
          "output_type": "display_data",
          "data": {
            "text/plain": [
              "13002"
            ]
          },
          "metadata": {
            "tags": []
          }
        }
      ]
    },
    {
      "metadata": {
        "id": "IBlVNoDIvEpK",
        "colab_type": "code",
        "colab": {
          "base_uri": "https://localhost:8080/",
          "height": 195
        },
        "outputId": "7771adfd-b487-44c6-bad6-202786381424"
      },
      "cell_type": "code",
      "source": [
        "# Rebuild dataset\n",
        "df = pd.DataFrame(\n",
        "    sentences,\n",
        "    columns=['Sentences'])\n",
        "df['Reconstruct Sentences'] = df['Sentences'].apply(lambda x: ' '.join([idx2word[word] for word in x]))\n",
        "\n",
        "df.head()"
      ],
      "execution_count": 5,
      "outputs": [
        {
          "output_type": "execute_result",
          "data": {
            "text/html": [
              "<div>\n",
              "<style scoped>\n",
              "    .dataframe tbody tr th:only-of-type {\n",
              "        vertical-align: middle;\n",
              "    }\n",
              "\n",
              "    .dataframe tbody tr th {\n",
              "        vertical-align: top;\n",
              "    }\n",
              "\n",
              "    .dataframe thead th {\n",
              "        text-align: right;\n",
              "    }\n",
              "</style>\n",
              "<table border=\"1\" class=\"dataframe\">\n",
              "  <thead>\n",
              "    <tr style=\"text-align: right;\">\n",
              "      <th></th>\n",
              "      <th>Sentences</th>\n",
              "      <th>Reconstruct Sentences</th>\n",
              "    </tr>\n",
              "  </thead>\n",
              "  <tbody>\n",
              "    <tr>\n",
              "      <th>0</th>\n",
              "      <td>[1, 4, 5, 6, 7, 8, 9, 10, 11, 12, 13, 9, 14, 5...</td>\n",
              "      <td>start_char although i had seen gymkata in a th...</td>\n",
              "    </tr>\n",
              "    <tr>\n",
              "      <th>1</th>\n",
              "      <td>[1, 5, 6, 113, 7, 10, 185, 186, 187, 188, 189,...</td>\n",
              "      <td>start_char i had never seen a silent movie unt...</td>\n",
              "    </tr>\n",
              "    <tr>\n",
              "      <th>2</th>\n",
              "      <td>[1, 261, 229, 262, 263, 264, 265, 19, 266, 18,...</td>\n",
              "      <td>start_char apparently most viewer knows nothin...</td>\n",
              "    </tr>\n",
              "    <tr>\n",
              "      <th>3</th>\n",
              "      <td>[1, 196, 366, 367, 37, 37, 57, 186, 368, 369, ...</td>\n",
              "      <td>start_char very slight spoiler br br this movi...</td>\n",
              "    </tr>\n",
              "    <tr>\n",
              "      <th>4</th>\n",
              "      <td>[1, 9, 59, 424, 425, 98, 426, 427, 18, 428, 42...</td>\n",
              "      <td>start_char in one respect it's like 'the wizar...</td>\n",
              "    </tr>\n",
              "  </tbody>\n",
              "</table>\n",
              "</div>"
            ],
            "text/plain": [
              "                                           Sentences  \\\n",
              "0  [1, 4, 5, 6, 7, 8, 9, 10, 11, 12, 13, 9, 14, 5...   \n",
              "1  [1, 5, 6, 113, 7, 10, 185, 186, 187, 188, 189,...   \n",
              "2  [1, 261, 229, 262, 263, 264, 265, 19, 266, 18,...   \n",
              "3  [1, 196, 366, 367, 37, 37, 57, 186, 368, 369, ...   \n",
              "4  [1, 9, 59, 424, 425, 98, 426, 427, 18, 428, 42...   \n",
              "\n",
              "                               Reconstruct Sentences  \n",
              "0  start_char although i had seen gymkata in a th...  \n",
              "1  start_char i had never seen a silent movie unt...  \n",
              "2  start_char apparently most viewer knows nothin...  \n",
              "3  start_char very slight spoiler br br this movi...  \n",
              "4  start_char in one respect it's like 'the wizar...  "
            ]
          },
          "metadata": {
            "tags": []
          },
          "execution_count": 5
        }
      ]
    },
    {
      "metadata": {
        "id": "59oEzp-cXgWp",
        "colab_type": "text"
      },
      "cell_type": "markdown",
      "source": [
        "### Tf-idf"
      ]
    },
    {
      "metadata": {
        "id": "Fd1WwbZ4XQRk",
        "colab_type": "code",
        "colab": {
          "base_uri": "https://localhost:8080/",
          "height": 34
        },
        "outputId": "b0ca2029-987a-478e-db79-60439d1427e6"
      },
      "cell_type": "code",
      "source": [
        "# build term document matrix\n",
        "V = len(word2idx)\n",
        "D = len(sentences)\n",
        "\n",
        "print(V, D)"
      ],
      "execution_count": 6,
      "outputs": [
        {
          "output_type": "stream",
          "text": [
            "13002 500\n"
          ],
          "name": "stdout"
        }
      ]
    },
    {
      "metadata": {
        "id": "7M5tiTpPfxiN",
        "colab_type": "text"
      },
      "cell_type": "markdown",
      "source": [
        "#### Raw word count"
      ]
    },
    {
      "metadata": {
        "id": "fZr7ULYDYPG2",
        "colab_type": "code",
        "colab": {
          "base_uri": "https://localhost:8080/",
          "height": 34
        },
        "outputId": "e3a0345d-35fe-4ab3-9a97-27fcef0f5306"
      },
      "cell_type": "code",
      "source": [
        "# create raw counts first\n",
        "A = np.zeros((V, D))\n",
        "\n",
        "j = 0\n",
        "for sentence in sentences:\n",
        "    for word in sentence:\n",
        "        A[word, j] += 1\n",
        "    j += 1\n",
        "print(\"finished getting raw counts\")"
      ],
      "execution_count": 7,
      "outputs": [
        {
          "output_type": "stream",
          "text": [
            "finished getting raw counts\n"
          ],
          "name": "stdout"
        }
      ]
    },
    {
      "metadata": {
        "id": "kxih0334f0_c",
        "colab_type": "text"
      },
      "cell_type": "markdown",
      "source": [
        "#### TF-IDF transform"
      ]
    },
    {
      "metadata": {
        "id": "dWkAEfsHYZgz",
        "colab_type": "code",
        "colab": {
          "base_uri": "https://localhost:8080/",
          "height": 34
        },
        "outputId": "8e61144b-1cf2-42c2-c95b-bfa0e2c62f58"
      },
      "cell_type": "code",
      "source": [
        "from sklearn.feature_extraction.text import TfidfTransformer\n",
        "\n",
        "transformer = TfidfTransformer()\n",
        "A = transformer.fit_transform(A.T).T\n",
        "\n",
        "A.shape"
      ],
      "execution_count": 8,
      "outputs": [
        {
          "output_type": "execute_result",
          "data": {
            "text/plain": [
              "(13002, 500)"
            ]
          },
          "metadata": {
            "tags": []
          },
          "execution_count": 8
        }
      ]
    },
    {
      "metadata": {
        "id": "tj3t6kBif4Qk",
        "colab_type": "text"
      },
      "cell_type": "markdown",
      "source": [
        "#### T-sne transform (2D)"
      ]
    },
    {
      "metadata": {
        "id": "MNxGjApwYlWv",
        "colab_type": "code",
        "colab": {
          "base_uri": "https://localhost:8080/",
          "height": 52
        },
        "outputId": "e17fdec6-e6fe-4a0f-e9ae-62883ebb621e"
      },
      "cell_type": "code",
      "source": [
        "# tsne requires a dense array\n",
        "A = A.toarray()\n",
        "display(A.shape)\n",
        "\n",
        "# t-sne\n",
        "from sklearn.manifold import TSNE\n",
        "\n",
        "tsne = TSNE()\n",
        "Z = tsne.fit_transform(A)\n",
        "\n",
        "display(Z.shape)"
      ],
      "execution_count": 9,
      "outputs": [
        {
          "output_type": "display_data",
          "data": {
            "text/plain": [
              "(13002, 500)"
            ]
          },
          "metadata": {
            "tags": []
          }
        },
        {
          "output_type": "display_data",
          "data": {
            "text/plain": [
              "(13002, 2)"
            ]
          },
          "metadata": {
            "tags": []
          }
        }
      ]
    },
    {
      "metadata": {
        "id": "ypjXy1UNY9Xr",
        "colab_type": "code",
        "colab": {
          "base_uri": "https://localhost:8080/",
          "height": 347
        },
        "outputId": "5781d0e3-3409-4472-b3b1-6102fa5f73e6"
      },
      "cell_type": "code",
      "source": [
        "plt.scatter(Z[:,0], Z[:,1])\n",
        "for i in range(10):\n",
        "    try:\n",
        "        plt.annotate(s=idx2word[i].encode(\"utf8\").decode(\"utf8\"), xy=(Z[i,0], Z[i,1]))\n",
        "    except:\n",
        "        print(\"bad string:\", idx2word[i])\n",
        "\n",
        "plt.draw()"
      ],
      "execution_count": 10,
      "outputs": [
        {
          "output_type": "display_data",
          "data": {
            "image/png": "[encoded data removed]",
            "text/plain": [
              "<matplotlib.figure.Figure at 0x7f1e61b3c908>"
            ]
          },
          "metadata": {
            "tags": []
          }
        }
      ]
    },
    {
      "metadata": {
        "id": "lu_IRRfIRo2S",
        "colab_type": "text"
      },
      "cell_type": "markdown",
      "source": [
        "#### T-sne transform (3D)"
      ]
    },
    {
      "metadata": {
        "id": "kaQDQzaHw2X0",
        "colab_type": "code",
        "colab": {
          "base_uri": "https://localhost:8080/",
          "height": 34
        },
        "outputId": "3c299a9b-24c8-4189-a7ff-de6b002e7d44"
      },
      "cell_type": "code",
      "source": [
        "tsne = TSNE(n_components=3)\n",
        "We = tsne.fit_transform(A)\n",
        "\n",
        "We.shape"
      ],
      "execution_count": 11,
      "outputs": [
        {
          "output_type": "execute_result",
          "data": {
            "text/plain": [
              "(13002, 3)"
            ]
          },
          "metadata": {
            "tags": []
          },
          "execution_count": 11
        }
      ]
    },
    {
      "metadata": {
        "id": "IbU2VQ5GyNZv",
        "colab_type": "code",
        "colab": {}
      },
      "cell_type": "code",
      "source": [
        "from sklearn.metrics.pairwise import pairwise_distances\n",
        "\n",
        "\n",
        "def find_analogies(w1, w2, w3, We, word2idx, idx2word):\n",
        "    V, D = We.shape\n",
        "\n",
        "    king = We[word2idx[w1]]\n",
        "    man = We[word2idx[w2]]\n",
        "    woman = We[word2idx[w3]]\n",
        "    v0 = king - man + woman\n",
        "\n",
        "    for dist in ('euclidean', 'cosine'):\n",
        "        distances = pairwise_distances(v0.reshape(1, D), We, metric=dist).reshape(V)\n",
        "        # idx = distances.argmin()\n",
        "        # best_word = idx2word[idx]\n",
        "        idx = distances.argsort()[:4]\n",
        "        best_idx = -1\n",
        "        keep_out = [word2idx[w] for w in (w1, w2, w3)]\n",
        "        for i in idx:\n",
        "            if i not in keep_out:\n",
        "                best_idx = i\n",
        "                break\n",
        "        best_word = idx2word[best_idx]\n",
        "\n",
        "\n",
        "        print(\"closest match by\", dist, \"distance:\", best_word)\n",
        "        print(w1, \"-\", w2, \"=\", best_word, \"-\", w3)"
      ],
      "execution_count": 0,
      "outputs": []
    },
    {
      "metadata": {
        "id": "RkDlGObffkoL",
        "colab_type": "code",
        "colab": {
          "base_uri": "https://localhost:8080/",
          "height": 298
        },
        "outputId": "c3a0c513-8642-4226-d9cf-7f5c1ec0482b"
      },
      "cell_type": "code",
      "source": [
        "analogies_to_try = (\n",
        "        ('king', 'man', 'woman'),\n",
        "        ('france', 'paris', 'london'),\n",
        "        ('france', 'paris', 'rome'),\n",
        "        ('paris', 'france', 'italy'))\n",
        "\n",
        "for word_list in analogies_to_try:\n",
        "        w1, w2, w3 = word_list\n",
        "        find_analogies(w1, w2, w3, We, word2idx, idx2word)"
      ],
      "execution_count": 13,
      "outputs": [
        {
          "output_type": "stream",
          "text": [
            "closest match by euclidean distance: probably\n",
            "king - man = probably - woman\n",
            "closest match by cosine distance: laugh\n",
            "king - man = laugh - woman\n",
            "closest match by euclidean distance: brooklyn\n",
            "france - paris = brooklyn - london\n",
            "closest match by cosine distance: chose\n",
            "france - paris = chose - london\n",
            "closest match by euclidean distance: jokes\n",
            "france - paris = jokes - rome\n",
            "closest match by cosine distance: jokes\n",
            "france - paris = jokes - rome\n",
            "closest match by euclidean distance: week\n",
            "paris - france = week - italy\n",
            "closest match by cosine distance: bus\n",
            "paris - france = bus - italy\n"
          ],
          "name": "stdout"
        }
      ]
    }
  ]
}