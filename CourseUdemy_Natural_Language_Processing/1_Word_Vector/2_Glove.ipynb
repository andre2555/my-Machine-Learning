{
  "nbformat": 4,
  "nbformat_minor": 0,
  "metadata": {
    "colab": {
      "name": "Untitled0.ipynb",
      "version": "0.3.2",
      "provenance": [],
      "collapsed_sections": []
    },
    "kernelspec": {
      "name": "python3",
      "display_name": "Python 3"
    },
    "accelerator": "GPU"
  },
  "cells": [
    {
      "metadata": {
        "id": "upewSulHj9DF",
        "colab_type": "code",
        "colab": {}
      },
      "cell_type": "code",
      "source": [
        "import matplotlib.pyplot as plt\n",
        "import pandas as pd\n",
        "import numpy as np\n",
        "from IPython.display import display"
      ],
      "execution_count": 0,
      "outputs": []
    },
    {
      "metadata": {
        "id": "yim0wai0kade",
        "colab_type": "text"
      },
      "cell_type": "markdown",
      "source": [
        "## Glove -  Pretrained Word Embedding Dataset\n",
        "- GloVe: https://nlp.stanford.edu/projects/glove/\n",
        "- Direct link: http://nlp.stanford.edu/data/glove.6B.zip"
      ]
    },
    {
      "metadata": {
        "id": "0UDqcI7IlLNQ",
        "colab_type": "code",
        "colab": {
          "base_uri": "https://localhost:8080/",
          "height": 386
        },
        "outputId": "3df6b697-4fb4-41e4-bcc2-4e6879a62404"
      },
      "cell_type": "code",
      "source": [
        "# Download dataset\n",
        "! wget http://nlp.stanford.edu/data/glove.6B.zip -O glove.zip\n",
        "! unzip glove.zip -d ./glove\n",
        "! rm -rf glove.zip\n",
        "! ls glove"
      ],
      "execution_count": 2,
      "outputs": [
        {
          "output_type": "stream",
          "text": [
            "--2018-11-03 13:34:23--  http://nlp.stanford.edu/data/glove.6B.zip\n",
            "Resolving nlp.stanford.edu (nlp.stanford.edu)... 171.64.67.140\n",
            "Connecting to nlp.stanford.edu (nlp.stanford.edu)|171.64.67.140|:80... connected.\n",
            "HTTP request sent, awaiting response... 302 Found\n",
            "Location: https://nlp.stanford.edu/data/glove.6B.zip [following]\n",
            "--2018-11-03 13:34:24--  https://nlp.stanford.edu/data/glove.6B.zip\n",
            "Connecting to nlp.stanford.edu (nlp.stanford.edu)|171.64.67.140|:443... connected.\n",
            "HTTP request sent, awaiting response... 200 OK\n",
            "Length: 862182613 (822M) [application/zip]\n",
            "Saving to: ‘glove.zip’\n",
            "\n",
            "glove.zip           100%[===================>] 822.24M  15.8MB/s    in 21s     \n",
            "\n",
            "2018-11-03 13:34:45 (38.9 MB/s) - ‘glove.zip’ saved [862182613/862182613]\n",
            "\n",
            "Archive:  glove.zip\n",
            "  inflating: ./glove/glove.6B.50d.txt  \n",
            "  inflating: ./glove/glove.6B.100d.txt  \n",
            "  inflating: ./glove/glove.6B.200d.txt  \n",
            "  inflating: ./glove/glove.6B.300d.txt  \n",
            "glove.6B.100d.txt  glove.6B.200d.txt  glove.6B.300d.txt  glove.6B.50d.txt\n"
          ],
          "name": "stdout"
        }
      ]
    },
    {
      "metadata": {
        "id": "jaX5rYi1qOVX",
        "colab_type": "code",
        "colab": {
          "base_uri": "https://localhost:8080/",
          "height": 34
        },
        "outputId": "2678b80a-ce70-4c92-8573-43e7933ee05e"
      },
      "cell_type": "code",
      "source": [
        "# format:\n",
        "# word vec[0] vec[1] vec[2] ...\n",
        "! head -n 1 glove/glove.6B.50d.txt | cut -c-50"
      ],
      "execution_count": 3,
      "outputs": [
        {
          "output_type": "stream",
          "text": [
            "the 0.418 0.24968 -0.41242 0.1217 0.34527 -0.04445\n"
          ],
          "name": "stdout"
        }
      ]
    },
    {
      "metadata": {
        "id": "bPmQRfmisRyP",
        "colab_type": "text"
      },
      "cell_type": "markdown",
      "source": [
        "## Load dataset - 50D"
      ]
    },
    {
      "metadata": {
        "id": "dI1UlWjrm1WT",
        "colab_type": "code",
        "colab": {
          "base_uri": "https://localhost:8080/",
          "height": 34
        },
        "outputId": "1b921d91-b755-4f95-dbaf-f38e6ab90371"
      },
      "cell_type": "code",
      "source": [
        "# load in pre-trained word vectors\n",
        "word2vec = {}\n",
        "embedding = []\n",
        "idx2word = []\n",
        "\n",
        "with open('./glove/glove.6B.50d.txt', encoding='utf-8') as f:\n",
        "    for line in f:\n",
        "        values = line.split()\n",
        "        word = values[0]\n",
        "        vec = np.asarray(values[1:], dtype='float32')\n",
        "        word2vec[word] = vec\n",
        "        embedding.append(vec)\n",
        "        idx2word.append(word)\n",
        "\n",
        "# Word Embedding matrix\n",
        "embedding = np.array(embedding)\n",
        "display(embedding.shape)"
      ],
      "execution_count": 4,
      "outputs": [
        {
          "output_type": "display_data",
          "data": {
            "text/plain": [
              "(400000, 50)"
            ]
          },
          "metadata": {
            "tags": []
          }
        }
      ]
    },
    {
      "metadata": {
        "id": "fbIW_xxhrgYM",
        "colab_type": "code",
        "colab": {
          "base_uri": "https://localhost:8080/",
          "height": 228
        },
        "outputId": "37b9fe7d-16e5-4693-df91-a22cebfd96df"
      },
      "cell_type": "code",
      "source": [
        "display(embedding[0])\n",
        "display(idx2word[0])"
      ],
      "execution_count": 5,
      "outputs": [
        {
          "output_type": "display_data",
          "data": {
            "text/plain": [
              "array([ 4.1800e-01,  2.4968e-01, -4.1242e-01,  1.2170e-01,  3.4527e-01,\n",
              "       -4.4457e-02, -4.9688e-01, -1.7862e-01, -6.6023e-04, -6.5660e-01,\n",
              "        2.7843e-01, -1.4767e-01, -5.5677e-01,  1.4658e-01, -9.5095e-03,\n",
              "        1.1658e-02,  1.0204e-01, -1.2792e-01, -8.4430e-01, -1.2181e-01,\n",
              "       -1.6801e-02, -3.3279e-01, -1.5520e-01, -2.3131e-01, -1.9181e-01,\n",
              "       -1.8823e+00, -7.6746e-01,  9.9051e-02, -4.2125e-01, -1.9526e-01,\n",
              "        4.0071e+00, -1.8594e-01, -5.2287e-01, -3.1681e-01,  5.9213e-04,\n",
              "        7.4449e-03,  1.7778e-01, -1.5897e-01,  1.2041e-02, -5.4223e-02,\n",
              "       -2.9871e-01, -1.5749e-01, -3.4758e-01, -4.5637e-02, -4.4251e-01,\n",
              "        1.8785e-01,  2.7849e-03, -1.8411e-01, -1.1514e-01, -7.8581e-01],\n",
              "      dtype=float32)"
            ]
          },
          "metadata": {
            "tags": []
          }
        },
        {
          "output_type": "display_data",
          "data": {
            "text/plain": [
              "'the'"
            ]
          },
          "metadata": {
            "tags": []
          }
        }
      ]
    },
    {
      "metadata": {
        "id": "5kNyhMFasYIU",
        "colab_type": "code",
        "colab": {
          "base_uri": "https://localhost:8080/",
          "height": 210
        },
        "outputId": "f9cf300e-c342-4f1c-c95e-2e2877535cb7"
      },
      "cell_type": "code",
      "source": [
        "display(word2vec['the'])"
      ],
      "execution_count": 6,
      "outputs": [
        {
          "output_type": "display_data",
          "data": {
            "text/plain": [
              "array([ 4.1800e-01,  2.4968e-01, -4.1242e-01,  1.2170e-01,  3.4527e-01,\n",
              "       -4.4457e-02, -4.9688e-01, -1.7862e-01, -6.6023e-04, -6.5660e-01,\n",
              "        2.7843e-01, -1.4767e-01, -5.5677e-01,  1.4658e-01, -9.5095e-03,\n",
              "        1.1658e-02,  1.0204e-01, -1.2792e-01, -8.4430e-01, -1.2181e-01,\n",
              "       -1.6801e-02, -3.3279e-01, -1.5520e-01, -2.3131e-01, -1.9181e-01,\n",
              "       -1.8823e+00, -7.6746e-01,  9.9051e-02, -4.2125e-01, -1.9526e-01,\n",
              "        4.0071e+00, -1.8594e-01, -5.2287e-01, -3.1681e-01,  5.9213e-04,\n",
              "        7.4449e-03,  1.7778e-01, -1.5897e-01,  1.2041e-02, -5.4223e-02,\n",
              "       -2.9871e-01, -1.5749e-01, -3.4758e-01, -4.5637e-02, -4.4251e-01,\n",
              "        1.8785e-01,  2.7849e-03, -1.8411e-01, -1.1514e-01, -7.8581e-01],\n",
              "      dtype=float32)"
            ]
          },
          "metadata": {
            "tags": []
          }
        }
      ]
    },
    {
      "metadata": {
        "id": "wEZBF6Ndq5-8",
        "colab_type": "text"
      },
      "cell_type": "markdown",
      "source": [
        "## Find Analogies"
      ]
    },
    {
      "metadata": {
        "id": "_oj7oxVTkAZf",
        "colab_type": "code",
        "colab": {}
      },
      "cell_type": "code",
      "source": [
        "from sklearn.metrics.pairwise import pairwise_distances\n",
        "\n",
        "def find_analogies(w1, w2, w3, \n",
        "        embedding_matrix, word2vec, idx2word,\n",
        "        metric='euclidean'):\n",
        "    ''''''\n",
        "    for w in (w1, w2, w3):\n",
        "        if w not in word2vec:\n",
        "            print(\"%s not in dictionary\" % w)\n",
        "            return\n",
        "    V, D = embedding_matrix.shape\n",
        "    \n",
        "    king = word2vec[w1]\n",
        "    man = word2vec[w2]\n",
        "    woman = word2vec[w3]\n",
        "    v0 = king - man + woman\n",
        "\n",
        "    distances = pairwise_distances(\n",
        "        v0.reshape(1, D),\n",
        "        embedding_matrix,\n",
        "        metric=metric).reshape(V)\n",
        "    idxs = distances.argsort()[:4]\n",
        "\n",
        "    for idx in idxs:\n",
        "        word = idx2word[idx]\n",
        "        if word not in (w1, w2, w3): \n",
        "            best_word = word\n",
        "            break\n",
        "\n",
        "    print(w1, \"-\", w2, \"+\", w3, '=', best_word)"
      ],
      "execution_count": 0,
      "outputs": []
    },
    {
      "metadata": {
        "id": "Z4f83X1znnTy",
        "colab_type": "code",
        "colab": {
          "base_uri": "https://localhost:8080/",
          "height": 52
        },
        "outputId": "5aab89ac-2202-4f23-f4e6-5c7e189c4b49"
      },
      "cell_type": "code",
      "source": [
        "find_analogies('king', 'man', 'woman',\n",
        "    embedding, word2vec, idx2word,\n",
        "    metric='cosine')\n",
        "\n",
        "find_analogies('king', 'man', 'woman',\n",
        "    embedding, word2vec, idx2word,\n",
        "    metric='euclidean')"
      ],
      "execution_count": 10,
      "outputs": [
        {
          "output_type": "stream",
          "text": [
            "king - man + woman = queen\n",
            "king - man + woman = queen\n"
          ],
          "name": "stdout"
        }
      ]
    },
    {
      "metadata": {
        "id": "JRxxCFIhpkKO",
        "colab_type": "code",
        "colab": {
          "base_uri": "https://localhost:8080/",
          "height": 52
        },
        "outputId": "e4008554-a23e-43d8-f28e-39a9c2b80e0a"
      },
      "cell_type": "code",
      "source": [
        "find_analogies('france', 'paris', 'london',\n",
        "    embedding, word2vec, idx2word,\n",
        "    metric='cosine')\n",
        "\n",
        "find_analogies('france', 'paris', 'london',\n",
        "    embedding, word2vec, idx2word,\n",
        "    metric='euclidean')"
      ],
      "execution_count": 11,
      "outputs": [
        {
          "output_type": "stream",
          "text": [
            "france - paris + london = britain\n",
            "france - paris + london = britain\n"
          ],
          "name": "stdout"
        }
      ]
    },
    {
      "metadata": {
        "id": "COs2DG4Cp2k5",
        "colab_type": "code",
        "colab": {
          "base_uri": "https://localhost:8080/",
          "height": 52
        },
        "outputId": "42ad2a9e-4970-42da-b607-53f330201dc4"
      },
      "cell_type": "code",
      "source": [
        "find_analogies('france', 'paris', 'rome',\n",
        "    embedding, word2vec, idx2word,\n",
        "    metric='cosine')\n",
        "\n",
        "find_analogies('france', 'paris', 'rome',\n",
        "    embedding, word2vec, idx2word,\n",
        "    metric='euclidean')"
      ],
      "execution_count": 13,
      "outputs": [
        {
          "output_type": "stream",
          "text": [
            "france - paris + rome = italy\n",
            "france - paris + rome = italy\n"
          ],
          "name": "stdout"
        }
      ]
    },
    {
      "metadata": {
        "id": "4Gdw8LEDrVcu",
        "colab_type": "code",
        "colab": {
          "base_uri": "https://localhost:8080/",
          "height": 52
        },
        "outputId": "44e667ab-9c8d-4e1f-bc71-b75aeb247644"
      },
      "cell_type": "code",
      "source": [
        "find_analogies('december', 'november', 'june',\n",
        "    embedding, word2vec, idx2word,\n",
        "    metric='cosine')\n",
        "\n",
        "find_analogies('december', 'november', 'june',\n",
        "    embedding, word2vec, idx2word,\n",
        "    metric='euclidean')"
      ],
      "execution_count": 14,
      "outputs": [
        {
          "output_type": "stream",
          "text": [
            "december - november + june = july\n",
            "december - november + june = july\n"
          ],
          "name": "stdout"
        }
      ]
    },
    {
      "metadata": {
        "id": "VQNjdgVUseU4",
        "colab_type": "text"
      },
      "cell_type": "markdown",
      "source": [
        "## Find nearest neighbor"
      ]
    },
    {
      "metadata": {
        "id": "1nqKzFTAlEVK",
        "colab_type": "code",
        "colab": {}
      },
      "cell_type": "code",
      "source": [
        "from sklearn.metrics.pairwise import pairwise_distances\n",
        "\n",
        "def nearest_neighbors(word,\n",
        "        embedding_matrix, word2vec, idx2word,\n",
        "        metric='euclidean', n=5):\n",
        "    ''''''\n",
        "    if word not in word2vec:\n",
        "        print(\"%s not in dictionary:\" % word)\n",
        "        return\n",
        "    \n",
        "    V, D = embedding_matrix.shape\n",
        "    \n",
        "    v = word2vec[word]\n",
        "    distances = pairwise_distances(\n",
        "        v.reshape(1, D),\n",
        "        embedding_matrix,\n",
        "        metric=metric).reshape(V)\n",
        "    idxs = distances.argsort()[1:n+1]\n",
        "\n",
        "    print(\"neighbors of '%s' - metric %s:\" % (word, metric))\n",
        "    for idx in idxs:\n",
        "        print(\"\\t%s\" % idx2word[idx])"
      ],
      "execution_count": 0,
      "outputs": []
    },
    {
      "metadata": {
        "id": "8BZc0VJPsytP",
        "colab_type": "code",
        "colab": {
          "base_uri": "https://localhost:8080/",
          "height": 228
        },
        "outputId": "8599268c-71e5-4d80-d6f0-cbd3b0e97a16"
      },
      "cell_type": "code",
      "source": [
        "nearest_neighbors('king',\n",
        "    embedding, word2vec, idx2word,\n",
        "    metric='euclidean')\n",
        "nearest_neighbors('king',\n",
        "    embedding, word2vec, idx2word,\n",
        "    metric='cosine')"
      ],
      "execution_count": 16,
      "outputs": [
        {
          "output_type": "stream",
          "text": [
            "neighbors of 'king' - metric euclidean:\n",
            "\tprince\n",
            "\tqueen\n",
            "\tuncle\n",
            "\tii\n",
            "\tgrandson\n",
            "neighbors of 'king' - metric cosine:\n",
            "\tprince\n",
            "\tqueen\n",
            "\tii\n",
            "\temperor\n",
            "\tson\n"
          ],
          "name": "stdout"
        }
      ]
    },
    {
      "metadata": {
        "id": "sbEe1msItvIm",
        "colab_type": "code",
        "colab": {
          "base_uri": "https://localhost:8080/",
          "height": 228
        },
        "outputId": "7c75e420-41da-4477-ba0a-565699eefe50"
      },
      "cell_type": "code",
      "source": [
        "nearest_neighbors('einstein',\n",
        "    embedding, word2vec, idx2word,\n",
        "    metric='euclidean')\n",
        "nearest_neighbors('einstein',\n",
        "    embedding, word2vec, idx2word,\n",
        "    metric='cosine')"
      ],
      "execution_count": 17,
      "outputs": [
        {
          "output_type": "stream",
          "text": [
            "neighbors of 'einstein' - metric euclidean:\n",
            "\tbohr\n",
            "\trelativity\n",
            "\tinvented\n",
            "\tfreud\n",
            "\tgottlieb\n",
            "neighbors of 'einstein' - metric cosine:\n",
            "\trelativity\n",
            "\tbohr\n",
            "\tphysics\n",
            "\theisenberg\n",
            "\tfreud\n"
          ],
          "name": "stdout"
        }
      ]
    },
    {
      "metadata": {
        "id": "-SPdk-xruO1n",
        "colab_type": "code",
        "colab": {
          "base_uri": "https://localhost:8080/",
          "height": 228
        },
        "outputId": "d17e2de1-cea3-4a4e-efd8-3fce6024a3a8"
      },
      "cell_type": "code",
      "source": [
        "nearest_neighbors('february',\n",
        "    embedding, word2vec, idx2word,\n",
        "    metric='euclidean')\n",
        "nearest_neighbors('february',\n",
        "    embedding, word2vec, idx2word,\n",
        "    metric='cosine')"
      ],
      "execution_count": 18,
      "outputs": [
        {
          "output_type": "stream",
          "text": [
            "neighbors of 'february' - metric euclidean:\n",
            "\toctober\n",
            "\tjanuary\n",
            "\tdecember\n",
            "\taugust\n",
            "\tseptember\n",
            "neighbors of 'february' - metric cosine:\n",
            "\toctober\n",
            "\tdecember\n",
            "\tjanuary\n",
            "\taugust\n",
            "\tseptember\n"
          ],
          "name": "stdout"
        }
      ]
    },
    {
      "metadata": {
        "id": "NMQW0z3kuaie",
        "colab_type": "code",
        "colab": {
          "base_uri": "https://localhost:8080/",
          "height": 228
        },
        "outputId": "ba673734-b156-43ae-ca03-3e5fa562829b"
      },
      "cell_type": "code",
      "source": [
        "nearest_neighbors('rome',\n",
        "    embedding, word2vec, idx2word,\n",
        "    metric='euclidean')\n",
        "nearest_neighbors('rome',\n",
        "    embedding, word2vec, idx2word,\n",
        "    metric='cosine')"
      ],
      "execution_count": 19,
      "outputs": [
        {
          "output_type": "stream",
          "text": [
            "neighbors of 'rome' - metric euclidean:\n",
            "\tnaples\n",
            "\tvenice\n",
            "\tturin\n",
            "\tflorence\n",
            "\tlisbon\n",
            "neighbors of 'rome' - metric cosine:\n",
            "\tnaples\n",
            "\tvenice\n",
            "\titaly\n",
            "\tturin\n",
            "\tpope\n"
          ],
          "name": "stdout"
        }
      ]
    }
  ]
}