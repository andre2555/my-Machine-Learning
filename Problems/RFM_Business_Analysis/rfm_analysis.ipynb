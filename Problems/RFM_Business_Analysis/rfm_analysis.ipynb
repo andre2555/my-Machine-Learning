{
 "cells": [
  {
   "cell_type": "code",
   "execution_count": 1,
   "metadata": {},
   "outputs": [],
   "source": [
    "import numpy as np\n",
    "import pandas as pd\n",
    "import matplotlib.pyplot as plt\n",
    "import seaborn as sns \n",
    "from IPython.display import display"
   ]
  },
  {
   "cell_type": "markdown",
   "metadata": {},
   "source": [
    "# RFM Analysis\n",
    "- RFM (Recency, Frequency, Monetary) analysis = \n",
    "    + A marketing technique used to determine which customers are the best ones \n",
    "+ RFM examines \n",
    "    + **Recency**: how recently a customer has purchased (recency)\n",
    "    + **Frequency**: how often they purchase (frequency)\n",
    "    + **Monetary**: how much the customer spends (monetary)\n",
    "\n",
    "- Customers are assigned a ranking score of 1,2,3, or 4 (4 = highest) for each RFM parameter"
   ]
  },
  {
   "cell_type": "code",
   "execution_count": 2,
   "metadata": {},
   "outputs": [
    {
     "data": {
      "text/html": [
       "<div>\n",
       "<style scoped>\n",
       "    .dataframe tbody tr th:only-of-type {\n",
       "        vertical-align: middle;\n",
       "    }\n",
       "\n",
       "    .dataframe tbody tr th {\n",
       "        vertical-align: top;\n",
       "    }\n",
       "\n",
       "    .dataframe thead th {\n",
       "        text-align: right;\n",
       "    }\n",
       "</style>\n",
       "<table border=\"1\" class=\"dataframe\">\n",
       "  <thead>\n",
       "    <tr style=\"text-align: right;\">\n",
       "      <th></th>\n",
       "      <th>CUSTOMERNAME</th>\n",
       "      <th>ORDERNUMBER</th>\n",
       "      <th>ORDERDATE</th>\n",
       "      <th>SALES</th>\n",
       "    </tr>\n",
       "  </thead>\n",
       "  <tbody>\n",
       "    <tr>\n",
       "      <td>0</td>\n",
       "      <td>Land of Toys Inc.</td>\n",
       "      <td>10107</td>\n",
       "      <td>2/24/2003 0:00</td>\n",
       "      <td>2871.00</td>\n",
       "    </tr>\n",
       "    <tr>\n",
       "      <td>1</td>\n",
       "      <td>Reims Collectables</td>\n",
       "      <td>10121</td>\n",
       "      <td>5/7/2003 0:00</td>\n",
       "      <td>2765.90</td>\n",
       "    </tr>\n",
       "    <tr>\n",
       "      <td>2</td>\n",
       "      <td>Lyon Souveniers</td>\n",
       "      <td>10134</td>\n",
       "      <td>7/1/2003 0:00</td>\n",
       "      <td>3884.34</td>\n",
       "    </tr>\n",
       "  </tbody>\n",
       "</table>\n",
       "</div>"
      ],
      "text/plain": [
       "         CUSTOMERNAME  ORDERNUMBER       ORDERDATE    SALES\n",
       "0   Land of Toys Inc.        10107  2/24/2003 0:00  2871.00\n",
       "1  Reims Collectables        10121   5/7/2003 0:00  2765.90\n",
       "2     Lyon Souveniers        10134   7/1/2003 0:00  3884.34"
      ]
     },
     "execution_count": 2,
     "metadata": {},
     "output_type": "execute_result"
    }
   ],
   "source": [
    "df = pd.read_csv('./datasets/sales_data.csv')\n",
    "df = df[['CUSTOMERNAME','ORDERNUMBER','ORDERDATE','SALES']]\n",
    "\n",
    "df.head(3)"
   ]
  },
  {
   "cell_type": "markdown",
   "metadata": {},
   "source": [
    "## Recency\n",
    "- Recency = how recently a customer has purchased a product\n",
    "- Algorithm: **recency(x) = recent date(x) - most recent date**\n",
    "    + **recent date(x)**: the date of the last order of customer x\n",
    "    + **most recent date**: the most recent order in the dataset\n",
    "    - smaller recency = higher score"
   ]
  },
  {
   "cell_type": "code",
   "execution_count": 3,
   "metadata": {},
   "outputs": [],
   "source": [
    "# Convert Date to Datetime type \n",
    "df['ORDERDATE'] = pd.to_datetime(df['ORDERDATE'])\n",
    "\n",
    "# Algorithms\n",
    "recent_dates_df = df[['CUSTOMERNAME', 'ORDERDATE']] \\\n",
    "    .groupby(['CUSTOMERNAME'])['ORDERDATE'] \\\n",
    "    .max()\n",
    "\n",
    "most_recent_date= df['ORDERDATE'].max()\n",
    "\n",
    "recency = recent_dates_df.apply(\n",
    "    lambda x: (most_recent_date-x).days)"
   ]
  },
  {
   "cell_type": "code",
   "execution_count": 4,
   "metadata": {},
   "outputs": [
    {
     "data": {
      "text/plain": [
       "CUSTOMERNAME\n",
       "AV Stores, Co.        195\n",
       "Alpha Cognac           64\n",
       "Amica Models & Co.    264\n",
       "Name: ORDERDATE, dtype: int64"
      ]
     },
     "execution_count": 4,
     "metadata": {},
     "output_type": "execute_result"
    }
   ],
   "source": [
    "recency.head(3)"
   ]
  },
  {
   "cell_type": "markdown",
   "metadata": {},
   "source": [
    "## Frequency\n",
    "- Frequency = A measure of how often a customer purchases a product\n",
    "- Algorithm\n",
    "    + Calculate the total number of times a customer has made an order"
   ]
  },
  {
   "cell_type": "code",
   "execution_count": 5,
   "metadata": {},
   "outputs": [],
   "source": [
    "############ Note: We have to group 2 times #########\n",
    "# 1 customer make multiple order\n",
    "# 1 order has multiple products"
   ]
  },
  {
   "cell_type": "code",
   "execution_count": 6,
   "metadata": {},
   "outputs": [
    {
     "data": {
      "text/plain": [
       "CUSTOMERNAME             ORDERNUMBER\n",
       "AV Stores, Co.           10110          16\n",
       "                         10306          17\n",
       "                         10332          18\n",
       "Alpha Cognac             10136           3\n",
       "                         10178          12\n",
       "                         10397           5\n",
       "Amica Models & Co.       10280          17\n",
       "                         10293           9\n",
       "Anna's Decorations, Ltd  10148          14\n",
       "                         10169          13\n",
       "dtype: int64"
      ]
     },
     "execution_count": 6,
     "metadata": {},
     "output_type": "execute_result"
    }
   ],
   "source": [
    "frequency = df[['CUSTOMERNAME', 'ORDERNUMBER']] \\\n",
    "    .groupby(['CUSTOMERNAME', 'ORDERNUMBER']) \\\n",
    "    .size()\n",
    "\n",
    "frequency.head(10)"
   ]
  },
  {
   "cell_type": "code",
   "execution_count": 7,
   "metadata": {},
   "outputs": [
    {
     "data": {
      "text/plain": [
       "CUSTOMERNAME\n",
       "AV Stores, Co.                  3\n",
       "Alpha Cognac                    3\n",
       "Amica Models & Co.              2\n",
       "Anna's Decorations, Ltd         4\n",
       "Atelier graphique               3\n",
       "Australian Collectables, Ltd    3\n",
       "Australian Collectors, Co.      5\n",
       "Australian Gift Network, Co     3\n",
       "Auto Assoc. & Cie.              2\n",
       "Auto Canal Petit                3\n",
       "dtype: int64"
      ]
     },
     "execution_count": 7,
     "metadata": {},
     "output_type": "execute_result"
    }
   ],
   "source": [
    "frequency = frequency \\\n",
    "    .groupby(['CUSTOMERNAME']) \\\n",
    "    .size()\n",
    "\n",
    "frequency.head(10)"
   ]
  },
  {
   "cell_type": "markdown",
   "metadata": {},
   "source": [
    "## Monetary\n",
    "- measure of how much the customer spent"
   ]
  },
  {
   "cell_type": "code",
   "execution_count": 8,
   "metadata": {},
   "outputs": [
    {
     "data": {
      "text/plain": [
       "CUSTOMERNAME\n",
       "AV Stores, Co.             157807.81\n",
       "Alpha Cognac                70488.44\n",
       "Amica Models & Co.          94117.26\n",
       "Anna's Decorations, Ltd    153996.13\n",
       "Atelier graphique           24179.96\n",
       "Name: SALES, dtype: float64"
      ]
     },
     "execution_count": 8,
     "metadata": {},
     "output_type": "execute_result"
    }
   ],
   "source": [
    "monetary = df[['CUSTOMERNAME', 'SALES']] \\\n",
    "    .groupby(['CUSTOMERNAME'])['SALES'] \\\n",
    "    .sum()\n",
    "\n",
    "monetary.head()"
   ]
  },
  {
   "cell_type": "markdown",
   "metadata": {},
   "source": [
    "## Summary"
   ]
  },
  {
   "cell_type": "code",
   "execution_count": 9,
   "metadata": {},
   "outputs": [
    {
     "data": {
      "text/html": [
       "<div>\n",
       "<style scoped>\n",
       "    .dataframe tbody tr th:only-of-type {\n",
       "        vertical-align: middle;\n",
       "    }\n",
       "\n",
       "    .dataframe tbody tr th {\n",
       "        vertical-align: top;\n",
       "    }\n",
       "\n",
       "    .dataframe thead th {\n",
       "        text-align: right;\n",
       "    }\n",
       "</style>\n",
       "<table border=\"1\" class=\"dataframe\">\n",
       "  <thead>\n",
       "    <tr style=\"text-align: right;\">\n",
       "      <th></th>\n",
       "      <th>recency</th>\n",
       "      <th>frequency</th>\n",
       "      <th>monetary</th>\n",
       "    </tr>\n",
       "    <tr>\n",
       "      <th>CUSTOMERNAME</th>\n",
       "      <th></th>\n",
       "      <th></th>\n",
       "      <th></th>\n",
       "    </tr>\n",
       "  </thead>\n",
       "  <tbody>\n",
       "    <tr>\n",
       "      <td>AV Stores, Co.</td>\n",
       "      <td>195</td>\n",
       "      <td>3</td>\n",
       "      <td>157807.81</td>\n",
       "    </tr>\n",
       "    <tr>\n",
       "      <td>Alpha Cognac</td>\n",
       "      <td>64</td>\n",
       "      <td>3</td>\n",
       "      <td>70488.44</td>\n",
       "    </tr>\n",
       "    <tr>\n",
       "      <td>Amica Models &amp; Co.</td>\n",
       "      <td>264</td>\n",
       "      <td>2</td>\n",
       "      <td>94117.26</td>\n",
       "    </tr>\n",
       "    <tr>\n",
       "      <td>Anna's Decorations, Ltd</td>\n",
       "      <td>83</td>\n",
       "      <td>4</td>\n",
       "      <td>153996.13</td>\n",
       "    </tr>\n",
       "    <tr>\n",
       "      <td>Atelier graphique</td>\n",
       "      <td>187</td>\n",
       "      <td>3</td>\n",
       "      <td>24179.96</td>\n",
       "    </tr>\n",
       "  </tbody>\n",
       "</table>\n",
       "</div>"
      ],
      "text/plain": [
       "                         recency  frequency   monetary\n",
       "CUSTOMERNAME                                          \n",
       "AV Stores, Co.               195          3  157807.81\n",
       "Alpha Cognac                  64          3   70488.44\n",
       "Amica Models & Co.           264          2   94117.26\n",
       "Anna's Decorations, Ltd       83          4  153996.13\n",
       "Atelier graphique            187          3   24179.96"
      ]
     },
     "execution_count": 9,
     "metadata": {},
     "output_type": "execute_result"
    }
   ],
   "source": [
    "rfm_table = pd.DataFrame()\n",
    "rfm_table['recency'] = recency\n",
    "rfm_table['frequency'] = frequency\n",
    "rfm_table['monetary'] = monetary\n",
    "\n",
    "rfm_table.head()"
   ]
  },
  {
   "cell_type": "markdown",
   "metadata": {},
   "source": [
    "#### Assign scores"
   ]
  },
  {
   "cell_type": "code",
   "execution_count": 10,
   "metadata": {},
   "outputs": [],
   "source": [
    "def assign_score(x, quantile_values, attribute):\n",
    "    '''\n",
    "    recency: lower = higher score\n",
    "    Frequency and Monetary: higher = higher score\n",
    "\n",
    "    Input: \n",
    "        attribute = 'recency', 'frequency', or 'monetary'\n",
    "    '''\n",
    "    # recency\n",
    "    if attribute == 'recency':\n",
    "        if x <= quantile_values.loc[0.25,attribute]:\n",
    "            return 4\n",
    "        elif x >= quantile_values.loc[0.25,attribute] and x <= quantile_values.loc[0.5,attribute]:\n",
    "            return 3\n",
    "        elif x >= quantile_values.loc[0.5,attribute] and x <= quantile_values.loc[0.75,attribute]:\n",
    "            return 2\n",
    "        else:\n",
    "            return 1\n",
    "\n",
    "    # frequency and frequency\n",
    "    elif attribute == 'frequency' or attribute == 'monetary':\n",
    "        if x <= quantile_values.loc[0.25,attribute]:\n",
    "            return 1\n",
    "        elif x >= quantile_values.loc[0.25,attribute] and x <= quantile_values.loc[0.5,attribute]:\n",
    "            return 2\n",
    "        elif x >= quantile_values.loc[0.5,attribute] and x <= quantile_values.loc[0.75,attribute]:\n",
    "            return 3\n",
    "        else:\n",
    "            return 4\n",
    "\n",
    "\n",
    "# Caculate quantiles\n",
    "quantile_df = rfm_table.quantile(q=[0.25,0.5,0.75])\n",
    "\n",
    "# Assign scores using quantiles\n",
    "rfm_table['r_score'] = rfm_table['recency'] \\\n",
    "    .apply(assign_score, args=(quantile_df,'recency'))\n",
    "rfm_table['f_score'] = rfm_table['frequency'] \\\n",
    "    .apply(assign_score, args=(quantile_df,'frequency'))\n",
    "rfm_table['m_score'] = rfm_table['monetary'] \\\n",
    "    .apply(assign_score, args=(quantile_df,'monetary'))\n",
    "\n",
    "# Summarize score\n",
    "rfm_table['rfm_score'] = rfm_table['r_score'] + rfm_table['f_score'] + rfm_table['m_score']\n",
    "\n",
    "# Sort\n",
    "rfm_table = rfm_table[['r_score', 'f_score', 'm_score', 'rfm_score']] \\\n",
    "    .sort_values(by='rfm_score',ascending=False)"
   ]
  },
  {
   "cell_type": "code",
   "execution_count": 11,
   "metadata": {},
   "outputs": [
    {
     "data": {
      "text/html": [
       "<div>\n",
       "<style scoped>\n",
       "    .dataframe tbody tr th:only-of-type {\n",
       "        vertical-align: middle;\n",
       "    }\n",
       "\n",
       "    .dataframe tbody tr th {\n",
       "        vertical-align: top;\n",
       "    }\n",
       "\n",
       "    .dataframe thead th {\n",
       "        text-align: right;\n",
       "    }\n",
       "</style>\n",
       "<table border=\"1\" class=\"dataframe\">\n",
       "  <thead>\n",
       "    <tr style=\"text-align: right;\">\n",
       "      <th></th>\n",
       "      <th>r_score</th>\n",
       "      <th>f_score</th>\n",
       "      <th>m_score</th>\n",
       "      <th>rfm_score</th>\n",
       "    </tr>\n",
       "    <tr>\n",
       "      <th>CUSTOMERNAME</th>\n",
       "      <th></th>\n",
       "      <th></th>\n",
       "      <th></th>\n",
       "      <th></th>\n",
       "    </tr>\n",
       "  </thead>\n",
       "  <tbody>\n",
       "    <tr>\n",
       "      <td>La Rochelle Gifts</td>\n",
       "      <td>4</td>\n",
       "      <td>4</td>\n",
       "      <td>4</td>\n",
       "      <td>12</td>\n",
       "    </tr>\n",
       "    <tr>\n",
       "      <td>The Sharp Gifts Warehouse</td>\n",
       "      <td>4</td>\n",
       "      <td>4</td>\n",
       "      <td>4</td>\n",
       "      <td>12</td>\n",
       "    </tr>\n",
       "    <tr>\n",
       "      <td>Mini Gifts Distributors Ltd.</td>\n",
       "      <td>4</td>\n",
       "      <td>4</td>\n",
       "      <td>4</td>\n",
       "      <td>12</td>\n",
       "    </tr>\n",
       "    <tr>\n",
       "      <td>Reims Collectables</td>\n",
       "      <td>4</td>\n",
       "      <td>4</td>\n",
       "      <td>4</td>\n",
       "      <td>12</td>\n",
       "    </tr>\n",
       "    <tr>\n",
       "      <td>Salzburg Collectables</td>\n",
       "      <td>4</td>\n",
       "      <td>4</td>\n",
       "      <td>4</td>\n",
       "      <td>12</td>\n",
       "    </tr>\n",
       "    <tr>\n",
       "      <td>Souveniers And Things Co.</td>\n",
       "      <td>4</td>\n",
       "      <td>4</td>\n",
       "      <td>4</td>\n",
       "      <td>12</td>\n",
       "    </tr>\n",
       "    <tr>\n",
       "      <td>Euro Shopping Channel</td>\n",
       "      <td>4</td>\n",
       "      <td>4</td>\n",
       "      <td>4</td>\n",
       "      <td>12</td>\n",
       "    </tr>\n",
       "    <tr>\n",
       "      <td>Danish Wholesale Imports</td>\n",
       "      <td>4</td>\n",
       "      <td>4</td>\n",
       "      <td>4</td>\n",
       "      <td>12</td>\n",
       "    </tr>\n",
       "    <tr>\n",
       "      <td>Diecast Classics Inc.</td>\n",
       "      <td>4</td>\n",
       "      <td>4</td>\n",
       "      <td>4</td>\n",
       "      <td>12</td>\n",
       "    </tr>\n",
       "    <tr>\n",
       "      <td>Technics Stores Inc.</td>\n",
       "      <td>3</td>\n",
       "      <td>4</td>\n",
       "      <td>4</td>\n",
       "      <td>11</td>\n",
       "    </tr>\n",
       "  </tbody>\n",
       "</table>\n",
       "</div>"
      ],
      "text/plain": [
       "                              r_score  f_score  m_score  rfm_score\n",
       "CUSTOMERNAME                                                      \n",
       "La Rochelle Gifts                   4        4        4         12\n",
       "The Sharp Gifts Warehouse           4        4        4         12\n",
       "Mini Gifts Distributors Ltd.        4        4        4         12\n",
       "Reims Collectables                  4        4        4         12\n",
       "Salzburg Collectables               4        4        4         12\n",
       "Souveniers And Things Co.           4        4        4         12\n",
       "Euro Shopping Channel               4        4        4         12\n",
       "Danish Wholesale Imports            4        4        4         12\n",
       "Diecast Classics Inc.               4        4        4         12\n",
       "Technics Stores Inc.                3        4        4         11"
      ]
     },
     "execution_count": 11,
     "metadata": {},
     "output_type": "execute_result"
    }
   ],
   "source": [
    "rfm_table.head(10)"
   ]
  }
 ],
 "metadata": {
  "kernelspec": {
   "display_name": "Python 3.6",
   "language": "python",
   "name": "py36"
  },
  "language_info": {
   "codemirror_mode": {
    "name": "ipython",
    "version": 3
   },
   "file_extension": ".py",
   "mimetype": "text/x-python",
   "name": "python",
   "nbconvert_exporter": "python",
   "pygments_lexer": "ipython3",
   "version": "3.6.9"
  }
 },
 "nbformat": 4,
 "nbformat_minor": 2
}
