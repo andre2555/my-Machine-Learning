{
 "cells": [
  {
   "cell_type": "code",
   "execution_count": 1,
   "metadata": {},
   "outputs": [
    {
     "name": "stdout",
     "output_type": "stream",
     "text": [
      "1.9.0\n"
     ]
    }
   ],
   "source": [
    "import tensorflow as tf\n",
    "print(tf.__version__)"
   ]
  },
  {
   "cell_type": "markdown",
   "metadata": {},
   "source": [
    "## String"
   ]
  },
  {
   "cell_type": "code",
   "execution_count": 2,
   "metadata": {},
   "outputs": [
    {
     "data": {
      "text/plain": [
       "b'HelloWorld'"
      ]
     },
     "execution_count": 2,
     "metadata": {},
     "output_type": "execute_result"
    }
   ],
   "source": [
    "hello = tf.constant('Hello')\n",
    "world = tf.constant('World')\n",
    "\n",
    "with tf.Session() as sess:\n",
    "    result = sess.run(hello+world)\n",
    "    \n",
    "result"
   ]
  },
  {
   "cell_type": "markdown",
   "metadata": {},
   "source": [
    "## Number"
   ]
  },
  {
   "cell_type": "code",
   "execution_count": 3,
   "metadata": {},
   "outputs": [
    {
     "data": {
      "text/plain": [
       "210"
      ]
     },
     "execution_count": 3,
     "metadata": {},
     "output_type": "execute_result"
    }
   ],
   "source": [
    "a = tf.constant(10)\n",
    "b = tf.constant(200)\n",
    "\n",
    "with tf.Session() as sess:\n",
    "    result = sess.run(a + b)\n",
    "    \n",
    "result"
   ]
  },
  {
   "cell_type": "markdown",
   "metadata": {},
   "source": [
    "## Operations"
   ]
  },
  {
   "cell_type": "code",
   "execution_count": 4,
   "metadata": {},
   "outputs": [],
   "source": [
    "# Constant\n",
    "const = tf.constant(10)\n",
    "\n",
    "# Mat filled w/ 10s\n",
    "fill_mat = tf.fill((4,4),10)\n",
    "\n",
    "# Mat filled w/ 0s\n",
    "myzeros = tf.zeros((4,4))\n",
    "\n",
    "# Mat filled w/ 1s\n",
    "myones = tf.ones((4,4))\n",
    "\n",
    "# Mat filled w/ Random\n",
    "myrandn = tf.random_normal((4,4),mean=0,stddev=0.5)\n",
    "\n",
    "# Mat filled w/ uniform Random\n",
    "myrandu = tf.random_uniform((4,4),minval=0,maxval=1)"
   ]
  },
  {
   "cell_type": "code",
   "execution_count": 5,
   "metadata": {},
   "outputs": [
    {
     "name": "stdout",
     "output_type": "stream",
     "text": [
      "10\n",
      "\n",
      "\n",
      "[[10 10 10 10]\n",
      " [10 10 10 10]\n",
      " [10 10 10 10]\n",
      " [10 10 10 10]]\n",
      "\n",
      "\n",
      "[[0. 0. 0. 0.]\n",
      " [0. 0. 0. 0.]\n",
      " [0. 0. 0. 0.]\n",
      " [0. 0. 0. 0.]]\n",
      "\n",
      "\n",
      "[[1. 1. 1. 1.]\n",
      " [1. 1. 1. 1.]\n",
      " [1. 1. 1. 1.]\n",
      " [1. 1. 1. 1.]]\n",
      "\n",
      "\n",
      "[[-0.14865346  0.30599102  0.36659086  0.02619975]\n",
      " [-0.19783275 -0.73391676 -1.2572029  -0.77519697]\n",
      " [-0.76914954 -0.15557016 -0.29275414  0.0963235 ]\n",
      " [ 0.21194763 -0.00973291 -0.17542823 -0.64273256]]\n",
      "\n",
      "\n",
      "[[0.85109544 0.87970245 0.80631304 0.7696302 ]\n",
      " [0.7881911  0.48106408 0.06596744 0.91635954]\n",
      " [0.8750869  0.5147828  0.10615396 0.83634615]\n",
      " [0.46925557 0.7229183  0.20447648 0.75797665]]\n",
      "\n",
      "\n"
     ]
    }
   ],
   "source": [
    "my_ops = [const,fill_mat,myzeros,myones,myrandn,myrandu]\n",
    "\n",
    "# Interactive Session: Only run once\n",
    "sess = tf.InteractiveSession()\n",
    "\n",
    "for op in my_ops:\n",
    "    print(op.eval())\n",
    "    print('\\n')\n",
    "\n",
    "# Close session\n",
    "sess.close()"
   ]
  },
  {
   "cell_type": "markdown",
   "metadata": {},
   "source": [
    "## Matrix Multiplication"
   ]
  },
  {
   "cell_type": "code",
   "execution_count": 6,
   "metadata": {},
   "outputs": [
    {
     "data": {
      "text/plain": [
       "TensorShape([Dimension(2), Dimension(2)])"
      ]
     },
     "execution_count": 6,
     "metadata": {},
     "output_type": "execute_result"
    }
   ],
   "source": [
    "a = tf.constant([\n",
    "    [1,2],\n",
    "    [3,4]])\n",
    "\n",
    "a.get_shape()"
   ]
  },
  {
   "cell_type": "code",
   "execution_count": 7,
   "metadata": {},
   "outputs": [
    {
     "data": {
      "text/plain": [
       "TensorShape([Dimension(2), Dimension(1)])"
      ]
     },
     "execution_count": 7,
     "metadata": {},
     "output_type": "execute_result"
    }
   ],
   "source": [
    "b = tf.constant([\n",
    "    [10],\n",
    "    [100]])\n",
    "\n",
    "b.get_shape()"
   ]
  },
  {
   "cell_type": "code",
   "execution_count": 8,
   "metadata": {},
   "outputs": [
    {
     "name": "stdout",
     "output_type": "stream",
     "text": [
      "[[210]\n",
      " [430]]\n"
     ]
    }
   ],
   "source": [
    "result = tf.matmul(a,b)\n",
    "\n",
    "# Interactive Session: Only run once\n",
    "sess = tf.InteractiveSession()\n",
    "\n",
    "print(result.eval())\n",
    "\n",
    "# Close session\n",
    "sess.close()"
   ]
  },
  {
   "cell_type": "markdown",
   "metadata": {},
   "source": [
    "## TF Graph"
   ]
  },
  {
   "cell_type": "code",
   "execution_count": 9,
   "metadata": {},
   "outputs": [],
   "source": [
    "n1 = tf.constant(1)\n",
    "n2 = tf.constant(2)\n",
    "\n",
    "n3 = n1 + n2"
   ]
  },
  {
   "cell_type": "code",
   "execution_count": 10,
   "metadata": {},
   "outputs": [
    {
     "name": "stdout",
     "output_type": "stream",
     "text": [
      "3\n"
     ]
    }
   ],
   "source": [
    "# Using with auto-closes the session\n",
    "with tf.Session() as sess:\n",
    "    result = sess.run(n3)\n",
    "\n",
    "print(result)"
   ]
  },
  {
   "cell_type": "markdown",
   "metadata": {},
   "source": [
    "## Variables and Placeholders\n",
    "- 2 main types of tensor objects\n",
    "\n",
    "#### Variables\n",
    "- Hold the values of weights and biases\n",
    "- Need to be intialized\n",
    "\n",
    "#### Placeholders\n",
    "- Empty at first\n",
    "- Need to declare an expected data type and shape"
   ]
  },
  {
   "cell_type": "code",
   "execution_count": 11,
   "metadata": {},
   "outputs": [],
   "source": [
    "sess = tf.InteractiveSession()"
   ]
  },
  {
   "cell_type": "code",
   "execution_count": 12,
   "metadata": {},
   "outputs": [
    {
     "data": {
      "text/plain": [
       "array([[0.22862709, 0.4848169 , 0.5512451 , 0.51062477],\n",
       "       [0.40958226, 0.21581757, 0.9028933 , 0.1457498 ],\n",
       "       [0.5064626 , 0.9935864 , 0.593148  , 0.01095259],\n",
       "       [0.69394433, 0.33920944, 0.30559456, 0.48190522]], dtype=float32)"
      ]
     },
     "execution_count": 12,
     "metadata": {},
     "output_type": "execute_result"
    }
   ],
   "source": [
    "# Variables\n",
    "my_tensor = tf.random_uniform((4,4),0,1)\n",
    "my_var = tf.Variable(initial_value=my_tensor)\n",
    "\n",
    "# Note! You must initialize all global variables!\n",
    "# This line is really important, it is easy to forget!\n",
    "init = tf.global_variables_initializer()\n",
    "init.run()\n",
    "\n",
    "# Get var\n",
    "my_var.eval()"
   ]
  },
  {
   "cell_type": "code",
   "execution_count": 13,
   "metadata": {},
   "outputs": [
    {
     "data": {
      "text/plain": [
       "array([[0.22862709, 0.4848169 , 0.5512451 , 0.51062477],\n",
       "       [0.40958226, 0.21581757, 0.9028933 , 0.1457498 ],\n",
       "       [0.5064626 , 0.9935864 , 0.593148  , 0.01095259],\n",
       "       [0.69394433, 0.33920944, 0.30559456, 0.48190522]], dtype=float32)"
      ]
     },
     "execution_count": 13,
     "metadata": {},
     "output_type": "execute_result"
    }
   ],
   "source": [
    "sess.run(my_var)"
   ]
  },
  {
   "cell_type": "code",
   "execution_count": 14,
   "metadata": {},
   "outputs": [],
   "source": [
    "# Placeholders\n",
    "ph = tf.placeholder(\n",
    "    tf.float32,        # Data type\n",
    "    shape=(None,5))    # shape"
   ]
  },
  {
   "cell_type": "code",
   "execution_count": 15,
   "metadata": {},
   "outputs": [],
   "source": [
    "sess.close()"
   ]
  }
 ],
 "metadata": {
  "kernelspec": {
   "display_name": "Python 3.6",
   "language": "python",
   "name": "py36"
  },
  "language_info": {
   "codemirror_mode": {
    "name": "ipython",
    "version": 3
   },
   "file_extension": ".py",
   "mimetype": "text/x-python",
   "name": "python",
   "nbconvert_exporter": "python",
   "pygments_lexer": "ipython3",
   "version": "3.6.6"
  }
 },
 "nbformat": 4,
 "nbformat_minor": 2
}
