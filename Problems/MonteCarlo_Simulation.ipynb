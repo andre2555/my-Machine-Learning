{
 "cells": [
  {
   "cell_type": "markdown",
   "metadata": {},
   "source": [
    "## Monte Carlo Simulation\n",
    "- Estimate the value of unknown quantity using inferential statistic\n",
    "\n",
    "#### Inferential statistic\n",
    "- **Population**: a set of examples\n",
    "- **Sample**: a subset of a population\n",
    "    + **random sample**: can exhibit the same properties as the population\n",
    "        - Eg: instead of perform 10000 random walks -> perform 100 random walks -> expect 10000 random walks\n"
   ]
  },
  {
   "cell_type": "markdown",
   "metadata": {},
   "source": [
    "## Fair Roulette Game\n",
    "- A roulette has 36 pockets (1-36)\n",
    "- Rule\n",
    "    + Choose a number + bet money\n",
    "    + If the ball fall into that number -> Gain x36 bet money\n",
    "    + If not lose all the bet money\n",
    "```\n",
    "     => Expected return rate: 0%\n",
    "```"
   ]
  },
  {
   "cell_type": "code",
   "execution_count": 1,
   "metadata": {},
   "outputs": [],
   "source": [
    "import random\n",
    "\n",
    "class FairRoulette():\n",
    "    def __init__(self):\n",
    "        # Setup a 36 pocket roulette(1-36)\n",
    "        self.pockets = []\n",
    "        for i in range(1,37):\n",
    "            self.pockets.append(i)\n",
    "\n",
    "        self.ball = None\n",
    "        self.pocketOdds = len(self.pockets) - 1 # Fair odd\n",
    "    def __str__(self):\n",
    "        return 'Fair Roulette'\n",
    "\n",
    "    def spin(self):\n",
    "        self.ball = random.choice(self.pockets)\n",
    "    def betPocket(self, pocket, bet_amount):\n",
    "        if pocket == self.ball:\n",
    "            return bet_amount*self.pocketOdds\n",
    "        else:\n",
    "            return -bet_amount"
   ]
  },
  {
   "cell_type": "code",
   "execution_count": 2,
   "metadata": {},
   "outputs": [
    {
     "name": "stdout",
     "output_type": "stream",
     "text": [
      "100 spins of Fair Roulette\n",
      "Expected return betting 2 = 44.0%\n",
      "\n",
      "100 spins of Fair Roulette\n",
      "Expected return betting 2 = 80.0%\n",
      "\n",
      "100 spins of Fair Roulette\n",
      "Expected return betting 2 = 8.0%\n",
      "\n",
      "1000000 spins of Fair Roulette\n",
      "Expected return betting 2 = 0.8648%\n",
      "\n",
      "1000000 spins of Fair Roulette\n",
      "Expected return betting 2 = 0.1016%\n",
      "\n",
      "1000000 spins of Fair Roulette\n",
      "Expected return betting 2 = 0.2132%\n",
      "\n",
      "10000000 spins of Fair Roulette\n",
      "Expected return betting 2 = 0.1574%\n",
      "\n",
      "10000000 spins of Fair Roulette\n",
      "Expected return betting 2 = 0.1484%\n",
      "\n",
      "10000000 spins of Fair Roulette\n",
      "Expected return betting 2 = -0.06364%\n",
      "\n"
     ]
    }
   ],
   "source": [
    "def playRoullete(game, numSpins, pocket, bet, toPrint):\n",
    "    totPocket = 0\n",
    "    for i in range(numSpins):\n",
    "        game.spin()\n",
    "        totPocket += game.betPocket(pocket, bet)\n",
    "\n",
    "    if toPrint:\n",
    "        print(numSpins, 'spins of', game)\n",
    "        print('Expected return betting', pocket, '=', str(100*totPocket/numSpins) + '%\\n')\n",
    "    return (totPocket/numSpins)\n",
    "\n",
    "\n",
    "game = FairRoulette()\n",
    "for numSpins in (100, int(1e6), int(1e7)):\n",
    "    for i in range(3):\n",
    "        playRoullete(game, numSpins,\n",
    "            pocket=2,\n",
    "            bet=1,\n",
    "            toPrint=True)"
   ]
  },
  {
   "cell_type": "markdown",
   "metadata": {},
   "source": [
    "```\n",
    "    => small tests have large variance\n",
    "```"
   ]
  }
 ],
 "metadata": {
  "kernelspec": {
   "display_name": "Root",
   "language": "python",
   "name": "python3"
  },
  "language_info": {
   "codemirror_mode": {
    "name": "ipython",
    "version": 3
   },
   "file_extension": ".py",
   "mimetype": "text/x-python",
   "name": "python",
   "nbconvert_exporter": "python",
   "pygments_lexer": "ipython3",
   "version": "3.6.5"
  }
 },
 "nbformat": 4,
 "nbformat_minor": 2
}
