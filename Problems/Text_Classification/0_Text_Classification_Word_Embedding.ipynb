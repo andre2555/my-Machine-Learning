{
  "nbformat": 4,
  "nbformat_minor": 0,
  "metadata": {
    "colab": {
      "name": "Untitled0.ipynb",
      "version": "0.3.2",
      "provenance": [],
      "collapsed_sections": []
    },
    "kernelspec": {
      "name": "python3",
      "display_name": "Python 3"
    },
    "accelerator": "GPU"
  },
  "cells": [
    {
      "metadata": {
        "id": "nd-cwuvBDEXY",
        "colab_type": "text"
      },
      "cell_type": "markdown",
      "source": [
        "# [Practical Text Classification With Python and Keras - Word Embedding](https://realpython.com/python-keras-text-classification/?fbclid=IwAR0uuIjJZMfOsT0BDBT_-MQnW3MjwZqpFZ3xkEh2TwZLjbgki5zfeiP91KM)\n",
        "\n",
        "Imagine you could know the mood of the people on the Internet. Maybe you are not interested in its entirety, but only if people are today happy on your favorite social media platform. After this tutorial, you’ll be equipped to do this. While doing this, you will get a grasp of current advancements of (deep) neural networks and how they can be applied to text.\n",
        "\n",
        "Reading the mood from text with machine learning is called [sentiment analysis](https://en.wikipedia.org/wiki/Sentiment_analysis) , and it is one of the prominent use cases in text classification. This falls into the very active research field of natural language processing (NLP). Other common use cases of text classification include detection of spam, auto tagging of customer queries, and categorization of text into defined topics. So how can you do this?\n",
        "\n",
        "### Reference:\n",
        "\n",
        "https://realpython.com/python-keras-text-classification\n",
        "\n",
        "### Dataset\n",
        "https://archive.ics.uci.edu/ml/machine-learning-databases/00331/"
      ]
    },
    {
      "metadata": {
        "id": "JxfsNm0ODIPN",
        "colab_type": "code",
        "colab": {}
      },
      "cell_type": "code",
      "source": [
        "import matplotlib.pyplot as plt\n",
        "import pandas as pd\n",
        "import numpy as np\n",
        "from IPython.display import display"
      ],
      "execution_count": 0,
      "outputs": []
    },
    {
      "metadata": {
        "id": "FvQI74oEnifU",
        "colab_type": "text"
      },
      "cell_type": "markdown",
      "source": [
        "## Text Preprocessing"
      ]
    },
    {
      "metadata": {
        "id": "0OUuHjWVMXsQ",
        "colab_type": "text"
      },
      "cell_type": "markdown",
      "source": [
        "### Bag of Word\n",
        "\n",
        "- Text\n",
        "\n",
        "```\n",
        "  John likes ice cream\n",
        "  John hates chocolate.\n",
        "  ```\n",
        "  \n",
        "  - Create index table\n",
        "  {'John': 0, 'chocolate': 1, 'cream': 2, 'hates': 3, 'ice': 4, 'likes': 5}\n",
        "  \n",
        "  - Tokenization: Count number of words\n",
        "  \n",
        "  ```\n",
        "    ['John': 1, 'chocolate': 0, 'cream': 1, 'hates': 0, 'ice': 1, 'likes': 1]\n",
        "    ['John': 1, 'chocolate': 1, 'cream': 0, 'hates': 1, 'ice': 0, 'likes': 0]\n",
        "  ```\n",
        "  "
      ]
    },
    {
      "metadata": {
        "id": "aLnLR6zaGM4y",
        "colab_type": "code",
        "colab": {}
      },
      "cell_type": "code",
      "source": [
        "sentences = ['John likes ice cream', 'John hates chocolate.']"
      ],
      "execution_count": 0,
      "outputs": []
    },
    {
      "metadata": {
        "id": "ToJ4_PKmMExq",
        "colab_type": "code",
        "colab": {
          "base_uri": "https://localhost:8080/",
          "height": 35
        },
        "outputId": "080fa594-09a4-4885-9f9e-1cd879374d2c"
      },
      "cell_type": "code",
      "source": [
        "from sklearn.feature_extraction.text import CountVectorizer\n",
        "\n",
        "# Vectorize the sentences\n",
        "vectorizer = CountVectorizer(min_df=0, lowercase=False)\n",
        "vectorizer.fit(sentences)\n",
        "\n",
        "# Vocabulary serves as an index of each word\n",
        "vectorizer.vocabulary_"
      ],
      "execution_count": 3,
      "outputs": [
        {
          "output_type": "execute_result",
          "data": {
            "text/plain": [
              "{'John': 0, 'chocolate': 1, 'cream': 2, 'hates': 3, 'ice': 4, 'likes': 5}"
            ]
          },
          "metadata": {
            "tags": []
          },
          "execution_count": 3
        }
      ]
    },
    {
      "metadata": {
        "id": "d8DEe7QEMLP1",
        "colab_type": "code",
        "colab": {
          "base_uri": "https://localhost:8080/",
          "height": 54
        },
        "outputId": "3c57c26d-496f-4a74-b223-b02887e67235"
      },
      "cell_type": "code",
      "source": [
        "# Tokenization: Transform into number-of-word array\n",
        "vectorizer.transform(sentences).toarray()"
      ],
      "execution_count": 4,
      "outputs": [
        {
          "output_type": "execute_result",
          "data": {
            "text/plain": [
              "array([[1, 0, 1, 0, 1, 1],\n",
              "       [1, 1, 0, 1, 0, 0]])"
            ]
          },
          "metadata": {
            "tags": []
          },
          "execution_count": 4
        }
      ]
    },
    {
      "metadata": {
        "id": "-6m0v6vth2gL",
        "colab_type": "text"
      },
      "cell_type": "markdown",
      "source": [
        "### One hot Encoding"
      ]
    },
    {
      "metadata": {
        "id": "cmXJznMFdsg5",
        "colab_type": "code",
        "colab": {
          "base_uri": "https://localhost:8080/",
          "height": 163
        },
        "outputId": "47350a2f-8cf4-470f-bfa1-fc1eaf59ec6f"
      },
      "cell_type": "code",
      "source": [
        "# sklearn - One hot encoding\n",
        "cities = ['London', 'Berlin', 'Berlin', 'New York', 'London']\n",
        "display(cities)\n",
        "\n",
        "# Label Encoding\n",
        "from sklearn.preprocessing import LabelEncoder\n",
        "\n",
        "label_encoder = LabelEncoder()\n",
        "city_labels = label_encoder.fit_transform(cities)\n",
        "display(city_labels)\n",
        "\n",
        "\n",
        "# one hot Encoding\n",
        "from sklearn.preprocessing import OneHotEncoder\n",
        "\n",
        "onehot_encoder = OneHotEncoder(sparse=False)\n",
        "cities_onehot = onehot_encoder.fit_transform(\n",
        "    city_labels.reshape((len(city_labels), 1)))\n",
        "display(cities_onehot)\n",
        "\n",
        "# Invert\n",
        "from numpy import argmax\n",
        "\n",
        "inverted = np.array([argmax(city) for city in cities_onehot])\n",
        "display(inverted)"
      ],
      "execution_count": 5,
      "outputs": [
        {
          "output_type": "display_data",
          "data": {
            "text/plain": [
              "['London', 'Berlin', 'Berlin', 'New York', 'London']"
            ]
          },
          "metadata": {
            "tags": []
          }
        },
        {
          "output_type": "display_data",
          "data": {
            "text/plain": [
              "array([1, 0, 0, 2, 1])"
            ]
          },
          "metadata": {
            "tags": []
          }
        },
        {
          "output_type": "display_data",
          "data": {
            "text/plain": [
              "array([[0., 1., 0.],\n",
              "       [1., 0., 0.],\n",
              "       [1., 0., 0.],\n",
              "       [0., 0., 1.],\n",
              "       [0., 1., 0.]])"
            ]
          },
          "metadata": {
            "tags": []
          }
        },
        {
          "output_type": "display_data",
          "data": {
            "text/plain": [
              "array([1, 0, 0, 2, 1])"
            ]
          },
          "metadata": {
            "tags": []
          }
        }
      ]
    },
    {
      "metadata": {
        "id": "JHvRGNKGoL7w",
        "colab_type": "code",
        "colab": {
          "base_uri": "https://localhost:8080/",
          "height": 181
        },
        "outputId": "3440f483-ea4e-4261-b311-ae78be328922"
      },
      "cell_type": "code",
      "source": [
        "# Keras - One hot encoding\n",
        "cities = ['London', 'Berlin', 'Berlin', 'New York', 'London']\n",
        "display(cities)\n",
        "\n",
        "# Label Encoding\n",
        "from sklearn.preprocessing import LabelEncoder\n",
        "\n",
        "label_encoder = LabelEncoder()\n",
        "city_labels = label_encoder.fit_transform(cities)\n",
        "display(city_labels)\n",
        "\n",
        "# one hot Encoding\n",
        "from keras.utils import to_categorical\n",
        "\n",
        "cities_onehot = to_categorical(city_labels)\n",
        "display(cities_onehot)\n",
        "\n",
        "# Invert\n",
        "from numpy import argmax\n",
        "\n",
        "inverted = np.array([argmax(city) for city in cities_onehot])\n",
        "display(inverted)"
      ],
      "execution_count": 6,
      "outputs": [
        {
          "output_type": "display_data",
          "data": {
            "text/plain": [
              "['London', 'Berlin', 'Berlin', 'New York', 'London']"
            ]
          },
          "metadata": {
            "tags": []
          }
        },
        {
          "output_type": "display_data",
          "data": {
            "text/plain": [
              "array([1, 0, 0, 2, 1])"
            ]
          },
          "metadata": {
            "tags": []
          }
        },
        {
          "output_type": "stream",
          "text": [
            "Using TensorFlow backend.\n"
          ],
          "name": "stderr"
        },
        {
          "output_type": "display_data",
          "data": {
            "text/plain": [
              "array([[0., 1., 0.],\n",
              "       [1., 0., 0.],\n",
              "       [1., 0., 0.],\n",
              "       [0., 0., 1.],\n",
              "       [0., 1., 0.]], dtype=float32)"
            ]
          },
          "metadata": {
            "tags": []
          }
        },
        {
          "output_type": "display_data",
          "data": {
            "text/plain": [
              "array([1, 0, 0, 2, 1])"
            ]
          },
          "metadata": {
            "tags": []
          }
        }
      ]
    },
    {
      "metadata": {
        "id": "tG5TeW2doTWW",
        "colab_type": "text"
      },
      "cell_type": "markdown",
      "source": [
        "### Word Embedding\n",
        "#### Word Embedding vs BoW\n",
        "- Bag of words: sequence of words = a single feature vector.\n",
        "- Word Embedding:\n",
        "    + Words represented by each word as a vector\n",
        "    + Characters represented by each character as a vector\n",
        "    + N-grams of words/characters represented as a vector (N-grams are overlapping groups of multiple succeeding words/characters in the text)\n",
        "\n",
        "#### Word Embedding vs Onehot\n",
        "- one-hot encoding = hardcoded\n",
        "- Word Embedding = softcoded\n",
        "    + collect more information into fewer dimensions\n",
        "    + map semantic meaning into a geometric space(**embedding space**)\n",
        "\n",
        "#### Train Word Embedding\n",
        "- Train during Neural Net\n",
        "- Pre-trained"
      ]
    },
    {
      "metadata": {
        "id": "G7tsDjlVt_TB",
        "colab_type": "code",
        "colab": {}
      },
      "cell_type": "code",
      "source": [
        "sentences = [\n",
        "    'John likes ice cream',\n",
        "    'John hates chocolate',\n",
        "    'Kathy likes Google',\n",
        "    'Kathy hates Apple']"
      ],
      "execution_count": 0,
      "outputs": []
    },
    {
      "metadata": {
        "id": "A-WhoGVGv6s1",
        "colab_type": "text"
      },
      "cell_type": "markdown",
      "source": [
        "#### Tokenize\n",
        "- vectorize a text corpus into a list of integers\n",
        "- Each integer maps to a value in a dictionary that encodes the entire corpus\n",
        "- index 0 is reserved and is not assigned to any word\n",
        "- Indexing is ordered after the most common words in the text (1 = most common)\n",
        "\n",
        "num_words: responsible for setting the size of the vocabulary\n"
      ]
    },
    {
      "metadata": {
        "id": "AXls2Ze7oUBz",
        "colab_type": "code",
        "colab": {
          "base_uri": "https://localhost:8080/",
          "height": 435
        },
        "outputId": "923053e5-262d-49a5-e0fd-ebc3af36bbc9"
      },
      "cell_type": "code",
      "source": [
        "from keras.preprocessing.text import Tokenizer\n",
        "\n",
        "# Fit tokenizer\n",
        "tokenizer = Tokenizer(num_words=5000)\n",
        "tokenizer.fit_on_texts(sentences)\n",
        "\n",
        "# Word index\n",
        "display(tokenizer.word_index)\n",
        "\n",
        "# Vocab size\n",
        "vocab_size = len(tokenizer.word_index) + 1  # Adding 1 because of reserved 0 index\n",
        "print('\\nVocab size: {}'.format(vocab_size))\n",
        "\n",
        "# Transform\n",
        "sentences_trained = tokenizer.texts_to_sequences(sentences)\n",
        "\n",
        "for i in range(len(sentences)):\n",
        "    print('')\n",
        "    print(sentences[i])\n",
        "    print(sentences_trained[i])"
      ],
      "execution_count": 8,
      "outputs": [
        {
          "output_type": "display_data",
          "data": {
            "text/plain": [
              "{'apple': 9,\n",
              " 'chocolate': 7,\n",
              " 'cream': 6,\n",
              " 'google': 8,\n",
              " 'hates': 3,\n",
              " 'ice': 5,\n",
              " 'john': 1,\n",
              " 'kathy': 4,\n",
              " 'likes': 2}"
            ]
          },
          "metadata": {
            "tags": []
          }
        },
        {
          "output_type": "stream",
          "text": [
            "\n",
            "Vocab size: 10\n",
            "\n",
            "John likes ice cream\n",
            "[1, 2, 5, 6]\n",
            "\n",
            "John hates chocolate\n",
            "[1, 3, 7]\n",
            "\n",
            "Kathy likes Google\n",
            "[4, 2, 8]\n",
            "\n",
            "Kathy hates Apple\n",
            "[4, 3, 9]\n"
          ],
          "name": "stdout"
        }
      ]
    },
    {
      "metadata": {
        "id": "62KdoFUMHxPw",
        "colab_type": "text"
      },
      "cell_type": "markdown",
      "source": [
        "#### pad_sequences\n",
        "text sequence has in most cases different length of words\n",
        "\n",
        "    -> pads the sequence of words with zeros"
      ]
    },
    {
      "metadata": {
        "id": "M4zMKwrN_wic",
        "colab_type": "code",
        "colab": {
          "base_uri": "https://localhost:8080/",
          "height": 90
        },
        "outputId": "4040a053-4194-4706-930a-382618ba593a"
      },
      "cell_type": "code",
      "source": [
        "from keras.preprocessing.sequence import pad_sequences\n",
        "\n",
        "maxlen = 20\n",
        "\n",
        "X_train = pad_sequences(sentences_trained, padding='post', maxlen=maxlen)\n",
        "display(X_train.shape)\n",
        "display(sentences_trained[0])\n",
        "display(X_train[0])"
      ],
      "execution_count": 9,
      "outputs": [
        {
          "output_type": "display_data",
          "data": {
            "text/plain": [
              "(4, 20)"
            ]
          },
          "metadata": {
            "tags": []
          }
        },
        {
          "output_type": "display_data",
          "data": {
            "text/plain": [
              "[1, 2, 5, 6]"
            ]
          },
          "metadata": {
            "tags": []
          }
        },
        {
          "output_type": "display_data",
          "data": {
            "text/plain": [
              "array([1, 2, 5, 6, 0, 0, 0, 0, 0, 0, 0, 0, 0, 0, 0, 0, 0, 0, 0, 0],\n",
              "      dtype=int32)"
            ]
          },
          "metadata": {
            "tags": []
          }
        }
      ]
    },
    {
      "metadata": {
        "id": "P62NqCkLJVi9",
        "colab_type": "text"
      },
      "cell_type": "markdown",
      "source": [
        "#### Train during Neural Net\n",
        "weights of the embedding layer are initialized with random weights and are then adjusted through backpropagation during training\n",
        "\n",
        "- `input_dim`: the size of the vocabulary\n",
        "- `output_dim`: the size of the dense vector\n",
        "- `input_length`: the length of the sequence"
      ]
    },
    {
      "metadata": {
        "id": "2zle_sylJYI9",
        "colab_type": "code",
        "colab": {
          "base_uri": "https://localhost:8080/",
          "height": 217
        },
        "outputId": "9e6e5151-046e-44f2-cf38-51182c1ca236"
      },
      "cell_type": "code",
      "source": [
        "from keras.models import Sequential\n",
        "from keras import layers\n",
        "\n",
        "embedding_dim = 50\n",
        "\n",
        "model = Sequential()\n",
        "\n",
        "# Embedding layer\n",
        "model.add(layers.Embedding(\n",
        "    input_dim=vocab_size, \n",
        "    output_dim=embedding_dim, \n",
        "    input_length=maxlen))\n",
        "\n",
        "# using a MaxPooling1D/AveragePooling1D \n",
        "#     or a GlobalMaxPooling1D/GlobalAveragePooling1D\n",
        "#     after the embedding layer\n",
        "model.add(layers.GlobalMaxPool1D())\n",
        "\n",
        "model.compile(optimizer='adam',\n",
        "              loss='binary_crossentropy',\n",
        "              metrics=['accuracy'])\n",
        "model.summary()"
      ],
      "execution_count": 10,
      "outputs": [
        {
          "output_type": "stream",
          "text": [
            "_________________________________________________________________\n",
            "Layer (type)                 Output Shape              Param #   \n",
            "=================================================================\n",
            "embedding_1 (Embedding)      (None, 20, 50)            500       \n",
            "_________________________________________________________________\n",
            "global_max_pooling1d_1 (Glob (None, 50)                0         \n",
            "=================================================================\n",
            "Total params: 500\n",
            "Trainable params: 500\n",
            "Non-trainable params: 0\n",
            "_________________________________________________________________\n"
          ],
          "name": "stdout"
        }
      ]
    },
    {
      "metadata": {
        "id": "FlnYI8H_hnP3",
        "colab_type": "text"
      },
      "cell_type": "markdown",
      "source": [
        "#### Use Pretrained dataset"
      ]
    },
    {
      "metadata": {
        "id": "e-O5LMUoMZ8-",
        "colab_type": "code",
        "colab": {
          "base_uri": "https://localhost:8080/",
          "height": 399
        },
        "outputId": "41b0e53f-cfc3-4a0c-d314-9f52e986d4c0"
      },
      "cell_type": "code",
      "source": [
        "# Download pretrained Glove dataset\n",
        "! wget http://nlp.stanford.edu/data/glove.6B.zip -O glove.zip\n",
        "! unzip glove.zip -d ./glove\n",
        "! rm -rf glove.zip\n",
        "! ls glove"
      ],
      "execution_count": 11,
      "outputs": [
        {
          "output_type": "stream",
          "text": [
            "--2018-10-25 15:21:38--  http://nlp.stanford.edu/data/glove.6B.zip\n",
            "Resolving nlp.stanford.edu (nlp.stanford.edu)... 171.64.67.140\n",
            "Connecting to nlp.stanford.edu (nlp.stanford.edu)|171.64.67.140|:80... connected.\n",
            "HTTP request sent, awaiting response... 302 Found\n",
            "Location: https://nlp.stanford.edu/data/glove.6B.zip [following]\n",
            "--2018-10-25 15:21:38--  https://nlp.stanford.edu/data/glove.6B.zip\n",
            "Connecting to nlp.stanford.edu (nlp.stanford.edu)|171.64.67.140|:443... connected.\n",
            "HTTP request sent, awaiting response... 200 OK\n",
            "Length: 862182613 (822M) [application/zip]\n",
            "Saving to: ‘glove.zip’\n",
            "\n",
            "glove.zip           100%[===================>] 822.24M  21.4MB/s    in 37s     \n",
            "\n",
            "2018-10-25 15:22:15 (22.5 MB/s) - ‘glove.zip’ saved [862182613/862182613]\n",
            "\n",
            "Archive:  glove.zip\n",
            "  inflating: ./glove/glove.6B.50d.txt  \n",
            "  inflating: ./glove/glove.6B.100d.txt  \n",
            "  inflating: ./glove/glove.6B.200d.txt  \n",
            "  inflating: ./glove/glove.6B.300d.txt  \n",
            "glove.6B.100d.txt  glove.6B.200d.txt  glove.6B.300d.txt  glove.6B.50d.txt\n"
          ],
          "name": "stdout"
        }
      ]
    },
    {
      "metadata": {
        "id": "NjXUYDqBonSS",
        "colab_type": "code",
        "colab": {
          "base_uri": "https://localhost:8080/",
          "height": 35
        },
        "outputId": "f479fd55-eeb1-4db5-f8b4-19ea881a673a"
      },
      "cell_type": "code",
      "source": [
        "# Exam pretrained dataset\n",
        "! head -n 1 glove/glove.6B.50d.txt | cut -c-50"
      ],
      "execution_count": 12,
      "outputs": [
        {
          "output_type": "stream",
          "text": [
            "the 0.418 0.24968 -0.41242 0.1217 0.34527 -0.04445\n"
          ],
          "name": "stdout"
        }
      ]
    },
    {
      "metadata": {
        "id": "cP9P1J2tpOcg",
        "colab_type": "code",
        "colab": {}
      },
      "cell_type": "code",
      "source": [
        "def create_embedding_matrix(filepath, word_index, embedding_dim):\n",
        "    vocab_size = len(word_index) + 1  # Adding again 1 because of reserved 0 index\n",
        "    embedding_matrix = np.zeros((vocab_size, embedding_dim))\n",
        "\n",
        "    with open(filepath) as f:\n",
        "        for line in f:\n",
        "            word, *vector = line.split()\n",
        "            if word in word_index:\n",
        "                idx = word_index[word] \n",
        "                embedding_matrix[idx] = np.array(\n",
        "                    vector, dtype=np.float32)[:embedding_dim]\n",
        "\n",
        "    return embedding_matrix"
      ],
      "execution_count": 0,
      "outputs": []
    },
    {
      "metadata": {
        "id": "x1T70u1fpYhs",
        "colab_type": "code",
        "colab": {
          "base_uri": "https://localhost:8080/",
          "height": 54
        },
        "outputId": "d75ffe21-80ec-4751-92b3-ed43894a8335"
      },
      "cell_type": "code",
      "source": [
        "# Extract embedding matrix\n",
        "embedding_dim = 50\n",
        "embedding_matrix = create_embedding_matrix(\n",
        "    'glove/glove.6B.50d.txt',\n",
        "    tokenizer.word_index, embedding_dim)\n",
        "\n",
        "display(embedding_matrix.shape)\n",
        "\n",
        "# Check non-zero words (already exist in the pretrained dataset)\n",
        "nonzero_elements = np.count_nonzero(np.count_nonzero(embedding_matrix, axis=1))\n",
        "print('Percentage words covered {}%'.format(\n",
        "    float(nonzero_elements) / vocab_size * 100.0))"
      ],
      "execution_count": 14,
      "outputs": [
        {
          "output_type": "display_data",
          "data": {
            "text/plain": [
              "(10, 50)"
            ]
          },
          "metadata": {
            "tags": []
          }
        },
        {
          "output_type": "stream",
          "text": [
            "Percentage words covered 90.0%\n"
          ],
          "name": "stdout"
        }
      ]
    },
    {
      "metadata": {
        "id": "0y-4fbger4Jn",
        "colab_type": "code",
        "colab": {
          "base_uri": "https://localhost:8080/",
          "height": 217
        },
        "outputId": "24325bf1-9585-4207-dfc3-810efeca09c4"
      },
      "cell_type": "code",
      "source": [
        "from keras.models import Sequential\n",
        "from keras.layers import Embedding\n",
        "\n",
        "embedding_dim = 50\n",
        "\n",
        "model = Sequential()\n",
        "\n",
        "# Embedding layer\n",
        "model.add(Embedding(\n",
        "    input_dim=vocab_size, \n",
        "    output_dim=embedding_dim,\n",
        "    weights=[embedding_matrix], \n",
        "    input_length=maxlen,\n",
        "    trainable=False))\n",
        "        ### trainable\n",
        "        ###    False: Not allow continous trainning Embedding\n",
        "        ###    True: Allow continous trainning Embedding\n",
        "\n",
        "# using a MaxPooling1D/AveragePooling1D \n",
        "#     or a GlobalMaxPooling1D/GlobalAveragePooling1D\n",
        "#     after the embedding layer\n",
        "model.add(layers.GlobalMaxPool1D())\n",
        "\n",
        "model.compile(optimizer='adam',\n",
        "              loss='binary_crossentropy',\n",
        "              metrics=['accuracy'])\n",
        "model.summary()"
      ],
      "execution_count": 15,
      "outputs": [
        {
          "output_type": "stream",
          "text": [
            "_________________________________________________________________\n",
            "Layer (type)                 Output Shape              Param #   \n",
            "=================================================================\n",
            "embedding_2 (Embedding)      (None, 20, 50)            500       \n",
            "_________________________________________________________________\n",
            "global_max_pooling1d_2 (Glob (None, 50)                0         \n",
            "=================================================================\n",
            "Total params: 500\n",
            "Trainable params: 0\n",
            "Non-trainable params: 500\n",
            "_________________________________________________________________\n"
          ],
          "name": "stdout"
        }
      ]
    },
    {
      "metadata": {
        "id": "C9SiosjBEi4v",
        "colab_type": "text"
      },
      "cell_type": "markdown",
      "source": [
        "## Dataset\n",
        "This dataset was created for the Paper 'From Group to Individual Labels using Deep Features', Kotzias et. al,. KDD 2015\n",
        "Please cite the paper if you want to use it :)\n",
        "\n",
        "It contains sentences labelled with positive or negative sentiment, extracted from reviews of products, movies, and restaurants\n",
        "\n",
        "\n",
        "### Format:\n",
        "sentence \\t score \\n\n",
        "\n",
        "\n",
        "### Details:\n",
        "\n",
        "Score is either 1 (for positive) or 0 (for negative)\t\n",
        "The sentences come from three different websites/fields:\n",
        "\n",
        "```\n",
        "imdb.com\n",
        "amazon.com\n",
        "yelp.com\n",
        "```\n",
        "\n",
        "For each website, there exist 500 positive and 500 negative sentences. Those were selected randomly for larger datasets of reviews. \n",
        "\n",
        "We attempted to select sentences that have a clearly positive or negative connotaton, the goal was for no neutral sentences to be selected.\n",
        "\n",
        "For the full datasets look:\n",
        "\n",
        "- imdb: Maas et. al., 2011 'Learning word vectors for sentiment analysis'\n",
        "- amazon: McAuley et. al., 2013 'Hidden factors and hidden topics: Understanding rating dimensions with review text'\n",
        "- yelp: Yelp dataset challenge http://www.yelp.com/dataset_challenge\n",
        "\n"
      ]
    },
    {
      "metadata": {
        "id": "0PEXl4PxENPG",
        "colab_type": "code",
        "colab": {
          "resources": {
            "http://localhost:8080/nbextensions/google.colab/files.js": {
              "data": "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",
              "ok": true,
              "headers": [
                [
                  "content-type",
                  "application/javascript"
                ]
              ],
              "status": 200,
              "status_text": ""
            }
          },
          "base_uri": "https://localhost:8080/",
          "height": 73
        },
        "outputId": "770ea997-c2af-4fb1-f42b-a4cae0d527f6"
      },
      "cell_type": "code",
      "source": [
        "from google.colab import files\n",
        "\n",
        "uploaded = files.upload()"
      ],
      "execution_count": 16,
      "outputs": [
        {
          "output_type": "display_data",
          "data": {
            "text/html": [
              "\n",
              "     <input type=\"file\" id=\"files-268e79a3-f0d7-4c5c-ad05-789b8b157c54\" name=\"files[]\" multiple disabled />\n",
              "     <output id=\"result-268e79a3-f0d7-4c5c-ad05-789b8b157c54\">\n",
              "      Upload widget is only available when the cell has been executed in the\n",
              "      current browser session. Please rerun this cell to enable.\n",
              "      </output>\n",
              "      <script src=\"/nbextensions/google.colab/files.js\"></script> "
            ],
            "text/plain": [
              "<IPython.core.display.HTML object>"
            ]
          },
          "metadata": {
            "tags": []
          }
        },
        {
          "output_type": "stream",
          "text": [
            "Saving sentiment_label_sentences.tar to sentiment_label_sentences.tar\n"
          ],
          "name": "stdout"
        }
      ]
    },
    {
      "metadata": {
        "id": "f1qGaYBvGS_O",
        "colab_type": "code",
        "colab": {
          "base_uri": "https://localhost:8080/",
          "height": 90
        },
        "outputId": "4d56b1ed-fda8-4f37-e217-8af24dcebddd"
      },
      "cell_type": "code",
      "source": [
        "! tar -xvf sentiment_label_sentences.tar\n",
        "! rm -rf sentiment_label_sentences.tar"
      ],
      "execution_count": 17,
      "outputs": [
        {
          "output_type": "stream",
          "text": [
            "sentiment_label_sentences/imdb_labelled.txt\n",
            "sentiment_label_sentences/yelp_labelled.txt\n",
            "sentiment_label_sentences/\n",
            "sentiment_label_sentences/amazon_cells_labelled.txt\n"
          ],
          "name": "stdout"
        }
      ]
    },
    {
      "metadata": {
        "id": "M18O1TjkJA50",
        "colab_type": "code",
        "colab": {
          "base_uri": "https://localhost:8080/",
          "height": 35
        },
        "outputId": "f74f35e6-7f60-4064-8c78-09530452c32f"
      },
      "cell_type": "code",
      "source": [
        "! ls sentiment_label_sentences"
      ],
      "execution_count": 18,
      "outputs": [
        {
          "output_type": "stream",
          "text": [
            "amazon_cells_labelled.txt  imdb_labelled.txt  yelp_labelled.txt\n"
          ],
          "name": "stdout"
        }
      ]
    },
    {
      "metadata": {
        "id": "iypIDuqhGBBs",
        "colab_type": "code",
        "colab": {}
      },
      "cell_type": "code",
      "source": [
        "filepath_dict = {\n",
        "    'yelp':   'sentiment_label_sentences/yelp_labelled.txt',\n",
        "    'amazon': 'sentiment_label_sentences/amazon_cells_labelled.txt',\n",
        "    'imdb':   'sentiment_label_sentences/imdb_labelled.txt'}\n",
        "\n",
        "df_list = []\n",
        "for source, filepath in filepath_dict.items():\n",
        "    df = pd.read_csv(filepath, names=['sentence', 'label'], sep='\\t')\n",
        "    df['source'] = source  # Add another column filled with the source name\n",
        "    df_list.append(df)\n",
        "\n",
        "df = pd.concat(df_list)"
      ],
      "execution_count": 0,
      "outputs": []
    },
    {
      "metadata": {
        "id": "5rFfe4EoHUtI",
        "colab_type": "code",
        "colab": {
          "base_uri": "https://localhost:8080/",
          "height": 562
        },
        "outputId": "44cce6e1-a801-4ae3-9a73-de2c11b7b7a0"
      },
      "cell_type": "code",
      "source": [
        "display(df.info())\n",
        "display(df.head())\n",
        "\n",
        "display(print('Label value count:'))\n",
        "display(df['label'].value_counts())\n",
        "\n",
        "display(print('Source value count:'))\n",
        "display(df['source'].value_counts())"
      ],
      "execution_count": 20,
      "outputs": [
        {
          "output_type": "stream",
          "text": [
            "<class 'pandas.core.frame.DataFrame'>\n",
            "Int64Index: 2748 entries, 0 to 747\n",
            "Data columns (total 3 columns):\n",
            "sentence    2748 non-null object\n",
            "label       2748 non-null int64\n",
            "source      2748 non-null object\n",
            "dtypes: int64(1), object(2)\n",
            "memory usage: 85.9+ KB\n"
          ],
          "name": "stdout"
        },
        {
          "output_type": "display_data",
          "data": {
            "text/plain": [
              "None"
            ]
          },
          "metadata": {
            "tags": []
          }
        },
        {
          "output_type": "display_data",
          "data": {
            "text/html": [
              "<div>\n",
              "<style scoped>\n",
              "    .dataframe tbody tr th:only-of-type {\n",
              "        vertical-align: middle;\n",
              "    }\n",
              "\n",
              "    .dataframe tbody tr th {\n",
              "        vertical-align: top;\n",
              "    }\n",
              "\n",
              "    .dataframe thead th {\n",
              "        text-align: right;\n",
              "    }\n",
              "</style>\n",
              "<table border=\"1\" class=\"dataframe\">\n",
              "  <thead>\n",
              "    <tr style=\"text-align: right;\">\n",
              "      <th></th>\n",
              "      <th>sentence</th>\n",
              "      <th>label</th>\n",
              "      <th>source</th>\n",
              "    </tr>\n",
              "  </thead>\n",
              "  <tbody>\n",
              "    <tr>\n",
              "      <th>0</th>\n",
              "      <td>Wow... Loved this place.</td>\n",
              "      <td>1</td>\n",
              "      <td>yelp</td>\n",
              "    </tr>\n",
              "    <tr>\n",
              "      <th>1</th>\n",
              "      <td>Crust is not good.</td>\n",
              "      <td>0</td>\n",
              "      <td>yelp</td>\n",
              "    </tr>\n",
              "    <tr>\n",
              "      <th>2</th>\n",
              "      <td>Not tasty and the texture was just nasty.</td>\n",
              "      <td>0</td>\n",
              "      <td>yelp</td>\n",
              "    </tr>\n",
              "    <tr>\n",
              "      <th>3</th>\n",
              "      <td>Stopped by during the late May bank holiday of...</td>\n",
              "      <td>1</td>\n",
              "      <td>yelp</td>\n",
              "    </tr>\n",
              "    <tr>\n",
              "      <th>4</th>\n",
              "      <td>The selection on the menu was great and so wer...</td>\n",
              "      <td>1</td>\n",
              "      <td>yelp</td>\n",
              "    </tr>\n",
              "  </tbody>\n",
              "</table>\n",
              "</div>"
            ],
            "text/plain": [
              "                                            sentence  label source\n",
              "0                           Wow... Loved this place.      1   yelp\n",
              "1                                 Crust is not good.      0   yelp\n",
              "2          Not tasty and the texture was just nasty.      0   yelp\n",
              "3  Stopped by during the late May bank holiday of...      1   yelp\n",
              "4  The selection on the menu was great and so wer...      1   yelp"
            ]
          },
          "metadata": {
            "tags": []
          }
        },
        {
          "output_type": "stream",
          "text": [
            "Label value count:\n"
          ],
          "name": "stdout"
        },
        {
          "output_type": "display_data",
          "data": {
            "text/plain": [
              "None"
            ]
          },
          "metadata": {
            "tags": []
          }
        },
        {
          "output_type": "display_data",
          "data": {
            "text/plain": [
              "1    1386\n",
              "0    1362\n",
              "Name: label, dtype: int64"
            ]
          },
          "metadata": {
            "tags": []
          }
        },
        {
          "output_type": "stream",
          "text": [
            "Source value count:\n"
          ],
          "name": "stdout"
        },
        {
          "output_type": "display_data",
          "data": {
            "text/plain": [
              "None"
            ]
          },
          "metadata": {
            "tags": []
          }
        },
        {
          "output_type": "display_data",
          "data": {
            "text/plain": [
              "yelp      1000\n",
              "amazon    1000\n",
              "imdb       748\n",
              "Name: source, dtype: int64"
            ]
          },
          "metadata": {
            "tags": []
          }
        }
      ]
    },
    {
      "metadata": {
        "id": "3rhnYa0bSOcO",
        "colab_type": "text"
      },
      "cell_type": "markdown",
      "source": [
        "### Train/Test Split"
      ]
    },
    {
      "metadata": {
        "id": "II0xb6OkSRfy",
        "colab_type": "code",
        "colab": {
          "base_uri": "https://localhost:8080/",
          "height": 199
        },
        "outputId": "0c769d31-9cb5-46c8-9a09-51b21f9f7cdb"
      },
      "cell_type": "code",
      "source": [
        "from sklearn.model_selection import train_test_split\n",
        "\n",
        "# Train data from all dataset\n",
        "X = df['sentence'].values\n",
        "y = df['label'].values\n",
        "\n",
        "\n",
        "# Train/test split\n",
        "X_sentence_train, X_sentence_test, y_train, y_test = train_test_split(\n",
        "    X, y, test_size=0.25, random_state=1000)\n",
        "\n",
        "display(X_sentence_train.shape)\n",
        "display(y_train.shape)\n",
        "display(X_sentence_test.shape)\n",
        "display(y_test.shape)\n",
        "\n",
        "print('')\n",
        "display(X_sentence_train[0])\n",
        "display(y_train[0])\n",
        "\n",
        "print('')\n",
        "display(X_sentence_train[5])\n",
        "display(y_train[5])"
      ],
      "execution_count": 21,
      "outputs": [
        {
          "output_type": "display_data",
          "data": {
            "text/plain": [
              "(2061,)"
            ]
          },
          "metadata": {
            "tags": []
          }
        },
        {
          "output_type": "display_data",
          "data": {
            "text/plain": [
              "(2061,)"
            ]
          },
          "metadata": {
            "tags": []
          }
        },
        {
          "output_type": "display_data",
          "data": {
            "text/plain": [
              "(687,)"
            ]
          },
          "metadata": {
            "tags": []
          }
        },
        {
          "output_type": "display_data",
          "data": {
            "text/plain": [
              "(687,)"
            ]
          },
          "metadata": {
            "tags": []
          }
        },
        {
          "output_type": "stream",
          "text": [
            "\n"
          ],
          "name": "stdout"
        },
        {
          "output_type": "display_data",
          "data": {
            "text/plain": [
              "\"I'd rather eat airline food, seriously.\""
            ]
          },
          "metadata": {
            "tags": []
          }
        },
        {
          "output_type": "display_data",
          "data": {
            "text/plain": [
              "0"
            ]
          },
          "metadata": {
            "tags": []
          }
        },
        {
          "output_type": "stream",
          "text": [
            "\n"
          ],
          "name": "stdout"
        },
        {
          "output_type": "display_data",
          "data": {
            "text/plain": [
              "'Highly recommended A+  '"
            ]
          },
          "metadata": {
            "tags": []
          }
        },
        {
          "output_type": "display_data",
          "data": {
            "text/plain": [
              "1"
            ]
          },
          "metadata": {
            "tags": []
          }
        }
      ]
    },
    {
      "metadata": {
        "id": "r1vSuuwbSIag",
        "colab_type": "text"
      },
      "cell_type": "markdown",
      "source": [
        "## Baseline Model - LogisticRegression"
      ]
    },
    {
      "metadata": {
        "id": "WkT0dPH7WGt-",
        "colab_type": "text"
      },
      "cell_type": "markdown",
      "source": [
        "### Feature Engineering - BoW"
      ]
    },
    {
      "metadata": {
        "id": "dviIfVUPWI5p",
        "colab_type": "code",
        "colab": {
          "base_uri": "https://localhost:8080/",
          "height": 54
        },
        "outputId": "4d5d50a0-7279-47c8-b41d-8abeae77580c"
      },
      "cell_type": "code",
      "source": [
        "from sklearn.feature_extraction.text import CountVectorizer\n",
        "\n",
        "# Vectorize the sentences\n",
        "vectorizer = CountVectorizer()\n",
        "vectorizer.fit(X_sentence_train)\n",
        "    ### Since you might not have the testing data available during training,\n",
        "    ### you can create the vocabulary using only the training data\n",
        "\n",
        "# Vectorization: Transform into number-of-word array\n",
        "X_train = vectorizer.transform(X_sentence_train)\n",
        "X_test  = vectorizer.transform(X_sentence_test)\n",
        "\n",
        "display(X_train.shape)\n",
        "display(X_test.shape)"
      ],
      "execution_count": 22,
      "outputs": [
        {
          "output_type": "display_data",
          "data": {
            "text/plain": [
              "(2061, 4506)"
            ]
          },
          "metadata": {
            "tags": []
          }
        },
        {
          "output_type": "display_data",
          "data": {
            "text/plain": [
              "(687, 4506)"
            ]
          },
          "metadata": {
            "tags": []
          }
        }
      ]
    },
    {
      "metadata": {
        "id": "eUbgBpVBYjyW",
        "colab_type": "text"
      },
      "cell_type": "markdown",
      "source": [
        "### Model"
      ]
    },
    {
      "metadata": {
        "id": "NVLP4Bl2Ygs6",
        "colab_type": "code",
        "colab": {
          "base_uri": "https://localhost:8080/",
          "height": 90
        },
        "outputId": "47cbfa54-cb4b-46b1-a13e-eff02986890d"
      },
      "cell_type": "code",
      "source": [
        "from sklearn.linear_model import LogisticRegression\n",
        "\n",
        "classifier = LogisticRegression()\n",
        "classifier.fit(X_train, y_train)"
      ],
      "execution_count": 23,
      "outputs": [
        {
          "output_type": "execute_result",
          "data": {
            "text/plain": [
              "LogisticRegression(C=1.0, class_weight=None, dual=False, fit_intercept=True,\n",
              "          intercept_scaling=1, max_iter=100, multi_class='ovr', n_jobs=1,\n",
              "          penalty='l2', random_state=None, solver='liblinear', tol=0.0001,\n",
              "          verbose=0, warm_start=False)"
            ]
          },
          "metadata": {
            "tags": []
          },
          "execution_count": 23
        }
      ]
    },
    {
      "metadata": {
        "id": "yJuJ7oKPnGVL",
        "colab_type": "code",
        "colab": {
          "base_uri": "https://localhost:8080/",
          "height": 35
        },
        "outputId": "22d527ac-d502-44af-b1dc-1fa8f380bfdf"
      },
      "cell_type": "code",
      "source": [
        "score = classifier.score(X_train, y_train)\n",
        "print(\"Trainning Accuracy:\", score)"
      ],
      "execution_count": 24,
      "outputs": [
        {
          "output_type": "stream",
          "text": [
            "Trainning Accuracy: 0.9796215429403202\n"
          ],
          "name": "stdout"
        }
      ]
    },
    {
      "metadata": {
        "id": "jbceS0BMYumf",
        "colab_type": "text"
      },
      "cell_type": "markdown",
      "source": [
        "### Evaluation"
      ]
    },
    {
      "metadata": {
        "id": "0AGUClhsYwF6",
        "colab_type": "code",
        "colab": {
          "base_uri": "https://localhost:8080/",
          "height": 35
        },
        "outputId": "fd982da8-97b1-4a29-c21c-e6cbb99c23de"
      },
      "cell_type": "code",
      "source": [
        "score = classifier.score(X_test, y_test)\n",
        "print(\"Test Accuracy:\", score)"
      ],
      "execution_count": 25,
      "outputs": [
        {
          "output_type": "stream",
          "text": [
            "Test Accuracy: 0.8195050946142649\n"
          ],
          "name": "stdout"
        }
      ]
    },
    {
      "metadata": {
        "id": "i1sx5YtYZEqo",
        "colab_type": "text"
      },
      "cell_type": "markdown",
      "source": [
        "### Apply baseline model to independent sources"
      ]
    },
    {
      "metadata": {
        "id": "XO-QEGTUZIsa",
        "colab_type": "code",
        "colab": {
          "base_uri": "https://localhost:8080/",
          "height": 72
        },
        "outputId": "3a59e593-ecc2-4ab7-d2c7-67951588201b"
      },
      "cell_type": "code",
      "source": [
        "scores = dict()\n",
        "for source in df['source'].unique():\n",
        "    # X, y\n",
        "    X = df[df['source'] == source]['sentence'].values\n",
        "    y = df[df['source'] == source]['label'].values\n",
        "\n",
        "    # Train/Test split\n",
        "    X_sentence_train, X_sentence_test, y_train, y_test = train_test_split(\n",
        "        X, y, test_size=0.25, random_state=1000)\n",
        "\n",
        "    # Feature Engineering - BoW\n",
        "    vectorizer = CountVectorizer()\n",
        "    vectorizer.fit(X_sentence_train)\n",
        "    X_train = vectorizer.transform(X_sentence_train)\n",
        "    X_test  = vectorizer.transform(X_sentence_test)\n",
        "\n",
        "    # Fit model\n",
        "    classifier = LogisticRegression()\n",
        "    classifier.fit(X_train, y_train)\n",
        "\n",
        "    # Evaluate Accuracy\n",
        "    score = classifier.score(X_test, y_test)\n",
        "    scores[source] = score\n",
        "\n",
        "\n",
        "for source, score in scores.items():\n",
        "    print('Accuracy for {} data: {:.4f}'.format(source, score))"
      ],
      "execution_count": 26,
      "outputs": [
        {
          "output_type": "stream",
          "text": [
            "Accuracy for yelp data: 0.7960\n",
            "Accuracy for amazon data: 0.7960\n",
            "Accuracy for imdb data: 0.7487\n"
          ],
          "name": "stdout"
        }
      ]
    },
    {
      "metadata": {
        "id": "Vdfti3tTdqRf",
        "colab_type": "text"
      },
      "cell_type": "markdown",
      "source": [
        "## MLP Model - Word Embedding"
      ]
    },
    {
      "metadata": {
        "id": "Jb-9JB9wPYkr",
        "colab_type": "text"
      },
      "cell_type": "markdown",
      "source": [
        "### Feature Engineering - Word Embeddings\n"
      ]
    },
    {
      "metadata": {
        "id": "TLXU-3ZzYsMs",
        "colab_type": "code",
        "colab": {
          "base_uri": "https://localhost:8080/",
          "height": 54
        },
        "outputId": "b661f323-8906-4fa8-e13c-38e6c6c4e04a"
      },
      "cell_type": "code",
      "source": [
        "from keras.preprocessing.text import Tokenizer\n",
        "\n",
        "# Torkenize the sentences\n",
        "tokenizer = Tokenizer(num_words=5000)\n",
        "tokenizer.fit_on_texts(X_sentence_train) \n",
        "    ### Since you might not have the testing data available during training,\n",
        "    ### you can create the vocabulary using only the training data\n",
        "\n",
        "# Tokenization \n",
        "X_train = tokenizer.texts_to_sequences(X_sentence_train)\n",
        "X_test = tokenizer.texts_to_sequences(X_sentence_test)\n",
        "\n",
        "# vocab size\n",
        "vocab_size = len(tokenizer.word_index) + 1\n",
        "\n",
        "# Padding\n",
        "maxlen = 100\n",
        "X_train_pad = pad_sequences(X_train, padding='post', maxlen=maxlen)\n",
        "X_test_pad = pad_sequences(X_test, padding='post', maxlen=maxlen)\n",
        "\n",
        "display(X_train_pad.shape)\n",
        "display(X_test_pad.shape)"
      ],
      "execution_count": 27,
      "outputs": [
        {
          "output_type": "display_data",
          "data": {
            "text/plain": [
              "(561, 100)"
            ]
          },
          "metadata": {
            "tags": []
          }
        },
        {
          "output_type": "display_data",
          "data": {
            "text/plain": [
              "(187, 100)"
            ]
          },
          "metadata": {
            "tags": []
          }
        }
      ]
    },
    {
      "metadata": {
        "id": "2m9ozGRDQ_rU",
        "colab_type": "text"
      },
      "cell_type": "markdown",
      "source": [
        "### Model"
      ]
    },
    {
      "metadata": {
        "id": "ZygIDVDwRAna",
        "colab_type": "code",
        "colab": {
          "base_uri": "https://localhost:8080/",
          "height": 290
        },
        "outputId": "ddf1316a-a7e6-4c76-df1c-2be2d85b60d3"
      },
      "cell_type": "code",
      "source": [
        "from keras.models import Sequential\n",
        "from keras import layers\n",
        "import keras.backend as K\n",
        "\n",
        "embedding_dim = 50\n",
        "\n",
        "K.clear_session()\n",
        "model = Sequential()\n",
        "\n",
        "# Embedding\n",
        "model.add(layers.Embedding(\n",
        "    input_dim=vocab_size, \n",
        "                          output_dim=embedding_dim, \n",
        "                           input_length=maxlen))\n",
        "\n",
        "# using a MaxPooling1D/AveragePooling1D \n",
        "#     or a GlobalMaxPooling1D/GlobalAveragePooling1D\n",
        "#     after the embedding layer\n",
        "model.add(layers.GlobalMaxPool1D())\n",
        "\n",
        "# MLP\n",
        "model.add(layers.Dense(10, activation='relu'))\n",
        "model.add(layers.Dense(1, activation='sigmoid'))\n",
        "\n",
        "model.compile(optimizer='adam',\n",
        "              loss='binary_crossentropy',\n",
        "              metrics=['accuracy'])\n",
        "model.summary()"
      ],
      "execution_count": 28,
      "outputs": [
        {
          "output_type": "stream",
          "text": [
            "_________________________________________________________________\n",
            "Layer (type)                 Output Shape              Param #   \n",
            "=================================================================\n",
            "embedding_1 (Embedding)      (None, 100, 50)           128750    \n",
            "_________________________________________________________________\n",
            "global_max_pooling1d_1 (Glob (None, 50)                0         \n",
            "_________________________________________________________________\n",
            "dense_1 (Dense)              (None, 10)                510       \n",
            "_________________________________________________________________\n",
            "dense_2 (Dense)              (None, 1)                 11        \n",
            "=================================================================\n",
            "Total params: 129,271\n",
            "Trainable params: 129,271\n",
            "Non-trainable params: 0\n",
            "_________________________________________________________________\n"
          ],
          "name": "stdout"
        }
      ]
    },
    {
      "metadata": {
        "id": "WpaBKfmHXa0-",
        "colab_type": "code",
        "colab": {}
      },
      "cell_type": "code",
      "source": [
        "from keras.callbacks import EarlyStopping\n",
        "\n",
        "early_stopping = EarlyStopping(\n",
        "    monitor='val_loss',\n",
        "    min_delta=0,\n",
        "    patience=2,\n",
        "    verbose=0, mode='auto')\n",
        "\n",
        "history = model.fit(\n",
        "    X_train_pad, y_train,\n",
        "    epochs=50,\n",
        "    verbose=False,\n",
        "    validation_split=0.3,\n",
        "    callbacks=[early_stopping],\n",
        "    batch_size=10)"
      ],
      "execution_count": 0,
      "outputs": []
    },
    {
      "metadata": {
        "id": "0YIa61ozRrKY",
        "colab_type": "code",
        "colab": {
          "base_uri": "https://localhost:8080/",
          "height": 347
        },
        "outputId": "53c633ae-b6e8-4c88-95a3-9e90cd4a3afa"
      },
      "cell_type": "code",
      "source": [
        "historydf = pd.DataFrame(history.history, index=history.epoch)\n",
        "historydf.plot();"
      ],
      "execution_count": 30,
      "outputs": [
        {
          "output_type": "display_data",
          "data": {
            "image/png": "[encoded data removed]",
            "text/plain": [
              "<matplotlib.figure.Figure at 0x7fccd3168eb8>"
            ]
          },
          "metadata": {
            "tags": []
          }
        }
      ]
    },
    {
      "metadata": {
        "id": "-b1-6Rz0Sayj",
        "colab_type": "code",
        "colab": {
          "base_uri": "https://localhost:8080/",
          "height": 35
        },
        "outputId": "6128813a-ea33-4197-81a2-ac846cb65387"
      },
      "cell_type": "code",
      "source": [
        "loss, accuracy = model.evaluate(\n",
        "    X_train_pad, y_train,\n",
        "    verbose=False)\n",
        "print(\"Training Accuracy: {:.4f}\".format(accuracy))"
      ],
      "execution_count": 31,
      "outputs": [
        {
          "output_type": "stream",
          "text": [
            "Training Accuracy: 0.9216\n"
          ],
          "name": "stdout"
        }
      ]
    },
    {
      "metadata": {
        "id": "DrVnggRPSqhU",
        "colab_type": "text"
      },
      "cell_type": "markdown",
      "source": [
        "### Evaluate"
      ]
    },
    {
      "metadata": {
        "id": "Kxck40kqSuSz",
        "colab_type": "code",
        "colab": {
          "base_uri": "https://localhost:8080/",
          "height": 35
        },
        "outputId": "cfdc2d7d-3bf1-4b9f-d782-3a007b017906"
      },
      "cell_type": "code",
      "source": [
        "loss, accuracy = model.evaluate(\n",
        "    X_test_pad, y_test, \n",
        "    verbose=False)\n",
        "print(\"Testing Accuracy: {:.4f}\".format(accuracy))"
      ],
      "execution_count": 32,
      "outputs": [
        {
          "output_type": "stream",
          "text": [
            "Testing Accuracy: 0.7807\n"
          ],
          "name": "stdout"
        }
      ]
    },
    {
      "metadata": {
        "id": "sOpIB86vsjTZ",
        "colab_type": "text"
      },
      "cell_type": "markdown",
      "source": [
        "## MLP Model - Pretrained Glove dataset"
      ]
    },
    {
      "metadata": {
        "id": "SQieZ6kVs11n",
        "colab_type": "text"
      },
      "cell_type": "markdown",
      "source": [
        "### Feature Engineering - Pretrained Glove\n"
      ]
    },
    {
      "metadata": {
        "id": "_xg96x_Xsbkg",
        "colab_type": "code",
        "colab": {
          "base_uri": "https://localhost:8080/",
          "height": 54
        },
        "outputId": "e935911d-78cb-4790-ff57-d58efa3c3019"
      },
      "cell_type": "code",
      "source": [
        "from keras.preprocessing.text import Tokenizer\n",
        "\n",
        "# Torkenize the sentences\n",
        "tokenizer = Tokenizer(num_words=5000)\n",
        "tokenizer.fit_on_texts(X_sentence_train) \n",
        "    ### Since you might not have the testing data available during training,\n",
        "    ### you can create the vocabulary using only the training data\n",
        "\n",
        "# Tokenization \n",
        "X_train = tokenizer.texts_to_sequences(X_sentence_train)\n",
        "X_test = tokenizer.texts_to_sequences(X_sentence_test)\n",
        "\n",
        "# vocab size\n",
        "vocab_size = len(tokenizer.word_index) + 1\n",
        "\n",
        "# Padding\n",
        "maxlen = 100\n",
        "X_train_pad = pad_sequences(X_train, padding='post', maxlen=maxlen)\n",
        "X_test_pad = pad_sequences(X_test, padding='post', maxlen=maxlen)\n",
        "\n",
        "display(X_train_pad.shape)\n",
        "display(X_test_pad.shape)"
      ],
      "execution_count": 33,
      "outputs": [
        {
          "output_type": "display_data",
          "data": {
            "text/plain": [
              "(561, 100)"
            ]
          },
          "metadata": {
            "tags": []
          }
        },
        {
          "output_type": "display_data",
          "data": {
            "text/plain": [
              "(187, 100)"
            ]
          },
          "metadata": {
            "tags": []
          }
        }
      ]
    },
    {
      "metadata": {
        "id": "47QE__KgRwtY",
        "colab_type": "code",
        "colab": {
          "base_uri": "https://localhost:8080/",
          "height": 54
        },
        "outputId": "bcd824ac-cd63-4769-acba-85854a096848"
      },
      "cell_type": "code",
      "source": [
        "# Extract embedding matrix\n",
        "embedding_dim = 50\n",
        "embedding_matrix = create_embedding_matrix(\n",
        "    'glove/glove.6B.50d.txt',\n",
        "    tokenizer.word_index, embedding_dim)\n",
        "\n",
        "display(embedding_matrix.shape)\n",
        "\n",
        "# Check non-zero words (already exist in the pretrained dataset)\n",
        "nonzero_elements = np.count_nonzero(np.count_nonzero(embedding_matrix, axis=1))\n",
        "print('Percentage words covered {}%'.format(\n",
        "    float(nonzero_elements) / vocab_size * 100.0))"
      ],
      "execution_count": 34,
      "outputs": [
        {
          "output_type": "display_data",
          "data": {
            "text/plain": [
              "(2575, 50)"
            ]
          },
          "metadata": {
            "tags": []
          }
        },
        {
          "output_type": "stream",
          "text": [
            "Percentage words covered 95.22330097087378%\n"
          ],
          "name": "stdout"
        }
      ]
    },
    {
      "metadata": {
        "id": "DYgqAnzduF3q",
        "colab_type": "text"
      },
      "cell_type": "markdown",
      "source": [
        "### Model"
      ]
    },
    {
      "metadata": {
        "id": "QhtlXSObt6ts",
        "colab_type": "code",
        "colab": {
          "base_uri": "https://localhost:8080/",
          "height": 290
        },
        "outputId": "fb180a98-9b35-4afc-c7a8-a8c7450c0834"
      },
      "cell_type": "code",
      "source": [
        "from keras.models import Sequential\n",
        "from keras.layers import Embedding\n",
        "import keras.backend as K\n",
        "\n",
        "embedding_dim = 50\n",
        "maxlen = 100\n",
        "\n",
        "K.clear_session()\n",
        "model = Sequential()\n",
        "\n",
        "# Embedding layer\n",
        "model.add(layers.Embedding(\n",
        "    vocab_size, embedding_dim, \n",
        "    weights=[embedding_matrix], \n",
        "    input_length=maxlen, \n",
        "    trainable=True))\n",
        "\n",
        "# using a MaxPooling1D/AveragePooling1D \n",
        "#     or a GlobalMaxPooling1D/GlobalAveragePooling1D\n",
        "#     after the embedding layer\n",
        "model.add(layers.GlobalMaxPool1D())\n",
        "\n",
        "model.add(layers.Dense(10, activation='relu'))\n",
        "model.add(layers.Dense(1, activation='sigmoid'))\n",
        "\n",
        "model.compile(optimizer='adam',\n",
        "              loss='binary_crossentropy',\n",
        "              metrics=['accuracy'])\n",
        "model.summary()"
      ],
      "execution_count": 35,
      "outputs": [
        {
          "output_type": "stream",
          "text": [
            "_________________________________________________________________\n",
            "Layer (type)                 Output Shape              Param #   \n",
            "=================================================================\n",
            "embedding_1 (Embedding)      (None, 100, 50)           128750    \n",
            "_________________________________________________________________\n",
            "global_max_pooling1d_1 (Glob (None, 50)                0         \n",
            "_________________________________________________________________\n",
            "dense_1 (Dense)              (None, 10)                510       \n",
            "_________________________________________________________________\n",
            "dense_2 (Dense)              (None, 1)                 11        \n",
            "=================================================================\n",
            "Total params: 129,271\n",
            "Trainable params: 129,271\n",
            "Non-trainable params: 0\n",
            "_________________________________________________________________\n"
          ],
          "name": "stdout"
        }
      ]
    },
    {
      "metadata": {
        "id": "E1MS-yaxurZc",
        "colab_type": "code",
        "colab": {}
      },
      "cell_type": "code",
      "source": [
        "from keras.callbacks import EarlyStopping\n",
        "\n",
        "early_stopping = EarlyStopping(\n",
        "    monitor='val_loss',\n",
        "    min_delta=0,\n",
        "    patience=2,\n",
        "    verbose=0, mode='auto')\n",
        "\n",
        "history = model.fit(\n",
        "    X_train_pad, y_train,\n",
        "    epochs=50,\n",
        "    verbose=False,\n",
        "    validation_split=0.3,\n",
        "    callbacks=[early_stopping],\n",
        "    batch_size=10)"
      ],
      "execution_count": 0,
      "outputs": []
    },
    {
      "metadata": {
        "id": "eHMDXJKLvLfQ",
        "colab_type": "code",
        "colab": {
          "base_uri": "https://localhost:8080/",
          "height": 347
        },
        "outputId": "5f5d0253-088c-476a-9dd3-ab9eb2b68f3d"
      },
      "cell_type": "code",
      "source": [
        "historydf = pd.DataFrame(history.history, index=history.epoch)\n",
        "historydf.plot();"
      ],
      "execution_count": 37,
      "outputs": [
        {
          "output_type": "display_data",
          "data": {
            "image/png": "[encoded data removed]",
            "text/plain": [
              "<matplotlib.figure.Figure at 0x7fccd2d18048>"
            ]
          },
          "metadata": {
            "tags": []
          }
        }
      ]
    },
    {
      "metadata": {
        "id": "3Dawvmtvwu-f",
        "colab_type": "code",
        "colab": {
          "base_uri": "https://localhost:8080/",
          "height": 35
        },
        "outputId": "8b5223d7-bf51-48e1-ccdc-050b6a754c55"
      },
      "cell_type": "code",
      "source": [
        "loss, accuracy = model.evaluate(\n",
        "    X_train_pad, y_train,\n",
        "    verbose=False)\n",
        "print(\"Training Accuracy: {:.4f}\".format(accuracy))"
      ],
      "execution_count": 38,
      "outputs": [
        {
          "output_type": "stream",
          "text": [
            "Training Accuracy: 0.9234\n"
          ],
          "name": "stdout"
        }
      ]
    },
    {
      "metadata": {
        "id": "eV5Xb0wgxoac",
        "colab_type": "text"
      },
      "cell_type": "markdown",
      "source": [
        "### Evaluate"
      ]
    },
    {
      "metadata": {
        "id": "eECstVbkwyQo",
        "colab_type": "code",
        "colab": {
          "base_uri": "https://localhost:8080/",
          "height": 35
        },
        "outputId": "ca123ea4-e3f4-4d24-ae5d-3f41fe95ffeb"
      },
      "cell_type": "code",
      "source": [
        "loss, accuracy = model.evaluate(\n",
        "    X_test_pad, y_test, \n",
        "    verbose=False)\n",
        "print(\"Testing Accuracy: {:.4f}\".format(accuracy))"
      ],
      "execution_count": 39,
      "outputs": [
        {
          "output_type": "stream",
          "text": [
            "Testing Accuracy: 0.7487\n"
          ],
          "name": "stdout"
        }
      ]
    }
  ]
}