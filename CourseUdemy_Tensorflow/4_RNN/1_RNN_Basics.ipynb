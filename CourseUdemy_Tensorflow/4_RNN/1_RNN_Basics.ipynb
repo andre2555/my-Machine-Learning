{
 "cells": [
  {
   "cell_type": "code",
   "execution_count": 1,
   "metadata": {},
   "outputs": [],
   "source": [
    "import matplotlib.pyplot as plt\n",
    "import pandas as pd\n",
    "import numpy as np\n",
    "from IPython.display import display\n",
    "import tensorflow as tf"
   ]
  },
  {
   "cell_type": "code",
   "execution_count": 2,
   "metadata": {},
   "outputs": [],
   "source": [
    "np.random.seed(101)\n",
    "tf.set_random_seed(101)"
   ]
  },
  {
   "cell_type": "markdown",
   "metadata": {},
   "source": [
    "## Dataset"
   ]
  },
  {
   "cell_type": "code",
   "execution_count": 3,
   "metadata": {},
   "outputs": [
    {
     "data": {
      "text/plain": [
       "(3, 2)"
      ]
     },
     "metadata": {},
     "output_type": "display_data"
    },
    {
     "data": {
      "text/plain": [
       "(3, 2)"
      ]
     },
     "metadata": {},
     "output_type": "display_data"
    }
   ],
   "source": [
    "# Input at t=0\n",
    "X_t0_data = np.array([[0,1], [2,3], [4,5]])\n",
    "\n",
    "# Input at t=1\n",
    "X_t1_data = np.array([[100,101], [102,103], [104,105]])\n",
    "\n",
    "display(X_t0_data.shape)\n",
    "display(X_t1_data.shape)"
   ]
  },
  {
   "cell_type": "markdown",
   "metadata": {},
   "source": [
    "## RNN\n",
    "<img src=\"img/1.jpg\" alt=\"drawing\" width=\"300\"/>\n",
    "<img src=\"img/2.jpg\" alt=\"drawing\" width=\"300\"/>"
   ]
  },
  {
   "cell_type": "markdown",
   "metadata": {},
   "source": [
    "$$y_t = tanh(W_x^Tx_t + b)$$\n",
    "$$y_{t+1}=tanh(W_y^Ty_t + W_x^Tx_{t+1} + b)$$"
   ]
  },
  {
   "cell_type": "code",
   "execution_count": 4,
   "metadata": {},
   "outputs": [],
   "source": [
    "num_neurons = 3\n",
    "\n",
    "# Placeholders\n",
    "X_t0_ph = tf.placeholder(tf.float32,[None,2])\n",
    "X_t1_ph = tf.placeholder(tf.float32,[None,2])\n",
    "\n",
    "# Variables\n",
    "Wx = tf.Variable(tf.random_normal(shape=[2,num_neurons]))\n",
    "Wy = tf.Variable(tf.random_normal(shape=[num_neurons,num_neurons]))\n",
    "b = tf.Variable(tf.zeros([1,num_neurons]))\n",
    "                                         \n",
    "# Graph\n",
    "y_t0_pred = tf.tanh(tf.matmul(X_t0_ph,Wx) + b)\n",
    "y_t1_pred = tf.tanh(tf.matmul(y_t0_pred,Wy) + tf.matmul(X_t1_ph,Wx) + b)"
   ]
  },
  {
   "cell_type": "code",
   "execution_count": 5,
   "metadata": {},
   "outputs": [],
   "source": [
    "# Init variables\n",
    "init = tf.global_variables_initializer()\n",
    "\n",
    "with tf.Session() as sess:\n",
    "    # Init variables\n",
    "    sess.run(init)\n",
    "    \n",
    "    y0_output_vals , y1_output_vals  = sess.run(\n",
    "        [y_t0_pred,y_t1_pred],\n",
    "        feed_dict={\n",
    "            X_t0_ph: X_t0_data,\n",
    "            X_t1_ph: X_t1_data})"
   ]
  },
  {
   "cell_type": "markdown",
   "metadata": {},
   "source": [
    "## Output"
   ]
  },
  {
   "cell_type": "code",
   "execution_count": 6,
   "metadata": {},
   "outputs": [
    {
     "data": {
      "text/plain": [
       "array([[-0.58835804,  0.49818307,  0.818912  ],\n",
       "       [-0.98903906,  0.06777751,  0.99845564],\n",
       "       [-0.99976563, -0.38942623,  0.9999879 ]], dtype=float32)"
      ]
     },
     "metadata": {},
     "output_type": "display_data"
    },
    {
     "data": {
      "text/plain": [
       "(3, 3)"
      ]
     },
     "metadata": {},
     "output_type": "display_data"
    }
   ],
   "source": [
    "# The output of values at t=0\n",
    "display(y0_output_vals)\n",
    "display(y0_output_vals.shape)"
   ]
  },
  {
   "cell_type": "code",
   "execution_count": 7,
   "metadata": {},
   "outputs": [
    {
     "data": {
      "text/plain": [
       "array([[-1., -1.,  1.],\n",
       "       [-1., -1.,  1.],\n",
       "       [-1., -1.,  1.]], dtype=float32)"
      ]
     },
     "metadata": {},
     "output_type": "display_data"
    },
    {
     "data": {
      "text/plain": [
       "(3, 3)"
      ]
     },
     "metadata": {},
     "output_type": "display_data"
    }
   ],
   "source": [
    "# The output of values at t=1\n",
    "display(y1_output_vals)\n",
    "display(y1_output_vals.shape)"
   ]
  }
 ],
 "metadata": {
  "kernelspec": {
   "display_name": "Python 3.6",
   "language": "python",
   "name": "py36"
  },
  "language_info": {
   "codemirror_mode": {
    "name": "ipython",
    "version": 3
   },
   "file_extension": ".py",
   "mimetype": "text/x-python",
   "name": "python",
   "nbconvert_exporter": "python",
   "pygments_lexer": "ipython3",
   "version": "3.6.6"
  }
 },
 "nbformat": 4,
 "nbformat_minor": 2
}
