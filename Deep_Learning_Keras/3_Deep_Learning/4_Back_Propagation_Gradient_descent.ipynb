{
 "cells": [
  {
   "cell_type": "markdown",
   "metadata": {},
   "source": [
    "## Derivatives\n",
    "- Slope + rate of change\n",
    "<img src=\"Figs_/1.jpg\" alt=\"Drawing\" style=\"width: 550px;\"/>\n",
    "\n",
    "- Common derivative func\n",
    "<img src=\"Figs_/2.jpg\" alt=\"Drawing\" style=\"width: 550px;\"/>"
   ]
  },
  {
   "cell_type": "markdown",
   "metadata": {},
   "source": [
    "## Gradient\n",
    "- Multivariate derivative\n",
    "<img src=\"Figs_/3.jpg\" alt=\"Drawing\" style=\"width: 550px;\"/>\n"
   ]
  },
  {
   "cell_type": "markdown",
   "metadata": {},
   "source": [
    "## Back Propagation\n",
    "- Gradient descent to minimize cost\n",
    "- Update parameters\n",
    "\n",
    "$$w' = w - \\frac{\\partial f}{\\partial w}$$\n",
    "\n",
    "    + Case move right\n",
    "    \n",
    "$$\\frac{\\partial f}{\\partial w}: negative -> w' > w$$\n",
    "        \n",
    "<img src=\"Figs_/4.jpg\" alt=\"Drawing\" style=\"width: 550px;\"/>\n",
    "\n",
    "    + Case move left\n",
    "\n",
    "$$\\frac{\\partial f}{\\partial w}: positive -> w' < w$$\n",
    "        \n",
    "<img src=\"Figs_/5.jpg\" alt=\"Drawing\" style=\"width: 550px;\"/>"
   ]
  },
  {
   "cell_type": "markdown",
   "metadata": {},
   "source": [
    "## Chain rule\n",
    "- Calculate $\\frac{d h}{d x}. Given:$\n",
    "$$h(x) = log(2 + cos(x))$$\n",
    "\n",
    "- Let\n",
    "$$f(g) = log(g)$$\n",
    "$$g(x) = 2 + cos(x)$$\n",
    "    => $h(x) = f(g(x))$\n",
    "    \n",
    "- Chain rule\n",
    "$$\\frac{dh}{dx} = \\frac{df}{dg} \\frac{dg}{dx}$$\n",
    "    => $\\frac{dh}{dx} = \\frac{d(log(g))}{dg} \\frac{d(2 + cos(x))}{dx} = \\frac{1}{g} * -sin(x) = \\frac{-sin(x)}{2 + cos(x)}$\n",
    "\n",
    "## Chain rule Neural net\n",
    "- Simple neural network 1 input - 1 output, 2 layers\n",
    "<img src=\"Figs_/6.jpg\" alt=\"Drawing\" style=\"width: 550px;\"/>\n",
    "\n",
    "- Define the loss function\n",
    "$$J(y, \\widehat{y}(w,b,x)) = J(y, \\sigma(z^2(w^2)))$$\n",
    "\n",
    "- Gradient of J\n",
    "$$\\nabla J = [\\frac{\\partial J}{\\partial w^2}, \\frac{\\partial J}{\\partial w^1}]$$\n",
    "\n",
    "    - Based on the chain rule\n",
    "    $$\\frac{\\partial J}{\\partial w^2} = \\frac{\\partial J(y, \\widehat{y}(w,b,x))}{\\partial w^2} = \\frac{\\partial J(y, \\sigma(z^2(w^2)))}{\\partial w^2} = \\frac{\\partial J}{\\partial a^2} \\frac{\\partial a^2}{\\partial z^2} \\frac{\\partial z^2}{\\partial w^2}$$\n",
    "\n",
    "        + Calculate $\\frac{\\partial J}{\\partial a^2}$\n",
    "            $$\\frac{\\partial J}{\\partial a^2} = \\frac{\\partial J}{\\partial \\widehat{y}}$$\n",
    "            -> Depends on the cost function(MSE, LogLoss..)\n",
    "\n",
    "        + Calculate $\\frac{\\partial a^2}{\\partial z^2}$\n",
    "            $$\\frac{\\partial a^2}{\\partial z^2} = \\sigma(z^2)\\sigma(1 - z^2)$$\n",
    "\n",
    "        + Calculate $\\frac{\\partial z^2}{\\partial w^2}$\n",
    "            - We have $z^2 = a^1w^2 + b^2$ so\n",
    "    $$\\frac{\\partial z^2}{\\partial w^2} = a^1$$\n",
    "    \n",
    "        + Final result\n",
    "    $$\\frac{\\partial J}{\\partial w^2} = \\frac{\\partial J}{\\partial \\widehat{y}} \\sigma(z^2)\\sigma(1 - z^2) a^1 = \\delta a^1$$\n",
    "    \n",
    "    - Similarly calculate $\\frac{\\partial J}{\\partial w^1}$\n",
    "    $$\\frac{\\partial J}{\\partial w^1} = \\frac{\\partial J}{\\partial a^2} \\frac{\\partial a^2}{\\partial z^2} \\frac{\\partial z^2}{\\partial a^1} \\frac{\\partial a^1}{\\partial z^1} \\frac{\\partial z^1}{\\partial w^1} = \\delta^1 x$$\n",
    "    \n",
    "    ===> $\\delta^1$ proportional to $\\delta^2$: \n",
    "    $$\\delta^1 = \\delta^2 w^2 \\sigma(z^1) \\sigma(1 - z^1)$$\n",
    "    \n",
    "    ===> Back propagation Update: update $\\delta^2$ -> $\\delta^1$"
   ]
  }
 ],
 "metadata": {
  "kernelspec": {
   "display_name": "Python 3.6",
   "language": "python",
   "name": "py36"
  },
  "language_info": {
   "codemirror_mode": {
    "name": "ipython",
    "version": 3
   },
   "file_extension": ".py",
   "mimetype": "text/x-python",
   "name": "python",
   "nbconvert_exporter": "python",
   "pygments_lexer": "ipython3",
   "version": "3.6.6"
  }
 },
 "nbformat": 4,
 "nbformat_minor": 2
}
